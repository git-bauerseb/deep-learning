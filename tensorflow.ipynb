{
  "nbformat": 4,
  "nbformat_minor": 0,
  "metadata": {
    "colab": {
      "name": "tensorflow.ipynb",
      "provenance": [],
      "collapsed_sections": [],
      "authorship_tag": "ABX9TyORWlyuhp2TPHg58U13no1x"
    },
    "kernelspec": {
      "name": "python3",
      "display_name": "Python 3"
    },
    "language_info": {
      "name": "python"
    },
    "accelerator": "GPU"
  },
  "cells": [
    {
      "cell_type": "code",
      "metadata": {
        "id": "AONYQHv8OQfP",
        "colab": {
          "base_uri": "https://localhost:8080/"
        },
        "outputId": "e3005c93-50d6-42d8-8601-14c7486c86e4"
      },
      "source": [
        "import os\n",
        "import tensorflow as tf\n",
        "\n",
        "import cProfile\n",
        "\n",
        "tf.executing_eagerly()"
      ],
      "execution_count": null,
      "outputs": [
        {
          "output_type": "execute_result",
          "data": {
            "text/plain": [
              "True"
            ]
          },
          "metadata": {},
          "execution_count": 1
        }
      ]
    },
    {
      "cell_type": "code",
      "metadata": {
        "colab": {
          "base_uri": "https://localhost:8080/"
        },
        "id": "93JfOJAWOaHd",
        "outputId": "b0f6c3b3-d7f5-4333-b3ea-858ce2a16fb1"
      },
      "source": [
        "(mnist_images, mnist_labels), _ = tf.keras.datasets.mnist.load_data()\n",
        "\n",
        "dataset = tf.data.Dataset.from_tensor_slices(\n",
        "    (tf.cast(mnist_images[..., tf.newaxis]/255, tf.float32),\n",
        "     tf.cast(mnist_labels, tf.int64)\n",
        "     ))\n",
        "\n",
        "dataset = dataset.shuffle(1000).batch(32)"
      ],
      "execution_count": null,
      "outputs": [
        {
          "output_type": "stream",
          "name": "stdout",
          "text": [
            "Downloading data from https://storage.googleapis.com/tensorflow/tf-keras-datasets/mnist.npz\n",
            "11493376/11490434 [==============================] - 0s 0us/step\n",
            "11501568/11490434 [==============================] - 0s 0us/step\n"
          ]
        }
      ]
    },
    {
      "cell_type": "code",
      "metadata": {
        "id": "ngYQbQ6COwiy"
      },
      "source": [
        "mnist_model = tf.keras.Sequential([\n",
        "                                   tf.keras.layers.Conv2D(16, [3,3], activation='relu',\n",
        "                                                          input_shape=(None, None, 1)),\n",
        "                                   tf.keras.layers.Conv2D(16, [3,3], activation='relu'),\n",
        "                                   tf.keras.layers.GlobalAveragePooling2D(),\n",
        "                                   tf.keras.layers.Dense(10)\n",
        "])"
      ],
      "execution_count": null,
      "outputs": []
    },
    {
      "cell_type": "code",
      "metadata": {
        "colab": {
          "base_uri": "https://localhost:8080/"
        },
        "id": "gWRQiLxBPDxM",
        "outputId": "c6622039-7e6a-4c23-89a5-21330d3db126"
      },
      "source": [
        "mnist_model.summary()\n",
        "\n",
        "# Logit: Values used as input to softmax\n",
        "\n",
        "\n",
        "for images, labels in dataset.take(1):\n",
        "  print(\"Logits: \", mnist_model(images[0:1]).numpy())"
      ],
      "execution_count": null,
      "outputs": [
        {
          "output_type": "stream",
          "name": "stdout",
          "text": [
            "Model: \"sequential\"\n",
            "_________________________________________________________________\n",
            "Layer (type)                 Output Shape              Param #   \n",
            "=================================================================\n",
            "conv2d (Conv2D)              (None, None, None, 16)    160       \n",
            "_________________________________________________________________\n",
            "conv2d_1 (Conv2D)            (None, None, None, 16)    2320      \n",
            "_________________________________________________________________\n",
            "global_average_pooling2d (Gl (None, 16)                0         \n",
            "_________________________________________________________________\n",
            "dense (Dense)                (None, 10)                170       \n",
            "=================================================================\n",
            "Total params: 2,650\n",
            "Trainable params: 2,650\n",
            "Non-trainable params: 0\n",
            "_________________________________________________________________\n",
            "Logits:  [[ 0.00121988 -0.04408433  0.02608965 -0.02081358 -0.03080192  0.02321623\n",
            "   0.05760741  0.00467529  0.0275059  -0.04941407]]\n"
          ]
        }
      ]
    },
    {
      "cell_type": "code",
      "metadata": {
        "colab": {
          "base_uri": "https://localhost:8080/"
        },
        "id": "3yYoUz-LPj06",
        "outputId": "ab6dc4b1-bcce-48ab-a457-c060fbdb2f02"
      },
      "source": [
        "# Keras models have builtin training loop ('fit' method)\n",
        "# More customization\n",
        "\n",
        "optimizer = tf.keras.optimizers.Adam()\n",
        "loss_object = tf.keras.losses.SparseCategoricalCrossentropy(from_logits=True)\n",
        "\n",
        "loss_history = []\n",
        "\n",
        "def train_step(images, labels):\n",
        "  # Use to inspect computes gradients\n",
        "  with tf.GradientTape() as tape:\n",
        "      logits = mnist_model(images, training=True)\n",
        "\n",
        "      tf.debugging.assert_equal(logits.shape, (32,10))\n",
        "\n",
        "      loss_value = loss_object(labels, logits)\n",
        "\n",
        "  loss_history.append(loss_value.numpy().mean())\n",
        "  grads = tape.gradient(loss_value, mnist_model.trainable_variables)\n",
        "  optimizer.apply_gradients(zip(grads, mnist_model.trainable_variables))\n",
        "\n",
        "\n",
        "def train(epochs):\n",
        "  for epoch in range(epochs):\n",
        "    for (batch, (images, labels)) in enumerate(dataset):\n",
        "      train_step(images, labels)\n",
        "\n",
        "    print('Epoch {} finished'.format(epoch))\n",
        "\n",
        "train(epochs=3)"
      ],
      "execution_count": null,
      "outputs": [
        {
          "output_type": "stream",
          "name": "stdout",
          "text": [
            "Epoch 0 finished\n",
            "Epoch 1 finished\n",
            "Epoch 2 finished\n"
          ]
        }
      ]
    },
    {
      "cell_type": "code",
      "metadata": {
        "colab": {
          "base_uri": "https://localhost:8080/",
          "height": 300
        },
        "id": "MRdm7Ay7RyGT",
        "outputId": "f786345d-9162-4f7b-afa0-ac028991222a"
      },
      "source": [
        "import matplotlib.pyplot as plt\n",
        "\n",
        "\n",
        "plt.plot(loss_history)\n",
        "plt.xlabel(\"Batch #\")\n",
        "plt.ylabel(\"Loss [Entropy]\")"
      ],
      "execution_count": null,
      "outputs": [
        {
          "output_type": "execute_result",
          "data": {
            "text/plain": [
              "Text(0, 0.5, 'Loss [Entropy]')"
            ]
          },
          "metadata": {},
          "execution_count": 8
        },
        {
          "output_type": "display_data",
          "data": {
            "image/png": "[encoded data removed]",
            "text/plain": [
              "<Figure size 432x288 with 1 Axes>"
            ]
          },
          "metadata": {
            "needs_background": "light"
          }
        }
      ]
    },
    {
      "cell_type": "code",
      "metadata": {
        "colab": {
          "base_uri": "https://localhost:8080/"
        },
        "id": "pFlBbbqHTXzE",
        "outputId": "b42fb876-e95f-4697-a5c3-435e00e20cf9"
      },
      "source": [
        "# Short\n",
        "\n",
        "x = tf.ones((2,2))\n",
        "\n",
        "with tf.GradientTape(persistent=True) as t:\n",
        "  t.watch(x)\n",
        "\n",
        "  y = tf.reduce_sum(x)\n",
        "  z = tf.multiply(y,y)\n",
        "\n",
        "\n",
        "dz_dx = t.gradient(z,x)\n",
        "dz_dy = t.gradient(z,y)\n",
        "print(dz_dy)\n",
        "print(dz_dx)\n",
        "\n",
        "\n",
        "del t"
      ],
      "execution_count": null,
      "outputs": [
        {
          "output_type": "stream",
          "name": "stdout",
          "text": [
            "tf.Tensor(8.0, shape=(), dtype=float32)\n",
            "tf.Tensor(\n",
            "[[8. 8.]\n",
            " [8. 8.]], shape=(2, 2), dtype=float32)\n"
          ]
        }
      ]
    },
    {
      "cell_type": "code",
      "metadata": {
        "colab": {
          "base_uri": "https://localhost:8080/"
        },
        "id": "AJW_Pyk_7HP1",
        "outputId": "4661c6e4-d254-4fab-eb64-c2ccdadfb105"
      },
      "source": [
        "####################\n",
        "# START HERE\n",
        "import os\n",
        "import tensorflow as tf\n",
        "import cProfile\n",
        "\n",
        "tf.executing_eagerly()\n",
        "\n",
        "x = [[2.]]\n",
        "m = tf.matmul(x,x)\n",
        "print(m)"
      ],
      "execution_count": null,
      "outputs": [
        {
          "output_type": "stream",
          "name": "stdout",
          "text": [
            "tf.Tensor([[4.]], shape=(1, 1), dtype=float32)\n"
          ]
        }
      ]
    },
    {
      "cell_type": "code",
      "metadata": {
        "colab": {
          "base_uri": "https://localhost:8080/"
        },
        "id": "7dH2lrVz7d9H",
        "outputId": "4e48192b-e366-40af-9ea7-6e6c45eb929c"
      },
      "source": [
        "x = [[2., 3.]]\n",
        "y = [[1.], [4.]]\n",
        "\n",
        "a = tf.constant([[1,2], [3,4]])\n",
        "\n",
        "print(tf.matmul(x,y))\n",
        "print(a)\n",
        "\n",
        "b = tf.add(a,1)\n",
        "print(b)\n",
        "\n",
        "c = a + 1\n",
        "print(c)\n",
        "\n",
        "# Overloading\n",
        "print(a*b)\n",
        "\n",
        "# Obtain numpy value from tensor\n",
        "print(a.numpy())\n",
        "\n",
        "def fizzbuzz(max_num):\n",
        "  counter = tf.constant(0)\n",
        "  max_num = tf.convert_to_tensor(max_num)\n",
        "\n",
        "  for num in range(1, max_num.numpy() + 1):\n",
        "    num = tf.constant(num)\n",
        "    if int(num % 3) == 0 and int (num % 5) == 0:\n",
        "      print('FizzBuzz')\n",
        "    elif int(num % 3) == 0:\n",
        "      print('Fizz')\n",
        "    elif int(num % 5) == 0:\n",
        "      print('Buzz')\n",
        "    else:\n",
        "      print(num.numpy())\n",
        "    counter += 1\n",
        "\n",
        "fizzbuzz(15)"
      ],
      "execution_count": null,
      "outputs": [
        {
          "output_type": "stream",
          "name": "stdout",
          "text": [
            "tf.Tensor([[14.]], shape=(1, 1), dtype=float32)\n",
            "tf.Tensor(\n",
            "[[1 2]\n",
            " [3 4]], shape=(2, 2), dtype=int32)\n",
            "tf.Tensor(\n",
            "[[2 3]\n",
            " [4 5]], shape=(2, 2), dtype=int32)\n",
            "tf.Tensor(\n",
            "[[2 3]\n",
            " [4 5]], shape=(2, 2), dtype=int32)\n",
            "tf.Tensor(\n",
            "[[ 2  6]\n",
            " [12 20]], shape=(2, 2), dtype=int32)\n",
            "[[1 2]\n",
            " [3 4]]\n",
            "1\n",
            "2\n",
            "Fizz\n",
            "4\n",
            "Buzz\n",
            "Fizz\n",
            "7\n",
            "8\n",
            "Fizz\n",
            "Buzz\n",
            "11\n",
            "Fizz\n",
            "13\n",
            "14\n",
            "FizzBuzz\n"
          ]
        }
      ]
    },
    {
      "cell_type": "code",
      "metadata": {
        "colab": {
          "base_uri": "https://localhost:8080/"
        },
        "id": "9peymPd_Jt1G",
        "outputId": "0a4ec710-53c9-40b7-fee7-d68c296c33e2"
      },
      "source": [
        "w = tf.Variable([[1.]])\n",
        "print(w)\n",
        "\n",
        "with tf.GradientTape() as tape:\n",
        "  loss = w*w\n",
        "\n",
        "grad = tape.gradient(loss, w)\n",
        "print(grad)"
      ],
      "execution_count": null,
      "outputs": [
        {
          "output_type": "stream",
          "name": "stdout",
          "text": [
            "<tf.Variable 'Variable:0' shape=(1, 1) dtype=float32, numpy=array([[1.]], dtype=float32)>\n",
            "tf.Tensor([[2.]], shape=(1, 1), dtype=float32)\n"
          ]
        }
      ]
    },
    {
      "cell_type": "code",
      "metadata": {
        "colab": {
          "base_uri": "https://localhost:8080/"
        },
        "id": "DniQA1acKlfE",
        "outputId": "0b452b1e-2946-4a02-db36-2c259303e7b0"
      },
      "source": [
        "# Train model\n",
        "(mnist_images, mnist_labels), _ = tf.keras.datasets.mnist.load_data()\n",
        "\n",
        "dataset = tf.data.Dataset.from_tensor_slices(\n",
        "    \n",
        "  (tf.cast(mnist_images[...,tf.newaxis] / 255, tf.float32),\n",
        "   tf.cast(mnist_labels, tf.int64)\n",
        "   ))\n",
        "\n",
        "dataset = dataset.shuffle(1000).batch(32)\n",
        "\n"
      ],
      "execution_count": null,
      "outputs": [
        {
          "output_type": "stream",
          "name": "stdout",
          "text": [
            "Downloading data from https://storage.googleapis.com/tensorflow/tf-keras-datasets/mnist.npz\n",
            "11493376/11490434 [==============================] - 0s 0us/step\n",
            "11501568/11490434 [==============================] - 0s 0us/step\n"
          ]
        }
      ]
    },
    {
      "cell_type": "code",
      "metadata": {
        "colab": {
          "base_uri": "https://localhost:8080/"
        },
        "id": "5VCTYWV3LTIy",
        "outputId": "684e9398-c446-4b08-d921-fa889d05908b"
      },
      "source": [
        "mnist_model = tf.keras.Sequential([\n",
        "                                   \n",
        "  tf.keras.layers.Conv2D(16, [3,3], activation='relu', input_shape=(None, None,1)),\n",
        "  tf.keras.layers.Conv2D(16, [3,3], activation='relu'),\n",
        "  tf.keras.layers.GlobalAveragePooling2D(),\n",
        "  tf.keras.layers.Dense(10)\n",
        "])\n",
        "\n",
        "for images,labels in dataset.take(1):\n",
        "  print(mnist_model(images[0:1]).numpy())"
      ],
      "execution_count": null,
      "outputs": [
        {
          "output_type": "stream",
          "name": "stdout",
          "text": [
            "[[-0.04099802 -0.00272278 -0.03153814 -0.00655243  0.00691699  0.00079763\n",
            "   0.01094932  0.02273444  0.03199681  0.05127069]]\n"
          ]
        }
      ]
    },
    {
      "cell_type": "code",
      "metadata": {
        "colab": {
          "base_uri": "https://localhost:8080/"
        },
        "id": "5QoFH4DfJd6Q",
        "outputId": "fbd17e0c-710f-4786-97a7-d12894bda5ac"
      },
      "source": [
        "#################################\n",
        "# Diven into Deep Learning\n",
        "#################################\n",
        "\n",
        "!pip install d2l"
      ],
      "execution_count": 3,
      "outputs": [
        {
          "output_type": "stream",
          "name": "stdout",
          "text": [
            "Collecting d2l\n",
            "  Downloading d2l-0.17.0-py3-none-any.whl (83 kB)\n",
            "\u001b[?25l\r\u001b[K     |████                            | 10 kB 25.6 MB/s eta 0:00:01\r\u001b[K     |███████▉                        | 20 kB 20.8 MB/s eta 0:00:01\r\u001b[K     |███████████▉                    | 30 kB 15.8 MB/s eta 0:00:01\r\u001b[K     |███████████████▊                | 40 kB 14.2 MB/s eta 0:00:01\r\u001b[K     |███████████████████▊            | 51 kB 5.4 MB/s eta 0:00:01\r\u001b[K     |███████████████████████▋        | 61 kB 5.9 MB/s eta 0:00:01\r\u001b[K     |███████████████████████████▋    | 71 kB 5.4 MB/s eta 0:00:01\r\u001b[K     |███████████████████████████████▌| 81 kB 6.1 MB/s eta 0:00:01\r\u001b[K     |████████████████████████████████| 83 kB 1.3 MB/s \n",
            "\u001b[?25hRequirement already satisfied: jupyter in /usr/local/lib/python3.7/dist-packages (from d2l) (1.0.0)\n",
            "Requirement already satisfied: pandas in /usr/local/lib/python3.7/dist-packages (from d2l) (1.1.5)\n",
            "Requirement already satisfied: matplotlib in /usr/local/lib/python3.7/dist-packages (from d2l) (3.2.2)\n",
            "Requirement already satisfied: numpy in /usr/local/lib/python3.7/dist-packages (from d2l) (1.19.5)\n",
            "Requirement already satisfied: requests in /usr/local/lib/python3.7/dist-packages (from d2l) (2.23.0)\n",
            "Requirement already satisfied: jupyter-console in /usr/local/lib/python3.7/dist-packages (from jupyter->d2l) (5.2.0)\n",
            "Requirement already satisfied: nbconvert in /usr/local/lib/python3.7/dist-packages (from jupyter->d2l) (5.6.1)\n",
            "Requirement already satisfied: notebook in /usr/local/lib/python3.7/dist-packages (from jupyter->d2l) (5.3.1)\n",
            "Requirement already satisfied: ipywidgets in /usr/local/lib/python3.7/dist-packages (from jupyter->d2l) (7.6.5)\n",
            "Requirement already satisfied: qtconsole in /usr/local/lib/python3.7/dist-packages (from jupyter->d2l) (5.1.1)\n",
            "Requirement already satisfied: ipykernel in /usr/local/lib/python3.7/dist-packages (from jupyter->d2l) (4.10.1)\n",
            "Requirement already satisfied: traitlets>=4.1.0 in /usr/local/lib/python3.7/dist-packages (from ipykernel->jupyter->d2l) (5.1.0)\n",
            "Requirement already satisfied: ipython>=4.0.0 in /usr/local/lib/python3.7/dist-packages (from ipykernel->jupyter->d2l) (5.5.0)\n",
            "Requirement already satisfied: tornado>=4.0 in /usr/local/lib/python3.7/dist-packages (from ipykernel->jupyter->d2l) (5.1.1)\n",
            "Requirement already satisfied: jupyter-client in /usr/local/lib/python3.7/dist-packages (from ipykernel->jupyter->d2l) (5.3.5)\n",
            "Requirement already satisfied: pygments in /usr/local/lib/python3.7/dist-packages (from ipython>=4.0.0->ipykernel->jupyter->d2l) (2.6.1)\n",
            "Requirement already satisfied: decorator in /usr/local/lib/python3.7/dist-packages (from ipython>=4.0.0->ipykernel->jupyter->d2l) (4.4.2)\n",
            "Requirement already satisfied: pickleshare in /usr/local/lib/python3.7/dist-packages (from ipython>=4.0.0->ipykernel->jupyter->d2l) (0.7.5)\n",
            "Requirement already satisfied: setuptools>=18.5 in /usr/local/lib/python3.7/dist-packages (from ipython>=4.0.0->ipykernel->jupyter->d2l) (57.4.0)\n",
            "Requirement already satisfied: pexpect in /usr/local/lib/python3.7/dist-packages (from ipython>=4.0.0->ipykernel->jupyter->d2l) (4.8.0)\n",
            "Requirement already satisfied: prompt-toolkit<2.0.0,>=1.0.4 in /usr/local/lib/python3.7/dist-packages (from ipython>=4.0.0->ipykernel->jupyter->d2l) (1.0.18)\n",
            "Requirement already satisfied: simplegeneric>0.8 in /usr/local/lib/python3.7/dist-packages (from ipython>=4.0.0->ipykernel->jupyter->d2l) (0.8.1)\n",
            "Requirement already satisfied: six>=1.9.0 in /usr/local/lib/python3.7/dist-packages (from prompt-toolkit<2.0.0,>=1.0.4->ipython>=4.0.0->ipykernel->jupyter->d2l) (1.15.0)\n",
            "Requirement already satisfied: wcwidth in /usr/local/lib/python3.7/dist-packages (from prompt-toolkit<2.0.0,>=1.0.4->ipython>=4.0.0->ipykernel->jupyter->d2l) (0.2.5)\n",
            "Requirement already satisfied: widgetsnbextension~=3.5.0 in /usr/local/lib/python3.7/dist-packages (from ipywidgets->jupyter->d2l) (3.5.1)\n",
            "Requirement already satisfied: ipython-genutils~=0.2.0 in /usr/local/lib/python3.7/dist-packages (from ipywidgets->jupyter->d2l) (0.2.0)\n",
            "Requirement already satisfied: nbformat>=4.2.0 in /usr/local/lib/python3.7/dist-packages (from ipywidgets->jupyter->d2l) (5.1.3)\n",
            "Requirement already satisfied: jupyterlab-widgets>=1.0.0 in /usr/local/lib/python3.7/dist-packages (from ipywidgets->jupyter->d2l) (1.0.2)\n",
            "Requirement already satisfied: jsonschema!=2.5.0,>=2.4 in /usr/local/lib/python3.7/dist-packages (from nbformat>=4.2.0->ipywidgets->jupyter->d2l) (2.6.0)\n",
            "Requirement already satisfied: jupyter-core in /usr/local/lib/python3.7/dist-packages (from nbformat>=4.2.0->ipywidgets->jupyter->d2l) (4.8.1)\n",
            "Requirement already satisfied: Send2Trash in /usr/local/lib/python3.7/dist-packages (from notebook->jupyter->d2l) (1.8.0)\n",
            "Requirement already satisfied: jinja2 in /usr/local/lib/python3.7/dist-packages (from notebook->jupyter->d2l) (2.11.3)\n",
            "Requirement already satisfied: terminado>=0.8.1 in /usr/local/lib/python3.7/dist-packages (from notebook->jupyter->d2l) (0.12.1)\n",
            "Requirement already satisfied: python-dateutil>=2.1 in /usr/local/lib/python3.7/dist-packages (from jupyter-client->ipykernel->jupyter->d2l) (2.8.2)\n",
            "Requirement already satisfied: pyzmq>=13 in /usr/local/lib/python3.7/dist-packages (from jupyter-client->ipykernel->jupyter->d2l) (22.3.0)\n",
            "Requirement already satisfied: ptyprocess in /usr/local/lib/python3.7/dist-packages (from terminado>=0.8.1->notebook->jupyter->d2l) (0.7.0)\n",
            "Requirement already satisfied: MarkupSafe>=0.23 in /usr/local/lib/python3.7/dist-packages (from jinja2->notebook->jupyter->d2l) (2.0.1)\n",
            "Requirement already satisfied: kiwisolver>=1.0.1 in /usr/local/lib/python3.7/dist-packages (from matplotlib->d2l) (1.3.2)\n",
            "Requirement already satisfied: cycler>=0.10 in /usr/local/lib/python3.7/dist-packages (from matplotlib->d2l) (0.10.0)\n",
            "Requirement already satisfied: pyparsing!=2.0.4,!=2.1.2,!=2.1.6,>=2.0.1 in /usr/local/lib/python3.7/dist-packages (from matplotlib->d2l) (2.4.7)\n",
            "Requirement already satisfied: defusedxml in /usr/local/lib/python3.7/dist-packages (from nbconvert->jupyter->d2l) (0.7.1)\n",
            "Requirement already satisfied: mistune<2,>=0.8.1 in /usr/local/lib/python3.7/dist-packages (from nbconvert->jupyter->d2l) (0.8.4)\n",
            "Requirement already satisfied: pandocfilters>=1.4.1 in /usr/local/lib/python3.7/dist-packages (from nbconvert->jupyter->d2l) (1.5.0)\n",
            "Requirement already satisfied: testpath in /usr/local/lib/python3.7/dist-packages (from nbconvert->jupyter->d2l) (0.5.0)\n",
            "Requirement already satisfied: bleach in /usr/local/lib/python3.7/dist-packages (from nbconvert->jupyter->d2l) (4.1.0)\n",
            "Requirement already satisfied: entrypoints>=0.2.2 in /usr/local/lib/python3.7/dist-packages (from nbconvert->jupyter->d2l) (0.3)\n",
            "Requirement already satisfied: packaging in /usr/local/lib/python3.7/dist-packages (from bleach->nbconvert->jupyter->d2l) (21.0)\n",
            "Requirement already satisfied: webencodings in /usr/local/lib/python3.7/dist-packages (from bleach->nbconvert->jupyter->d2l) (0.5.1)\n",
            "Requirement already satisfied: pytz>=2017.2 in /usr/local/lib/python3.7/dist-packages (from pandas->d2l) (2018.9)\n",
            "Requirement already satisfied: qtpy in /usr/local/lib/python3.7/dist-packages (from qtconsole->jupyter->d2l) (1.11.2)\n",
            "Requirement already satisfied: idna<3,>=2.5 in /usr/local/lib/python3.7/dist-packages (from requests->d2l) (2.10)\n",
            "Requirement already satisfied: certifi>=2017.4.17 in /usr/local/lib/python3.7/dist-packages (from requests->d2l) (2021.5.30)\n",
            "Requirement already satisfied: chardet<4,>=3.0.2 in /usr/local/lib/python3.7/dist-packages (from requests->d2l) (3.0.4)\n",
            "Requirement already satisfied: urllib3!=1.25.0,!=1.25.1,<1.26,>=1.21.1 in /usr/local/lib/python3.7/dist-packages (from requests->d2l) (1.24.3)\n",
            "Installing collected packages: d2l\n",
            "Successfully installed d2l-0.17.0\n"
          ]
        }
      ]
    },
    {
      "cell_type": "code",
      "metadata": {
        "colab": {
          "base_uri": "https://localhost:8080/"
        },
        "id": "Bgy1yIeOokkO",
        "outputId": "1ea61079-d4b5-4977-bdcd-836f992c9736"
      },
      "source": [
        "#################################\n",
        "# Diven into Deep Learning\n",
        "#################################\n",
        "\n",
        "\n",
        "######\n",
        "# Ch 2\n",
        "######\n",
        "\n",
        "x = tf.range(12)\n",
        "x\n",
        "\n",
        "print(x.shape)\n",
        "print(tf.size(x))\n",
        "\n",
        "# -1 --> Automatically calculates dimnension\n",
        "x = tf.reshape(x, (3,-1))\n",
        "print(x)\n",
        "\n",
        "print(tf.zeros((2,3,4)))\n",
        "print(tf.ones((2,3,4)))\n",
        "\n",
        "\n",
        "# Each element is randomly sampled from standard Gaussian (mean 0; stddev 1)\n",
        "print(tf.random.normal(shape=[3,4]))\n",
        "\n",
        "\n",
        "# Elementwise operations\n",
        "x = tf.constant([1.0, 2, 4, 8])\n",
        "y = tf.constant([2.0, 2, 2, 2])\n",
        "\n",
        "print(x+y)\n",
        "print(x-y)\n",
        "print(x*y)\n",
        "print(x/y)\n",
        "print(x**y)"
      ],
      "execution_count": 16,
      "outputs": [
        {
          "output_type": "stream",
          "name": "stdout",
          "text": [
            "(12,)\n",
            "tf.Tensor(12, shape=(), dtype=int32)\n",
            "tf.Tensor(\n",
            "[[ 0  1  2  3]\n",
            " [ 4  5  6  7]\n",
            " [ 8  9 10 11]], shape=(3, 4), dtype=int32)\n",
            "tf.Tensor(\n",
            "[[[0. 0. 0. 0.]\n",
            "  [0. 0. 0. 0.]\n",
            "  [0. 0. 0. 0.]]\n",
            "\n",
            " [[0. 0. 0. 0.]\n",
            "  [0. 0. 0. 0.]\n",
            "  [0. 0. 0. 0.]]], shape=(2, 3, 4), dtype=float32)\n",
            "tf.Tensor(\n",
            "[[[1. 1. 1. 1.]\n",
            "  [1. 1. 1. 1.]\n",
            "  [1. 1. 1. 1.]]\n",
            "\n",
            " [[1. 1. 1. 1.]\n",
            "  [1. 1. 1. 1.]\n",
            "  [1. 1. 1. 1.]]], shape=(2, 3, 4), dtype=float32)\n",
            "tf.Tensor(\n",
            "[[ 0.7257188   0.10995621  1.7581837   0.7951681 ]\n",
            " [-1.1187122  -0.31241304  0.25750652 -0.68812513]\n",
            " [-1.1525211  -0.3142537  -1.7743869   0.8678267 ]], shape=(3, 4), dtype=float32)\n",
            "tf.Tensor([ 3.  4.  6. 10.], shape=(4,), dtype=float32)\n",
            "tf.Tensor([-1.  0.  2.  6.], shape=(4,), dtype=float32)\n",
            "tf.Tensor([ 2.  4.  8. 16.], shape=(4,), dtype=float32)\n",
            "tf.Tensor([0.5 1.  2.  4. ], shape=(4,), dtype=float32)\n",
            "tf.Tensor([ 1.  4. 16. 64.], shape=(4,), dtype=float32)\n"
          ]
        }
      ]
    },
    {
      "cell_type": "code",
      "metadata": {
        "colab": {
          "base_uri": "https://localhost:8080/"
        },
        "id": "Q4-xPjp-M8Wh",
        "outputId": "cccbf1e4-9790-42ac-f85b-dccfef4751ea"
      },
      "source": [
        "# Concat tensors\n",
        "\n",
        "X = tf.reshape(tf.range(12, dtype=tf.float32), (3,4))\n",
        "Y = tf.constant([[2,1,4,3], [1,2,3,4], [4,3,2,1]], dtype=tf.float32)\n",
        "\n",
        "C1 = tf.concat([X,Y], axis=0)\n",
        "print(X)\n",
        "print(Y)\n",
        "print(C1)\n",
        "\n",
        "# Logical elementwise operation\n",
        "print(X == Y)\n",
        "\n",
        "# Sum all elements up\n",
        "print(tf.reduce_sum(X))"
      ],
      "execution_count": 22,
      "outputs": [
        {
          "output_type": "stream",
          "name": "stdout",
          "text": [
            "tf.Tensor(\n",
            "[[ 0.  1.  2.  3.]\n",
            " [ 4.  5.  6.  7.]\n",
            " [ 8.  9. 10. 11.]], shape=(3, 4), dtype=float32)\n",
            "tf.Tensor(\n",
            "[[2. 1. 4. 3.]\n",
            " [1. 2. 3. 4.]\n",
            " [4. 3. 2. 1.]], shape=(3, 4), dtype=float32)\n",
            "tf.Tensor(\n",
            "[[ 0.  1.  2.  3.]\n",
            " [ 4.  5.  6.  7.]\n",
            " [ 8.  9. 10. 11.]\n",
            " [ 2.  1.  4.  3.]\n",
            " [ 1.  2.  3.  4.]\n",
            " [ 4.  3.  2.  1.]], shape=(6, 4), dtype=float32)\n",
            "tf.Tensor(\n",
            "[[False  True False  True]\n",
            " [False False False False]\n",
            " [False False False False]], shape=(3, 4), dtype=bool)\n",
            "tf.Tensor(66.0, shape=(), dtype=float32)\n"
          ]
        }
      ]
    },
    {
      "cell_type": "code",
      "metadata": {
        "colab": {
          "base_uri": "https://localhost:8080/"
        },
        "id": "MBqPB_9HObQd",
        "outputId": "886c9be0-af29-4b35-efea-cfc0af8be00c"
      },
      "source": [
        "# Apply elementwise operation on tensors of different size\n",
        "a = tf.reshape(tf.range(3), (3,1))\n",
        "b = tf.reshape(tf.range(2), (1,2))\n",
        "\n",
        "print(a)\n",
        "print(b)\n",
        "print(a+b)"
      ],
      "execution_count": 24,
      "outputs": [
        {
          "output_type": "stream",
          "name": "stdout",
          "text": [
            "tf.Tensor(\n",
            "[[0]\n",
            " [1]\n",
            " [2]], shape=(3, 1), dtype=int32)\n",
            "tf.Tensor([[0 1]], shape=(1, 2), dtype=int32)\n",
            "tf.Tensor(\n",
            "[[0 1]\n",
            " [1 2]\n",
            " [2 3]], shape=(3, 2), dtype=int32)\n"
          ]
        }
      ]
    }
  ]
}