{
  "nbformat": 4,
  "nbformat_minor": 0,
  "metadata": {
    "colab": {
      "name": "tensorflow.ipynb",
      "provenance": [],
      "collapsed_sections": [],
      "authorship_tag": "ABX9TyMi2iUoVpCAVyrXyThxDhCP",
      "include_colab_link": true
    },
    "kernelspec": {
      "name": "python3",
      "display_name": "Python 3"
    },
    "language_info": {
      "name": "python"
    }
  },
  "cells": [
    {
      "cell_type": "markdown",
      "metadata": {
        "id": "view-in-github",
        "colab_type": "text"
      },
      "source": [
        "<a href=\"https://colab.research.google.com/github/git-bauerseb/deep-learning/blob/main/tensorflow.ipynb\" target=\"_parent\"><img src=\"https://colab.research.google.com/assets/colab-badge.svg\" alt=\"Open In Colab\"/></a>"
      ]
    },
    {
      "cell_type": "code",
      "metadata": {
        "id": "AONYQHv8OQfP",
        "colab": {
          "base_uri": "https://localhost:8080/"
        },
        "outputId": "5d65923b-d263-4224-ce70-8725ee40ef37"
      },
      "source": [
        "import os\n",
        "import tensorflow as tf\n",
        "\n",
        "import cProfile\n",
        "\n",
        "tf.executing_eagerly()"
      ],
      "execution_count": null,
      "outputs": [
        {
          "output_type": "execute_result",
          "data": {
            "text/plain": [
              "True"
            ]
          },
          "metadata": {},
          "execution_count": 5
        }
      ]
    },
    {
      "cell_type": "code",
      "metadata": {
        "colab": {
          "base_uri": "https://localhost:8080/"
        },
        "id": "93JfOJAWOaHd",
        "outputId": "a4b6c080-a7b9-45db-b457-3a82343b0c7f"
      },
      "source": [
        "(mnist_images, mnist_labels), _ = tf.keras.datasets.mnist.load_data()\n",
        "\n",
        "dataset = tf.data.Dataset.from_tensor_slices(\n",
        "    (tf.cast(mnist_images[..., tf.newaxis]/255, tf.float32),\n",
        "     tf.cast(mnist_labels, tf.int64)\n",
        "     ))\n",
        "\n",
        "dataset = dataset.shuffle(1000).batch(32)"
      ],
      "execution_count": null,
      "outputs": [
        {
          "output_type": "stream",
          "name": "stdout",
          "text": [
            "Downloading data from https://storage.googleapis.com/tensorflow/tf-keras-datasets/mnist.npz\n",
            "11493376/11490434 [==============================] - 0s 0us/step\n",
            "11501568/11490434 [==============================] - 0s 0us/step\n"
          ]
        }
      ]
    },
    {
      "cell_type": "code",
      "metadata": {
        "id": "ngYQbQ6COwiy"
      },
      "source": [
        "mnist_model = tf.keras.Sequential([\n",
        "                                   tf.keras.layers.Conv2D(16, [3,3], activation='relu',\n",
        "                                                          input_shape=(None, None, 1)),\n",
        "                                   tf.keras.layers.Conv2D(16, [3,3], activation='relu'),\n",
        "                                   tf.keras.layers.GlobalAveragePooling2D(),\n",
        "                                   tf.keras.layers.Dense(10)\n",
        "])"
      ],
      "execution_count": null,
      "outputs": []
    },
    {
      "cell_type": "code",
      "metadata": {
        "colab": {
          "base_uri": "https://localhost:8080/"
        },
        "id": "gWRQiLxBPDxM",
        "outputId": "dc678fb4-405f-4a38-ba64-ec7079857e68"
      },
      "source": [
        "mnist_model.summary()\n",
        "\n",
        "# Logit: Values used as input to softmax\n",
        "\n",
        "\n",
        "for images, labels in dataset.take(1):\n",
        "  print(\"Logits: \", mnist_model(images[0:1]).numpy())"
      ],
      "execution_count": null,
      "outputs": [
        {
          "output_type": "stream",
          "name": "stdout",
          "text": [
            "Model: \"sequential\"\n",
            "_________________________________________________________________\n",
            "Layer (type)                 Output Shape              Param #   \n",
            "=================================================================\n",
            "conv2d (Conv2D)              (None, None, None, 16)    160       \n",
            "_________________________________________________________________\n",
            "conv2d_1 (Conv2D)            (None, None, None, 16)    2320      \n",
            "_________________________________________________________________\n",
            "global_average_pooling2d (Gl (None, 16)                0         \n",
            "_________________________________________________________________\n",
            "dense (Dense)                (None, 10)                170       \n",
            "=================================================================\n",
            "Total params: 2,650\n",
            "Trainable params: 2,650\n",
            "Non-trainable params: 0\n",
            "_________________________________________________________________\n",
            "Logits:  [[ 0.01237769 -0.01763933 -0.01586457 -0.01711813 -0.01231478 -0.00134613\n",
            "   0.02269121 -0.04868368 -0.03317571  0.00764141]]\n"
          ]
        }
      ]
    },
    {
      "cell_type": "code",
      "metadata": {
        "colab": {
          "base_uri": "https://localhost:8080/",
          "height": 408
        },
        "id": "3yYoUz-LPj06",
        "outputId": "b4628ec5-00eb-471d-d333-470fe5dc34d6"
      },
      "source": [
        "# Keras models have builtin training loop ('fit' method)\n",
        "# More customization\n",
        "\n",
        "optimizer = tf.keras.optimizers.Adam()\n",
        "loss_object = tf.keras.losses.SparseCategoricalCrossentropy(from_logits=True)\n",
        "\n",
        "loss_history = []\n",
        "\n",
        "def train_step(images, labels):\n",
        "  # Use to inspect computes gradients\n",
        "  with tf.GradientTape() as tape:\n",
        "      logits = mnist_model(images, training=True)\n",
        "\n",
        "      tf.debugging.assert_equal(logits.shape, (32,10))\n",
        "\n",
        "      loss_value = loss_object(labels, logits)\n",
        "\n",
        "  loss_history.append(loss_value.numpy().mean())\n",
        "  grads = tape.gradient(loss_value, mnist_model.trainable_variables)\n",
        "  optimizer.apply_gradients(zip(grads, mnist_model.trainable_variables))\n",
        "\n",
        "\n",
        "def train(epochs):\n",
        "  for epoch in range(epochs):\n",
        "    for (batch, (images, labels)) in enumerate(dataset):\n",
        "      train_step(images, labels)\n",
        "\n",
        "    print('Epoch {} finished'.format(epoch))\n",
        "\n",
        "train(epochs=3)"
      ],
      "execution_count": null,
      "outputs": [
        {
          "output_type": "stream",
          "name": "stdout",
          "text": [
            "Epoch 0 finished\n",
            "Epoch 1 finished\n"
          ]
        },
        {
          "output_type": "error",
          "ename": "KeyboardInterrupt",
          "evalue": "ignored",
          "traceback": [
            "\u001b[0;31m---------------------------------------------------------------------------\u001b[0m",
            "\u001b[0;31mKeyboardInterrupt\u001b[0m                         Traceback (most recent call last)",
            "\u001b[0;32m<ipython-input-9-9a27f2b37c77>\u001b[0m in \u001b[0;36m<module>\u001b[0;34m()\u001b[0m\n\u001b[1;32m     28\u001b[0m     \u001b[0mprint\u001b[0m\u001b[0;34m(\u001b[0m\u001b[0;34m'Epoch {} finished'\u001b[0m\u001b[0;34m.\u001b[0m\u001b[0mformat\u001b[0m\u001b[0;34m(\u001b[0m\u001b[0mepoch\u001b[0m\u001b[0;34m)\u001b[0m\u001b[0;34m)\u001b[0m\u001b[0;34m\u001b[0m\u001b[0;34m\u001b[0m\u001b[0m\n\u001b[1;32m     29\u001b[0m \u001b[0;34m\u001b[0m\u001b[0m\n\u001b[0;32m---> 30\u001b[0;31m \u001b[0mtrain\u001b[0m\u001b[0;34m(\u001b[0m\u001b[0mepochs\u001b[0m\u001b[0;34m=\u001b[0m\u001b[0;36m3\u001b[0m\u001b[0;34m)\u001b[0m\u001b[0;34m\u001b[0m\u001b[0;34m\u001b[0m\u001b[0m\n\u001b[0m",
            "\u001b[0;32m<ipython-input-9-9a27f2b37c77>\u001b[0m in \u001b[0;36mtrain\u001b[0;34m(epochs)\u001b[0m\n\u001b[1;32m     24\u001b[0m   \u001b[0;32mfor\u001b[0m \u001b[0mepoch\u001b[0m \u001b[0;32min\u001b[0m \u001b[0mrange\u001b[0m\u001b[0;34m(\u001b[0m\u001b[0mepochs\u001b[0m\u001b[0;34m)\u001b[0m\u001b[0;34m:\u001b[0m\u001b[0;34m\u001b[0m\u001b[0;34m\u001b[0m\u001b[0m\n\u001b[1;32m     25\u001b[0m     \u001b[0;32mfor\u001b[0m \u001b[0;34m(\u001b[0m\u001b[0mbatch\u001b[0m\u001b[0;34m,\u001b[0m \u001b[0;34m(\u001b[0m\u001b[0mimages\u001b[0m\u001b[0;34m,\u001b[0m \u001b[0mlabels\u001b[0m\u001b[0;34m)\u001b[0m\u001b[0;34m)\u001b[0m \u001b[0;32min\u001b[0m \u001b[0menumerate\u001b[0m\u001b[0;34m(\u001b[0m\u001b[0mdataset\u001b[0m\u001b[0;34m)\u001b[0m\u001b[0;34m:\u001b[0m\u001b[0;34m\u001b[0m\u001b[0;34m\u001b[0m\u001b[0m\n\u001b[0;32m---> 26\u001b[0;31m       \u001b[0mtrain_step\u001b[0m\u001b[0;34m(\u001b[0m\u001b[0mimages\u001b[0m\u001b[0;34m,\u001b[0m \u001b[0mlabels\u001b[0m\u001b[0;34m)\u001b[0m\u001b[0;34m\u001b[0m\u001b[0;34m\u001b[0m\u001b[0m\n\u001b[0m\u001b[1;32m     27\u001b[0m \u001b[0;34m\u001b[0m\u001b[0m\n\u001b[1;32m     28\u001b[0m     \u001b[0mprint\u001b[0m\u001b[0;34m(\u001b[0m\u001b[0;34m'Epoch {} finished'\u001b[0m\u001b[0;34m.\u001b[0m\u001b[0mformat\u001b[0m\u001b[0;34m(\u001b[0m\u001b[0mepoch\u001b[0m\u001b[0;34m)\u001b[0m\u001b[0;34m)\u001b[0m\u001b[0;34m\u001b[0m\u001b[0;34m\u001b[0m\u001b[0m\n",
            "\u001b[0;32m<ipython-input-9-9a27f2b37c77>\u001b[0m in \u001b[0;36mtrain_step\u001b[0;34m(images, labels)\u001b[0m\n\u001b[1;32m     17\u001b[0m \u001b[0;34m\u001b[0m\u001b[0m\n\u001b[1;32m     18\u001b[0m   \u001b[0mloss_history\u001b[0m\u001b[0;34m.\u001b[0m\u001b[0mappend\u001b[0m\u001b[0;34m(\u001b[0m\u001b[0mloss_value\u001b[0m\u001b[0;34m.\u001b[0m\u001b[0mnumpy\u001b[0m\u001b[0;34m(\u001b[0m\u001b[0;34m)\u001b[0m\u001b[0;34m.\u001b[0m\u001b[0mmean\u001b[0m\u001b[0;34m(\u001b[0m\u001b[0;34m)\u001b[0m\u001b[0;34m)\u001b[0m\u001b[0;34m\u001b[0m\u001b[0;34m\u001b[0m\u001b[0m\n\u001b[0;32m---> 19\u001b[0;31m   \u001b[0mgrads\u001b[0m \u001b[0;34m=\u001b[0m \u001b[0mtape\u001b[0m\u001b[0;34m.\u001b[0m\u001b[0mgradient\u001b[0m\u001b[0;34m(\u001b[0m\u001b[0mloss_value\u001b[0m\u001b[0;34m,\u001b[0m \u001b[0mmnist_model\u001b[0m\u001b[0;34m.\u001b[0m\u001b[0mtrainable_variables\u001b[0m\u001b[0;34m)\u001b[0m\u001b[0;34m\u001b[0m\u001b[0;34m\u001b[0m\u001b[0m\n\u001b[0m\u001b[1;32m     20\u001b[0m   \u001b[0moptimizer\u001b[0m\u001b[0;34m.\u001b[0m\u001b[0mapply_gradients\u001b[0m\u001b[0;34m(\u001b[0m\u001b[0mzip\u001b[0m\u001b[0;34m(\u001b[0m\u001b[0mgrads\u001b[0m\u001b[0;34m,\u001b[0m \u001b[0mmnist_model\u001b[0m\u001b[0;34m.\u001b[0m\u001b[0mtrainable_variables\u001b[0m\u001b[0;34m)\u001b[0m\u001b[0;34m)\u001b[0m\u001b[0;34m\u001b[0m\u001b[0;34m\u001b[0m\u001b[0m\n\u001b[1;32m     21\u001b[0m \u001b[0;34m\u001b[0m\u001b[0m\n",
            "\u001b[0;32m/usr/local/lib/python3.7/dist-packages/tensorflow/python/eager/backprop.py\u001b[0m in \u001b[0;36mgradient\u001b[0;34m(self, target, sources, output_gradients, unconnected_gradients)\u001b[0m\n\u001b[1;32m   1088\u001b[0m         \u001b[0moutput_gradients\u001b[0m\u001b[0;34m=\u001b[0m\u001b[0moutput_gradients\u001b[0m\u001b[0;34m,\u001b[0m\u001b[0;34m\u001b[0m\u001b[0;34m\u001b[0m\u001b[0m\n\u001b[1;32m   1089\u001b[0m         \u001b[0msources_raw\u001b[0m\u001b[0;34m=\u001b[0m\u001b[0mflat_sources_raw\u001b[0m\u001b[0;34m,\u001b[0m\u001b[0;34m\u001b[0m\u001b[0;34m\u001b[0m\u001b[0m\n\u001b[0;32m-> 1090\u001b[0;31m         unconnected_gradients=unconnected_gradients)\n\u001b[0m\u001b[1;32m   1091\u001b[0m \u001b[0;34m\u001b[0m\u001b[0m\n\u001b[1;32m   1092\u001b[0m     \u001b[0;32mif\u001b[0m \u001b[0;32mnot\u001b[0m \u001b[0mself\u001b[0m\u001b[0;34m.\u001b[0m\u001b[0m_persistent\u001b[0m\u001b[0;34m:\u001b[0m\u001b[0;34m\u001b[0m\u001b[0;34m\u001b[0m\u001b[0m\n",
            "\u001b[0;32m/usr/local/lib/python3.7/dist-packages/tensorflow/python/eager/imperative_grad.py\u001b[0m in \u001b[0;36mimperative_grad\u001b[0;34m(tape, target, sources, output_gradients, sources_raw, unconnected_gradients)\u001b[0m\n\u001b[1;32m     75\u001b[0m       \u001b[0moutput_gradients\u001b[0m\u001b[0;34m,\u001b[0m\u001b[0;34m\u001b[0m\u001b[0;34m\u001b[0m\u001b[0m\n\u001b[1;32m     76\u001b[0m       \u001b[0msources_raw\u001b[0m\u001b[0;34m,\u001b[0m\u001b[0;34m\u001b[0m\u001b[0;34m\u001b[0m\u001b[0m\n\u001b[0;32m---> 77\u001b[0;31m       compat.as_str(unconnected_gradients.value))\n\u001b[0m",
            "\u001b[0;32m/usr/local/lib/python3.7/dist-packages/tensorflow/python/eager/backprop.py\u001b[0m in \u001b[0;36m_gradient_function\u001b[0;34m(op_name, attr_tuple, num_inputs, inputs, outputs, out_grads, skip_input_indices, forward_pass_name_scope)\u001b[0m\n\u001b[1;32m    157\u001b[0m       \u001b[0mgradient_name_scope\u001b[0m \u001b[0;34m+=\u001b[0m \u001b[0mforward_pass_name_scope\u001b[0m \u001b[0;34m+\u001b[0m \u001b[0;34m\"/\"\u001b[0m\u001b[0;34m\u001b[0m\u001b[0;34m\u001b[0m\u001b[0m\n\u001b[1;32m    158\u001b[0m     \u001b[0;32mwith\u001b[0m \u001b[0mops\u001b[0m\u001b[0;34m.\u001b[0m\u001b[0mname_scope\u001b[0m\u001b[0;34m(\u001b[0m\u001b[0mgradient_name_scope\u001b[0m\u001b[0;34m)\u001b[0m\u001b[0;34m:\u001b[0m\u001b[0;34m\u001b[0m\u001b[0;34m\u001b[0m\u001b[0m\n\u001b[0;32m--> 159\u001b[0;31m       \u001b[0;32mreturn\u001b[0m \u001b[0mgrad_fn\u001b[0m\u001b[0;34m(\u001b[0m\u001b[0mmock_op\u001b[0m\u001b[0;34m,\u001b[0m \u001b[0;34m*\u001b[0m\u001b[0mout_grads\u001b[0m\u001b[0;34m)\u001b[0m\u001b[0;34m\u001b[0m\u001b[0;34m\u001b[0m\u001b[0m\n\u001b[0m\u001b[1;32m    160\u001b[0m   \u001b[0;32melse\u001b[0m\u001b[0;34m:\u001b[0m\u001b[0;34m\u001b[0m\u001b[0;34m\u001b[0m\u001b[0m\n\u001b[1;32m    161\u001b[0m     \u001b[0;32mreturn\u001b[0m \u001b[0mgrad_fn\u001b[0m\u001b[0;34m(\u001b[0m\u001b[0mmock_op\u001b[0m\u001b[0;34m,\u001b[0m \u001b[0;34m*\u001b[0m\u001b[0mout_grads\u001b[0m\u001b[0;34m)\u001b[0m\u001b[0;34m\u001b[0m\u001b[0;34m\u001b[0m\u001b[0m\n",
            "\u001b[0;32m/usr/local/lib/python3.7/dist-packages/tensorflow/python/ops/nn_grad.py\u001b[0m in \u001b[0;36m_Conv2DGrad\u001b[0;34m(op, grad)\u001b[0m\n\u001b[1;32m    598\u001b[0m           \u001b[0mexplicit_paddings\u001b[0m\u001b[0;34m=\u001b[0m\u001b[0mexplicit_paddings\u001b[0m\u001b[0;34m,\u001b[0m\u001b[0;34m\u001b[0m\u001b[0;34m\u001b[0m\u001b[0m\n\u001b[1;32m    599\u001b[0m           \u001b[0muse_cudnn_on_gpu\u001b[0m\u001b[0;34m=\u001b[0m\u001b[0muse_cudnn_on_gpu\u001b[0m\u001b[0;34m,\u001b[0m\u001b[0;34m\u001b[0m\u001b[0;34m\u001b[0m\u001b[0m\n\u001b[0;32m--> 600\u001b[0;31m           data_format=data_format)\n\u001b[0m\u001b[1;32m    601\u001b[0m   ]\n\u001b[1;32m    602\u001b[0m \u001b[0;34m\u001b[0m\u001b[0m\n",
            "\u001b[0;32m/usr/local/lib/python3.7/dist-packages/tensorflow/python/ops/gen_nn_ops.py\u001b[0m in \u001b[0;36mconv2d_backprop_filter\u001b[0;34m(input, filter_sizes, out_backprop, strides, padding, use_cudnn_on_gpu, explicit_paddings, data_format, dilations, name)\u001b[0m\n\u001b[1;32m   1082\u001b[0m         \u001b[0;34m\"strides\"\u001b[0m\u001b[0;34m,\u001b[0m \u001b[0mstrides\u001b[0m\u001b[0;34m,\u001b[0m \u001b[0;34m\"use_cudnn_on_gpu\"\u001b[0m\u001b[0;34m,\u001b[0m \u001b[0muse_cudnn_on_gpu\u001b[0m\u001b[0;34m,\u001b[0m \u001b[0;34m\"padding\"\u001b[0m\u001b[0;34m,\u001b[0m\u001b[0;34m\u001b[0m\u001b[0;34m\u001b[0m\u001b[0m\n\u001b[1;32m   1083\u001b[0m         \u001b[0mpadding\u001b[0m\u001b[0;34m,\u001b[0m \u001b[0;34m\"explicit_paddings\"\u001b[0m\u001b[0;34m,\u001b[0m \u001b[0mexplicit_paddings\u001b[0m\u001b[0;34m,\u001b[0m \u001b[0;34m\"data_format\"\u001b[0m\u001b[0;34m,\u001b[0m\u001b[0;34m\u001b[0m\u001b[0;34m\u001b[0m\u001b[0m\n\u001b[0;32m-> 1084\u001b[0;31m         data_format, \"dilations\", dilations)\n\u001b[0m\u001b[1;32m   1085\u001b[0m       \u001b[0;32mreturn\u001b[0m \u001b[0m_result\u001b[0m\u001b[0;34m\u001b[0m\u001b[0;34m\u001b[0m\u001b[0m\n\u001b[1;32m   1086\u001b[0m     \u001b[0;32mexcept\u001b[0m \u001b[0m_core\u001b[0m\u001b[0;34m.\u001b[0m\u001b[0m_NotOkStatusException\u001b[0m \u001b[0;32mas\u001b[0m \u001b[0me\u001b[0m\u001b[0;34m:\u001b[0m\u001b[0;34m\u001b[0m\u001b[0;34m\u001b[0m\u001b[0m\n",
            "\u001b[0;31mKeyboardInterrupt\u001b[0m: "
          ]
        }
      ]
    },
    {
      "cell_type": "code",
      "metadata": {
        "id": "MRdm7Ay7RyGT"
      },
      "source": [
        "import matplotlib.pyplot as plt\n",
        "\n",
        "\n",
        "plt.plot(loss_history)\n",
        "plt.xlabel(\"Batch #\")\n",
        "plt.ylabel(\"Loss [Entropy]\")"
      ],
      "execution_count": null,
      "outputs": []
    },
    {
      "cell_type": "code",
      "metadata": {
        "id": "pFlBbbqHTXzE"
      },
      "source": [
        "# Short\n",
        "\n",
        "x = tf.ones((2,2))\n",
        "\n",
        "with tf.GradientTape(persistent=True) as t:\n",
        "  t.watch(x)\n",
        "\n",
        "  y = tf.reduce_sum(x)\n",
        "  z = tf.multiply(y,y)\n",
        "\n",
        "\n",
        "dz_dx = t.gradient(z,x)\n",
        "dz_dy = t.gradient(z,y)\n",
        "print(dz_dy)\n",
        "print(dz_dx)\n",
        "\n",
        "\n",
        "del t"
      ],
      "execution_count": null,
      "outputs": []
    },
    {
      "cell_type": "code",
      "metadata": {
        "id": "AJW_Pyk_7HP1"
      },
      "source": [
        "####################\n",
        "# START HERE\n",
        "import os\n",
        "import tensorflow as tf\n",
        "import cProfile\n",
        "\n",
        "tf.executing_eagerly()\n",
        "\n",
        "x = [[2.]]\n",
        "m = tf.matmul(x,x)\n",
        "print(m)"
      ],
      "execution_count": null,
      "outputs": []
    },
    {
      "cell_type": "code",
      "metadata": {
        "id": "7dH2lrVz7d9H"
      },
      "source": [
        "x = [[2., 3.]]\n",
        "y = [[1.], [4.]]\n",
        "\n",
        "a = tf.constant([[1,2], [3,4]])\n",
        "\n",
        "print(tf.matmul(x,y))\n",
        "print(a)\n",
        "\n",
        "b = tf.add(a,1)\n",
        "print(b)\n",
        "\n",
        "c = a + 1\n",
        "print(c)\n",
        "\n",
        "# Overloading\n",
        "print(a*b)\n",
        "\n",
        "# Obtain numpy value from tensor\n",
        "print(a.numpy())\n",
        "\n",
        "def fizzbuzz(max_num):\n",
        "  counter = tf.constant(0)\n",
        "  max_num = tf.convert_to_tensor(max_num)\n",
        "\n",
        "  for num in range(1, max_num.numpy() + 1):\n",
        "    num = tf.constant(num)\n",
        "    if int(num % 3) == 0 and int (num % 5) == 0:\n",
        "      print('FizzBuzz')\n",
        "    elif int(num % 3) == 0:\n",
        "      print('Fizz')\n",
        "    elif int(num % 5) == 0:\n",
        "      print('Buzz')\n",
        "    else:\n",
        "      print(num.numpy())\n",
        "    counter += 1\n",
        "\n",
        "fizzbuzz(15)"
      ],
      "execution_count": null,
      "outputs": []
    },
    {
      "cell_type": "code",
      "metadata": {
        "id": "9peymPd_Jt1G"
      },
      "source": [
        "w = tf.Variable([[1.]])\n",
        "print(w)\n",
        "\n",
        "with tf.GradientTape() as tape:\n",
        "  loss = w*w\n",
        "\n",
        "grad = tape.gradient(loss, w)\n",
        "print(grad)"
      ],
      "execution_count": null,
      "outputs": []
    },
    {
      "cell_type": "code",
      "metadata": {
        "id": "DniQA1acKlfE"
      },
      "source": [
        "# Train model\n",
        "(mnist_images, mnist_labels), _ = tf.keras.datasets.mnist.load_data()\n",
        "\n",
        "dataset = tf.data.Dataset.from_tensor_slices(\n",
        "    \n",
        "  (tf.cast(mnist_images[...,tf.newaxis] / 255, tf.float32),\n",
        "   tf.cast(mnist_labels, tf.int64)\n",
        "   ))\n",
        "\n",
        "dataset = dataset.shuffle(1000).batch(32)\n",
        "\n"
      ],
      "execution_count": null,
      "outputs": []
    },
    {
      "cell_type": "code",
      "metadata": {
        "id": "5VCTYWV3LTIy"
      },
      "source": [
        "mnist_model = tf.keras.Sequential([\n",
        "                                   \n",
        "  tf.keras.layers.Conv2D(16, [3,3], activation='relu', input_shape=(None, None,1)),\n",
        "  tf.keras.layers.Conv2D(16, [3,3], activation='relu'),\n",
        "  tf.keras.layers.GlobalAveragePooling2D(),\n",
        "  tf.keras.layers.Dense(10)\n",
        "])\n",
        "\n",
        "for images,labels in dataset.take(1):\n",
        "  print(mnist_model(images[0:1]).numpy())"
      ],
      "execution_count": null,
      "outputs": []
    },
    {
      "cell_type": "code",
      "metadata": {
        "colab": {
          "base_uri": "https://localhost:8080/"
        },
        "id": "5QoFH4DfJd6Q",
        "outputId": "3aab9570-1487-4040-8ec8-3d16095a513e"
      },
      "source": [
        "#################################\n",
        "# Diven into Deep Learning\n",
        "#################################\n",
        "\n",
        "!pip install d2l"
      ],
      "execution_count": null,
      "outputs": [
        {
          "output_type": "stream",
          "name": "stdout",
          "text": [
            "Requirement already satisfied: d2l in /usr/local/lib/python3.7/dist-packages (0.17.0)\n",
            "Requirement already satisfied: pandas in /usr/local/lib/python3.7/dist-packages (from d2l) (1.1.5)\n",
            "Requirement already satisfied: jupyter in /usr/local/lib/python3.7/dist-packages (from d2l) (1.0.0)\n",
            "Requirement already satisfied: requests in /usr/local/lib/python3.7/dist-packages (from d2l) (2.23.0)\n",
            "Requirement already satisfied: numpy in /usr/local/lib/python3.7/dist-packages (from d2l) (1.19.5)\n",
            "Requirement already satisfied: matplotlib in /usr/local/lib/python3.7/dist-packages (from d2l) (3.2.2)\n",
            "Requirement already satisfied: ipykernel in /usr/local/lib/python3.7/dist-packages (from jupyter->d2l) (4.10.1)\n",
            "Requirement already satisfied: nbconvert in /usr/local/lib/python3.7/dist-packages (from jupyter->d2l) (5.6.1)\n",
            "Requirement already satisfied: ipywidgets in /usr/local/lib/python3.7/dist-packages (from jupyter->d2l) (7.6.5)\n",
            "Requirement already satisfied: notebook in /usr/local/lib/python3.7/dist-packages (from jupyter->d2l) (5.3.1)\n",
            "Requirement already satisfied: qtconsole in /usr/local/lib/python3.7/dist-packages (from jupyter->d2l) (5.1.1)\n",
            "Requirement already satisfied: jupyter-console in /usr/local/lib/python3.7/dist-packages (from jupyter->d2l) (5.2.0)\n",
            "Requirement already satisfied: jupyter-client in /usr/local/lib/python3.7/dist-packages (from ipykernel->jupyter->d2l) (5.3.5)\n",
            "Requirement already satisfied: tornado>=4.0 in /usr/local/lib/python3.7/dist-packages (from ipykernel->jupyter->d2l) (5.1.1)\n",
            "Requirement already satisfied: traitlets>=4.1.0 in /usr/local/lib/python3.7/dist-packages (from ipykernel->jupyter->d2l) (5.1.0)\n",
            "Requirement already satisfied: ipython>=4.0.0 in /usr/local/lib/python3.7/dist-packages (from ipykernel->jupyter->d2l) (5.5.0)\n",
            "Requirement already satisfied: pickleshare in /usr/local/lib/python3.7/dist-packages (from ipython>=4.0.0->ipykernel->jupyter->d2l) (0.7.5)\n",
            "Requirement already satisfied: pygments in /usr/local/lib/python3.7/dist-packages (from ipython>=4.0.0->ipykernel->jupyter->d2l) (2.6.1)\n",
            "Requirement already satisfied: decorator in /usr/local/lib/python3.7/dist-packages (from ipython>=4.0.0->ipykernel->jupyter->d2l) (4.4.2)\n",
            "Requirement already satisfied: pexpect in /usr/local/lib/python3.7/dist-packages (from ipython>=4.0.0->ipykernel->jupyter->d2l) (4.8.0)\n",
            "Requirement already satisfied: setuptools>=18.5 in /usr/local/lib/python3.7/dist-packages (from ipython>=4.0.0->ipykernel->jupyter->d2l) (57.4.0)\n",
            "Requirement already satisfied: prompt-toolkit<2.0.0,>=1.0.4 in /usr/local/lib/python3.7/dist-packages (from ipython>=4.0.0->ipykernel->jupyter->d2l) (1.0.18)\n",
            "Requirement already satisfied: simplegeneric>0.8 in /usr/local/lib/python3.7/dist-packages (from ipython>=4.0.0->ipykernel->jupyter->d2l) (0.8.1)\n",
            "Requirement already satisfied: six>=1.9.0 in /usr/local/lib/python3.7/dist-packages (from prompt-toolkit<2.0.0,>=1.0.4->ipython>=4.0.0->ipykernel->jupyter->d2l) (1.15.0)\n",
            "Requirement already satisfied: wcwidth in /usr/local/lib/python3.7/dist-packages (from prompt-toolkit<2.0.0,>=1.0.4->ipython>=4.0.0->ipykernel->jupyter->d2l) (0.2.5)\n",
            "Requirement already satisfied: widgetsnbextension~=3.5.0 in /usr/local/lib/python3.7/dist-packages (from ipywidgets->jupyter->d2l) (3.5.1)\n",
            "Requirement already satisfied: ipython-genutils~=0.2.0 in /usr/local/lib/python3.7/dist-packages (from ipywidgets->jupyter->d2l) (0.2.0)\n",
            "Requirement already satisfied: jupyterlab-widgets>=1.0.0 in /usr/local/lib/python3.7/dist-packages (from ipywidgets->jupyter->d2l) (1.0.2)\n",
            "Requirement already satisfied: nbformat>=4.2.0 in /usr/local/lib/python3.7/dist-packages (from ipywidgets->jupyter->d2l) (5.1.3)\n",
            "Requirement already satisfied: jsonschema!=2.5.0,>=2.4 in /usr/local/lib/python3.7/dist-packages (from nbformat>=4.2.0->ipywidgets->jupyter->d2l) (2.6.0)\n",
            "Requirement already satisfied: jupyter-core in /usr/local/lib/python3.7/dist-packages (from nbformat>=4.2.0->ipywidgets->jupyter->d2l) (4.8.1)\n",
            "Requirement already satisfied: terminado>=0.8.1 in /usr/local/lib/python3.7/dist-packages (from notebook->jupyter->d2l) (0.12.1)\n",
            "Requirement already satisfied: Send2Trash in /usr/local/lib/python3.7/dist-packages (from notebook->jupyter->d2l) (1.8.0)\n",
            "Requirement already satisfied: jinja2 in /usr/local/lib/python3.7/dist-packages (from notebook->jupyter->d2l) (2.11.3)\n",
            "Requirement already satisfied: pyzmq>=13 in /usr/local/lib/python3.7/dist-packages (from jupyter-client->ipykernel->jupyter->d2l) (22.3.0)\n",
            "Requirement already satisfied: python-dateutil>=2.1 in /usr/local/lib/python3.7/dist-packages (from jupyter-client->ipykernel->jupyter->d2l) (2.8.2)\n",
            "Requirement already satisfied: ptyprocess in /usr/local/lib/python3.7/dist-packages (from terminado>=0.8.1->notebook->jupyter->d2l) (0.7.0)\n",
            "Requirement already satisfied: MarkupSafe>=0.23 in /usr/local/lib/python3.7/dist-packages (from jinja2->notebook->jupyter->d2l) (2.0.1)\n",
            "Requirement already satisfied: kiwisolver>=1.0.1 in /usr/local/lib/python3.7/dist-packages (from matplotlib->d2l) (1.3.2)\n",
            "Requirement already satisfied: pyparsing!=2.0.4,!=2.1.2,!=2.1.6,>=2.0.1 in /usr/local/lib/python3.7/dist-packages (from matplotlib->d2l) (2.4.7)\n",
            "Requirement already satisfied: cycler>=0.10 in /usr/local/lib/python3.7/dist-packages (from matplotlib->d2l) (0.10.0)\n",
            "Requirement already satisfied: bleach in /usr/local/lib/python3.7/dist-packages (from nbconvert->jupyter->d2l) (4.1.0)\n",
            "Requirement already satisfied: testpath in /usr/local/lib/python3.7/dist-packages (from nbconvert->jupyter->d2l) (0.5.0)\n",
            "Requirement already satisfied: defusedxml in /usr/local/lib/python3.7/dist-packages (from nbconvert->jupyter->d2l) (0.7.1)\n",
            "Requirement already satisfied: entrypoints>=0.2.2 in /usr/local/lib/python3.7/dist-packages (from nbconvert->jupyter->d2l) (0.3)\n",
            "Requirement already satisfied: pandocfilters>=1.4.1 in /usr/local/lib/python3.7/dist-packages (from nbconvert->jupyter->d2l) (1.5.0)\n",
            "Requirement already satisfied: mistune<2,>=0.8.1 in /usr/local/lib/python3.7/dist-packages (from nbconvert->jupyter->d2l) (0.8.4)\n",
            "Requirement already satisfied: packaging in /usr/local/lib/python3.7/dist-packages (from bleach->nbconvert->jupyter->d2l) (21.0)\n",
            "Requirement already satisfied: webencodings in /usr/local/lib/python3.7/dist-packages (from bleach->nbconvert->jupyter->d2l) (0.5.1)\n",
            "Requirement already satisfied: pytz>=2017.2 in /usr/local/lib/python3.7/dist-packages (from pandas->d2l) (2018.9)\n",
            "Requirement already satisfied: qtpy in /usr/local/lib/python3.7/dist-packages (from qtconsole->jupyter->d2l) (1.11.2)\n",
            "Requirement already satisfied: urllib3!=1.25.0,!=1.25.1,<1.26,>=1.21.1 in /usr/local/lib/python3.7/dist-packages (from requests->d2l) (1.24.3)\n",
            "Requirement already satisfied: chardet<4,>=3.0.2 in /usr/local/lib/python3.7/dist-packages (from requests->d2l) (3.0.4)\n",
            "Requirement already satisfied: certifi>=2017.4.17 in /usr/local/lib/python3.7/dist-packages (from requests->d2l) (2021.5.30)\n",
            "Requirement already satisfied: idna<3,>=2.5 in /usr/local/lib/python3.7/dist-packages (from requests->d2l) (2.10)\n"
          ]
        }
      ]
    },
    {
      "cell_type": "code",
      "metadata": {
        "colab": {
          "base_uri": "https://localhost:8080/"
        },
        "id": "Bgy1yIeOokkO",
        "outputId": "dfc831d9-ab74-496a-9f41-ca5e07f27f1e"
      },
      "source": [
        "#################################\n",
        "# Diven into Deep Learning\n",
        "#################################\n",
        "\n",
        "\n",
        "######\n",
        "# Ch 2\n",
        "######\n",
        "\n",
        "# 2.1\n",
        "\n",
        "x = tf.range(12)\n",
        "x\n",
        "\n",
        "print(x.shape)\n",
        "print(tf.size(x))\n",
        "\n",
        "# -1 --> Automatically calculates dimnension\n",
        "x = tf.reshape(x, (3,-1))\n",
        "print(x)\n",
        "\n",
        "print(tf.zeros((2,3,4)))\n",
        "print(tf.ones((2,3,4)))\n",
        "\n",
        "\n",
        "# Each element is randomly sampled from standard Gaussian (mean 0; stddev 1)\n",
        "print(tf.random.normal(shape=[3,4]))\n",
        "\n",
        "\n",
        "# Elementwise operations\n",
        "x = tf.constant([1.0, 2, 4, 8])\n",
        "y = tf.constant([2.0, 2, 2, 2])\n",
        "\n",
        "print(x+y)\n",
        "print(x-y)\n",
        "print(x*y)\n",
        "print(x/y)\n",
        "print(x**y)"
      ],
      "execution_count": null,
      "outputs": [
        {
          "output_type": "stream",
          "name": "stdout",
          "text": [
            "(12,)\n",
            "tf.Tensor(12, shape=(), dtype=int32)\n",
            "tf.Tensor(\n",
            "[[ 0  1  2  3]\n",
            " [ 4  5  6  7]\n",
            " [ 8  9 10 11]], shape=(3, 4), dtype=int32)\n",
            "tf.Tensor(\n",
            "[[[0. 0. 0. 0.]\n",
            "  [0. 0. 0. 0.]\n",
            "  [0. 0. 0. 0.]]\n",
            "\n",
            " [[0. 0. 0. 0.]\n",
            "  [0. 0. 0. 0.]\n",
            "  [0. 0. 0. 0.]]], shape=(2, 3, 4), dtype=float32)\n",
            "tf.Tensor(\n",
            "[[[1. 1. 1. 1.]\n",
            "  [1. 1. 1. 1.]\n",
            "  [1. 1. 1. 1.]]\n",
            "\n",
            " [[1. 1. 1. 1.]\n",
            "  [1. 1. 1. 1.]\n",
            "  [1. 1. 1. 1.]]], shape=(2, 3, 4), dtype=float32)\n",
            "tf.Tensor(\n",
            "[[-0.23254426 -0.5098168  -0.5362121   1.0317144 ]\n",
            " [ 0.84674484  0.8564519  -1.0790622  -3.085262  ]\n",
            " [-0.49880284  0.47253412  0.5381207  -0.16567378]], shape=(3, 4), dtype=float32)\n",
            "tf.Tensor([ 3.  4.  6. 10.], shape=(4,), dtype=float32)\n",
            "tf.Tensor([-1.  0.  2.  6.], shape=(4,), dtype=float32)\n",
            "tf.Tensor([ 2.  4.  8. 16.], shape=(4,), dtype=float32)\n",
            "tf.Tensor([0.5 1.  2.  4. ], shape=(4,), dtype=float32)\n",
            "tf.Tensor([ 1.  4. 16. 64.], shape=(4,), dtype=float32)\n"
          ]
        }
      ]
    },
    {
      "cell_type": "code",
      "metadata": {
        "colab": {
          "base_uri": "https://localhost:8080/"
        },
        "id": "Q4-xPjp-M8Wh",
        "outputId": "4f38b6a8-ab95-4abd-8efe-77e75b3d6a71"
      },
      "source": [
        "# Concat tensors\n",
        "\n",
        "X = tf.reshape(tf.range(12, dtype=tf.float32), (3,4))\n",
        "Y = tf.constant([[2,1,4,3], [1,2,3,4], [4,3,2,1]], dtype=tf.float32)\n",
        "\n",
        "C1 = tf.concat([X,Y], axis=0)\n",
        "print(X)\n",
        "print(Y)\n",
        "print(C1)\n",
        "\n",
        "# Logical elementwise operation\n",
        "print(X == Y)\n",
        "\n",
        "# Sum all elements up\n",
        "print(tf.reduce_sum(X))"
      ],
      "execution_count": null,
      "outputs": [
        {
          "output_type": "stream",
          "name": "stdout",
          "text": [
            "tf.Tensor(\n",
            "[[ 0.  1.  2.  3.]\n",
            " [ 4.  5.  6.  7.]\n",
            " [ 8.  9. 10. 11.]], shape=(3, 4), dtype=float32)\n",
            "tf.Tensor(\n",
            "[[2. 1. 4. 3.]\n",
            " [1. 2. 3. 4.]\n",
            " [4. 3. 2. 1.]], shape=(3, 4), dtype=float32)\n",
            "tf.Tensor(\n",
            "[[ 0.  1.  2.  3.]\n",
            " [ 4.  5.  6.  7.]\n",
            " [ 8.  9. 10. 11.]\n",
            " [ 2.  1.  4.  3.]\n",
            " [ 1.  2.  3.  4.]\n",
            " [ 4.  3.  2.  1.]], shape=(6, 4), dtype=float32)\n",
            "tf.Tensor(\n",
            "[[False  True False  True]\n",
            " [False False False False]\n",
            " [False False False False]], shape=(3, 4), dtype=bool)\n",
            "tf.Tensor(66.0, shape=(), dtype=float32)\n"
          ]
        }
      ]
    },
    {
      "cell_type": "code",
      "metadata": {
        "colab": {
          "base_uri": "https://localhost:8080/"
        },
        "id": "MBqPB_9HObQd",
        "outputId": "8bb1eb83-4296-48f8-9010-1daeb68cf08c"
      },
      "source": [
        "# Apply elementwise operation on tensors of different size\n",
        "a = tf.reshape(tf.range(3), (3,1))\n",
        "b = tf.reshape(tf.range(2), (1,2))\n",
        "\n",
        "print(a)\n",
        "print(b)\n",
        "print(a+b)"
      ],
      "execution_count": null,
      "outputs": [
        {
          "output_type": "stream",
          "name": "stdout",
          "text": [
            "tf.Tensor(\n",
            "[[0]\n",
            " [1]\n",
            " [2]], shape=(3, 1), dtype=int32)\n",
            "tf.Tensor([[0 1]], shape=(1, 2), dtype=int32)\n",
            "tf.Tensor(\n",
            "[[0 1]\n",
            " [1 2]\n",
            " [2 3]], shape=(3, 2), dtype=int32)\n"
          ]
        }
      ]
    },
    {
      "cell_type": "code",
      "metadata": {
        "colab": {
          "base_uri": "https://localhost:8080/"
        },
        "id": "4mUKb5PZQM4T",
        "outputId": "3f27d83e-743c-4f18-83ed-2f014353ae9b"
      },
      "source": [
        "# Indexing\n",
        "\n",
        "# Tensors are immutable -> Create separate variable\n",
        "X = tf.random.normal(shape=(4,4))\n",
        "X_var = tf.Variable(X)\n",
        "X_var[::2, :].assign(tf.zeros(X_var[::2,:].shape, dtype=tf.float32))\n",
        "print(X_var)"
      ],
      "execution_count": null,
      "outputs": [
        {
          "output_type": "stream",
          "name": "stdout",
          "text": [
            "<tf.Variable 'Variable:0' shape=(4, 4) dtype=float32, numpy=\n",
            "array([[ 0.        ,  0.        ,  0.        ,  0.        ],\n",
            "       [-0.26876625, -0.4587332 , -0.4774071 ,  0.48749694],\n",
            "       [ 0.        ,  0.        ,  0.        ,  0.        ],\n",
            "       [-0.40161186,  0.60465676,  0.04616211, -0.97432953]],\n",
            "      dtype=float32)>\n"
          ]
        }
      ]
    },
    {
      "cell_type": "code",
      "metadata": {
        "colab": {
          "base_uri": "https://localhost:8080/"
        },
        "id": "Blhu7h8BRq92",
        "outputId": "50d72b29-b8b9-49fa-c43b-8bc894458e5c"
      },
      "source": [
        "X = tf.reshape(tf.range(12, dtype=tf.float32), (3,4))\n",
        "Y = tf.constant([[2,1,4,3], [1,2,3,4], [4,3,2,1]], dtype=tf.float32)\n",
        "\n",
        "before = id(Y)\n",
        "Y = Y + X\n",
        "id(Y) == before\n",
        "\n",
        "Z = tf.Variable(tf.zeros_like(Y))\n",
        "print('id(Z):', id(Z))\n",
        "print('id(Z):', id(Z))\n",
        "\n",
        "# tf.function decorator to wrap computation inside of TensorFlow graph\n",
        "@tf.function\n",
        "def computation(X,Y):\n",
        "  Z = tf.zeros_like(Y)\n",
        "  A = X + Y     # Allocations will be reused\n",
        "  B = A + Y\n",
        "  C = B + Y\n",
        "  return C + Y\n",
        "\n",
        "computation(X,Y)"
      ],
      "execution_count": null,
      "outputs": [
        {
          "output_type": "stream",
          "name": "stdout",
          "text": [
            "id(Z): 139788254854224\n",
            "id(Z): 139788254854224\n"
          ]
        },
        {
          "output_type": "execute_result",
          "data": {
            "text/plain": [
              "<tf.Tensor: shape=(3, 4), dtype=float32, numpy=\n",
              "array([[ 8.,  9., 26., 27.],\n",
              "       [24., 33., 42., 51.],\n",
              "       [56., 57., 58., 59.]], dtype=float32)>"
            ]
          },
          "metadata": {},
          "execution_count": 16
        }
      ]
    },
    {
      "cell_type": "code",
      "metadata": {
        "colab": {
          "base_uri": "https://localhost:8080/"
        },
        "id": "Qg80wAj7UHUe",
        "outputId": "7422d659-9eb2-4421-9a36-ea62258ac0a5"
      },
      "source": [
        "A = X.numpy()\n",
        "B = tf.constant(A)\n",
        "print(type(A))\n",
        "print(type(B))"
      ],
      "execution_count": null,
      "outputs": [
        {
          "output_type": "stream",
          "name": "stdout",
          "text": [
            "<class 'numpy.ndarray'>\n",
            "<class 'tensorflow.python.framework.ops.EagerTensor'>\n"
          ]
        }
      ]
    },
    {
      "cell_type": "code",
      "metadata": {
        "id": "8aR9ie9VU9i6"
      },
      "source": [
        "# 2.2 - Data Preprocessing\n",
        "\n",
        "import os\n",
        "\n",
        "os.makedirs(os.path.join('..', 'data'), exist_ok=True)\n",
        "data_file = os.path.join('..', 'data', 'house_tiny.csv')\n",
        "\n",
        "with open(data_file, 'w') as f:\n",
        "  f.write('NumRooms, Alley, Price\\n')\n",
        "  f.write('NA, Pave, 127500\\n')\n",
        "  f.write('2, NA, 106000\\n')\n",
        "  f.write('4, NA, 178100\\n')\n",
        "  f.write('NA, NA, 140000\\n')"
      ],
      "execution_count": null,
      "outputs": []
    },
    {
      "cell_type": "code",
      "metadata": {
        "colab": {
          "base_uri": "https://localhost:8080/"
        },
        "id": "bdmV3t7mWkLI",
        "outputId": "26324e79-b42d-4cff-ed55-99955eb75453"
      },
      "source": [
        "import pandas as pd\n",
        "\n",
        "data = pd.read_csv(data_file)\n",
        "print(data)"
      ],
      "execution_count": null,
      "outputs": [
        {
          "output_type": "stream",
          "name": "stdout",
          "text": [
            "   NumRooms  Alley   Price\n",
            "0       NaN   Pave  127500\n",
            "1       2.0     NA  106000\n",
            "2       4.0     NA  178100\n",
            "3       NaN     NA  140000\n"
          ]
        }
      ]
    },
    {
      "cell_type": "code",
      "metadata": {
        "colab": {
          "base_uri": "https://localhost:8080/"
        },
        "id": "L9yPWVWNW7Gf",
        "outputId": "ed3e8f51-a1bc-40d3-c206-150342819e7a"
      },
      "source": [
        "import numpy as np\n",
        "\n",
        "inputs, outputs = data.iloc[:, 0:2], data.iloc[:,2]\n",
        "\n",
        "notNAValMatrix = np.array(inputs.notna())\n",
        "\n",
        "\n",
        "max = np.max(np.sum(notNAValMatrix + 0, axis=1))\n",
        "\n",
        "filtered = inputs.dropna(thresh=max)\n",
        "\n",
        "print(filtered)\n",
        "\n",
        "# Fill missing inputs by average of available data points\n",
        "inputs = inputs.fillna(inputs.mean())\n",
        "print(inputs)\n",
        "\n",
        "inputs = pd.get_dummies(inputs, dummy_na=True)\n",
        "print(inputs)\n",
        "\n",
        "# All values are numeric --> can be converted to tensors\n",
        "\n",
        "X, y = tf.constant(inputs.values), tf.constant(outputs)\n",
        "X,y"
      ],
      "execution_count": null,
      "outputs": [
        {
          "output_type": "stream",
          "name": "stdout",
          "text": [
            "   NumRooms  Alley\n",
            "1       2.0     NA\n",
            "2       4.0     NA\n",
            "   NumRooms  Alley\n",
            "0       3.0   Pave\n",
            "1       2.0     NA\n",
            "2       4.0     NA\n",
            "3       3.0     NA\n",
            "   NumRooms   Alley_ NA   Alley_ Pave   Alley_nan\n",
            "0       3.0           0             1           0\n",
            "1       2.0           1             0           0\n",
            "2       4.0           1             0           0\n",
            "3       3.0           1             0           0\n"
          ]
        },
        {
          "output_type": "execute_result",
          "data": {
            "text/plain": [
              "(<tf.Tensor: shape=(4, 4), dtype=float64, numpy=\n",
              " array([[3., 0., 1., 0.],\n",
              "        [2., 1., 0., 0.],\n",
              "        [4., 1., 0., 0.],\n",
              "        [3., 1., 0., 0.]])>,\n",
              " <tf.Tensor: shape=(4,), dtype=int64, numpy=array([127500, 106000, 178100, 140000])>)"
            ]
          },
          "metadata": {},
          "execution_count": 20
        }
      ]
    },
    {
      "cell_type": "code",
      "metadata": {
        "colab": {
          "base_uri": "https://localhost:8080/"
        },
        "id": "AU9geLzlaSZj",
        "outputId": "b158e640-a180-48a7-982b-3099e9653b5c"
      },
      "source": [
        "# 2.3 Linear Algebra\n",
        "import tensorflow as tf\n",
        "\n",
        "## Scalars\n",
        "x = tf.constant(3.0)\n",
        "print(x)\n",
        "\n",
        "## Matrices\n",
        "\n",
        "A = tf.reshape(tf.range(20), (5,4))\n",
        "print(A)\n",
        "\n",
        "print(tf.transpose(A))\n",
        "\n",
        "### Symmetric matrix\n",
        "B = tf.constant([[1,2,3],[2,0,4], [3,4,5]])\n",
        "print(B == tf.transpose(B))\n",
        "\n",
        "\n",
        "## Tensors\n",
        "X = tf.reshape(tf.range(24), (2,3,4))\n",
        "print(X)"
      ],
      "execution_count": null,
      "outputs": [
        {
          "output_type": "stream",
          "name": "stdout",
          "text": [
            "tf.Tensor(3.0, shape=(), dtype=float32)\n",
            "tf.Tensor(\n",
            "[[ 0  1  2  3]\n",
            " [ 4  5  6  7]\n",
            " [ 8  9 10 11]\n",
            " [12 13 14 15]\n",
            " [16 17 18 19]], shape=(5, 4), dtype=int32)\n",
            "tf.Tensor(\n",
            "[[ 0  4  8 12 16]\n",
            " [ 1  5  9 13 17]\n",
            " [ 2  6 10 14 18]\n",
            " [ 3  7 11 15 19]], shape=(4, 5), dtype=int32)\n",
            "tf.Tensor(\n",
            "[[ True  True  True]\n",
            " [ True  True  True]\n",
            " [ True  True  True]], shape=(3, 3), dtype=bool)\n",
            "tf.Tensor(\n",
            "[[[ 0  1  2  3]\n",
            "  [ 4  5  6  7]\n",
            "  [ 8  9 10 11]]\n",
            "\n",
            " [[12 13 14 15]\n",
            "  [16 17 18 19]\n",
            "  [20 21 22 23]]], shape=(2, 3, 4), dtype=int32)\n"
          ]
        }
      ]
    },
    {
      "cell_type": "code",
      "metadata": {
        "colab": {
          "base_uri": "https://localhost:8080/"
        },
        "id": "83EbkdDhiuNz",
        "outputId": "0360bea6-88d2-4913-f2be-d7039ee38830"
      },
      "source": [
        "print(tf.transpose(X))\n",
        "\n",
        "\n",
        "### Hadamard product\n",
        "A = tf.reshape(tf.range(20, dtype=tf.float32), (5,4))\n",
        "B = A\n",
        "\n",
        "A * B\n",
        "\n",
        "### Multiply by scalar\n",
        "a = 2\n",
        "print(X.shape)\n",
        "print((a*X).shape)\n",
        "\n",
        "### Reductions\n",
        "\n",
        "#### Sum\n",
        "A = tf.reshape(tf.range(20), (5,4))\n",
        "print(A,tf.reduce_sum(A, axis=0))\n",
        "\n",
        "# Keep axes after reduction\n",
        "A = tf.reshape(tf.range(20), (5,4))\n",
        "sum_A = tf.reduce_sum(A, axis=1, keepdims=True)\n",
        "print(A / sum_A)\n",
        "print(tf.reduce_sum(A / sum_A))\n",
        "\n",
        "#### Mean\n",
        "N = tf.random.normal(shape=(700,700))\n",
        "print(tf.reduce_mean(N))\n",
        "\n",
        "#### Cumulative sum\n",
        "print(tf.cumsum(A, axis=0))"
      ],
      "execution_count": null,
      "outputs": [
        {
          "output_type": "stream",
          "name": "stdout",
          "text": [
            "tf.Tensor(\n",
            "[[[ 0 12]\n",
            "  [ 4 16]\n",
            "  [ 8 20]]\n",
            "\n",
            " [[ 1 13]\n",
            "  [ 5 17]\n",
            "  [ 9 21]]\n",
            "\n",
            " [[ 2 14]\n",
            "  [ 6 18]\n",
            "  [10 22]]\n",
            "\n",
            " [[ 3 15]\n",
            "  [ 7 19]\n",
            "  [11 23]]], shape=(4, 3, 2), dtype=int32)\n",
            "(2, 3, 4)\n",
            "(2, 3, 4)\n",
            "tf.Tensor(\n",
            "[[ 0  1  2  3]\n",
            " [ 4  5  6  7]\n",
            " [ 8  9 10 11]\n",
            " [12 13 14 15]\n",
            " [16 17 18 19]], shape=(5, 4), dtype=int32) tf.Tensor([40 45 50 55], shape=(4,), dtype=int32)\n",
            "tf.Tensor(\n",
            "[[0.         0.16666667 0.33333333 0.5       ]\n",
            " [0.18181818 0.22727273 0.27272727 0.31818182]\n",
            " [0.21052632 0.23684211 0.26315789 0.28947368]\n",
            " [0.22222222 0.24074074 0.25925926 0.27777778]\n",
            " [0.22857143 0.24285714 0.25714286 0.27142857]], shape=(5, 4), dtype=float64)\n",
            "tf.Tensor(5.0, shape=(), dtype=float64)\n",
            "tf.Tensor(-0.00048732737, shape=(), dtype=float32)\n",
            "tf.Tensor(\n",
            "[[ 0  1  2  3]\n",
            " [ 4  6  8 10]\n",
            " [12 15 18 21]\n",
            " [24 28 32 36]\n",
            " [40 45 50 55]], shape=(5, 4), dtype=int32)\n"
          ]
        }
      ]
    },
    {
      "cell_type": "code",
      "metadata": {
        "colab": {
          "base_uri": "https://localhost:8080/",
          "height": 408
        },
        "id": "mzKxkjCwlefg",
        "outputId": "b8ba617a-b111-4442-88b5-652c70614c10"
      },
      "source": [
        "### Dot product\n",
        "y = tf.ones(4, dtype=tf.float32)\n",
        "print(tf.tensordot(x,y,axes=1))\n",
        "\n",
        "A = tf.reshape(tf.range(20), (5,4))\n",
        "B = tf.reshape(tf.range(20), (4,5))\n",
        "\n",
        "print(A)\n",
        "print(B)\n",
        "print(tf.tensordot(A,B, axes=0))"
      ],
      "execution_count": null,
      "outputs": [
        {
          "output_type": "error",
          "ename": "ValueError",
          "evalue": "ignored",
          "traceback": [
            "\u001b[0;31m---------------------------------------------------------------------------\u001b[0m",
            "\u001b[0;31mValueError\u001b[0m                                Traceback (most recent call last)",
            "\u001b[0;32m<ipython-input-23-c0c3e2df8314>\u001b[0m in \u001b[0;36m<module>\u001b[0;34m()\u001b[0m\n\u001b[1;32m      1\u001b[0m \u001b[0;31m### Dot product\u001b[0m\u001b[0;34m\u001b[0m\u001b[0;34m\u001b[0m\u001b[0;34m\u001b[0m\u001b[0m\n\u001b[1;32m      2\u001b[0m \u001b[0my\u001b[0m \u001b[0;34m=\u001b[0m \u001b[0mtf\u001b[0m\u001b[0;34m.\u001b[0m\u001b[0mones\u001b[0m\u001b[0;34m(\u001b[0m\u001b[0;36m4\u001b[0m\u001b[0;34m,\u001b[0m \u001b[0mdtype\u001b[0m\u001b[0;34m=\u001b[0m\u001b[0mtf\u001b[0m\u001b[0;34m.\u001b[0m\u001b[0mfloat32\u001b[0m\u001b[0;34m)\u001b[0m\u001b[0;34m\u001b[0m\u001b[0;34m\u001b[0m\u001b[0m\n\u001b[0;32m----> 3\u001b[0;31m \u001b[0mprint\u001b[0m\u001b[0;34m(\u001b[0m\u001b[0mtf\u001b[0m\u001b[0;34m.\u001b[0m\u001b[0mtensordot\u001b[0m\u001b[0;34m(\u001b[0m\u001b[0mx\u001b[0m\u001b[0;34m,\u001b[0m\u001b[0my\u001b[0m\u001b[0;34m,\u001b[0m\u001b[0maxes\u001b[0m\u001b[0;34m=\u001b[0m\u001b[0;36m1\u001b[0m\u001b[0;34m)\u001b[0m\u001b[0;34m)\u001b[0m\u001b[0;34m\u001b[0m\u001b[0;34m\u001b[0m\u001b[0m\n\u001b[0m\u001b[1;32m      4\u001b[0m \u001b[0;34m\u001b[0m\u001b[0m\n\u001b[1;32m      5\u001b[0m \u001b[0mA\u001b[0m \u001b[0;34m=\u001b[0m \u001b[0mtf\u001b[0m\u001b[0;34m.\u001b[0m\u001b[0mreshape\u001b[0m\u001b[0;34m(\u001b[0m\u001b[0mtf\u001b[0m\u001b[0;34m.\u001b[0m\u001b[0mrange\u001b[0m\u001b[0;34m(\u001b[0m\u001b[0;36m20\u001b[0m\u001b[0;34m)\u001b[0m\u001b[0;34m,\u001b[0m \u001b[0;34m(\u001b[0m\u001b[0;36m5\u001b[0m\u001b[0;34m,\u001b[0m\u001b[0;36m4\u001b[0m\u001b[0;34m)\u001b[0m\u001b[0;34m)\u001b[0m\u001b[0;34m\u001b[0m\u001b[0;34m\u001b[0m\u001b[0m\n",
            "\u001b[0;32m/usr/local/lib/python3.7/dist-packages/tensorflow/python/util/dispatch.py\u001b[0m in \u001b[0;36mwrapper\u001b[0;34m(*args, **kwargs)\u001b[0m\n\u001b[1;32m    204\u001b[0m     \u001b[0;34m\"\"\"Call target, and fall back on dispatchers if there is a TypeError.\"\"\"\u001b[0m\u001b[0;34m\u001b[0m\u001b[0;34m\u001b[0m\u001b[0m\n\u001b[1;32m    205\u001b[0m     \u001b[0;32mtry\u001b[0m\u001b[0;34m:\u001b[0m\u001b[0;34m\u001b[0m\u001b[0;34m\u001b[0m\u001b[0m\n\u001b[0;32m--> 206\u001b[0;31m       \u001b[0;32mreturn\u001b[0m \u001b[0mtarget\u001b[0m\u001b[0;34m(\u001b[0m\u001b[0;34m*\u001b[0m\u001b[0margs\u001b[0m\u001b[0;34m,\u001b[0m \u001b[0;34m**\u001b[0m\u001b[0mkwargs\u001b[0m\u001b[0;34m)\u001b[0m\u001b[0;34m\u001b[0m\u001b[0;34m\u001b[0m\u001b[0m\n\u001b[0m\u001b[1;32m    207\u001b[0m     \u001b[0;32mexcept\u001b[0m \u001b[0;34m(\u001b[0m\u001b[0mTypeError\u001b[0m\u001b[0;34m,\u001b[0m \u001b[0mValueError\u001b[0m\u001b[0;34m)\u001b[0m\u001b[0;34m:\u001b[0m\u001b[0;34m\u001b[0m\u001b[0;34m\u001b[0m\u001b[0m\n\u001b[1;32m    208\u001b[0m       \u001b[0;31m# Note: convert_to_eager_tensor currently raises a ValueError, not a\u001b[0m\u001b[0;34m\u001b[0m\u001b[0;34m\u001b[0m\u001b[0;34m\u001b[0m\u001b[0m\n",
            "\u001b[0;32m/usr/local/lib/python3.7/dist-packages/tensorflow/python/ops/math_ops.py\u001b[0m in \u001b[0;36mtensordot\u001b[0;34m(a, b, axes, name)\u001b[0m\n\u001b[1;32m   5036\u001b[0m     \u001b[0ma\u001b[0m \u001b[0;34m=\u001b[0m \u001b[0mops\u001b[0m\u001b[0;34m.\u001b[0m\u001b[0mconvert_to_tensor\u001b[0m\u001b[0;34m(\u001b[0m\u001b[0ma\u001b[0m\u001b[0;34m,\u001b[0m \u001b[0mname\u001b[0m\u001b[0;34m=\u001b[0m\u001b[0;34m\"a\"\u001b[0m\u001b[0;34m)\u001b[0m\u001b[0;34m\u001b[0m\u001b[0;34m\u001b[0m\u001b[0m\n\u001b[1;32m   5037\u001b[0m     \u001b[0mb\u001b[0m \u001b[0;34m=\u001b[0m \u001b[0mops\u001b[0m\u001b[0;34m.\u001b[0m\u001b[0mconvert_to_tensor\u001b[0m\u001b[0;34m(\u001b[0m\u001b[0mb\u001b[0m\u001b[0;34m,\u001b[0m \u001b[0mname\u001b[0m\u001b[0;34m=\u001b[0m\u001b[0;34m\"b\"\u001b[0m\u001b[0;34m)\u001b[0m\u001b[0;34m\u001b[0m\u001b[0;34m\u001b[0m\u001b[0m\n\u001b[0;32m-> 5038\u001b[0;31m     \u001b[0ma_axes\u001b[0m\u001b[0;34m,\u001b[0m \u001b[0mb_axes\u001b[0m \u001b[0;34m=\u001b[0m \u001b[0m_tensordot_axes\u001b[0m\u001b[0;34m(\u001b[0m\u001b[0ma\u001b[0m\u001b[0;34m,\u001b[0m \u001b[0maxes\u001b[0m\u001b[0;34m)\u001b[0m\u001b[0;34m\u001b[0m\u001b[0;34m\u001b[0m\u001b[0m\n\u001b[0m\u001b[1;32m   5039\u001b[0m     \u001b[0ma_reshape\u001b[0m\u001b[0;34m,\u001b[0m \u001b[0ma_free_dims\u001b[0m\u001b[0;34m,\u001b[0m \u001b[0ma_free_dims_static\u001b[0m \u001b[0;34m=\u001b[0m \u001b[0m_tensordot_reshape\u001b[0m\u001b[0;34m(\u001b[0m\u001b[0ma\u001b[0m\u001b[0;34m,\u001b[0m \u001b[0ma_axes\u001b[0m\u001b[0;34m)\u001b[0m\u001b[0;34m\u001b[0m\u001b[0;34m\u001b[0m\u001b[0m\n\u001b[1;32m   5040\u001b[0m     b_reshape, b_free_dims, b_free_dims_static = _tensordot_reshape(\n",
            "\u001b[0;32m/usr/local/lib/python3.7/dist-packages/tensorflow/python/ops/math_ops.py\u001b[0m in \u001b[0;36m_tensordot_axes\u001b[0;34m(a, axes)\u001b[0m\n\u001b[1;32m   5008\u001b[0m         \u001b[0;32mif\u001b[0m \u001b[0maxes\u001b[0m \u001b[0;34m>\u001b[0m \u001b[0ma_shape\u001b[0m\u001b[0;34m.\u001b[0m\u001b[0mndims\u001b[0m\u001b[0;34m:\u001b[0m\u001b[0;34m\u001b[0m\u001b[0;34m\u001b[0m\u001b[0m\n\u001b[1;32m   5009\u001b[0m           raise ValueError(\"'axes' must not be larger than the number of \"\n\u001b[0;32m-> 5010\u001b[0;31m                            \"dimensions of tensor %s.\" % a)\n\u001b[0m\u001b[1;32m   5011\u001b[0m         return (list(xrange(a_shape.ndims - axes,\n\u001b[1;32m   5012\u001b[0m                             a_shape.ndims)), list(xrange(axes)))\n",
            "\u001b[0;31mValueError\u001b[0m: 'axes' must not be larger than the number of dimensions of tensor tf.Tensor(3.0, shape=(), dtype=float32)."
          ]
        }
      ]
    },
    {
      "cell_type": "code",
      "metadata": {
        "id": "68MaSHAinEgu"
      },
      "source": [
        "### Norms\n",
        "\n",
        "#### L2 norm by standard\n",
        "u = tf.constant([3.0, -4.0])\n",
        "print(tf.norm(u))\n",
        "\n",
        "#### L1 norm\n",
        "print(tf.reduce_sum(tf.abs(u)))\n",
        "\n",
        "#### Frobenius norm (matrix)\n"
      ],
      "execution_count": null,
      "outputs": []
    },
    {
      "cell_type": "code",
      "metadata": {
        "id": "GG_EOl1CofrW"
      },
      "source": [
        "## 2.4 Calculus\n",
        "!pip install d2l\n",
        "%matplotlib inline\n",
        "\n",
        "import numpy as np\n",
        "from IPython import display\n",
        "from d2l import tensorflow as d2l\n",
        "\n",
        "def f(x):\n",
        "  return 3 * x ** 2 - 4 * x\n",
        "\n",
        "def numerical_lim(f,x,h):\n",
        "  return (f(x+h) - f(x)) / h\n",
        "\n",
        "h = 0.1\n",
        "for i in range(5):\n",
        "  print(numerical_lim(f,1,h))\n",
        "  h *= 0.1"
      ],
      "execution_count": null,
      "outputs": []
    },
    {
      "cell_type": "code",
      "metadata": {
        "id": "f02N_B8OTmqk"
      },
      "source": [
        "from IPython import display\n",
        "import numpy as np\n",
        "from d2l import tensorflow as d2l\n",
        "\n",
        "# Specifices to use svg figures\n",
        "def use_svg_display():\n",
        "  display.set_matplotlib_formats('svg')\n",
        "\n",
        "def set_figsize(figsize=(3.5, 2.5)):\n",
        "  use_svg_display()\n",
        "  d2l.plt.rcParams['figure.figsize'] = figsize\n",
        "\n",
        "def set_axes(axes, xlabel, ylabel, xlim, ylim, xscale, yscale, legend):\n",
        "    \"\"\"Set the axes for matplotlib.\"\"\"\n",
        "    axes.set_xlabel(xlabel)\n",
        "    axes.set_ylabel(ylabel)\n",
        "    axes.set_xscale(xscale)\n",
        "    axes.set_yscale(yscale)\n",
        "    axes.set_xlim(xlim)\n",
        "    axes.set_ylim(ylim)\n",
        "    if legend:\n",
        "        axes.legend(legend)\n",
        "    axes.grid()\n",
        "\n",
        "# For plotting mutliple curves\n",
        "def plot(X, Y=None, xlabel=None, ylabel=None, legend=None, xlim=None, ylim=None, xscale='linear',\n",
        "        yscale='linear', fmts=('-', 'm--', 'g-.', 'r:'), figsize=(3.5, 2.5), axes=None):\n",
        "  if legend is None:\n",
        "    legend = []\n",
        "\n",
        "  set_figsize(figsize)\n",
        "  axes = axes if axes else d2l.plt.gca()\n",
        "\n",
        "  def has_one_axis(X):\n",
        "      return (hasattr(X, 'ndim') and X.ndim == 1 or isinstance(X, list) and not hasattr(X[0], '__len__'))\n",
        "\n",
        "  if has_one_axis(X):\n",
        "    X = [X]\n",
        "  if Y is None:\n",
        "      X, Y = [[]] * len(X), X\n",
        "  elif has_one_axis(Y):\n",
        "    Y = [Y]\n",
        "  if len(X) != len(Y):\n",
        "    X = X * len(Y)\n",
        "  axes.cla()\n",
        "\n",
        "  for x,y, fmt in zip(X,Y,fmts):\n",
        "    if len(x):\n",
        "      axes.plot(x,y,fmt)\n",
        "    else:\n",
        "      axes.plot(y,fmt)\n",
        "  set_axes(axes, xlabel, ylabel, xlim, ylim, xscale, yscale, legend)\n",
        "\n",
        "\n",
        "\n",
        "x = np.arange(0,3,0.1)\n",
        "\n",
        "def f(x):\n",
        "  return 3 * x ** 2 - 4 * x \n",
        "\n",
        "plot(x, [f(x), 2*x-3], 'x', 'f(x)', legend=['f(x)', 'Tagent line'])"
      ],
      "execution_count": null,
      "outputs": []
    },
    {
      "cell_type": "code",
      "metadata": {
        "colab": {
          "base_uri": "https://localhost:8080/"
        },
        "id": "4GvnawKPWih4",
        "outputId": "c63d2c14-cc3e-4072-f561-d20505dca6ed"
      },
      "source": [
        "## 2.5 Automatic Differentiation\n",
        "\n",
        "import tensorflow as tf\n",
        "\n",
        "x = tf.range(4, dtype=tf.float32)\n",
        "print(x)\n",
        "\n",
        "x = tf.Variable(x)\n",
        "\n",
        "with tf.GradientTape() as t:\n",
        "  y = 2 * tf.tensordot(x,x, axes=1)\n",
        "\n",
        "x_grad = t.gradient(y,x)\n",
        "x_grad\n",
        "\n",
        "### Backward for Non-Scalar Variables\n",
        "\n",
        "with tf.GradientTape() as t:\n",
        "  y = x * x\n",
        "\n",
        "t.gradient(y,x)"
      ],
      "execution_count": null,
      "outputs": [
        {
          "output_type": "stream",
          "name": "stdout",
          "text": [
            "tf.Tensor([0. 1. 2. 3.], shape=(4,), dtype=float32)\n"
          ]
        },
        {
          "output_type": "execute_result",
          "data": {
            "text/plain": [
              "<tf.Tensor: shape=(4,), dtype=float32, numpy=array([0., 2., 4., 6.], dtype=float32)>"
            ]
          },
          "metadata": {},
          "execution_count": 24
        }
      ]
    },
    {
      "cell_type": "code",
      "metadata": {
        "colab": {
          "base_uri": "https://localhost:8080/"
        },
        "id": "vVhggeb-cDIx",
        "outputId": "34b4256f-6ce2-476a-b12f-617c0e7d6eff"
      },
      "source": [
        "with tf.GradientTape(persistent=True) as t:\n",
        "  y = x * x\n",
        "  u = tf.stop_gradient(y)\n",
        "  z = u * x\n",
        "\n",
        "x_grad = t.gradient(z,x)\n",
        "\n",
        "\n",
        "# Calculate Gradient of Control Flow\n",
        "def f(a):\n",
        "  b = a * 2\n",
        "  while tf.norm(b) < 1000:\n",
        "    b = b * 2\n",
        "  if tf.reduce_sum(b) > 0:\n",
        "    c = b\n",
        "  else:\n",
        "    c = 100 * b\n",
        "  return c\n",
        "\n",
        "a = tf.Variable(tf.random.normal(shape=()))\n",
        "with tf.GradientTape() as t:\n",
        "  d = f(a)\n",
        "\n",
        "d_grad = t.gradient(d,a)\n",
        "d_grad\n",
        "\n",
        "\n",
        "### Exercises\n",
        "\n",
        "# 5\n"
      ],
      "execution_count": null,
      "outputs": [
        {
          "output_type": "execute_result",
          "data": {
            "text/plain": [
              "<tf.Tensor: shape=(), dtype=float32, numpy=102400.0>"
            ]
          },
          "metadata": {},
          "execution_count": 25
        }
      ]
    },
    {
      "cell_type": "code",
      "metadata": {
        "colab": {
          "base_uri": "https://localhost:8080/"
        },
        "id": "jpLaXaABg1mp",
        "outputId": "58dde868-3d4f-4571-8f53-1696a540d5ab"
      },
      "source": [
        "## 2.6 Probability\n",
        "!pip install d2l\n",
        "%matplotlib inline\n",
        "import numpy as np\n",
        "import tensorflow as tf\n",
        "import tensorflow_probability as tfp\n",
        "from d2l import tensorflow as d2l"
      ],
      "execution_count": null,
      "outputs": [
        {
          "output_type": "stream",
          "name": "stdout",
          "text": [
            "Requirement already satisfied: d2l in /usr/local/lib/python3.7/dist-packages (0.17.0)\n",
            "Requirement already satisfied: numpy in /usr/local/lib/python3.7/dist-packages (from d2l) (1.19.5)\n",
            "Requirement already satisfied: pandas in /usr/local/lib/python3.7/dist-packages (from d2l) (1.1.5)\n",
            "Requirement already satisfied: jupyter in /usr/local/lib/python3.7/dist-packages (from d2l) (1.0.0)\n",
            "Requirement already satisfied: requests in /usr/local/lib/python3.7/dist-packages (from d2l) (2.23.0)\n",
            "Requirement already satisfied: matplotlib in /usr/local/lib/python3.7/dist-packages (from d2l) (3.2.2)\n",
            "Requirement already satisfied: qtconsole in /usr/local/lib/python3.7/dist-packages (from jupyter->d2l) (5.1.1)\n",
            "Requirement already satisfied: notebook in /usr/local/lib/python3.7/dist-packages (from jupyter->d2l) (5.3.1)\n",
            "Requirement already satisfied: ipywidgets in /usr/local/lib/python3.7/dist-packages (from jupyter->d2l) (7.6.5)\n",
            "Requirement already satisfied: ipykernel in /usr/local/lib/python3.7/dist-packages (from jupyter->d2l) (4.10.1)\n",
            "Requirement already satisfied: nbconvert in /usr/local/lib/python3.7/dist-packages (from jupyter->d2l) (5.6.1)\n",
            "Requirement already satisfied: jupyter-console in /usr/local/lib/python3.7/dist-packages (from jupyter->d2l) (5.2.0)\n",
            "Requirement already satisfied: tornado>=4.0 in /usr/local/lib/python3.7/dist-packages (from ipykernel->jupyter->d2l) (5.1.1)\n",
            "Requirement already satisfied: ipython>=4.0.0 in /usr/local/lib/python3.7/dist-packages (from ipykernel->jupyter->d2l) (5.5.0)\n",
            "Requirement already satisfied: traitlets>=4.1.0 in /usr/local/lib/python3.7/dist-packages (from ipykernel->jupyter->d2l) (5.1.0)\n",
            "Requirement already satisfied: jupyter-client in /usr/local/lib/python3.7/dist-packages (from ipykernel->jupyter->d2l) (5.3.5)\n",
            "Requirement already satisfied: decorator in /usr/local/lib/python3.7/dist-packages (from ipython>=4.0.0->ipykernel->jupyter->d2l) (4.4.2)\n",
            "Requirement already satisfied: setuptools>=18.5 in /usr/local/lib/python3.7/dist-packages (from ipython>=4.0.0->ipykernel->jupyter->d2l) (57.4.0)\n",
            "Requirement already satisfied: pygments in /usr/local/lib/python3.7/dist-packages (from ipython>=4.0.0->ipykernel->jupyter->d2l) (2.6.1)\n",
            "Requirement already satisfied: prompt-toolkit<2.0.0,>=1.0.4 in /usr/local/lib/python3.7/dist-packages (from ipython>=4.0.0->ipykernel->jupyter->d2l) (1.0.18)\n",
            "Requirement already satisfied: pickleshare in /usr/local/lib/python3.7/dist-packages (from ipython>=4.0.0->ipykernel->jupyter->d2l) (0.7.5)\n",
            "Requirement already satisfied: simplegeneric>0.8 in /usr/local/lib/python3.7/dist-packages (from ipython>=4.0.0->ipykernel->jupyter->d2l) (0.8.1)\n",
            "Requirement already satisfied: pexpect in /usr/local/lib/python3.7/dist-packages (from ipython>=4.0.0->ipykernel->jupyter->d2l) (4.8.0)\n",
            "Requirement already satisfied: wcwidth in /usr/local/lib/python3.7/dist-packages (from prompt-toolkit<2.0.0,>=1.0.4->ipython>=4.0.0->ipykernel->jupyter->d2l) (0.2.5)\n",
            "Requirement already satisfied: six>=1.9.0 in /usr/local/lib/python3.7/dist-packages (from prompt-toolkit<2.0.0,>=1.0.4->ipython>=4.0.0->ipykernel->jupyter->d2l) (1.15.0)\n",
            "Requirement already satisfied: ipython-genutils~=0.2.0 in /usr/local/lib/python3.7/dist-packages (from ipywidgets->jupyter->d2l) (0.2.0)\n",
            "Requirement already satisfied: nbformat>=4.2.0 in /usr/local/lib/python3.7/dist-packages (from ipywidgets->jupyter->d2l) (5.1.3)\n",
            "Requirement already satisfied: jupyterlab-widgets>=1.0.0 in /usr/local/lib/python3.7/dist-packages (from ipywidgets->jupyter->d2l) (1.0.2)\n",
            "Requirement already satisfied: widgetsnbextension~=3.5.0 in /usr/local/lib/python3.7/dist-packages (from ipywidgets->jupyter->d2l) (3.5.1)\n",
            "Requirement already satisfied: jupyter-core in /usr/local/lib/python3.7/dist-packages (from nbformat>=4.2.0->ipywidgets->jupyter->d2l) (4.8.1)\n",
            "Requirement already satisfied: jsonschema!=2.5.0,>=2.4 in /usr/local/lib/python3.7/dist-packages (from nbformat>=4.2.0->ipywidgets->jupyter->d2l) (2.6.0)\n",
            "Requirement already satisfied: jinja2 in /usr/local/lib/python3.7/dist-packages (from notebook->jupyter->d2l) (2.11.3)\n",
            "Requirement already satisfied: terminado>=0.8.1 in /usr/local/lib/python3.7/dist-packages (from notebook->jupyter->d2l) (0.12.1)\n",
            "Requirement already satisfied: Send2Trash in /usr/local/lib/python3.7/dist-packages (from notebook->jupyter->d2l) (1.8.0)\n",
            "Requirement already satisfied: python-dateutil>=2.1 in /usr/local/lib/python3.7/dist-packages (from jupyter-client->ipykernel->jupyter->d2l) (2.8.2)\n",
            "Requirement already satisfied: pyzmq>=13 in /usr/local/lib/python3.7/dist-packages (from jupyter-client->ipykernel->jupyter->d2l) (22.3.0)\n",
            "Requirement already satisfied: ptyprocess in /usr/local/lib/python3.7/dist-packages (from terminado>=0.8.1->notebook->jupyter->d2l) (0.7.0)\n",
            "Requirement already satisfied: MarkupSafe>=0.23 in /usr/local/lib/python3.7/dist-packages (from jinja2->notebook->jupyter->d2l) (2.0.1)\n",
            "Requirement already satisfied: pyparsing!=2.0.4,!=2.1.2,!=2.1.6,>=2.0.1 in /usr/local/lib/python3.7/dist-packages (from matplotlib->d2l) (2.4.7)\n",
            "Requirement already satisfied: cycler>=0.10 in /usr/local/lib/python3.7/dist-packages (from matplotlib->d2l) (0.10.0)\n",
            "Requirement already satisfied: kiwisolver>=1.0.1 in /usr/local/lib/python3.7/dist-packages (from matplotlib->d2l) (1.3.2)\n",
            "Requirement already satisfied: bleach in /usr/local/lib/python3.7/dist-packages (from nbconvert->jupyter->d2l) (4.1.0)\n",
            "Requirement already satisfied: pandocfilters>=1.4.1 in /usr/local/lib/python3.7/dist-packages (from nbconvert->jupyter->d2l) (1.5.0)\n",
            "Requirement already satisfied: entrypoints>=0.2.2 in /usr/local/lib/python3.7/dist-packages (from nbconvert->jupyter->d2l) (0.3)\n",
            "Requirement already satisfied: testpath in /usr/local/lib/python3.7/dist-packages (from nbconvert->jupyter->d2l) (0.5.0)\n",
            "Requirement already satisfied: mistune<2,>=0.8.1 in /usr/local/lib/python3.7/dist-packages (from nbconvert->jupyter->d2l) (0.8.4)\n",
            "Requirement already satisfied: defusedxml in /usr/local/lib/python3.7/dist-packages (from nbconvert->jupyter->d2l) (0.7.1)\n",
            "Requirement already satisfied: webencodings in /usr/local/lib/python3.7/dist-packages (from bleach->nbconvert->jupyter->d2l) (0.5.1)\n",
            "Requirement already satisfied: packaging in /usr/local/lib/python3.7/dist-packages (from bleach->nbconvert->jupyter->d2l) (21.0)\n",
            "Requirement already satisfied: pytz>=2017.2 in /usr/local/lib/python3.7/dist-packages (from pandas->d2l) (2018.9)\n",
            "Requirement already satisfied: qtpy in /usr/local/lib/python3.7/dist-packages (from qtconsole->jupyter->d2l) (1.11.2)\n",
            "Requirement already satisfied: certifi>=2017.4.17 in /usr/local/lib/python3.7/dist-packages (from requests->d2l) (2021.5.30)\n",
            "Requirement already satisfied: urllib3!=1.25.0,!=1.25.1,<1.26,>=1.21.1 in /usr/local/lib/python3.7/dist-packages (from requests->d2l) (1.24.3)\n",
            "Requirement already satisfied: chardet<4,>=3.0.2 in /usr/local/lib/python3.7/dist-packages (from requests->d2l) (3.0.4)\n",
            "Requirement already satisfied: idna<3,>=2.5 in /usr/local/lib/python3.7/dist-packages (from requests->d2l) (2.10)\n"
          ]
        }
      ]
    },
    {
      "cell_type": "code",
      "metadata": {
        "colab": {
          "base_uri": "https://localhost:8080/"
        },
        "id": "VNgMuNuopp5L",
        "outputId": "6ca56529-32e9-4d92-a54a-e6bdb21fd850"
      },
      "source": [
        "fair_probs = tf.ones(6) / 6\n",
        "\n",
        "# Sample 10 times from multinomial distribution with given probs\n",
        "tfp.distributions.Multinomial(10, fair_probs).sample()\n",
        "\n",
        "counts = tfp.distributions.Multinomial(1000, fair_probs).sample()\n",
        "counts / 1000"
      ],
      "execution_count": null,
      "outputs": [
        {
          "output_type": "execute_result",
          "data": {
            "text/plain": [
              "<tf.Tensor: shape=(6,), dtype=float32, numpy=array([0.172, 0.169, 0.175, 0.156, 0.163, 0.165], dtype=float32)>"
            ]
          },
          "metadata": {},
          "execution_count": 27
        }
      ]
    },
    {
      "cell_type": "code",
      "metadata": {
        "colab": {
          "base_uri": "https://localhost:8080/",
          "height": 406
        },
        "id": "rTErx58jqsEg",
        "outputId": "07ef5690-8c30-4c19-835f-3b50136d36c7"
      },
      "source": [
        "counts = tfp.distributions.Multinomial(10, fair_probs).sample(500)\n",
        "\n",
        "cum_counts = tf.cumsum(counts, axis=0)\n",
        "estimates = cum_counts / tf.reduce_sum(cum_counts, axis=1, keepdims=True)\n",
        "\n",
        "d2l.set_figsize((6,4.5))\n",
        "\n",
        "for i in range(6):\n",
        "  d2l.plt.plot(estimates[:,i].numpy(), label=('P(die=' + str(i+1) + ')'))\n",
        "\n",
        "d2l.plt.axhline(y=0.167, color='black', linestyle='dashed')\n",
        "\n",
        "d2l.plt.legend()"
      ],
      "execution_count": null,
      "outputs": [
        {
          "output_type": "execute_result",
          "data": {
            "text/plain": [
              "<matplotlib.legend.Legend at 0x7f22fb25e610>"
            ]
          },
          "metadata": {},
          "execution_count": 28
        },
        {
          "output_type": "display_data",
          "data": {
            "text/plain": [
              "<Figure size 432x324 with 1 Axes>"
            ],
            "image/svg+xml": "<?xml version=\"1.0\" encoding=\"utf-8\" standalone=\"no\"?>\n<!DOCTYPE svg PUBLIC \"-//W3C//DTD SVG 1.1//EN\"\n  \"http://www.w3.org/Graphics/SVG/1.1/DTD/svg11.dtd\">\n<!-- Created with matplotlib (https://matplotlib.org/) -->\n<svg height=\"275.698125pt\" version=\"1.1\" viewBox=\"0 0 378.465625 275.698125\" width=\"378.465625pt\" xmlns=\"http://www.w3.org/2000/svg\" xmlns:xlink=\"http://www.w3.org/1999/xlink\">\n <defs>\n  <style type=\"text/css\">\n*{stroke-linecap:butt;stroke-linejoin:round;}\n  </style>\n </defs>\n <g id=\"figure_1\">\n  <g id=\"patch_1\">\n   <path d=\"M 0 275.698125 \nL 378.465625 275.698125 \nL 378.465625 0 \nL 0 0 \nz\n\" style=\"fill:none;\"/>\n  </g>\n  <g id=\"axes_1\">\n   <g id=\"patch_2\">\n    <path d=\"M 36.465625 251.82 \nL 371.265625 251.82 \nL 371.265625 7.2 \nL 36.465625 7.2 \nz\n\" style=\"fill:#ffffff;\"/>\n   </g>\n   <g id=\"matplotlib.axis_1\">\n    <g id=\"xtick_1\">\n     <g id=\"line2d_1\">\n      <defs>\n       <path d=\"M 0 0 \nL 0 3.5 \n\" id=\"m89c0880d97\" style=\"stroke:#000000;stroke-width:0.8;\"/>\n      </defs>\n      <g>\n       <use style=\"stroke:#000000;stroke-width:0.8;\" x=\"51.683807\" xlink:href=\"#m89c0880d97\" y=\"251.82\"/>\n      </g>\n     </g>\n     <g id=\"text_1\">\n      <!-- 0 -->\n      <defs>\n       <path d=\"M 31.78125 66.40625 \nQ 24.171875 66.40625 20.328125 58.90625 \nQ 16.5 51.421875 16.5 36.375 \nQ 16.5 21.390625 20.328125 13.890625 \nQ 24.171875 6.390625 31.78125 6.390625 \nQ 39.453125 6.390625 43.28125 13.890625 \nQ 47.125 21.390625 47.125 36.375 \nQ 47.125 51.421875 43.28125 58.90625 \nQ 39.453125 66.40625 31.78125 66.40625 \nz\nM 31.78125 74.21875 \nQ 44.046875 74.21875 50.515625 64.515625 \nQ 56.984375 54.828125 56.984375 36.375 \nQ 56.984375 17.96875 50.515625 8.265625 \nQ 44.046875 -1.421875 31.78125 -1.421875 \nQ 19.53125 -1.421875 13.0625 8.265625 \nQ 6.59375 17.96875 6.59375 36.375 \nQ 6.59375 54.828125 13.0625 64.515625 \nQ 19.53125 74.21875 31.78125 74.21875 \nz\n\" id=\"DejaVuSans-48\"/>\n      </defs>\n      <g transform=\"translate(48.502557 266.418437)scale(0.1 -0.1)\">\n       <use xlink:href=\"#DejaVuSans-48\"/>\n      </g>\n     </g>\n    </g>\n    <g id=\"xtick_2\">\n     <g id=\"line2d_2\">\n      <g>\n       <use style=\"stroke:#000000;stroke-width:0.8;\" x=\"112.678524\" xlink:href=\"#m89c0880d97\" y=\"251.82\"/>\n      </g>\n     </g>\n     <g id=\"text_2\">\n      <!-- 100 -->\n      <defs>\n       <path d=\"M 12.40625 8.296875 \nL 28.515625 8.296875 \nL 28.515625 63.921875 \nL 10.984375 60.40625 \nL 10.984375 69.390625 \nL 28.421875 72.90625 \nL 38.28125 72.90625 \nL 38.28125 8.296875 \nL 54.390625 8.296875 \nL 54.390625 0 \nL 12.40625 0 \nz\n\" id=\"DejaVuSans-49\"/>\n      </defs>\n      <g transform=\"translate(103.134774 266.418437)scale(0.1 -0.1)\">\n       <use xlink:href=\"#DejaVuSans-49\"/>\n       <use x=\"63.623047\" xlink:href=\"#DejaVuSans-48\"/>\n       <use x=\"127.246094\" xlink:href=\"#DejaVuSans-48\"/>\n      </g>\n     </g>\n    </g>\n    <g id=\"xtick_3\">\n     <g id=\"line2d_3\">\n      <g>\n       <use style=\"stroke:#000000;stroke-width:0.8;\" x=\"173.67324\" xlink:href=\"#m89c0880d97\" y=\"251.82\"/>\n      </g>\n     </g>\n     <g id=\"text_3\">\n      <!-- 200 -->\n      <defs>\n       <path d=\"M 19.1875 8.296875 \nL 53.609375 8.296875 \nL 53.609375 0 \nL 7.328125 0 \nL 7.328125 8.296875 \nQ 12.9375 14.109375 22.625 23.890625 \nQ 32.328125 33.6875 34.8125 36.53125 \nQ 39.546875 41.84375 41.421875 45.53125 \nQ 43.3125 49.21875 43.3125 52.78125 \nQ 43.3125 58.59375 39.234375 62.25 \nQ 35.15625 65.921875 28.609375 65.921875 \nQ 23.96875 65.921875 18.8125 64.3125 \nQ 13.671875 62.703125 7.8125 59.421875 \nL 7.8125 69.390625 \nQ 13.765625 71.78125 18.9375 73 \nQ 24.125 74.21875 28.421875 74.21875 \nQ 39.75 74.21875 46.484375 68.546875 \nQ 53.21875 62.890625 53.21875 53.421875 \nQ 53.21875 48.921875 51.53125 44.890625 \nQ 49.859375 40.875 45.40625 35.40625 \nQ 44.1875 33.984375 37.640625 27.21875 \nQ 31.109375 20.453125 19.1875 8.296875 \nz\n\" id=\"DejaVuSans-50\"/>\n      </defs>\n      <g transform=\"translate(164.12949 266.418437)scale(0.1 -0.1)\">\n       <use xlink:href=\"#DejaVuSans-50\"/>\n       <use x=\"63.623047\" xlink:href=\"#DejaVuSans-48\"/>\n       <use x=\"127.246094\" xlink:href=\"#DejaVuSans-48\"/>\n      </g>\n     </g>\n    </g>\n    <g id=\"xtick_4\">\n     <g id=\"line2d_4\">\n      <g>\n       <use style=\"stroke:#000000;stroke-width:0.8;\" x=\"234.667957\" xlink:href=\"#m89c0880d97\" y=\"251.82\"/>\n      </g>\n     </g>\n     <g id=\"text_4\">\n      <!-- 300 -->\n      <defs>\n       <path d=\"M 40.578125 39.3125 \nQ 47.65625 37.796875 51.625 33 \nQ 55.609375 28.21875 55.609375 21.1875 \nQ 55.609375 10.40625 48.1875 4.484375 \nQ 40.765625 -1.421875 27.09375 -1.421875 \nQ 22.515625 -1.421875 17.65625 -0.515625 \nQ 12.796875 0.390625 7.625 2.203125 \nL 7.625 11.71875 \nQ 11.71875 9.328125 16.59375 8.109375 \nQ 21.484375 6.890625 26.8125 6.890625 \nQ 36.078125 6.890625 40.9375 10.546875 \nQ 45.796875 14.203125 45.796875 21.1875 \nQ 45.796875 27.640625 41.28125 31.265625 \nQ 36.765625 34.90625 28.71875 34.90625 \nL 20.21875 34.90625 \nL 20.21875 43.015625 \nL 29.109375 43.015625 \nQ 36.375 43.015625 40.234375 45.921875 \nQ 44.09375 48.828125 44.09375 54.296875 \nQ 44.09375 59.90625 40.109375 62.90625 \nQ 36.140625 65.921875 28.71875 65.921875 \nQ 24.65625 65.921875 20.015625 65.03125 \nQ 15.375 64.15625 9.8125 62.3125 \nL 9.8125 71.09375 \nQ 15.4375 72.65625 20.34375 73.4375 \nQ 25.25 74.21875 29.59375 74.21875 \nQ 40.828125 74.21875 47.359375 69.109375 \nQ 53.90625 64.015625 53.90625 55.328125 \nQ 53.90625 49.265625 50.4375 45.09375 \nQ 46.96875 40.921875 40.578125 39.3125 \nz\n\" id=\"DejaVuSans-51\"/>\n      </defs>\n      <g transform=\"translate(225.124207 266.418437)scale(0.1 -0.1)\">\n       <use xlink:href=\"#DejaVuSans-51\"/>\n       <use x=\"63.623047\" xlink:href=\"#DejaVuSans-48\"/>\n       <use x=\"127.246094\" xlink:href=\"#DejaVuSans-48\"/>\n      </g>\n     </g>\n    </g>\n    <g id=\"xtick_5\">\n     <g id=\"line2d_5\">\n      <g>\n       <use style=\"stroke:#000000;stroke-width:0.8;\" x=\"295.662674\" xlink:href=\"#m89c0880d97\" y=\"251.82\"/>\n      </g>\n     </g>\n     <g id=\"text_5\">\n      <!-- 400 -->\n      <defs>\n       <path d=\"M 37.796875 64.3125 \nL 12.890625 25.390625 \nL 37.796875 25.390625 \nz\nM 35.203125 72.90625 \nL 47.609375 72.90625 \nL 47.609375 25.390625 \nL 58.015625 25.390625 \nL 58.015625 17.1875 \nL 47.609375 17.1875 \nL 47.609375 0 \nL 37.796875 0 \nL 37.796875 17.1875 \nL 4.890625 17.1875 \nL 4.890625 26.703125 \nz\n\" id=\"DejaVuSans-52\"/>\n      </defs>\n      <g transform=\"translate(286.118924 266.418437)scale(0.1 -0.1)\">\n       <use xlink:href=\"#DejaVuSans-52\"/>\n       <use x=\"63.623047\" xlink:href=\"#DejaVuSans-48\"/>\n       <use x=\"127.246094\" xlink:href=\"#DejaVuSans-48\"/>\n      </g>\n     </g>\n    </g>\n    <g id=\"xtick_6\">\n     <g id=\"line2d_6\">\n      <g>\n       <use style=\"stroke:#000000;stroke-width:0.8;\" x=\"356.65739\" xlink:href=\"#m89c0880d97\" y=\"251.82\"/>\n      </g>\n     </g>\n     <g id=\"text_6\">\n      <!-- 500 -->\n      <defs>\n       <path d=\"M 10.796875 72.90625 \nL 49.515625 72.90625 \nL 49.515625 64.59375 \nL 19.828125 64.59375 \nL 19.828125 46.734375 \nQ 21.96875 47.46875 24.109375 47.828125 \nQ 26.265625 48.1875 28.421875 48.1875 \nQ 40.625 48.1875 47.75 41.5 \nQ 54.890625 34.8125 54.890625 23.390625 \nQ 54.890625 11.625 47.5625 5.09375 \nQ 40.234375 -1.421875 26.90625 -1.421875 \nQ 22.3125 -1.421875 17.546875 -0.640625 \nQ 12.796875 0.140625 7.71875 1.703125 \nL 7.71875 11.625 \nQ 12.109375 9.234375 16.796875 8.0625 \nQ 21.484375 6.890625 26.703125 6.890625 \nQ 35.15625 6.890625 40.078125 11.328125 \nQ 45.015625 15.765625 45.015625 23.390625 \nQ 45.015625 31 40.078125 35.4375 \nQ 35.15625 39.890625 26.703125 39.890625 \nQ 22.75 39.890625 18.8125 39.015625 \nQ 14.890625 38.140625 10.796875 36.28125 \nz\n\" id=\"DejaVuSans-53\"/>\n      </defs>\n      <g transform=\"translate(347.11364 266.418437)scale(0.1 -0.1)\">\n       <use xlink:href=\"#DejaVuSans-53\"/>\n       <use x=\"63.623047\" xlink:href=\"#DejaVuSans-48\"/>\n       <use x=\"127.246094\" xlink:href=\"#DejaVuSans-48\"/>\n      </g>\n     </g>\n    </g>\n   </g>\n   <g id=\"matplotlib.axis_2\">\n    <g id=\"ytick_1\">\n     <g id=\"line2d_7\">\n      <defs>\n       <path d=\"M 0 0 \nL -3.5 0 \n\" id=\"m87ce4ccb57\" style=\"stroke:#000000;stroke-width:0.8;\"/>\n      </defs>\n      <g>\n       <use style=\"stroke:#000000;stroke-width:0.8;\" x=\"36.465625\" xlink:href=\"#m87ce4ccb57\" y=\"249.966816\"/>\n      </g>\n     </g>\n     <g id=\"text_7\">\n      <!-- 0.05 -->\n      <defs>\n       <path d=\"M 10.6875 12.40625 \nL 21 12.40625 \nL 21 0 \nL 10.6875 0 \nz\n\" id=\"DejaVuSans-46\"/>\n      </defs>\n      <g transform=\"translate(7.2 253.766035)scale(0.1 -0.1)\">\n       <use xlink:href=\"#DejaVuSans-48\"/>\n       <use x=\"63.623047\" xlink:href=\"#DejaVuSans-46\"/>\n       <use x=\"95.410156\" xlink:href=\"#DejaVuSans-48\"/>\n       <use x=\"159.033203\" xlink:href=\"#DejaVuSans-53\"/>\n      </g>\n     </g>\n    </g>\n    <g id=\"ytick_2\">\n     <g id=\"line2d_8\">\n      <g>\n       <use style=\"stroke:#000000;stroke-width:0.8;\" x=\"36.465625\" xlink:href=\"#m87ce4ccb57\" y=\"203.637274\"/>\n      </g>\n     </g>\n     <g id=\"text_8\">\n      <!-- 0.10 -->\n      <g transform=\"translate(7.2 207.436492)scale(0.1 -0.1)\">\n       <use xlink:href=\"#DejaVuSans-48\"/>\n       <use x=\"63.623047\" xlink:href=\"#DejaVuSans-46\"/>\n       <use x=\"95.410156\" xlink:href=\"#DejaVuSans-49\"/>\n       <use x=\"159.033203\" xlink:href=\"#DejaVuSans-48\"/>\n      </g>\n     </g>\n    </g>\n    <g id=\"ytick_3\">\n     <g id=\"line2d_9\">\n      <g>\n       <use style=\"stroke:#000000;stroke-width:0.8;\" x=\"36.465625\" xlink:href=\"#m87ce4ccb57\" y=\"157.307731\"/>\n      </g>\n     </g>\n     <g id=\"text_9\">\n      <!-- 0.15 -->\n      <g transform=\"translate(7.2 161.106949)scale(0.1 -0.1)\">\n       <use xlink:href=\"#DejaVuSans-48\"/>\n       <use x=\"63.623047\" xlink:href=\"#DejaVuSans-46\"/>\n       <use x=\"95.410156\" xlink:href=\"#DejaVuSans-49\"/>\n       <use x=\"159.033203\" xlink:href=\"#DejaVuSans-53\"/>\n      </g>\n     </g>\n    </g>\n    <g id=\"ytick_4\">\n     <g id=\"line2d_10\">\n      <g>\n       <use style=\"stroke:#000000;stroke-width:0.8;\" x=\"36.465625\" xlink:href=\"#m87ce4ccb57\" y=\"110.978188\"/>\n      </g>\n     </g>\n     <g id=\"text_10\">\n      <!-- 0.20 -->\n      <g transform=\"translate(7.2 114.777406)scale(0.1 -0.1)\">\n       <use xlink:href=\"#DejaVuSans-48\"/>\n       <use x=\"63.623047\" xlink:href=\"#DejaVuSans-46\"/>\n       <use x=\"95.410156\" xlink:href=\"#DejaVuSans-50\"/>\n       <use x=\"159.033203\" xlink:href=\"#DejaVuSans-48\"/>\n      </g>\n     </g>\n    </g>\n    <g id=\"ytick_5\">\n     <g id=\"line2d_11\">\n      <g>\n       <use style=\"stroke:#000000;stroke-width:0.8;\" x=\"36.465625\" xlink:href=\"#m87ce4ccb57\" y=\"64.648645\"/>\n      </g>\n     </g>\n     <g id=\"text_11\">\n      <!-- 0.25 -->\n      <g transform=\"translate(7.2 68.447864)scale(0.1 -0.1)\">\n       <use xlink:href=\"#DejaVuSans-48\"/>\n       <use x=\"63.623047\" xlink:href=\"#DejaVuSans-46\"/>\n       <use x=\"95.410156\" xlink:href=\"#DejaVuSans-50\"/>\n       <use x=\"159.033203\" xlink:href=\"#DejaVuSans-53\"/>\n      </g>\n     </g>\n    </g>\n    <g id=\"ytick_6\">\n     <g id=\"line2d_12\">\n      <g>\n       <use style=\"stroke:#000000;stroke-width:0.8;\" x=\"36.465625\" xlink:href=\"#m87ce4ccb57\" y=\"18.319102\"/>\n      </g>\n     </g>\n     <g id=\"text_12\">\n      <!-- 0.30 -->\n      <g transform=\"translate(7.2 22.118321)scale(0.1 -0.1)\">\n       <use xlink:href=\"#DejaVuSans-48\"/>\n       <use x=\"63.623047\" xlink:href=\"#DejaVuSans-46\"/>\n       <use x=\"95.410156\" xlink:href=\"#DejaVuSans-51\"/>\n       <use x=\"159.033203\" xlink:href=\"#DejaVuSans-48\"/>\n      </g>\n     </g>\n    </g>\n   </g>\n   <g id=\"line2d_13\">\n    <path clip-path=\"url(#pdd12e55e3c)\" d=\"M 51.683807 18.319091 \nL 52.293754 110.978185 \nL 52.903701 110.978185 \nL 53.513648 64.648645 \nL 54.123595 92.446372 \nL 54.733543 95.535005 \nL 55.34349 110.978185 \nL 55.953437 134.142962 \nL 56.563384 152.159998 \nL 57.173331 157.307725 \nL 57.783278 153.095953 \nL 58.393226 165.029322 \nL 59.003173 153.743914 \nL 60.223067 148.041825 \nL 61.442961 143.68139 \nL 62.052909 141.864545 \nL 63.272803 157.307725 \nL 63.88275 141.864545 \nL 64.492697 140.460621 \nL 65.102644 147.236088 \nL 65.712592 138.003754 \nL 66.322539 144.335454 \nL 66.932486 146.616293 \nL 67.542433 152.159998 \nL 68.15238 153.998479 \nL 68.762327 158.905296 \nL 69.372275 160.396372 \nL 69.982222 158.802239 \nL 70.592169 160.203333 \nL 71.202116 164.32736 \nL 71.812063 160.032992 \nL 72.42201 158.631429 \nL 73.031958 159.881595 \nL 74.861799 156.119788 \nL 75.471746 159.624214 \nL 76.081694 156.177737 \nL 76.691641 150.689219 \nL 77.301588 147.610845 \nL 77.911535 146.778294 \nL 79.741377 150.407592 \nL 80.351324 151.516538 \nL 80.961271 150.689219 \nL 81.571218 153.601368 \nL 82.181165 150.948769 \nL 82.791112 146.616293 \nL 83.40106 147.69217 \nL 84.011007 143.580459 \nL 85.840848 146.741345 \nL 86.450795 144.527169 \nL 88.280637 147.434222 \nL 88.890584 145.351725 \nL 90.720426 148.041825 \nL 91.330373 144.672407 \nL 91.94032 145.552469 \nL 92.550267 140.956123 \nL 93.770161 145.394418 \nL 94.380109 146.214736 \nL 94.990056 144.438415 \nL 96.819897 146.806364 \nL 97.429844 143.896549 \nL 98.649739 140.676608 \nL 99.869633 139.934149 \nL 100.47958 140.720612 \nL 101.089527 140.357895 \nL 101.699475 142.236679 \nL 102.309422 142.967636 \nL 103.529316 146.533421 \nL 104.139263 147.189778 \nL 104.74921 145.72535 \nL 105.359158 142.211591 \nL 105.969105 142.894099 \nL 107.188999 140.185939 \nL 109.018841 139.263599 \nL 109.628788 138.003754 \nL 110.238735 137.725136 \nL 111.458629 135.312894 \nL 112.068576 135.996147 \nL 112.678524 135.748445 \nL 113.288471 137.322433 \nL 113.898418 136.167068 \nL 114.508365 137.706773 \nL 115.118312 136.569743 \nL 115.728259 137.202462 \nL 116.338207 136.957369 \nL 117.558101 139.881019 \nL 118.168048 139.618266 \nL 118.777995 140.19501 \nL 119.387942 139.934149 \nL 120.607837 141.051752 \nL 121.217784 139.984504 \nL 121.827731 140.533247 \nL 122.437678 140.280629 \nL 123.047625 138.46181 \nL 123.657573 139.009503 \nL 124.26752 138.003754 \nL 124.877467 138.546186 \nL 125.487414 138.320216 \nL 127.317256 142.11164 \nL 128.53715 141.621344 \nL 129.757044 142.582841 \nL 130.366991 140.201444 \nL 130.976939 141.392999 \nL 132.80678 142.786526 \nL 133.416727 141.864545 \nL 134.026674 141.637443 \nL 135.246569 142.535993 \nL 135.856516 141.642345 \nL 138.296305 140.784609 \nL 139.516199 141.65154 \nL 140.126146 140.172145 \nL 140.736093 141.234215 \nL 141.955988 142.071848 \nL 142.565935 141.246821 \nL 143.175882 141.046367 \nL 144.395776 139.442085 \nL 145.005723 139.858941 \nL 145.615671 139.672612 \nL 146.225618 140.082647 \nL 146.835565 139.307078 \nL 147.445512 139.127777 \nL 148.055459 139.533503 \nL 148.665406 140.513268 \nL 149.275354 140.329825 \nL 149.885301 141.292579 \nL 150.495248 141.675068 \nL 151.105195 142.61787 \nL 151.715142 141.864545 \nL 153.544984 141.313013 \nL 154.154931 138.940398 \nL 154.764878 138.775912 \nL 155.374825 139.155225 \nL 155.984772 138.452683 \nL 156.59472 136.687064 \nL 157.814614 135.334295 \nL 158.424561 136.248848 \nL 159.034508 135.582578 \nL 159.644455 135.964902 \nL 160.86435 135.687279 \nL 161.474297 135.038833 \nL 162.084244 135.415745 \nL 162.694191 136.294882 \nL 163.304138 136.660871 \nL 163.914086 137.523757 \nL 165.13398 137.239852 \nL 166.353874 137.942477 \nL 166.963821 136.825192 \nL 167.573769 136.204748 \nL 168.183716 136.073358 \nL 169.40361 136.769894 \nL 170.013557 136.637634 \nL 170.623504 136.033966 \nL 172.453346 138.449977 \nL 173.063293 138.312622 \nL 174.283187 138.959397 \nL 174.893135 138.365104 \nL 175.503082 138.230856 \nL 176.113029 137.645924 \nL 176.722976 138.416066 \nL 177.332923 137.835898 \nL 177.94287 137.706773 \nL 178.552818 138.465566 \nL 179.162765 137.893447 \nL 179.772712 136.44846 \nL 180.382659 135.89124 \nL 180.992606 136.644316 \nL 181.602553 136.957369 \nL 182.212501 136.836541 \nL 183.432395 135.744206 \nL 184.042342 136.480686 \nL 185.262236 136.248848 \nL 185.872184 136.97304 \nL 187.092078 137.570937 \nL 187.702025 138.279526 \nL 188.311972 137.334556 \nL 188.921919 136.807933 \nL 190.141814 137.394148 \nL 190.751761 136.87418 \nL 191.361708 137.16445 \nL 191.971655 136.649964 \nL 193.19155 137.224968 \nL 193.801497 136.716818 \nL 195.631338 137.563923 \nL 196.241285 138.230856 \nL 197.46118 137.231595 \nL 198.071127 137.507133 \nL 198.681074 136.631738 \nL 199.291021 137.288799 \nL 199.900968 137.560706 \nL 201.120863 137.344594 \nL 202.340757 137.879212 \nL 202.950704 138.515424 \nL 203.560651 138.405283 \nL 204.170599 138.665164 \nL 204.780546 138.187597 \nL 205.390493 138.080053 \nL 206.610387 138.594236 \nL 207.220334 139.210247 \nL 207.830282 138.739861 \nL 208.440229 138.632261 \nL 209.050176 137.809968 \nL 210.27007 137.604364 \nL 211.489965 138.811148 \nL 212.099912 138.354735 \nL 212.709859 138.95074 \nL 214.5397 138.637618 \nL 215.149648 138.879246 \nL 215.759595 138.775912 \nL 216.369542 138.331428 \nL 216.979489 138.230856 \nL 217.589436 138.47044 \nL 218.199383 138.031934 \nL 218.809331 137.933557 \nL 219.419278 138.171609 \nL 221.249119 137.879212 \nL 221.859066 138.11406 \nL 223.078961 136.607299 \nL 223.688908 136.844149 \nL 224.298855 137.405608 \nL 224.908802 137.312879 \nL 225.518749 136.572836 \nL 226.128697 136.80651 \nL 226.738644 136.073358 \nL 227.348591 135.665905 \nL 227.958538 135.580769 \nL 228.568485 136.13306 \nL 229.178432 136.046917 \nL 231.008274 136.734271 \nL 231.618221 136.02118 \nL 232.228168 135.624883 \nL 232.838115 136.164044 \nL 233.448063 135.460025 \nL 234.667957 135.913028 \nL 235.277904 135.523635 \nL 235.887851 136.054248 \nL 236.497798 135.666954 \nL 237.717693 135.505589 \nL 238.32764 135.123873 \nL 238.937587 134.443795 \nL 239.547534 134.067988 \nL 240.157481 133.395712 \nL 240.767429 132.131876 \nL 241.377376 131.767088 \nL 241.987323 131.996703 \nL 242.59727 131.339573 \nL 243.207217 130.980777 \nL 243.817164 130.331034 \nL 244.427112 129.977678 \nL 245.037059 130.209323 \nL 245.647006 130.729968 \nL 246.256953 130.66825 \nL 246.8669 130.029594 \nL 247.476847 130.258187 \nL 248.086795 130.772232 \nL 248.696742 130.997125 \nL 251.746478 130.692882 \nL 252.356425 130.913936 \nL 252.966372 130.853695 \nL 253.576319 130.51474 \nL 255.406161 130.339788 \nL 256.016108 130.557929 \nL 257.236002 130.442072 \nL 259.065844 131.08603 \nL 260.285738 130.968779 \nL 262.115579 131.598846 \nL 262.725527 131.005368 \nL 263.335474 130.68156 \nL 263.945421 131.156102 \nL 264.555368 131.363184 \nL 265.165315 131.30511 \nL 265.775262 131.510604 \nL 266.38521 131.977414 \nL 266.995157 131.394595 \nL 267.605104 131.598101 \nL 268.215051 131.279898 \nL 269.434945 131.684134 \nL 270.044893 131.368348 \nL 270.65484 131.31171 \nL 271.264787 131.768731 \nL 273.704576 132.556326 \nL 274.92447 131.933783 \nL 276.144364 132.824643 \nL 277.364259 133.206373 \nL 278.584153 132.590361 \nL 279.1941 132.532577 \nL 279.804047 132.722193 \nL 280.413994 132.664354 \nL 281.023942 132.852616 \nL 281.633889 133.285005 \nL 282.243836 133.226145 \nL 284.073677 133.779113 \nL 284.683625 133.719576 \nL 285.293572 134.142962 \nL 285.903519 134.323465 \nL 286.513466 134.262989 \nL 287.123413 134.681681 \nL 287.73336 134.381773 \nL 288.343308 134.559804 \nL 288.953255 134.974519 \nL 290.173149 135.324837 \nL 290.783096 135.027111 \nL 292.002991 135.374502 \nL 292.612938 135.780878 \nL 293.832832 135.190617 \nL 295.052726 135.069555 \nL 295.662674 135.240544 \nL 296.272621 134.719195 \nL 296.882568 134.43036 \nL 298.102462 134.314545 \nL 298.712409 133.800624 \nL 299.322357 133.972207 \nL 300.542251 133.406675 \nL 301.152198 132.899975 \nL 301.762145 132.621193 \nL 304.201934 132.412578 \nL 304.811881 132.583789 \nL 306.031775 133.367103 \nL 306.641723 133.53482 \nL 307.861617 134.308028 \nL 309.081511 134.635827 \nL 309.691458 134.36149 \nL 310.911353 134.686734 \nL 312.131247 134.575944 \nL 313.351141 134.03521 \nL 313.961089 133.981721 \nL 314.571036 134.142962 \nL 315.180983 134.089459 \nL 315.79093 133.822702 \nL 316.400877 133.983198 \nL 317.620772 133.877917 \nL 318.230719 134.24874 \nL 319.450613 133.721785 \nL 320.06056 133.88032 \nL 320.670507 133.618865 \nL 321.280455 133.986084 \nL 321.890402 133.934265 \nL 322.500349 134.090909 \nL 323.110296 134.039076 \nL 323.720243 134.402069 \nL 324.33019 134.556614 \nL 324.940138 134.504105 \nL 325.550085 134.040001 \nL 326.160032 134.399777 \nL 326.769979 134.552955 \nL 327.379926 134.09182 \nL 327.989873 134.245012 \nL 328.599821 134.193869 \nL 329.209768 134.346164 \nL 330.429662 135.053359 \nL 332.259504 134.896688 \nL 334.699292 135.488012 \nL 335.30924 135.43542 \nL 335.919187 135.77987 \nL 336.529134 135.726878 \nL 337.139081 135.871675 \nL 338.358975 135.372514 \nL 338.968923 135.517145 \nL 339.57887 135.073462 \nL 340.188817 135.218121 \nL 340.798764 135.557228 \nL 341.408711 135.700257 \nL 342.018658 136.036934 \nL 342.628606 135.984508 \nL 343.238553 136.125743 \nL 343.8485 136.459437 \nL 345.068394 136.738178 \nL 345.678341 136.684855 \nL 346.288289 136.823176 \nL 346.898236 137.151996 \nL 348.11813 137.044507 \nL 348.728077 137.370842 \nL 349.947972 137.263117 \nL 350.557919 137.020868 \nL 351.167866 136.967931 \nL 351.777813 137.10316 \nL 352.38776 137.050278 \nL 352.997707 136.810418 \nL 353.607655 136.758337 \nL 354.217602 136.892903 \nL 354.827549 137.212983 \nL 355.437496 136.974725 \nL 356.047443 136.181455 \nL 356.047443 136.181455 \n\" style=\"fill:none;stroke:#1f77b4;stroke-linecap:square;stroke-width:1.5;\"/>\n   </g>\n   <g id=\"line2d_14\">\n    <path clip-path=\"url(#pdd12e55e3c)\" d=\"M 51.683807 203.637272 \nL 52.903701 203.637272 \nL 53.513648 226.802042 \nL 54.123595 240.700909 \nL 54.733543 219.080452 \nL 55.34349 190.400261 \nL 55.953437 180.472502 \nL 56.563384 172.750905 \nL 57.173331 175.839552 \nL 57.783278 169.943057 \nL 58.393226 157.307725 \nL 59.61312 163.926231 \nL 60.223067 172.750905 \nL 60.833014 168.890114 \nL 61.442961 160.032992 \nL 62.052909 162.455452 \nL 62.662856 159.746132 \nL 63.272803 161.940689 \nL 63.88275 168.338568 \nL 64.492697 157.307725 \nL 65.102644 159.322055 \nL 65.712592 157.307725 \nL 66.322539 159.160911 \nL 66.932486 157.307725 \nL 67.542433 162.455452 \nL 68.15238 147.379973 \nL 68.762327 142.929597 \nL 69.372275 144.953192 \nL 69.982222 149.835225 \nL 70.592169 139.934149 \nL 71.202116 133.441 \nL 71.812063 135.505589 \nL 72.42201 134.804814 \nL 73.031958 139.290689 \nL 73.641905 133.516885 \nL 74.251852 137.800552 \nL 74.861799 137.112797 \nL 75.471746 141.092387 \nL 76.691641 144.070714 \nL 78.521482 141.864545 \nL 79.131429 143.207441 \nL 79.741377 142.521703 \nL 80.351324 143.794941 \nL 80.961271 143.125219 \nL 81.571218 140.629097 \nL 82.181165 143.68139 \nL 82.791112 144.834394 \nL 83.40106 142.447309 \nL 84.620954 141.302975 \nL 85.840848 143.490145 \nL 86.450795 142.929597 \nL 87.060743 140.817553 \nL 87.67069 140.320228 \nL 88.280637 141.358218 \nL 88.890584 143.857212 \nL 89.500531 140.393766 \nL 90.110478 139.934149 \nL 90.720426 138.063152 \nL 91.330373 137.652772 \nL 92.550267 139.593496 \nL 93.160214 137.835898 \nL 93.770161 138.775912 \nL 94.380109 138.384393 \nL 94.990056 139.290689 \nL 95.600003 137.633539 \nL 96.20995 138.525489 \nL 96.819897 138.158188 \nL 97.429844 139.019748 \nL 98.039792 141.062301 \nL 99.869633 139.934149 \nL 100.47958 138.432732 \nL 101.089527 139.227907 \nL 101.699475 141.120305 \nL 102.309422 140.761468 \nL 103.529316 142.2237 \nL 104.139263 141.864545 \nL 104.74921 143.61945 \nL 105.359158 144.293812 \nL 105.969105 143.923639 \nL 106.579052 142.543366 \nL 107.798946 143.857212 \nL 109.018841 147.066465 \nL 109.628788 147.655746 \nL 110.238735 149.18812 \nL 110.848682 149.743724 \nL 111.458629 147.480256 \nL 112.068576 148.041825 \nL 112.678524 144.922609 \nL 113.898418 144.263491 \nL 114.508365 144.834394 \nL 115.118312 144.511953 \nL 116.338207 145.617101 \nL 116.948154 143.580459 \nL 118.168048 144.672407 \nL 118.777995 144.368854 \nL 119.387942 145.72535 \nL 119.99789 145.417849 \nL 120.607837 146.741345 \nL 121.217784 147.236088 \nL 121.827731 146.12474 \nL 123.047625 145.529039 \nL 123.657573 146.017333 \nL 124.877467 145.438173 \nL 125.487414 145.915214 \nL 126.097361 145.631185 \nL 126.707308 144.604475 \nL 127.317256 145.817997 \nL 127.927203 144.070714 \nL 128.53715 143.080552 \nL 129.147097 142.829743 \nL 130.976939 144.22229 \nL 132.196833 143.72237 \nL 133.416727 145.982732 \nL 134.026674 145.04403 \nL 134.636622 144.795375 \nL 135.856516 141.642345 \nL 136.466463 142.085172 \nL 137.07641 141.864545 \nL 137.686357 142.299571 \nL 139.516199 141.65154 \nL 140.126146 142.710752 \nL 140.736093 141.864545 \nL 141.955988 141.449968 \nL 142.565935 141.864545 \nL 143.175882 142.887278 \nL 143.785829 142.677352 \nL 144.395776 143.075775 \nL 145.005723 142.265674 \nL 146.225618 143.052482 \nL 146.835565 142.848189 \nL 148.055459 143.612837 \nL 148.665406 144.567113 \nL 149.275354 143.782956 \nL 149.885301 143.580459 \nL 150.495248 142.811987 \nL 151.105195 143.182864 \nL 151.715142 142.426115 \nL 152.935037 143.159185 \nL 153.544984 144.070714 \nL 154.154931 144.423186 \nL 154.764878 145.316558 \nL 155.374825 144.573879 \nL 155.984772 144.378561 \nL 157.204667 145.059688 \nL 158.424561 143.61945 \nL 159.034508 143.43504 \nL 160.254403 144.10769 \nL 160.86435 144.953192 \nL 161.474297 145.277401 \nL 163.304138 144.718178 \nL 163.914086 143.53408 \nL 164.524033 143.857212 \nL 165.13398 143.68139 \nL 165.743927 144.493175 \nL 167.573769 141.056005 \nL 168.183716 141.381953 \nL 168.793663 141.224412 \nL 170.013557 141.864545 \nL 170.623504 141.234215 \nL 171.233452 141.550982 \nL 171.843399 139.056697 \nL 172.453346 138.449977 \nL 173.063293 136.922726 \nL 173.67324 137.25464 \nL 174.283187 136.665856 \nL 174.893135 136.995767 \nL 175.503082 136.868229 \nL 176.113029 137.193929 \nL 176.722976 136.616867 \nL 177.332923 136.940634 \nL 179.162765 136.569743 \nL 179.772712 136.887601 \nL 180.382659 137.639531 \nL 181.602553 136.524386 \nL 182.212501 136.405561 \nL 182.822448 136.716818 \nL 183.432395 136.598214 \nL 184.042342 135.6306 \nL 184.652289 136.364236 \nL 185.262236 136.670026 \nL 185.872184 136.553768 \nL 186.482131 134.769039 \nL 187.092078 133.831332 \nL 188.311972 135.275463 \nL 189.531867 135.061381 \nL 190.141814 134.549365 \nL 190.751761 135.255677 \nL 191.361708 135.552989 \nL 193.19155 135.236581 \nL 193.801497 135.92486 \nL 194.411444 136.213005 \nL 195.021391 135.713457 \nL 196.241285 135.505589 \nL 196.851233 135.015278 \nL 198.071127 134.815791 \nL 199.900968 135.661956 \nL 200.510916 135.561204 \nL 201.73081 136.112432 \nL 202.340757 136.758337 \nL 202.950704 135.910556 \nL 203.560651 135.440183 \nL 204.170599 135.342732 \nL 204.780546 134.878351 \nL 206.610387 134.597166 \nL 207.220334 134.142962 \nL 207.830282 134.413364 \nL 208.440229 135.040822 \nL 209.050176 135.305673 \nL 212.709859 134.754859 \nL 213.319806 135.362159 \nL 215.149648 136.123589 \nL 215.759595 136.030459 \nL 216.369542 135.596095 \nL 216.979489 134.483615 \nL 217.589436 133.718692 \nL 218.199383 134.312046 \nL 219.419278 134.142962 \nL 220.639172 135.309525 \nL 221.249119 135.222318 \nL 221.859066 134.804814 \nL 222.469014 135.379514 \nL 223.078961 135.292984 \nL 225.518749 136.248848 \nL 227.958538 135.900283 \nL 228.568485 135.177818 \nL 229.178432 135.412265 \nL 229.78838 135.328869 \nL 231.008274 135.791979 \nL 232.228168 135.624883 \nL 233.448063 136.07982 \nL 234.05801 136.613871 \nL 234.667957 136.528694 \nL 235.277904 136.137272 \nL 236.497798 135.971764 \nL 237.107746 136.193605 \nL 238.32764 136.02934 \nL 238.937587 136.248848 \nL 239.547534 136.766801 \nL 240.767429 137.196842 \nL 241.987323 138.213445 \nL 242.59727 138.126707 \nL 245.037059 140.116267 \nL 245.647006 139.443991 \nL 246.8669 139.843946 \nL 247.476847 139.466538 \nL 249.306689 140.058884 \nL 249.916636 140.538135 \nL 251.13653 139.227907 \nL 251.746478 138.297131 \nL 252.356425 138.214342 \nL 253.576319 138.608457 \nL 254.186266 139.081992 \nL 254.796213 139.27528 \nL 256.016108 140.209922 \nL 256.626055 140.398129 \nL 257.236002 140.311088 \nL 257.845949 140.497901 \nL 258.455896 140.956123 \nL 259.065844 141.139939 \nL 259.675791 141.051752 \nL 260.895685 141.954334 \nL 261.505632 142.133124 \nL 262.115579 141.775281 \nL 262.725527 141.953561 \nL 263.335474 141.864545 \nL 263.945421 141.510554 \nL 264.555368 141.42332 \nL 265.165315 141.864545 \nL 265.775262 141.513564 \nL 266.995157 141.864545 \nL 267.605104 141.516533 \nL 268.215051 141.95131 \nL 268.824998 141.604996 \nL 270.044893 141.434379 \nL 270.65484 141.092387 \nL 271.264787 141.265641 \nL 271.874734 141.693901 \nL 272.484681 141.354035 \nL 274.92447 142.03287 \nL 276.144364 141.864545 \nL 276.754311 142.031503 \nL 277.364259 141.448297 \nL 277.974206 141.864545 \nL 278.584153 141.781743 \nL 279.1941 141.451625 \nL 279.804047 140.629097 \nL 281.633889 140.393766 \nL 282.243836 140.560641 \nL 283.46373 140.40535 \nL 284.073677 140.085753 \nL 285.293572 139.934149 \nL 286.513466 140.264226 \nL 287.123413 139.949116 \nL 288.343308 140.276556 \nL 289.563202 140.126692 \nL 290.173149 140.525087 \nL 291.393043 139.904754 \nL 293.222885 139.686171 \nL 293.832832 140.079664 \nL 294.442779 140.00672 \nL 295.052726 139.47086 \nL 295.662674 139.168729 \nL 296.272621 139.3291 \nL 296.882568 139.718604 \nL 297.492515 139.418102 \nL 298.102462 139.805465 \nL 298.712409 139.506234 \nL 299.932304 139.366394 \nL 302.372092 139.990373 \nL 302.98204 140.368844 \nL 304.201934 140.227195 \nL 306.031775 140.682297 \nL 306.641723 139.505682 \nL 307.25167 139.437764 \nL 307.861617 139.590251 \nL 308.471564 139.083317 \nL 309.081511 139.454981 \nL 309.691458 139.387809 \nL 310.301406 139.538985 \nL 310.911353 139.906963 \nL 312.131247 140.204772 \nL 312.741194 140.568621 \nL 313.961089 140.861281 \nL 314.571036 140.577624 \nL 315.180983 140.723249 \nL 315.79093 141.081714 \nL 316.400877 140.586488 \nL 317.010824 140.731105 \nL 317.620772 141.087085 \nL 320.670507 141.794666 \nL 321.280455 141.725105 \nL 321.890402 141.864545 \nL 322.500349 141.586922 \nL 323.110296 141.726044 \nL 323.720243 141.242679 \nL 324.33019 141.381953 \nL 324.940138 140.901501 \nL 325.550085 141.040913 \nL 326.160032 140.974252 \nL 327.379926 141.250908 \nL 327.989873 140.980134 \nL 331.039609 141.662683 \nL 332.259504 142.333537 \nL 332.869451 142.466239 \nL 334.089345 143.129292 \nL 334.699292 142.860878 \nL 335.30924 143.190141 \nL 335.919187 143.121173 \nL 336.529134 143.448461 \nL 337.139081 143.379231 \nL 337.749028 143.113151 \nL 338.358975 143.241642 \nL 339.57887 143.888817 \nL 341.408711 143.097411 \nL 342.018658 143.030073 \nL 343.8485 143.408862 \nL 344.458447 143.726719 \nL 345.068394 143.851012 \nL 345.678341 144.166633 \nL 346.898236 144.029775 \nL 347.508183 144.34309 \nL 348.11813 144.464842 \nL 348.728077 144.206343 \nL 349.338024 144.138397 \nL 349.947972 143.881623 \nL 350.557919 144.00332 \nL 351.167866 143.936189 \nL 351.777813 143.68139 \nL 352.38776 143.615198 \nL 352.997707 143.362069 \nL 353.607655 143.296774 \nL 354.827549 143.539106 \nL 356.047443 144.150147 \nL 356.047443 144.150147 \n\" style=\"fill:none;stroke:#ff7f0e;stroke-linecap:square;stroke-width:1.5;\"/>\n   </g>\n   <g id=\"line2d_15\">\n    <path clip-path=\"url(#pdd12e55e3c)\" d=\"M 51.683807 203.637272 \nL 52.293754 157.307725 \nL 52.903701 172.750905 \nL 53.513648 134.142962 \nL 54.123595 129.509998 \nL 54.733543 141.864545 \nL 55.34349 163.926231 \nL 55.953437 157.307725 \nL 56.563384 152.159998 \nL 57.173331 148.041825 \nL 58.393226 157.307725 \nL 59.61312 150.689219 \nL 60.223067 141.864545 \nL 60.833014 145.72535 \nL 61.442961 143.68139 \nL 62.052909 147.012272 \nL 62.662856 140.238945 \nL 63.272803 143.408862 \nL 63.88275 150.689219 \nL 65.102644 155.293409 \nL 66.322539 151.748183 \nL 67.542433 148.728185 \nL 68.762327 158.905296 \nL 69.372275 160.396372 \nL 69.982222 158.802239 \nL 70.592169 160.203333 \nL 71.202116 158.711649 \nL 72.42201 145.394418 \nL 73.031958 136.716818 \nL 73.641905 138.525489 \nL 74.861799 137.112797 \nL 75.471746 134.142962 \nL 76.081694 138.097919 \nL 76.691641 133.039871 \nL 78.521482 131.569092 \nL 79.131429 133.13579 \nL 80.961271 131.779211 \nL 81.571218 127.656827 \nL 82.181165 129.146632 \nL 83.40106 128.461032 \nL 85.230901 132.488339 \nL 85.840848 135.362159 \nL 86.450795 134.941741 \nL 87.060743 129.8241 \nL 87.67069 132.598645 \nL 90.110478 137.038556 \nL 90.720426 136.637634 \nL 91.330373 139.056697 \nL 91.94032 135.871675 \nL 92.550267 138.230856 \nL 93.160214 139.178781 \nL 93.770161 138.775912 \nL 94.380109 140.994507 \nL 94.990056 140.577624 \nL 95.600003 142.710752 \nL 96.20995 143.53408 \nL 96.819897 143.100007 \nL 97.429844 141.458155 \nL 98.649739 140.676608 \nL 99.259686 142.646479 \nL 99.869633 141.092387 \nL 100.47958 141.864545 \nL 101.699475 138.887557 \nL 102.309422 139.658376 \nL 102.919369 137.140757 \nL 103.529316 135.759104 \nL 104.74921 137.301791 \nL 105.969105 140.835005 \nL 106.579052 141.525135 \nL 107.798946 140.868212 \nL 108.408893 139.564501 \nL 109.018841 139.263599 \nL 109.628788 139.934149 \nL 110.238735 141.546135 \nL 110.848682 139.343212 \nL 111.458629 139.992651 \nL 112.068576 139.702505 \nL 112.678524 141.252938 \nL 113.898418 140.665079 \nL 114.508365 139.488671 \nL 115.118312 139.217151 \nL 115.728259 138.076601 \nL 116.338207 138.689313 \nL 116.948154 138.432732 \nL 117.558101 136.480686 \nL 118.168048 137.933557 \nL 118.777995 136.855954 \nL 119.387942 138.279526 \nL 119.99789 138.857913 \nL 120.607837 137.800552 \nL 122.437678 137.112797 \nL 123.047625 137.676562 \nL 124.26752 137.231595 \nL 124.877467 136.248848 \nL 125.487414 136.801208 \nL 126.707308 136.384712 \nL 127.317256 137.663998 \nL 127.927203 137.452208 \nL 129.147097 138.486359 \nL 129.757044 139.709684 \nL 130.976939 140.68568 \nL 131.586886 141.864545 \nL 132.196833 141.63232 \nL 132.80678 140.020583 \nL 133.416727 139.805465 \nL 134.026674 140.956123 \nL 134.636622 141.413655 \nL 135.856516 140.975729 \nL 137.07641 139.235929 \nL 137.686357 139.689457 \nL 138.296305 138.192748 \nL 138.906252 138.647214 \nL 139.516199 138.456398 \nL 140.126146 138.902842 \nL 141.955988 138.340596 \nL 142.565935 138.775912 \nL 143.175882 138.591819 \nL 143.785829 137.800552 \nL 145.005723 138.655581 \nL 145.615671 138.477012 \nL 146.225618 138.89471 \nL 146.835565 138.126707 \nL 148.055459 137.785226 \nL 149.275354 138.603252 \nL 149.885301 137.860765 \nL 150.495248 137.695837 \nL 151.105195 136.402937 \nL 152.325089 138.329357 \nL 152.935037 138.720434 \nL 153.544984 138.003754 \nL 154.154931 138.940398 \nL 154.764878 139.320968 \nL 155.374825 138.613359 \nL 156.59472 139.365068 \nL 157.204667 140.266974 \nL 157.814614 140.099616 \nL 159.034508 141.864545 \nL 160.254403 142.554743 \nL 160.86435 141.864545 \nL 161.474297 142.205833 \nL 162.084244 142.03425 \nL 162.694191 140.851878 \nL 163.304138 140.185939 \nL 163.914086 140.528925 \nL 164.524033 140.370045 \nL 165.13398 140.708379 \nL 165.743927 138.085893 \nL 166.353874 138.432732 \nL 166.963821 139.263599 \nL 167.573769 139.600634 \nL 169.40361 139.158014 \nL 170.623504 139.815959 \nL 171.233452 138.258525 \nL 171.843399 138.588727 \nL 172.453346 137.984354 \nL 173.063293 138.775912 \nL 173.67324 138.637618 \nL 174.283187 138.959397 \nL 174.893135 139.734455 \nL 175.503082 138.685074 \nL 176.113029 138.549914 \nL 176.722976 137.966267 \nL 177.332923 137.835898 \nL 177.94287 137.261295 \nL 179.772712 136.887601 \nL 180.382659 137.639531 \nL 180.992606 137.94938 \nL 182.212501 136.836541 \nL 182.822448 137.145797 \nL 183.432395 137.025218 \nL 184.042342 137.330773 \nL 184.652289 136.364236 \nL 186.482131 137.273335 \nL 187.092078 137.15542 \nL 187.702025 136.624903 \nL 188.311972 136.51091 \nL 188.921919 136.807933 \nL 189.531867 136.694147 \nL 190.141814 136.987759 \nL 190.751761 136.87418 \nL 191.361708 137.567319 \nL 191.971655 137.853337 \nL 192.581602 137.338105 \nL 193.19155 137.224968 \nL 193.801497 137.508776 \nL 195.021391 136.498705 \nL 195.631338 136.781989 \nL 196.241285 135.505589 \nL 196.851233 135.790667 \nL 197.46118 136.459437 \nL 198.071127 136.353701 \nL 198.681074 137.014628 \nL 199.291021 136.907483 \nL 199.900968 137.560706 \nL 201.120863 137.344594 \nL 202.340757 136.384712 \nL 203.560651 136.922726 \nL 204.170599 136.450214 \nL 205.390493 136.248848 \nL 206.00044 135.784551 \nL 206.610387 136.050645 \nL 207.220334 135.590752 \nL 207.830282 135.855534 \nL 209.050176 135.663433 \nL 209.660123 135.92486 \nL 211.489965 135.640306 \nL 212.709859 136.852806 \nL 213.319806 136.40719 \nL 215.149648 137.156967 \nL 215.759595 136.716818 \nL 216.369542 137.305671 \nL 216.979489 137.208882 \nL 217.589436 137.452208 \nL 218.199383 137.355598 \nL 219.419278 137.835898 \nL 220.639172 136.976064 \nL 221.249119 137.547105 \nL 221.859066 137.452208 \nL 222.469014 138.017492 \nL 223.078961 137.921614 \nL 223.688908 137.498987 \nL 224.298855 137.731861 \nL 224.908802 137.312879 \nL 225.518749 137.544772 \nL 226.128697 137.452208 \nL 226.738644 137.682016 \nL 227.348591 138.230856 \nL 229.178432 138.902842 \nL 229.78838 139.440028 \nL 230.398327 139.658376 \nL 231.008274 139.247058 \nL 231.618221 139.151553 \nL 233.448063 140.728261 \nL 234.667957 139.914916 \nL 236.497798 139.629354 \nL 237.107746 139.83921 \nL 237.717693 139.744893 \nL 240.157481 140.569312 \nL 240.767429 141.070047 \nL 241.987323 141.469836 \nL 242.59727 141.077641 \nL 243.207217 140.98208 \nL 244.427112 141.377383 \nL 245.037059 140.990406 \nL 247.476847 141.768626 \nL 248.086795 141.386427 \nL 248.696742 141.578569 \nL 249.306689 141.19931 \nL 249.916636 141.106608 \nL 250.526583 141.297825 \nL 251.13653 141.770379 \nL 251.746478 141.958435 \nL 252.356425 141.58376 \nL 254.186266 141.308043 \nL 254.796213 141.772078 \nL 255.406161 141.95675 \nL 256.016108 141.03724 \nL 257.236002 141.407648 \nL 258.455896 140.138552 \nL 259.065844 140.596485 \nL 259.675791 140.509885 \nL 260.285738 139.883504 \nL 260.895685 139.530121 \nL 262.115579 139.90068 \nL 265.165315 139.488671 \nL 265.775262 139.670914 \nL 266.38521 139.58963 \nL 266.995157 140.032305 \nL 267.605104 139.950469 \nL 268.824998 140.30725 \nL 269.434945 140.225331 \nL 270.044893 140.660067 \nL 271.264787 141.008977 \nL 271.874734 140.67005 \nL 273.094628 141.016019 \nL 273.704576 140.933727 \nL 274.92447 141.27543 \nL 276.754311 141.029785 \nL 277.364259 141.198537 \nL 277.974206 141.615462 \nL 278.584153 141.533322 \nL 279.1941 141.699382 \nL 279.804047 142.11164 \nL 280.413994 141.782406 \nL 281.023942 142.192261 \nL 281.633889 142.10968 \nL 282.243836 142.272026 \nL 282.853783 142.677352 \nL 283.46373 142.837351 \nL 284.073677 142.511389 \nL 284.683625 142.670987 \nL 285.293572 142.588447 \nL 285.903519 142.024999 \nL 286.513466 142.184612 \nL 287.123413 142.103977 \nL 287.73336 141.546135 \nL 288.953255 140.914204 \nL 290.173149 141.234215 \nL 290.783096 141.157226 \nL 291.393043 140.845457 \nL 292.002991 141.004421 \nL 292.612938 140.928605 \nL 293.222885 141.319958 \nL 293.832832 141.01091 \nL 294.442779 140.238945 \nL 295.052726 140.165794 \nL 295.662674 139.861937 \nL 296.272621 139.790098 \nL 296.882568 140.178441 \nL 297.492515 140.335527 \nL 298.102462 139.805465 \nL 298.712409 140.190909 \nL 299.322357 140.119125 \nL 299.932304 140.274816 \nL 300.542251 139.976634 \nL 301.762145 140.286414 \nL 302.372092 140.665079 \nL 302.98204 140.817553 \nL 303.591987 141.193111 \nL 304.201934 141.343569 \nL 305.421828 141.197943 \nL 306.641723 141.495974 \nL 307.25167 141.42332 \nL 308.471564 141.718174 \nL 309.081511 141.207388 \nL 309.691458 141.57317 \nL 310.301406 141.283162 \nL 312.131247 141.070737 \nL 312.741194 141.432571 \nL 313.351141 141.577229 \nL 313.961089 141.506232 \nL 314.571036 141.221084 \nL 315.180983 141.365232 \nL 315.79093 141.295216 \nL 316.400877 141.65154 \nL 317.010824 141.581192 \nL 317.620772 141.299123 \nL 318.230719 140.806797 \nL 319.450613 140.250032 \nL 320.06056 139.553331 \nL 321.280455 139.842648 \nL 322.500349 139.712915 \nL 323.110296 140.063993 \nL 324.940138 140.48876 \nL 325.550085 140.835005 \nL 326.160032 140.563347 \nL 326.769979 140.497901 \nL 327.379926 140.841826 \nL 327.989873 140.980134 \nL 328.599821 140.914204 \nL 329.209768 140.645348 \nL 329.819715 140.783187 \nL 330.429662 140.515795 \nL 331.649556 141.193111 \nL 332.259504 141.32856 \nL 332.869451 141.262865 \nL 333.479398 141.397583 \nL 334.699292 141.266745 \nL 335.30924 141.002916 \nL 335.919187 141.33545 \nL 336.529134 140.676608 \nL 337.139081 140.613288 \nL 338.358975 140.880914 \nL 339.57887 140.754467 \nL 340.798764 141.019236 \nL 341.408711 140.761468 \nL 342.018658 140.893286 \nL 342.628606 140.443003 \nL 343.8485 140.706308 \nL 344.458447 140.259228 \nL 345.068394 140.198476 \nL 345.678341 139.562457 \nL 346.288289 139.694842 \nL 346.898236 139.444585 \nL 347.508183 139.76733 \nL 348.11813 139.898471 \nL 348.728077 139.459469 \nL 349.338024 139.211739 \nL 349.947972 139.532316 \nL 351.167866 139.792901 \nL 351.777813 139.734455 \nL 352.38776 139.488671 \nL 352.997707 139.618266 \nL 353.607655 139.934149 \nL 354.217602 139.689457 \nL 354.827549 139.631797 \nL 355.437496 139.945761 \nL 356.047443 139.887826 \nL 356.047443 139.887826 \n\" style=\"fill:none;stroke:#2ca02c;stroke-linecap:square;stroke-width:1.5;\"/>\n   </g>\n   <g id=\"line2d_16\">\n    <path clip-path=\"url(#pdd12e55e3c)\" d=\"M 51.683807 110.978185 \nL 52.293754 110.978185 \nL 52.903701 49.205451 \nL 53.513648 87.813422 \nL 54.123595 110.978185 \nL 54.733543 110.978185 \nL 55.34349 97.741174 \nL 55.953437 99.395796 \nL 56.563384 121.273638 \nL 57.173331 120.244099 \nL 57.783278 102.55464 \nL 58.393226 110.978185 \nL 59.003173 110.978185 \nL 59.61312 104.359679 \nL 60.223067 104.800918 \nL 60.833014 99.395796 \nL 61.442961 100.077117 \nL 62.052909 95.535005 \nL 62.662856 101.224598 \nL 63.272803 87.813422 \nL 63.88275 93.328836 \nL 64.492697 94.131081 \nL 65.102644 90.83491 \nL 65.712592 99.395796 \nL 66.322539 99.8591 \nL 66.932486 103.850563 \nL 67.542433 104.114559 \nL 68.15238 107.668939 \nL 68.762327 104.5879 \nL 69.372275 95.535005 \nL 69.982222 96.033172 \nL 70.592169 93.604609 \nL 71.812063 100.077117 \nL 73.641905 115.98679 \nL 74.251852 110.978185 \nL 74.861799 110.978185 \nL 75.471746 113.29466 \nL 76.081694 113.238161 \nL 76.691641 117.596691 \nL 77.301588 119.597642 \nL 77.911535 115.189958 \nL 79.741377 114.92113 \nL 80.351324 116.769386 \nL 80.961271 120.433203 \nL 81.571218 118.390913 \nL 82.181165 114.611874 \nL 82.791112 116.323908 \nL 83.40106 119.719615 \nL 84.011007 121.273638 \nL 85.230901 120.90595 \nL 85.840848 119.106172 \nL 86.450795 120.563613 \nL 87.060743 123.542133 \nL 87.67069 123.332732 \nL 88.280637 124.649201 \nL 88.890584 124.428698 \nL 89.500531 127.156755 \nL 90.720426 129.509998 \nL 91.330373 132.037076 \nL 92.550267 131.417695 \nL 93.160214 128.435695 \nL 93.770161 126.862604 \nL 95.600003 126.209824 \nL 96.20995 124.75183 \nL 96.819897 122.097284 \nL 97.429844 123.170179 \nL 98.649739 122.857554 \nL 99.259686 123.88008 \nL 99.869633 123.718811 \nL 100.47958 125.849398 \nL 101.089527 125.66804 \nL 102.309422 123.112119 \nL 102.919369 120.789155 \nL 103.529316 119.597642 \nL 104.74921 121.50763 \nL 105.359158 121.389316 \nL 105.969105 119.214545 \nL 106.579052 119.124038 \nL 107.188999 121.049822 \nL 108.408893 122.807006 \nL 109.018841 122.682492 \nL 109.628788 121.595376 \nL 110.238735 121.485925 \nL 110.848682 123.269702 \nL 111.458629 123.145546 \nL 112.068576 121.170691 \nL 113.288471 124.60452 \nL 113.898418 125.371832 \nL 114.508365 125.233428 \nL 115.118312 126.862604 \nL 115.728259 125.838601 \nL 116.338207 125.699728 \nL 116.948154 126.421365 \nL 118.168048 126.14058 \nL 119.387942 124.215196 \nL 119.99789 125.738043 \nL 120.607837 123.170179 \nL 121.217784 123.86989 \nL 122.437678 126.817344 \nL 124.877467 129.356848 \nL 125.487414 129.206211 \nL 126.707308 130.406712 \nL 127.317256 126.544913 \nL 127.927203 126.421365 \nL 128.53715 127.029369 \nL 129.147097 126.903971 \nL 129.757044 126.062224 \nL 130.366991 127.37172 \nL 130.976939 127.953904 \nL 132.80678 127.573845 \nL 134.026674 128.692428 \nL 134.636622 128.563123 \nL 135.856516 129.643321 \nL 136.466463 129.509998 \nL 138.296305 131.065126 \nL 138.906252 130.28217 \nL 140.126146 130.01772 \nL 141.34604 128.50828 \nL 141.955988 128.390628 \nL 142.565935 128.892274 \nL 143.175882 128.773642 \nL 143.785829 129.875767 \nL 144.395776 129.146632 \nL 145.005723 129.630343 \nL 145.615671 129.509998 \nL 146.225618 128.797239 \nL 148.055459 130.209323 \nL 149.275354 129.970416 \nL 150.495248 130.874309 \nL 151.105195 130.188005 \nL 152.325089 129.956553 \nL 152.935037 129.288074 \nL 155.374825 131.027225 \nL 156.59472 130.795442 \nL 157.204667 131.214079 \nL 157.814614 132.157406 \nL 159.644455 131.80046 \nL 160.86435 132.598645 \nL 162.084244 131.342818 \nL 162.694191 131.737872 \nL 163.304138 132.632211 \nL 163.914086 132.515167 \nL 164.524033 131.901212 \nL 165.13398 131.789318 \nL 165.743927 132.17149 \nL 166.963821 131.948405 \nL 167.573769 132.323742 \nL 168.183716 131.72996 \nL 168.793663 131.622443 \nL 169.40361 130.083152 \nL 170.623504 129.888207 \nL 171.233452 129.32186 \nL 171.843399 129.697197 \nL 174.893135 129.236131 \nL 175.503082 129.60085 \nL 176.722976 129.420044 \nL 177.332923 128.883327 \nL 177.94287 129.242717 \nL 178.552818 128.711979 \nL 179.162765 129.068773 \nL 179.772712 129.861325 \nL 180.382659 130.209323 \nL 181.602553 131.761538 \nL 182.212501 132.095839 \nL 182.822448 131.99807 \nL 184.652289 132.979436 \nL 185.262236 132.458253 \nL 185.872184 131.522506 \nL 186.482131 131.84735 \nL 187.092078 132.584797 \nL 187.702025 130.833702 \nL 188.311972 131.157276 \nL 189.531867 130.979493 \nL 190.141814 131.298165 \nL 190.751761 132.018684 \nL 191.361708 131.927197 \nL 191.971655 132.638755 \nL 192.581602 132.94478 \nL 193.19155 132.850504 \nL 193.801497 131.965071 \nL 194.411444 132.664354 \nL 195.021391 132.965091 \nL 195.631338 132.481352 \nL 197.46118 134.529041 \nL 198.071127 134.431313 \nL 198.681074 134.71729 \nL 199.900968 133.763207 \nL 200.510916 134.426605 \nL 201.120863 133.954631 \nL 202.340757 134.516587 \nL 202.950704 134.422048 \nL 204.170599 134.973566 \nL 204.780546 135.613741 \nL 205.390493 135.88261 \nL 206.00044 136.514155 \nL 207.830282 136.21607 \nL 208.440229 135.759104 \nL 209.660123 136.28124 \nL 210.27007 136.894325 \nL 210.880017 136.795409 \nL 211.489965 137.04956 \nL 212.099912 137.652772 \nL 212.709859 137.202462 \nL 213.929753 137.006026 \nL 214.5397 137.600388 \nL 215.149648 137.156967 \nL 216.369542 136.963762 \nL 216.979489 137.549549 \nL 217.589436 137.112797 \nL 218.199383 137.355598 \nL 220.029225 137.069912 \nL 221.249119 137.547105 \nL 221.859066 137.452208 \nL 222.469014 137.028255 \nL 224.908802 137.963119 \nL 225.518749 138.516722 \nL 226.128697 138.74363 \nL 226.738644 139.290689 \nL 227.958538 139.734455 \nL 229.178432 138.902842 \nL 229.78838 139.123786 \nL 230.398327 138.712882 \nL 231.008274 138.618868 \nL 231.618221 139.151553 \nL 232.838115 138.340596 \nL 233.448063 138.558986 \nL 234.05801 139.084781 \nL 235.277904 138.898645 \nL 235.887851 138.500691 \nL 236.497798 138.714953 \nL 237.717693 138.533663 \nL 238.32764 138.745729 \nL 238.937587 139.257261 \nL 239.547534 138.86588 \nL 240.157481 139.373712 \nL 240.767429 139.580352 \nL 241.377376 138.89471 \nL 241.987323 138.509487 \nL 242.59727 139.011989 \nL 243.817164 139.421002 \nL 244.427112 139.331282 \nL 245.037059 138.95074 \nL 245.647006 138.86305 \nL 247.476847 139.466538 \nL 248.086795 139.952085 \nL 248.696742 139.576665 \nL 249.306689 140.058884 \nL 249.916636 140.253912 \nL 250.526583 140.731105 \nL 251.13653 140.640392 \nL 251.746478 141.113512 \nL 252.356425 141.022191 \nL 253.576319 141.399392 \nL 254.796213 140.662387 \nL 255.406161 140.573772 \nL 256.016108 141.03724 \nL 256.626055 141.22299 \nL 258.455896 140.956123 \nL 259.065844 140.596485 \nL 259.675791 140.780812 \nL 260.895685 140.607544 \nL 261.505632 139.984504 \nL 262.115579 140.436279 \nL 263.335474 140.266974 \nL 263.945421 140.714053 \nL 265.165315 140.544624 \nL 266.995157 139.508816 \nL 267.605104 139.689457 \nL 268.824998 139.009503 \nL 269.434945 138.931202 \nL 270.044893 139.111443 \nL 270.65484 139.033293 \nL 271.264787 139.212263 \nL 271.874734 139.134266 \nL 272.484681 139.311952 \nL 273.704576 139.156703 \nL 274.314523 138.826543 \nL 274.92447 139.003138 \nL 276.754311 138.775912 \nL 277.364259 139.200499 \nL 277.974206 139.124628 \nL 278.584153 139.297592 \nL 279.1941 139.221873 \nL 279.804047 139.393636 \nL 280.413994 139.318068 \nL 281.633889 138.677866 \nL 282.853783 139.019748 \nL 284.073677 138.387817 \nL 285.903519 138.174232 \nL 288.953255 139.013507 \nL 289.563202 138.941792 \nL 290.173149 139.106845 \nL 290.783096 139.035268 \nL 291.393043 139.199229 \nL 292.002991 139.127777 \nL 293.222885 139.452772 \nL 293.832832 139.148418 \nL 294.442779 139.542271 \nL 296.272621 140.020583 \nL 297.492515 139.418102 \nL 298.712409 139.278014 \nL 300.542251 139.750084 \nL 301.152198 139.679902 \nL 301.762145 139.835524 \nL 302.372092 139.540573 \nL 303.591987 139.402597 \nL 304.201934 139.780654 \nL 304.811881 139.71141 \nL 305.421828 140.086913 \nL 306.031775 139.573931 \nL 306.641723 139.94797 \nL 307.25167 139.437764 \nL 307.861617 139.370163 \nL 308.471564 139.742021 \nL 312.741194 139.272684 \nL 313.351141 138.991402 \nL 314.571036 139.290689 \nL 315.180983 139.225297 \nL 317.010824 139.668497 \nL 317.620772 139.178781 \nL 318.840666 139.472434 \nL 319.450613 139.828855 \nL 320.06056 139.763436 \nL 320.670507 140.117579 \nL 323.110296 139.856249 \nL 323.720243 140.206222 \nL 324.33019 139.934149 \nL 325.550085 139.805465 \nL 326.160032 139.536085 \nL 326.769979 139.472903 \nL 327.379926 139.205456 \nL 327.989873 139.347381 \nL 328.599821 139.285028 \nL 329.209768 139.019748 \nL 330.429662 138.897305 \nL 331.039609 138.432732 \nL 331.649556 138.373043 \nL 332.259504 138.112624 \nL 332.869451 138.053888 \nL 333.479398 137.795291 \nL 334.699292 138.078479 \nL 335.30924 137.821484 \nL 335.919187 136.771937 \nL 337.749028 137.198734 \nL 338.358975 137.143063 \nL 338.968923 136.891329 \nL 339.57887 136.836541 \nL 340.798764 136.337519 \nL 342.018658 136.619698 \nL 343.238553 137.28641 \nL 343.8485 137.231595 \nL 345.068394 136.738178 \nL 345.678341 136.876693 \nL 346.288289 136.440286 \nL 348.11813 135.712643 \nL 349.338024 135.990459 \nL 350.557919 135.888575 \nL 351.167866 135.649612 \nL 351.777813 135.787519 \nL 352.38776 135.737302 \nL 352.997707 136.061663 \nL 353.607655 136.011087 \nL 354.217602 135.774278 \nL 354.827549 135.166302 \nL 355.437496 135.117825 \nL 356.047443 135.254862 \nL 356.047443 135.254862 \n\" style=\"fill:none;stroke:#d62728;stroke-linecap:square;stroke-width:1.5;\"/>\n   </g>\n   <g id=\"line2d_17\">\n    <path clip-path=\"url(#pdd12e55e3c)\" d=\"M 51.683807 110.978185 \nL 52.293754 110.978185 \nL 52.903701 141.864545 \nL 53.513648 180.472502 \nL 54.123595 166.573639 \nL 54.733543 141.864545 \nL 55.34349 150.689219 \nL 55.953437 157.307725 \nL 56.563384 162.455452 \nL 57.173331 157.307725 \nL 57.783278 161.519512 \nL 58.393226 157.307725 \nL 59.003173 167.999157 \nL 59.61312 170.544737 \nL 60.223067 166.573639 \nL 61.442961 170.93406 \nL 62.052909 172.750905 \nL 62.662856 169.499719 \nL 63.272803 171.206589 \nL 63.88275 168.338568 \nL 64.492697 174.154843 \nL 65.102644 163.350716 \nL 65.712592 165.029322 \nL 66.322539 155.454553 \nL 67.542433 152.159998 \nL 68.15238 150.689219 \nL 68.762327 146.12474 \nL 69.372275 151.130459 \nL 69.982222 152.824225 \nL 70.592169 157.307725 \nL 71.202116 155.903801 \nL 73.031958 159.881595 \nL 74.251852 157.307725 \nL 74.861799 158.495662 \nL 75.471746 154.99125 \nL 76.081694 149.397811 \nL 76.691641 152.895388 \nL 77.301588 154.075441 \nL 77.911535 157.307725 \nL 78.521482 158.337279 \nL 80.351324 155.377329 \nL 80.961271 156.36223 \nL 81.571218 159.160911 \nL 82.181165 158.216147 \nL 82.791112 160.871536 \nL 84.011007 162.455452 \nL 84.620954 161.519512 \nL 85.230901 162.271608 \nL 85.840848 161.371732 \nL 87.060743 162.804458 \nL 88.280637 158.067236 \nL 89.500531 159.513894 \nL 90.720426 158.020498 \nL 91.330373 155.903801 \nL 92.550267 157.307725 \nL 93.160214 159.322055 \nL 93.770161 158.631429 \nL 94.380109 156.655207 \nL 94.990056 156.020804 \nL 95.600003 154.134481 \nL 96.20995 153.551275 \nL 96.819897 154.219092 \nL 97.429844 156.088529 \nL 98.039792 155.502686 \nL 98.649739 157.307725 \nL 99.259686 154.375487 \nL 99.869633 154.99125 \nL 100.47958 153.303945 \nL 101.089527 152.787774 \nL 101.699475 153.400417 \nL 102.309422 152.895388 \nL 103.529316 154.075441 \nL 104.139263 153.580063 \nL 104.74921 152.043009 \nL 105.359158 152.622722 \nL 105.969105 151.130459 \nL 106.579052 152.725683 \nL 107.188999 152.271906 \nL 109.018841 148.041825 \nL 110.848682 146.907226 \nL 112.068576 149.894997 \nL 112.678524 149.509691 \nL 113.288471 148.223502 \nL 114.508365 147.507249 \nL 115.728259 148.566309 \nL 116.338207 147.349045 \nL 116.948154 147.012272 \nL 117.558101 148.381857 \nL 118.168048 147.199471 \nL 118.777995 147.70791 \nL 119.99789 143.777861 \nL 121.217784 144.818903 \nL 121.827731 146.12474 \nL 122.437678 145.032377 \nL 123.047625 145.529039 \nL 123.657573 145.238685 \nL 124.26752 145.72535 \nL 124.877467 145.438173 \nL 125.487414 146.674725 \nL 126.097361 145.631185 \nL 127.317256 145.076726 \nL 127.927203 146.276882 \nL 128.53715 146.728546 \nL 130.366991 143.765255 \nL 130.976939 141.392999 \nL 132.196833 140.935633 \nL 132.80678 142.095044 \nL 133.416727 141.178185 \nL 134.026674 140.956123 \nL 135.246569 141.864545 \nL 135.856516 142.975575 \nL 137.07641 143.836018 \nL 138.296305 145.968331 \nL 140.126146 145.249358 \nL 140.736093 145.646552 \nL 141.34604 146.664453 \nL 141.955988 145.803085 \nL 143.175882 142.887278 \nL 144.395776 144.89262 \nL 145.005723 145.274087 \nL 145.615671 146.248425 \nL 146.225618 146.022331 \nL 146.835565 146.979493 \nL 148.055459 145.361114 \nL 148.665406 142.829743 \nL 149.275354 142.631912 \nL 149.885301 141.864545 \nL 150.495248 141.675068 \nL 151.105195 142.052876 \nL 151.715142 141.864545 \nL 152.325089 142.236679 \nL 152.935037 141.494648 \nL 153.544984 141.864545 \nL 154.154931 142.778352 \nL 154.764878 142.046235 \nL 155.374825 142.406412 \nL 155.984772 143.301123 \nL 156.59472 143.649895 \nL 157.204667 142.929597 \nL 157.814614 143.805973 \nL 159.034508 143.43504 \nL 159.644455 142.732139 \nL 160.254403 143.072392 \nL 160.86435 143.923639 \nL 161.474297 144.25355 \nL 162.084244 145.088945 \nL 163.914086 146.038389 \nL 164.524033 145.849892 \nL 165.13398 145.167909 \nL 165.743927 145.478904 \nL 166.963821 147.066465 \nL 169.40361 148.232877 \nL 170.013557 147.566648 \nL 170.623504 148.325468 \nL 171.843399 148.88418 \nL 172.453346 148.693695 \nL 173.67324 150.162375 \nL 174.893135 150.689219 \nL 175.503082 151.402987 \nL 176.722976 151.910114 \nL 177.332923 152.60763 \nL 177.94287 152.407494 \nL 178.552818 152.652615 \nL 179.162765 152.454163 \nL 179.772712 153.135869 \nL 180.382659 153.374086 \nL 180.992606 152.740028 \nL 182.212501 153.213494 \nL 182.822448 152.588977 \nL 183.432395 152.397221 \nL 184.042342 151.78219 \nL 185.262236 151.411243 \nL 185.872184 150.809011 \nL 186.482131 151.46436 \nL 187.702025 151.93019 \nL 188.921919 153.207778 \nL 189.531867 153.021738 \nL 190.141814 153.243732 \nL 190.751761 153.05917 \nL 191.361708 153.279078 \nL 191.971655 153.095953 \nL 192.581602 152.515025 \nL 193.19155 152.336745 \nL 193.801497 152.951956 \nL 194.411444 152.379051 \nL 195.631338 152.811619 \nL 196.851233 152.461549 \nL 197.46118 151.902617 \nL 198.681074 151.564394 \nL 199.900968 150.472224 \nL 201.120863 150.904461 \nL 201.73081 149.992545 \nL 202.950704 148.934922 \nL 203.560651 148.783097 \nL 204.780546 149.21844 \nL 205.390493 148.701054 \nL 206.00044 148.552543 \nL 206.610387 148.041825 \nL 207.220334 148.620944 \nL 207.830282 148.113927 \nL 209.050176 148.542684 \nL 209.660123 148.398205 \nL 210.27007 148.96487 \nL 210.880017 148.819879 \nL 212.099912 147.831237 \nL 212.709859 146.643189 \nL 213.319806 146.509121 \nL 213.929753 146.723078 \nL 215.149648 145.768402 \nL 216.369542 146.195475 \nL 216.979489 146.747324 \nL 217.589436 146.955703 \nL 218.199383 146.14806 \nL 219.419278 145.893206 \nL 220.029225 146.101668 \nL 221.859066 145.72535 \nL 222.469014 146.261183 \nL 223.078961 146.464647 \nL 223.688908 146.33925 \nL 224.298855 145.888483 \nL 224.908802 146.091105 \nL 226.738644 145.72535 \nL 227.348591 145.925735 \nL 227.958538 146.444254 \nL 228.568485 146.640787 \nL 229.178432 146.201329 \nL 229.78838 146.081123 \nL 230.398327 145.646552 \nL 232.228168 146.232312 \nL 233.448063 145.376717 \nL 234.05801 144.644323 \nL 234.667957 144.840318 \nL 235.277904 145.341826 \nL 235.887851 145.228413 \nL 236.497798 145.72535 \nL 237.107746 145.611427 \nL 237.717693 145.801042 \nL 238.32764 145.687615 \nL 240.157481 146.248425 \nL 240.767429 146.135012 \nL 241.377376 146.616293 \nL 243.817164 147.338082 \nL 244.427112 147.223385 \nL 245.037059 147.400781 \nL 247.476847 146.94833 \nL 248.086795 146.263227 \nL 248.696742 146.154329 \nL 249.306689 145.760987 \nL 250.526583 145.548244 \nL 251.746478 145.901366 \nL 252.356425 146.357116 \nL 252.966372 146.25022 \nL 253.576319 145.864887 \nL 254.186266 146.038389 \nL 256.016108 144.898032 \nL 256.626055 144.797377 \nL 257.236002 144.423186 \nL 258.455896 144.771502 \nL 260.895685 144.378561 \nL 261.505632 144.550323 \nL 262.115579 143.917688 \nL 263.335474 144.793428 \nL 263.945421 144.431042 \nL 264.555368 144.335454 \nL 266.995157 145.005536 \nL 268.215051 144.814374 \nL 268.824998 145.238685 \nL 269.434945 145.401818 \nL 270.044893 145.047827 \nL 270.65484 145.467955 \nL 271.264787 145.115745 \nL 271.874734 144.509509 \nL 272.484681 144.417138 \nL 273.704576 143.726194 \nL 274.314523 143.88988 \nL 274.92447 143.800201 \nL 275.534417 144.214599 \nL 276.144364 144.124521 \nL 276.754311 144.535798 \nL 277.974206 143.857212 \nL 278.584153 143.769066 \nL 279.804047 144.088373 \nL 280.413994 144.493175 \nL 281.633889 144.806103 \nL 282.243836 144.472367 \nL 283.46373 144.782948 \nL 284.073677 145.179576 \nL 284.683625 144.848353 \nL 285.293572 145.001449 \nL 285.903519 144.913068 \nL 286.513466 144.585104 \nL 287.123413 144.49827 \nL 287.73336 144.650688 \nL 288.343308 144.564131 \nL 288.953255 144.715596 \nL 290.173149 144.070714 \nL 291.393043 144.843438 \nL 292.002991 144.992281 \nL 292.612938 144.672407 \nL 293.222885 144.820932 \nL 293.832832 145.201516 \nL 296.882568 145.926523 \nL 297.492515 146.298725 \nL 298.102462 146.211519 \nL 299.322357 146.493712 \nL 299.932304 146.179555 \nL 300.542251 146.093494 \nL 301.152198 146.233845 \nL 301.762145 145.69717 \nL 302.98204 145.529039 \nL 304.201934 144.915968 \nL 304.811881 144.834394 \nL 305.421828 144.530993 \nL 306.031775 144.450731 \nL 306.641723 144.59198 \nL 307.25167 144.511953 \nL 307.861617 144.872489 \nL 308.471564 144.572594 \nL 309.081511 144.493175 \nL 309.691458 144.63267 \nL 312.131247 144.31814 \nL 313.351141 144.594037 \nL 313.961089 144.516054 \nL 314.571036 144.652898 \nL 315.180983 144.575135 \nL 315.79093 144.070714 \nL 316.400877 143.994649 \nL 317.010824 143.493873 \nL 317.620772 143.843542 \nL 318.230719 143.980055 \nL 319.450613 143.830039 \nL 320.06056 143.965668 \nL 320.670507 143.891026 \nL 321.280455 143.607576 \nL 321.890402 143.95146 \nL 322.500349 143.87737 \nL 323.110296 144.011356 \nL 323.720243 143.93746 \nL 324.33019 143.450228 \nL 325.550085 143.717731 \nL 326.769979 143.572865 \nL 327.989873 143.837467 \nL 328.599821 144.172542 \nL 329.209768 144.302952 \nL 329.819715 144.027276 \nL 330.429662 143.955105 \nL 331.649556 143.408862 \nL 332.259504 143.740513 \nL 333.479398 143.999247 \nL 334.699292 143.857212 \nL 335.30924 143.985495 \nL 336.529134 144.636398 \nL 337.139081 144.564641 \nL 338.358975 145.208931 \nL 338.968923 145.332727 \nL 339.57887 145.651882 \nL 340.188817 145.774214 \nL 340.798764 145.700967 \nL 341.408711 145.822678 \nL 342.018658 145.555369 \nL 342.628606 145.676887 \nL 343.8485 145.146232 \nL 344.458447 145.075193 \nL 346.288289 145.438173 \nL 346.898236 145.367121 \nL 347.508183 145.487023 \nL 348.728077 145.345595 \nL 349.947972 145.583522 \nL 350.557919 145.513036 \nL 351.167866 145.631185 \nL 352.997707 146.544302 \nL 353.607655 146.285788 \nL 354.827549 146.143987 \nL 356.047443 146.373961 \nL 356.047443 146.373961 \n\" style=\"fill:none;stroke:#9467bd;stroke-linecap:square;stroke-width:1.5;\"/>\n   </g>\n   <g id=\"line2d_18\">\n    <path clip-path=\"url(#pdd12e55e3c)\" d=\"M 51.683807 203.637272 \nL 52.293754 157.307725 \nL 52.903701 172.750905 \nL 53.513648 157.307725 \nL 54.123595 110.978185 \nL 54.733543 141.864545 \nL 55.34349 137.452208 \nL 55.953437 122.560573 \nL 56.563384 90.387278 \nL 57.173331 92.446372 \nL 57.783278 110.978185 \nL 58.393226 103.256602 \nL 59.003173 103.850563 \nL 60.223067 117.155465 \nL 60.833014 122.560573 \nL 61.442961 132.780322 \nL 62.662856 130.485358 \nL 63.88275 128.627534 \nL 65.102644 135.15012 \nL 66.322539 140.629097 \nL 66.932486 139.488671 \nL 67.542433 131.569092 \nL 68.15238 137.452208 \nL 68.762327 139.734455 \nL 69.372275 138.775912 \nL 69.982222 134.890212 \nL 70.592169 139.934149 \nL 71.202116 141.864545 \nL 71.812063 146.406657 \nL 72.42201 148.041825 \nL 73.031958 144.438415 \nL 73.641905 146.038389 \nL 74.251852 149.992545 \nL 74.861799 151.36804 \nL 75.471746 148.041825 \nL 76.081694 151.657786 \nL 77.301588 154.075441 \nL 77.911535 157.307725 \nL 78.521482 156.278185 \nL 79.131429 153.279078 \nL 79.741377 154.350523 \nL 80.961271 148.79823 \nL 82.181165 154.582458 \nL 82.791112 153.743914 \nL 83.40106 151.188739 \nL 84.011007 152.159998 \nL 84.620954 151.411243 \nL 85.230901 147.379973 \nL 85.840848 145.115745 \nL 86.450795 146.12474 \nL 87.060743 148.670015 \nL 87.67069 148.041825 \nL 90.110478 139.934149 \nL 92.550267 143.68139 \nL 94.380109 142.299571 \nL 94.990056 144.438415 \nL 95.600003 145.249358 \nL 96.20995 144.786234 \nL 96.819897 146.806364 \nL 99.259686 149.683884 \nL 99.869633 151.516538 \nL 100.47958 151.016065 \nL 101.089527 152.787774 \nL 101.699475 151.167669 \nL 102.309422 151.792311 \nL 102.919369 153.49236 \nL 103.529316 152.998004 \nL 104.139263 151.449973 \nL 104.74921 150.990066 \nL 105.359158 151.581611 \nL 105.969105 153.189552 \nL 106.579052 153.743914 \nL 107.188999 153.279078 \nL 109.018841 154.869332 \nL 109.628788 156.342527 \nL 110.238735 153.964361 \nL 111.458629 156.839755 \nL 112.068576 156.381146 \nL 112.678524 156.84902 \nL 113.288471 155.49088 \nL 113.898418 156.857925 \nL 115.118312 155.984035 \nL 116.948154 157.307725 \nL 117.558101 156.032609 \nL 118.168048 155.623016 \nL 118.777995 156.890345 \nL 119.387942 157.307725 \nL 119.99789 156.897732 \nL 120.607837 158.120532 \nL 121.217784 157.710594 \nL 121.827731 155.710154 \nL 123.047625 156.522478 \nL 123.657573 155.361106 \nL 124.877467 156.15907 \nL 125.487414 154.269723 \nL 126.707308 153.571475 \nL 127.317256 153.971997 \nL 127.927203 155.101557 \nL 128.53715 154.754138 \nL 129.147097 155.136033 \nL 129.757044 154.793723 \nL 130.366991 155.882206 \nL 130.976939 155.539427 \nL 131.586886 154.499877 \nL 132.196833 154.869332 \nL 132.80678 153.850299 \nL 133.416727 154.219092 \nL 134.026674 153.901152 \nL 134.636622 152.911501 \nL 135.246569 153.279078 \nL 135.856516 154.307969 \nL 137.07641 155.007681 \nL 137.686357 152.740028 \nL 140.736093 154.471227 \nL 141.34604 154.177352 \nL 143.175882 157.000914 \nL 144.395776 156.399303 \nL 145.615671 154.617625 \nL 146.225618 154.33789 \nL 147.445512 154.961937 \nL 148.055459 154.685308 \nL 148.665406 154.99125 \nL 149.275354 155.868924 \nL 151.105195 156.742731 \nL 151.715142 157.58851 \nL 152.325089 156.191351 \nL 152.935037 157.030309 \nL 153.544984 156.204648 \nL 154.154931 155.937035 \nL 154.764878 155.127514 \nL 155.374825 155.411199 \nL 155.984772 155.152864 \nL 156.59472 155.968723 \nL 157.814614 155.454553 \nL 158.424561 154.675367 \nL 159.034508 154.951996 \nL 159.644455 154.704942 \nL 160.86435 152.159998 \nL 161.474297 152.444415 \nL 162.694191 151.991232 \nL 163.304138 151.264748 \nL 163.914086 151.04698 \nL 165.743927 153.364794 \nL 166.353874 153.140522 \nL 167.573769 154.639537 \nL 168.183716 154.894737 \nL 168.793663 154.667193 \nL 169.40361 155.397239 \nL 170.623504 155.889483 \nL 172.453346 158.006166 \nL 173.063293 158.234318 \nL 173.67324 157.07724 \nL 174.283187 156.84902 \nL 174.893135 156.166609 \nL 177.332923 157.083923 \nL 177.94287 157.753203 \nL 178.552818 157.529401 \nL 179.162765 158.190204 \nL 179.772712 157.966443 \nL 180.382659 156.433586 \nL 180.992606 155.785169 \nL 181.602553 155.575781 \nL 182.212501 155.799321 \nL 183.432395 157.094237 \nL 185.262236 157.728902 \nL 185.872184 158.355905 \nL 186.482131 158.55988 \nL 187.092078 158.346516 \nL 187.702025 158.962362 \nL 188.311972 158.337279 \nL 188.921919 158.127726 \nL 189.531867 158.328207 \nL 190.751761 157.105421 \nL 191.361708 155.696264 \nL 191.971655 155.502686 \nL 192.581602 156.109557 \nL 193.19155 156.313532 \nL 194.411444 155.927701 \nL 195.021391 156.129868 \nL 195.631338 155.939341 \nL 196.851233 156.338495 \nL 197.46118 156.149488 \nL 198.071127 156.346531 \nL 198.681074 156.15907 \nL 199.291021 156.354443 \nL 199.900968 156.168486 \nL 200.510916 155.605826 \nL 201.120863 155.801075 \nL 201.73081 156.369879 \nL 202.340757 156.18685 \nL 202.950704 156.749538 \nL 203.560651 156.937096 \nL 204.170599 156.753998 \nL 204.780546 156.940037 \nL 205.390493 157.490851 \nL 206.00044 157.307725 \nL 206.610387 157.489415 \nL 207.220334 157.307725 \nL 207.830282 157.848542 \nL 208.440229 157.66688 \nL 209.050176 157.844373 \nL 209.660123 157.664119 \nL 210.27007 156.775206 \nL 212.099912 156.254782 \nL 212.709859 156.783242 \nL 213.319806 156.959395 \nL 214.5397 155.92476 \nL 215.149648 156.102129 \nL 215.759595 156.621365 \nL 216.979489 156.967072 \nL 218.199383 157.984075 \nL 218.809331 158.15008 \nL 220.639172 157.641033 \nL 221.249119 157.141679 \nL 221.859066 157.638658 \nL 222.469014 157.142852 \nL 223.078961 157.636311 \nL 223.688908 157.471438 \nL 224.298855 156.655207 \nL 226.128697 156.177737 \nL 226.738644 156.342527 \nL 227.348591 155.864947 \nL 227.958538 155.071125 \nL 228.568485 155.238028 \nL 229.178432 155.721103 \nL 229.78838 154.935911 \nL 230.398327 155.101557 \nL 231.008274 154.951996 \nL 232.228168 155.279836 \nL 232.838115 154.820233 \nL 233.448063 154.983504 \nL 234.05801 154.836816 \nL 234.667957 154.998955 \nL 235.277904 155.466828 \nL 235.887851 155.625805 \nL 237.107746 155.333036 \nL 238.32764 155.647717 \nL 238.937587 155.201839 \nL 239.547534 155.058726 \nL 240.157481 154.617625 \nL 240.767429 155.073183 \nL 241.377376 154.931851 \nL 241.987323 154.199361 \nL 242.59727 154.651895 \nL 243.817164 153.789037 \nL 245.037059 153.519781 \nL 245.647006 153.676894 \nL 246.256953 153.253894 \nL 246.8669 153.410855 \nL 248.696742 153.017955 \nL 249.306689 153.173715 \nL 249.916636 152.760049 \nL 251.746478 153.223974 \nL 252.966372 152.968705 \nL 253.576319 153.400417 \nL 254.186266 153.273031 \nL 254.796213 153.42382 \nL 255.406161 153.297111 \nL 256.016108 153.446934 \nL 256.626055 153.045956 \nL 257.236002 153.469785 \nL 257.845949 153.617771 \nL 258.455896 153.49236 \nL 259.065844 153.095953 \nL 259.675791 153.243732 \nL 260.285738 153.660795 \nL 261.505632 153.413368 \nL 263.335474 153.846323 \nL 263.945421 153.723493 \nL 264.555368 153.866109 \nL 265.165315 153.479933 \nL 265.775262 153.622424 \nL 266.38521 153.239134 \nL 268.215051 153.663832 \nL 269.434945 153.425367 \nL 270.044893 153.565234 \nL 270.65484 153.446934 \nL 271.264787 152.815941 \nL 271.874734 153.212306 \nL 273.094628 152.980248 \nL 274.314523 153.257056 \nL 274.92447 153.141862 \nL 275.534417 152.523696 \nL 276.144364 152.411111 \nL 276.754311 151.798275 \nL 277.364259 151.938005 \nL 277.974206 151.827892 \nL 278.584153 152.215214 \nL 279.1941 152.352693 \nL 279.804047 152.242373 \nL 280.413994 152.379051 \nL 281.023942 152.023458 \nL 282.243836 151.806863 \nL 282.853783 150.967892 \nL 283.46373 150.862943 \nL 284.683625 151.622384 \nL 285.293572 151.275242 \nL 285.903519 151.651918 \nL 287.123413 151.441716 \nL 287.73336 151.815051 \nL 288.343308 151.710074 \nL 288.953255 151.36804 \nL 289.563202 151.501723 \nL 290.173149 150.9256 \nL 290.783096 151.295497 \nL 291.393043 151.193171 \nL 292.002991 150.856785 \nL 292.612938 150.756074 \nL 293.222885 150.42249 \nL 293.832832 150.556186 \nL 295.052726 151.284893 \nL 296.272621 151.545354 \nL 296.882568 151.214766 \nL 297.492515 151.344527 \nL 298.712409 152.05857 \nL 299.322357 151.729971 \nL 300.542251 152.436903 \nL 301.152198 152.561776 \nL 301.762145 152.911501 \nL 302.372092 152.809714 \nL 302.98204 152.484069 \nL 303.591987 152.60763 \nL 304.811881 152.407494 \nL 305.421828 151.863736 \nL 306.031775 151.765925 \nL 307.25167 152.454163 \nL 307.861617 151.475268 \nL 309.081511 151.721893 \nL 309.691458 151.625809 \nL 310.301406 151.748183 \nL 310.911353 151.434978 \nL 312.131247 151.678911 \nL 312.741194 151.152053 \nL 313.351141 151.27411 \nL 313.961089 151.18062 \nL 314.571036 151.302055 \nL 315.180983 151.208925 \nL 315.79093 151.543227 \nL 316.400877 151.449973 \nL 317.010824 151.78219 \nL 317.620772 151.90085 \nL 318.230719 151.595874 \nL 318.840666 151.925482 \nL 319.450613 152.043009 \nL 320.06056 152.370118 \nL 320.670507 152.066827 \nL 321.280455 151.974083 \nL 321.890402 151.673057 \nL 322.500349 151.998053 \nL 323.110296 151.490566 \nL 323.720243 151.192647 \nL 324.940138 151.838993 \nL 325.550085 151.748183 \nL 326.160032 152.068691 \nL 326.769979 151.977784 \nL 327.379926 152.091818 \nL 328.599821 151.503807 \nL 329.209768 151.618132 \nL 329.819715 151.326453 \nL 330.429662 151.238363 \nL 331.039609 151.554384 \nL 331.649556 151.264748 \nL 332.259504 150.775363 \nL 332.869451 150.488669 \nL 334.089345 149.519577 \nL 335.919187 149.867231 \nL 337.749028 149.619003 \nL 338.968923 149.062639 \nL 339.57887 148.982129 \nL 341.408711 149.326593 \nL 342.018658 149.051938 \nL 342.628606 148.972284 \nL 343.238553 148.506081 \nL 343.8485 148.234865 \nL 344.458447 148.542684 \nL 345.068394 148.464742 \nL 346.288289 148.692728 \nL 346.898236 148.997068 \nL 347.508183 148.537534 \nL 348.11813 148.650671 \nL 348.728077 148.953216 \nL 349.338024 149.065055 \nL 349.947972 148.98732 \nL 351.167866 149.209479 \nL 351.777813 148.943979 \nL 352.38776 149.0547 \nL 352.997707 148.79058 \nL 353.607655 148.901163 \nL 354.827549 149.493109 \nL 355.437496 149.044551 \nL 356.047443 149.339047 \nL 356.047443 149.339047 \n\" style=\"fill:none;stroke:#8c564b;stroke-linecap:square;stroke-width:1.5;\"/>\n   </g>\n   <g id=\"line2d_19\">\n    <path clip-path=\"url(#pdd12e55e3c)\" d=\"M 36.465625 141.555686 \nL 371.265625 141.555686 \n\" style=\"fill:none;stroke:#000000;stroke-dasharray:5.55,2.4;stroke-dashoffset:0;stroke-width:1.5;\"/>\n   </g>\n   <g id=\"patch_3\">\n    <path d=\"M 36.465625 251.82 \nL 36.465625 7.2 \n\" style=\"fill:none;stroke:#000000;stroke-linecap:square;stroke-linejoin:miter;stroke-width:0.8;\"/>\n   </g>\n   <g id=\"patch_4\">\n    <path d=\"M 371.265625 251.82 \nL 371.265625 7.2 \n\" style=\"fill:none;stroke:#000000;stroke-linecap:square;stroke-linejoin:miter;stroke-width:0.8;\"/>\n   </g>\n   <g id=\"patch_5\">\n    <path d=\"M 36.465625 251.82 \nL 371.265625 251.82 \n\" style=\"fill:none;stroke:#000000;stroke-linecap:square;stroke-linejoin:miter;stroke-width:0.8;\"/>\n   </g>\n   <g id=\"patch_6\">\n    <path d=\"M 36.465625 7.2 \nL 371.265625 7.2 \n\" style=\"fill:none;stroke:#000000;stroke-linecap:square;stroke-linejoin:miter;stroke-width:0.8;\"/>\n   </g>\n   <g id=\"legend_1\">\n    <g id=\"patch_7\">\n     <path d=\"M 288.410937 103.26875 \nL 364.265625 103.26875 \nQ 366.265625 103.26875 366.265625 101.26875 \nL 366.265625 14.2 \nQ 366.265625 12.2 364.265625 12.2 \nL 288.410937 12.2 \nQ 286.410937 12.2 286.410937 14.2 \nL 286.410937 101.26875 \nQ 286.410937 103.26875 288.410937 103.26875 \nz\n\" style=\"fill:#ffffff;opacity:0.8;stroke:#cccccc;stroke-linejoin:miter;\"/>\n    </g>\n    <g id=\"line2d_20\">\n     <path d=\"M 290.410937 20.298437 \nL 310.410937 20.298437 \n\" style=\"fill:none;stroke:#1f77b4;stroke-linecap:square;stroke-width:1.5;\"/>\n    </g>\n    <g id=\"line2d_21\"/>\n    <g id=\"text_13\">\n     <!-- P(die=1) -->\n     <defs>\n      <path d=\"M 19.671875 64.796875 \nL 19.671875 37.40625 \nL 32.078125 37.40625 \nQ 38.96875 37.40625 42.71875 40.96875 \nQ 46.484375 44.53125 46.484375 51.125 \nQ 46.484375 57.671875 42.71875 61.234375 \nQ 38.96875 64.796875 32.078125 64.796875 \nz\nM 9.8125 72.90625 \nL 32.078125 72.90625 \nQ 44.34375 72.90625 50.609375 67.359375 \nQ 56.890625 61.8125 56.890625 51.125 \nQ 56.890625 40.328125 50.609375 34.8125 \nQ 44.34375 29.296875 32.078125 29.296875 \nL 19.671875 29.296875 \nL 19.671875 0 \nL 9.8125 0 \nz\n\" id=\"DejaVuSans-80\"/>\n      <path d=\"M 31 75.875 \nQ 24.46875 64.65625 21.28125 53.65625 \nQ 18.109375 42.671875 18.109375 31.390625 \nQ 18.109375 20.125 21.3125 9.0625 \nQ 24.515625 -2 31 -13.1875 \nL 23.1875 -13.1875 \nQ 15.875 -1.703125 12.234375 9.375 \nQ 8.59375 20.453125 8.59375 31.390625 \nQ 8.59375 42.28125 12.203125 53.3125 \nQ 15.828125 64.359375 23.1875 75.875 \nz\n\" id=\"DejaVuSans-40\"/>\n      <path d=\"M 45.40625 46.390625 \nL 45.40625 75.984375 \nL 54.390625 75.984375 \nL 54.390625 0 \nL 45.40625 0 \nL 45.40625 8.203125 \nQ 42.578125 3.328125 38.25 0.953125 \nQ 33.9375 -1.421875 27.875 -1.421875 \nQ 17.96875 -1.421875 11.734375 6.484375 \nQ 5.515625 14.40625 5.515625 27.296875 \nQ 5.515625 40.1875 11.734375 48.09375 \nQ 17.96875 56 27.875 56 \nQ 33.9375 56 38.25 53.625 \nQ 42.578125 51.265625 45.40625 46.390625 \nz\nM 14.796875 27.296875 \nQ 14.796875 17.390625 18.875 11.75 \nQ 22.953125 6.109375 30.078125 6.109375 \nQ 37.203125 6.109375 41.296875 11.75 \nQ 45.40625 17.390625 45.40625 27.296875 \nQ 45.40625 37.203125 41.296875 42.84375 \nQ 37.203125 48.484375 30.078125 48.484375 \nQ 22.953125 48.484375 18.875 42.84375 \nQ 14.796875 37.203125 14.796875 27.296875 \nz\n\" id=\"DejaVuSans-100\"/>\n      <path d=\"M 9.421875 54.6875 \nL 18.40625 54.6875 \nL 18.40625 0 \nL 9.421875 0 \nz\nM 9.421875 75.984375 \nL 18.40625 75.984375 \nL 18.40625 64.59375 \nL 9.421875 64.59375 \nz\n\" id=\"DejaVuSans-105\"/>\n      <path d=\"M 56.203125 29.59375 \nL 56.203125 25.203125 \nL 14.890625 25.203125 \nQ 15.484375 15.921875 20.484375 11.0625 \nQ 25.484375 6.203125 34.421875 6.203125 \nQ 39.59375 6.203125 44.453125 7.46875 \nQ 49.3125 8.734375 54.109375 11.28125 \nL 54.109375 2.78125 \nQ 49.265625 0.734375 44.1875 -0.34375 \nQ 39.109375 -1.421875 33.890625 -1.421875 \nQ 20.796875 -1.421875 13.15625 6.1875 \nQ 5.515625 13.8125 5.515625 26.8125 \nQ 5.515625 40.234375 12.765625 48.109375 \nQ 20.015625 56 32.328125 56 \nQ 43.359375 56 49.78125 48.890625 \nQ 56.203125 41.796875 56.203125 29.59375 \nz\nM 47.21875 32.234375 \nQ 47.125 39.59375 43.09375 43.984375 \nQ 39.0625 48.390625 32.421875 48.390625 \nQ 24.90625 48.390625 20.390625 44.140625 \nQ 15.875 39.890625 15.1875 32.171875 \nz\n\" id=\"DejaVuSans-101\"/>\n      <path d=\"M 10.59375 45.40625 \nL 73.1875 45.40625 \nL 73.1875 37.203125 \nL 10.59375 37.203125 \nz\nM 10.59375 25.484375 \nL 73.1875 25.484375 \nL 73.1875 17.1875 \nL 10.59375 17.1875 \nz\n\" id=\"DejaVuSans-61\"/>\n      <path d=\"M 8.015625 75.875 \nL 15.828125 75.875 \nQ 23.140625 64.359375 26.78125 53.3125 \nQ 30.421875 42.28125 30.421875 31.390625 \nQ 30.421875 20.453125 26.78125 9.375 \nQ 23.140625 -1.703125 15.828125 -13.1875 \nL 8.015625 -13.1875 \nQ 14.5 -2 17.703125 9.0625 \nQ 20.90625 20.125 20.90625 31.390625 \nQ 20.90625 42.671875 17.703125 53.65625 \nQ 14.5 64.65625 8.015625 75.875 \nz\n\" id=\"DejaVuSans-41\"/>\n     </defs>\n     <g transform=\"translate(318.410937 23.798437)scale(0.1 -0.1)\">\n      <use xlink:href=\"#DejaVuSans-80\"/>\n      <use x=\"60.302734\" xlink:href=\"#DejaVuSans-40\"/>\n      <use x=\"99.316406\" xlink:href=\"#DejaVuSans-100\"/>\n      <use x=\"162.792969\" xlink:href=\"#DejaVuSans-105\"/>\n      <use x=\"190.576172\" xlink:href=\"#DejaVuSans-101\"/>\n      <use x=\"252.099609\" xlink:href=\"#DejaVuSans-61\"/>\n      <use x=\"335.888672\" xlink:href=\"#DejaVuSans-49\"/>\n      <use x=\"399.511719\" xlink:href=\"#DejaVuSans-41\"/>\n     </g>\n    </g>\n    <g id=\"line2d_22\">\n     <path d=\"M 290.410937 34.976562 \nL 310.410937 34.976562 \n\" style=\"fill:none;stroke:#ff7f0e;stroke-linecap:square;stroke-width:1.5;\"/>\n    </g>\n    <g id=\"line2d_23\"/>\n    <g id=\"text_14\">\n     <!-- P(die=2) -->\n     <g transform=\"translate(318.410937 38.476562)scale(0.1 -0.1)\">\n      <use xlink:href=\"#DejaVuSans-80\"/>\n      <use x=\"60.302734\" xlink:href=\"#DejaVuSans-40\"/>\n      <use x=\"99.316406\" xlink:href=\"#DejaVuSans-100\"/>\n      <use x=\"162.792969\" xlink:href=\"#DejaVuSans-105\"/>\n      <use x=\"190.576172\" xlink:href=\"#DejaVuSans-101\"/>\n      <use x=\"252.099609\" xlink:href=\"#DejaVuSans-61\"/>\n      <use x=\"335.888672\" xlink:href=\"#DejaVuSans-50\"/>\n      <use x=\"399.511719\" xlink:href=\"#DejaVuSans-41\"/>\n     </g>\n    </g>\n    <g id=\"line2d_24\">\n     <path d=\"M 290.410937 49.654687 \nL 310.410937 49.654687 \n\" style=\"fill:none;stroke:#2ca02c;stroke-linecap:square;stroke-width:1.5;\"/>\n    </g>\n    <g id=\"line2d_25\"/>\n    <g id=\"text_15\">\n     <!-- P(die=3) -->\n     <g transform=\"translate(318.410937 53.154687)scale(0.1 -0.1)\">\n      <use xlink:href=\"#DejaVuSans-80\"/>\n      <use x=\"60.302734\" xlink:href=\"#DejaVuSans-40\"/>\n      <use x=\"99.316406\" xlink:href=\"#DejaVuSans-100\"/>\n      <use x=\"162.792969\" xlink:href=\"#DejaVuSans-105\"/>\n      <use x=\"190.576172\" xlink:href=\"#DejaVuSans-101\"/>\n      <use x=\"252.099609\" xlink:href=\"#DejaVuSans-61\"/>\n      <use x=\"335.888672\" xlink:href=\"#DejaVuSans-51\"/>\n      <use x=\"399.511719\" xlink:href=\"#DejaVuSans-41\"/>\n     </g>\n    </g>\n    <g id=\"line2d_26\">\n     <path d=\"M 290.410937 64.332812 \nL 310.410937 64.332812 \n\" style=\"fill:none;stroke:#d62728;stroke-linecap:square;stroke-width:1.5;\"/>\n    </g>\n    <g id=\"line2d_27\"/>\n    <g id=\"text_16\">\n     <!-- P(die=4) -->\n     <g transform=\"translate(318.410937 67.832812)scale(0.1 -0.1)\">\n      <use xlink:href=\"#DejaVuSans-80\"/>\n      <use x=\"60.302734\" xlink:href=\"#DejaVuSans-40\"/>\n      <use x=\"99.316406\" xlink:href=\"#DejaVuSans-100\"/>\n      <use x=\"162.792969\" xlink:href=\"#DejaVuSans-105\"/>\n      <use x=\"190.576172\" xlink:href=\"#DejaVuSans-101\"/>\n      <use x=\"252.099609\" xlink:href=\"#DejaVuSans-61\"/>\n      <use x=\"335.888672\" xlink:href=\"#DejaVuSans-52\"/>\n      <use x=\"399.511719\" xlink:href=\"#DejaVuSans-41\"/>\n     </g>\n    </g>\n    <g id=\"line2d_28\">\n     <path d=\"M 290.410937 79.010937 \nL 310.410937 79.010937 \n\" style=\"fill:none;stroke:#9467bd;stroke-linecap:square;stroke-width:1.5;\"/>\n    </g>\n    <g id=\"line2d_29\"/>\n    <g id=\"text_17\">\n     <!-- P(die=5) -->\n     <g transform=\"translate(318.410937 82.510937)scale(0.1 -0.1)\">\n      <use xlink:href=\"#DejaVuSans-80\"/>\n      <use x=\"60.302734\" xlink:href=\"#DejaVuSans-40\"/>\n      <use x=\"99.316406\" xlink:href=\"#DejaVuSans-100\"/>\n      <use x=\"162.792969\" xlink:href=\"#DejaVuSans-105\"/>\n      <use x=\"190.576172\" xlink:href=\"#DejaVuSans-101\"/>\n      <use x=\"252.099609\" xlink:href=\"#DejaVuSans-61\"/>\n      <use x=\"335.888672\" xlink:href=\"#DejaVuSans-53\"/>\n      <use x=\"399.511719\" xlink:href=\"#DejaVuSans-41\"/>\n     </g>\n    </g>\n    <g id=\"line2d_30\">\n     <path d=\"M 290.410937 93.689062 \nL 310.410937 93.689062 \n\" style=\"fill:none;stroke:#8c564b;stroke-linecap:square;stroke-width:1.5;\"/>\n    </g>\n    <g id=\"line2d_31\"/>\n    <g id=\"text_18\">\n     <!-- P(die=6) -->\n     <defs>\n      <path d=\"M 33.015625 40.375 \nQ 26.375 40.375 22.484375 35.828125 \nQ 18.609375 31.296875 18.609375 23.390625 \nQ 18.609375 15.53125 22.484375 10.953125 \nQ 26.375 6.390625 33.015625 6.390625 \nQ 39.65625 6.390625 43.53125 10.953125 \nQ 47.40625 15.53125 47.40625 23.390625 \nQ 47.40625 31.296875 43.53125 35.828125 \nQ 39.65625 40.375 33.015625 40.375 \nz\nM 52.59375 71.296875 \nL 52.59375 62.3125 \nQ 48.875 64.0625 45.09375 64.984375 \nQ 41.3125 65.921875 37.59375 65.921875 \nQ 27.828125 65.921875 22.671875 59.328125 \nQ 17.53125 52.734375 16.796875 39.40625 \nQ 19.671875 43.65625 24.015625 45.921875 \nQ 28.375 48.1875 33.59375 48.1875 \nQ 44.578125 48.1875 50.953125 41.515625 \nQ 57.328125 34.859375 57.328125 23.390625 \nQ 57.328125 12.15625 50.6875 5.359375 \nQ 44.046875 -1.421875 33.015625 -1.421875 \nQ 20.359375 -1.421875 13.671875 8.265625 \nQ 6.984375 17.96875 6.984375 36.375 \nQ 6.984375 53.65625 15.1875 63.9375 \nQ 23.390625 74.21875 37.203125 74.21875 \nQ 40.921875 74.21875 44.703125 73.484375 \nQ 48.484375 72.75 52.59375 71.296875 \nz\n\" id=\"DejaVuSans-54\"/>\n     </defs>\n     <g transform=\"translate(318.410937 97.189062)scale(0.1 -0.1)\">\n      <use xlink:href=\"#DejaVuSans-80\"/>\n      <use x=\"60.302734\" xlink:href=\"#DejaVuSans-40\"/>\n      <use x=\"99.316406\" xlink:href=\"#DejaVuSans-100\"/>\n      <use x=\"162.792969\" xlink:href=\"#DejaVuSans-105\"/>\n      <use x=\"190.576172\" xlink:href=\"#DejaVuSans-101\"/>\n      <use x=\"252.099609\" xlink:href=\"#DejaVuSans-61\"/>\n      <use x=\"335.888672\" xlink:href=\"#DejaVuSans-54\"/>\n      <use x=\"399.511719\" xlink:href=\"#DejaVuSans-41\"/>\n     </g>\n    </g>\n   </g>\n  </g>\n </g>\n <defs>\n  <clipPath id=\"pdd12e55e3c\">\n   <rect height=\"244.62\" width=\"334.8\" x=\"36.465625\" y=\"7.2\"/>\n  </clipPath>\n </defs>\n</svg>\n"
          },
          "metadata": {
            "needs_background": "light"
          }
        }
      ]
    },
    {
      "cell_type": "markdown",
      "metadata": {
        "id": "kn9MrZeWtVQb"
      },
      "source": [
        "## Bayes rule\n",
        "\n",
        "$$\n",
        "  P(A,B) = P(B|A)P(A) \\quad \\text{and}, \\\\\n",
        "  P(A,B) = P(A|B)P(B) \\\\\n",
        "  \\iff P(A|B) = \\frac{P(A,B)}{P(B)} = \\frac{P(B|A)P(A)}{P(B)}\n",
        "$$"
      ]
    },
    {
      "cell_type": "code",
      "metadata": {
        "colab": {
          "base_uri": "https://localhost:8080/"
        },
        "id": "Jx8uApCVt0MZ",
        "outputId": "a394f9e8-a7bd-4465-aa87-5aa9713832e5"
      },
      "source": [
        "## 2.7 Documentation\n",
        "\n",
        "import tensorflow as tf\n",
        "\n",
        "# Lists available functions/classes in tf.random module\n",
        "print(dir(tf.random))\n",
        "\n",
        "# Prints instructions on how to use function/class\n",
        "help(tf.ones)\n",
        "\n",
        "# For Jupyter\n",
        "# list?\n",
        "\n",
        "# Python code will be displayed\n",
        "list??"
      ],
      "execution_count": null,
      "outputs": [
        {
          "output_type": "stream",
          "name": "stdout",
          "text": [
            "['Algorithm', 'Generator', '__builtins__', '__cached__', '__doc__', '__file__', '__loader__', '__name__', '__package__', '__path__', '__spec__', '_sys', 'all_candidate_sampler', 'categorical', 'create_rng_state', 'experimental', 'fixed_unigram_candidate_sampler', 'gamma', 'get_global_generator', 'learned_unigram_candidate_sampler', 'log_uniform_candidate_sampler', 'normal', 'poisson', 'set_global_generator', 'set_seed', 'shuffle', 'stateless_binomial', 'stateless_categorical', 'stateless_gamma', 'stateless_normal', 'stateless_parameterized_truncated_normal', 'stateless_poisson', 'stateless_truncated_normal', 'stateless_uniform', 'truncated_normal', 'uniform', 'uniform_candidate_sampler']\n",
            "Help on function ones in module tensorflow.python.ops.array_ops:\n",
            "\n",
            "ones(shape, dtype=tf.float32, name=None)\n",
            "    Creates a tensor with all elements set to one (1).\n",
            "    \n",
            "    See also `tf.ones_like`, `tf.zeros`, `tf.fill`, `tf.eye`.\n",
            "    \n",
            "    This operation returns a tensor of type `dtype` with shape `shape` and\n",
            "    all elements set to one.\n",
            "    \n",
            "    >>> tf.ones([3, 4], tf.int32)\n",
            "    <tf.Tensor: shape=(3, 4), dtype=int32, numpy=\n",
            "    array([[1, 1, 1, 1],\n",
            "           [1, 1, 1, 1],\n",
            "           [1, 1, 1, 1]], dtype=int32)>\n",
            "    \n",
            "    Args:\n",
            "      shape: A `list` of integers, a `tuple` of integers, or\n",
            "        a 1-D `Tensor` of type `int32`.\n",
            "      dtype: Optional DType of an element in the resulting `Tensor`. Default is\n",
            "        `tf.float32`.\n",
            "      name: Optional string. A name for the operation.\n",
            "    \n",
            "    Returns:\n",
            "      A `Tensor` with all elements set to one (1).\n",
            "\n"
          ]
        }
      ]
    },
    {
      "cell_type": "code",
      "metadata": {
        "id": "OYAqlBRzBhS-"
      },
      "source": [
        "# 3 - Linear Neural Networks\n",
        "\n",
        "# 3.1 Linear Model"
      ],
      "execution_count": null,
      "outputs": []
    },
    {
      "cell_type": "markdown",
      "metadata": {
        "id": "FlXinFPHEZnr"
      },
      "source": [
        "- Before thinking how to fit dat --> quality measure\n",
        "  - --> loss function\n",
        "\n",
        "  Squared error loss for example i:\n",
        "  $$\n",
        "    l^{i}(\\mathbf{w}, b) = \\frac{1}{2} ( \\hat{y}^{(i)} - y^{(i)} )\n",
        "    ^{2}\n",
        "  $$\n",
        "\n",
        "- For lineare regression --> closed form solution exists\n",
        "\n",
        "  $$\n",
        "    w^{*} = (\\mathbf{X}^{\\top}\\mathbf{X})^{-1} \\mathbf{X}^{\\top} \\mathbf{y}\n",
        "  $$\n",
        "\n",
        "\n",
        "### Minibatch Stochastic Gradient Descent\n",
        "\n",
        "- Update parameters in direction that incrementally lowers loss function\n",
        "  -> **gradient descent**\n",
        "\n",
        "- single example gradient descent often slow\n",
        "  -> use randomly sampled minibatch **minibatch stochastic gradient descent**\n",
        "\n",
        "  $$\n",
        "    (\\mathbf{w}, b) \\gets (\\mathbf{w}, b) - \\frac{\\alpha}{|\\mathcal{B}|} \\sum_{i \\in \\mathcal{B}} \\frac{\\partial}{\\partial \\mathbf{w},b} l^{(i)} (\\mathbf{w}, b)\n",
        "  $$\n",
        "\n",
        "- $\\alpha$ is called **learning rate**"
      ]
    },
    {
      "cell_type": "code",
      "metadata": {
        "colab": {
          "base_uri": "https://localhost:8080/"
        },
        "id": "i_a2Ft1vz75B",
        "outputId": "8f3388e1-5806-43a4-a990-d1ccd0ee4d3e"
      },
      "source": [
        "!pip install d2l\n",
        "%matplotlib inline\n",
        "import math\n",
        "import time\n",
        "import numpy as np\n",
        "import tensorflow as tf\n",
        "from d2l import tensorflow as d2l"
      ],
      "execution_count": null,
      "outputs": [
        {
          "output_type": "stream",
          "name": "stdout",
          "text": [
            "Requirement already satisfied: d2l in /usr/local/lib/python3.7/dist-packages (0.17.0)\n",
            "Requirement already satisfied: pandas in /usr/local/lib/python3.7/dist-packages (from d2l) (1.1.5)\n",
            "Requirement already satisfied: requests in /usr/local/lib/python3.7/dist-packages (from d2l) (2.23.0)\n",
            "Requirement already satisfied: numpy in /usr/local/lib/python3.7/dist-packages (from d2l) (1.19.5)\n",
            "Requirement already satisfied: matplotlib in /usr/local/lib/python3.7/dist-packages (from d2l) (3.2.2)\n",
            "Requirement already satisfied: jupyter in /usr/local/lib/python3.7/dist-packages (from d2l) (1.0.0)\n",
            "Requirement already satisfied: nbconvert in /usr/local/lib/python3.7/dist-packages (from jupyter->d2l) (5.6.1)\n",
            "Requirement already satisfied: ipywidgets in /usr/local/lib/python3.7/dist-packages (from jupyter->d2l) (7.6.5)\n",
            "Requirement already satisfied: notebook in /usr/local/lib/python3.7/dist-packages (from jupyter->d2l) (5.3.1)\n",
            "Requirement already satisfied: ipykernel in /usr/local/lib/python3.7/dist-packages (from jupyter->d2l) (4.10.1)\n",
            "Requirement already satisfied: qtconsole in /usr/local/lib/python3.7/dist-packages (from jupyter->d2l) (5.1.1)\n",
            "Requirement already satisfied: jupyter-console in /usr/local/lib/python3.7/dist-packages (from jupyter->d2l) (5.2.0)\n",
            "Requirement already satisfied: ipython>=4.0.0 in /usr/local/lib/python3.7/dist-packages (from ipykernel->jupyter->d2l) (5.5.0)\n",
            "Requirement already satisfied: jupyter-client in /usr/local/lib/python3.7/dist-packages (from ipykernel->jupyter->d2l) (5.3.5)\n",
            "Requirement already satisfied: traitlets>=4.1.0 in /usr/local/lib/python3.7/dist-packages (from ipykernel->jupyter->d2l) (5.1.0)\n",
            "Requirement already satisfied: tornado>=4.0 in /usr/local/lib/python3.7/dist-packages (from ipykernel->jupyter->d2l) (5.1.1)\n",
            "Requirement already satisfied: prompt-toolkit<2.0.0,>=1.0.4 in /usr/local/lib/python3.7/dist-packages (from ipython>=4.0.0->ipykernel->jupyter->d2l) (1.0.18)\n",
            "Requirement already satisfied: pygments in /usr/local/lib/python3.7/dist-packages (from ipython>=4.0.0->ipykernel->jupyter->d2l) (2.6.1)\n",
            "Requirement already satisfied: decorator in /usr/local/lib/python3.7/dist-packages (from ipython>=4.0.0->ipykernel->jupyter->d2l) (4.4.2)\n",
            "Requirement already satisfied: pickleshare in /usr/local/lib/python3.7/dist-packages (from ipython>=4.0.0->ipykernel->jupyter->d2l) (0.7.5)\n",
            "Requirement already satisfied: simplegeneric>0.8 in /usr/local/lib/python3.7/dist-packages (from ipython>=4.0.0->ipykernel->jupyter->d2l) (0.8.1)\n",
            "Requirement already satisfied: pexpect in /usr/local/lib/python3.7/dist-packages (from ipython>=4.0.0->ipykernel->jupyter->d2l) (4.8.0)\n",
            "Requirement already satisfied: setuptools>=18.5 in /usr/local/lib/python3.7/dist-packages (from ipython>=4.0.0->ipykernel->jupyter->d2l) (57.4.0)\n",
            "Requirement already satisfied: wcwidth in /usr/local/lib/python3.7/dist-packages (from prompt-toolkit<2.0.0,>=1.0.4->ipython>=4.0.0->ipykernel->jupyter->d2l) (0.2.5)\n",
            "Requirement already satisfied: six>=1.9.0 in /usr/local/lib/python3.7/dist-packages (from prompt-toolkit<2.0.0,>=1.0.4->ipython>=4.0.0->ipykernel->jupyter->d2l) (1.15.0)\n",
            "Requirement already satisfied: jupyterlab-widgets>=1.0.0 in /usr/local/lib/python3.7/dist-packages (from ipywidgets->jupyter->d2l) (1.0.2)\n",
            "Requirement already satisfied: nbformat>=4.2.0 in /usr/local/lib/python3.7/dist-packages (from ipywidgets->jupyter->d2l) (5.1.3)\n",
            "Requirement already satisfied: widgetsnbextension~=3.5.0 in /usr/local/lib/python3.7/dist-packages (from ipywidgets->jupyter->d2l) (3.5.1)\n",
            "Requirement already satisfied: ipython-genutils~=0.2.0 in /usr/local/lib/python3.7/dist-packages (from ipywidgets->jupyter->d2l) (0.2.0)\n",
            "Requirement already satisfied: jsonschema!=2.5.0,>=2.4 in /usr/local/lib/python3.7/dist-packages (from nbformat>=4.2.0->ipywidgets->jupyter->d2l) (2.6.0)\n",
            "Requirement already satisfied: jupyter-core in /usr/local/lib/python3.7/dist-packages (from nbformat>=4.2.0->ipywidgets->jupyter->d2l) (4.8.1)\n",
            "Requirement already satisfied: terminado>=0.8.1 in /usr/local/lib/python3.7/dist-packages (from notebook->jupyter->d2l) (0.12.1)\n",
            "Requirement already satisfied: Send2Trash in /usr/local/lib/python3.7/dist-packages (from notebook->jupyter->d2l) (1.8.0)\n",
            "Requirement already satisfied: jinja2 in /usr/local/lib/python3.7/dist-packages (from notebook->jupyter->d2l) (2.11.3)\n",
            "Requirement already satisfied: python-dateutil>=2.1 in /usr/local/lib/python3.7/dist-packages (from jupyter-client->ipykernel->jupyter->d2l) (2.8.2)\n",
            "Requirement already satisfied: pyzmq>=13 in /usr/local/lib/python3.7/dist-packages (from jupyter-client->ipykernel->jupyter->d2l) (22.3.0)\n",
            "Requirement already satisfied: ptyprocess in /usr/local/lib/python3.7/dist-packages (from terminado>=0.8.1->notebook->jupyter->d2l) (0.7.0)\n",
            "Requirement already satisfied: MarkupSafe>=0.23 in /usr/local/lib/python3.7/dist-packages (from jinja2->notebook->jupyter->d2l) (2.0.1)\n",
            "Requirement already satisfied: pyparsing!=2.0.4,!=2.1.2,!=2.1.6,>=2.0.1 in /usr/local/lib/python3.7/dist-packages (from matplotlib->d2l) (2.4.7)\n",
            "Requirement already satisfied: cycler>=0.10 in /usr/local/lib/python3.7/dist-packages (from matplotlib->d2l) (0.10.0)\n",
            "Requirement already satisfied: kiwisolver>=1.0.1 in /usr/local/lib/python3.7/dist-packages (from matplotlib->d2l) (1.3.2)\n",
            "Requirement already satisfied: testpath in /usr/local/lib/python3.7/dist-packages (from nbconvert->jupyter->d2l) (0.5.0)\n",
            "Requirement already satisfied: mistune<2,>=0.8.1 in /usr/local/lib/python3.7/dist-packages (from nbconvert->jupyter->d2l) (0.8.4)\n",
            "Requirement already satisfied: bleach in /usr/local/lib/python3.7/dist-packages (from nbconvert->jupyter->d2l) (4.1.0)\n",
            "Requirement already satisfied: defusedxml in /usr/local/lib/python3.7/dist-packages (from nbconvert->jupyter->d2l) (0.7.1)\n",
            "Requirement already satisfied: pandocfilters>=1.4.1 in /usr/local/lib/python3.7/dist-packages (from nbconvert->jupyter->d2l) (1.5.0)\n",
            "Requirement already satisfied: entrypoints>=0.2.2 in /usr/local/lib/python3.7/dist-packages (from nbconvert->jupyter->d2l) (0.3)\n",
            "Requirement already satisfied: webencodings in /usr/local/lib/python3.7/dist-packages (from bleach->nbconvert->jupyter->d2l) (0.5.1)\n",
            "Requirement already satisfied: packaging in /usr/local/lib/python3.7/dist-packages (from bleach->nbconvert->jupyter->d2l) (21.0)\n",
            "Requirement already satisfied: pytz>=2017.2 in /usr/local/lib/python3.7/dist-packages (from pandas->d2l) (2018.9)\n",
            "Requirement already satisfied: qtpy in /usr/local/lib/python3.7/dist-packages (from qtconsole->jupyter->d2l) (1.11.2)\n",
            "Requirement already satisfied: certifi>=2017.4.17 in /usr/local/lib/python3.7/dist-packages (from requests->d2l) (2021.5.30)\n",
            "Requirement already satisfied: chardet<4,>=3.0.2 in /usr/local/lib/python3.7/dist-packages (from requests->d2l) (3.0.4)\n",
            "Requirement already satisfied: idna<3,>=2.5 in /usr/local/lib/python3.7/dist-packages (from requests->d2l) (2.10)\n",
            "Requirement already satisfied: urllib3!=1.25.0,!=1.25.1,<1.26,>=1.21.1 in /usr/local/lib/python3.7/dist-packages (from requests->d2l) (1.24.3)\n"
          ]
        }
      ]
    },
    {
      "cell_type": "code",
      "metadata": {
        "id": "PR-Ujs6Bv3R3"
      },
      "source": [
        "class Timer: \n",
        "    \"\"\"Record multiple running times.\"\"\"\n",
        "    def __init__(self):\n",
        "        self.times = []\n",
        "        self.start()\n",
        "\n",
        "    def start(self):\n",
        "        \"\"\"Start the timer.\"\"\"\n",
        "        self.tik = time.time()\n",
        "\n",
        "    def stop(self):\n",
        "        \"\"\"Stop the timer and record the time in a list.\"\"\"\n",
        "        self.times.append(time.time() - self.tik)\n",
        "        return self.times[-1]\n",
        "\n",
        "    def avg(self):\n",
        "        \"\"\"Return the average time.\"\"\"\n",
        "        return sum(self.times) / len(self.times)\n",
        "\n",
        "    def sum(self):\n",
        "        \"\"\"Return the sum of time.\"\"\"\n",
        "        return sum(self.times)\n",
        "\n",
        "    def cumsum(self):\n",
        "        \"\"\"Return the accumulated time.\"\"\"\n",
        "        return np.array(self.times).cumsum().tolist()"
      ],
      "execution_count": null,
      "outputs": []
    },
    {
      "cell_type": "code",
      "metadata": {
        "colab": {
          "base_uri": "https://localhost:8080/",
          "height": 35
        },
        "id": "kR07__fm0LLq",
        "outputId": "6e03441a-4b75-429f-c55e-cf39495894b1"
      },
      "source": [
        "n = 10_000\n",
        "\n",
        "a = tf.ones(n)\n",
        "b = tf.ones(n)\n",
        "\n",
        "c = tf.Variable(tf.zeros(n))\n",
        "\n",
        "timer = Timer()\n",
        "for i in range(n):\n",
        "  c[i].assign(a[i] + b[i])\n",
        "\n",
        "f'{timer.stop():.5f}sec'"
      ],
      "execution_count": null,
      "outputs": [
        {
          "output_type": "execute_result",
          "data": {
            "application/vnd.google.colaboratory.intrinsic+json": {
              "type": "string"
            },
            "text/plain": [
              "'5.91108sec'"
            ]
          },
          "metadata": {},
          "execution_count": 33
        }
      ]
    },
    {
      "cell_type": "code",
      "metadata": {
        "colab": {
          "base_uri": "https://localhost:8080/",
          "height": 35
        },
        "id": "0DCmvL3C0fjD",
        "outputId": "ed2ee2a5-5030-4805-cbe5-6728ca14540b"
      },
      "source": [
        "timer.start()\n",
        "d = a + b\n",
        "f'{timer.stop():.5f}sec'"
      ],
      "execution_count": null,
      "outputs": [
        {
          "output_type": "execute_result",
          "data": {
            "application/vnd.google.colaboratory.intrinsic+json": {
              "type": "string"
            },
            "text/plain": [
              "'0.00023sec'"
            ]
          },
          "metadata": {},
          "execution_count": 34
        }
      ]
    },
    {
      "cell_type": "code",
      "metadata": {
        "colab": {
          "base_uri": "https://localhost:8080/",
          "height": 244
        },
        "id": "pOEOwJj300dm",
        "outputId": "6f07f141-ca8d-4cb3-c715-1f5b143be863"
      },
      "source": [
        "def normal(x,mu,sigma):\n",
        "  p = 1 / math.sqrt(2 * math.pi * sigma**2)\n",
        "  return p * np.exp(-.5 /sigma**2 * (x-mu)**2)\n",
        "\n",
        "x = np.arange(-7,7,0.01)\n",
        "\n",
        "params = [(0,1), (0,2), (3,1)]\n",
        "\n",
        "d2l.plot(x, [normal(x,mu,sigma) for mu, sigma in params])"
      ],
      "execution_count": null,
      "outputs": [
        {
          "output_type": "display_data",
          "data": {
            "text/plain": [
              "<Figure size 252x180 with 1 Axes>"
            ],
            "image/svg+xml": "<?xml version=\"1.0\" encoding=\"utf-8\" standalone=\"no\"?>\n<!DOCTYPE svg PUBLIC \"-//W3C//DTD SVG 1.1//EN\"\n  \"http://www.w3.org/Graphics/SVG/1.1/DTD/svg11.dtd\">\n<!-- Created with matplotlib (https://matplotlib.org/) -->\n<svg height=\"166.978125pt\" version=\"1.1\" viewBox=\"0 0 232.603125 166.978125\" width=\"232.603125pt\" xmlns=\"http://www.w3.org/2000/svg\" xmlns:xlink=\"http://www.w3.org/1999/xlink\">\n <defs>\n  <style type=\"text/css\">\n*{stroke-linecap:butt;stroke-linejoin:round;}\n  </style>\n </defs>\n <g id=\"figure_1\">\n  <g id=\"patch_1\">\n   <path d=\"M 0 166.978125 \nL 232.603125 166.978125 \nL 232.603125 0 \nL 0 0 \nz\n\" style=\"fill:none;\"/>\n  </g>\n  <g id=\"axes_1\">\n   <g id=\"patch_2\">\n    <path d=\"M 30.103125 143.1 \nL 225.403125 143.1 \nL 225.403125 7.2 \nL 30.103125 7.2 \nz\n\" style=\"fill:#ffffff;\"/>\n   </g>\n   <g id=\"matplotlib.axis_1\">\n    <g id=\"xtick_1\">\n     <g id=\"line2d_1\">\n      <path clip-path=\"url(#pe896cbe9b4)\" d=\"M 64.362164 143.1 \nL 64.362164 7.2 \n\" style=\"fill:none;stroke:#b0b0b0;stroke-linecap:square;stroke-width:0.8;\"/>\n     </g>\n     <g id=\"line2d_2\">\n      <defs>\n       <path d=\"M 0 0 \nL 0 3.5 \n\" id=\"m629633b5b6\" style=\"stroke:#000000;stroke-width:0.8;\"/>\n      </defs>\n      <g>\n       <use style=\"stroke:#000000;stroke-width:0.8;\" x=\"64.362164\" xlink:href=\"#m629633b5b6\" y=\"143.1\"/>\n      </g>\n     </g>\n     <g id=\"text_1\">\n      <!-- −5 -->\n      <defs>\n       <path d=\"M 10.59375 35.5 \nL 73.1875 35.5 \nL 73.1875 27.203125 \nL 10.59375 27.203125 \nz\n\" id=\"DejaVuSans-8722\"/>\n       <path d=\"M 10.796875 72.90625 \nL 49.515625 72.90625 \nL 49.515625 64.59375 \nL 19.828125 64.59375 \nL 19.828125 46.734375 \nQ 21.96875 47.46875 24.109375 47.828125 \nQ 26.265625 48.1875 28.421875 48.1875 \nQ 40.625 48.1875 47.75 41.5 \nQ 54.890625 34.8125 54.890625 23.390625 \nQ 54.890625 11.625 47.5625 5.09375 \nQ 40.234375 -1.421875 26.90625 -1.421875 \nQ 22.3125 -1.421875 17.546875 -0.640625 \nQ 12.796875 0.140625 7.71875 1.703125 \nL 7.71875 11.625 \nQ 12.109375 9.234375 16.796875 8.0625 \nQ 21.484375 6.890625 26.703125 6.890625 \nQ 35.15625 6.890625 40.078125 11.328125 \nQ 45.015625 15.765625 45.015625 23.390625 \nQ 45.015625 31 40.078125 35.4375 \nQ 35.15625 39.890625 26.703125 39.890625 \nQ 22.75 39.890625 18.8125 39.015625 \nQ 14.890625 38.140625 10.796875 36.28125 \nz\n\" id=\"DejaVuSans-53\"/>\n      </defs>\n      <g transform=\"translate(56.99107 157.698438)scale(0.1 -0.1)\">\n       <use xlink:href=\"#DejaVuSans-8722\"/>\n       <use x=\"83.789062\" xlink:href=\"#DejaVuSans-53\"/>\n      </g>\n     </g>\n    </g>\n    <g id=\"xtick_2\">\n     <g id=\"line2d_3\">\n      <path clip-path=\"url(#pe896cbe9b4)\" d=\"M 127.816579 143.1 \nL 127.816579 7.2 \n\" style=\"fill:none;stroke:#b0b0b0;stroke-linecap:square;stroke-width:0.8;\"/>\n     </g>\n     <g id=\"line2d_4\">\n      <g>\n       <use style=\"stroke:#000000;stroke-width:0.8;\" x=\"127.816579\" xlink:href=\"#m629633b5b6\" y=\"143.1\"/>\n      </g>\n     </g>\n     <g id=\"text_2\">\n      <!-- 0 -->\n      <defs>\n       <path d=\"M 31.78125 66.40625 \nQ 24.171875 66.40625 20.328125 58.90625 \nQ 16.5 51.421875 16.5 36.375 \nQ 16.5 21.390625 20.328125 13.890625 \nQ 24.171875 6.390625 31.78125 6.390625 \nQ 39.453125 6.390625 43.28125 13.890625 \nQ 47.125 21.390625 47.125 36.375 \nQ 47.125 51.421875 43.28125 58.90625 \nQ 39.453125 66.40625 31.78125 66.40625 \nz\nM 31.78125 74.21875 \nQ 44.046875 74.21875 50.515625 64.515625 \nQ 56.984375 54.828125 56.984375 36.375 \nQ 56.984375 17.96875 50.515625 8.265625 \nQ 44.046875 -1.421875 31.78125 -1.421875 \nQ 19.53125 -1.421875 13.0625 8.265625 \nQ 6.59375 17.96875 6.59375 36.375 \nQ 6.59375 54.828125 13.0625 64.515625 \nQ 19.53125 74.21875 31.78125 74.21875 \nz\n\" id=\"DejaVuSans-48\"/>\n      </defs>\n      <g transform=\"translate(124.635329 157.698438)scale(0.1 -0.1)\">\n       <use xlink:href=\"#DejaVuSans-48\"/>\n      </g>\n     </g>\n    </g>\n    <g id=\"xtick_3\">\n     <g id=\"line2d_5\">\n      <path clip-path=\"url(#pe896cbe9b4)\" d=\"M 191.270995 143.1 \nL 191.270995 7.2 \n\" style=\"fill:none;stroke:#b0b0b0;stroke-linecap:square;stroke-width:0.8;\"/>\n     </g>\n     <g id=\"line2d_6\">\n      <g>\n       <use style=\"stroke:#000000;stroke-width:0.8;\" x=\"191.270995\" xlink:href=\"#m629633b5b6\" y=\"143.1\"/>\n      </g>\n     </g>\n     <g id=\"text_3\">\n      <!-- 5 -->\n      <g transform=\"translate(188.089745 157.698438)scale(0.1 -0.1)\">\n       <use xlink:href=\"#DejaVuSans-53\"/>\n      </g>\n     </g>\n    </g>\n   </g>\n   <g id=\"matplotlib.axis_2\">\n    <g id=\"ytick_1\">\n     <g id=\"line2d_7\">\n      <path clip-path=\"url(#pe896cbe9b4)\" d=\"M 30.103125 136.922727 \nL 225.403125 136.922727 \n\" style=\"fill:none;stroke:#b0b0b0;stroke-linecap:square;stroke-width:0.8;\"/>\n     </g>\n     <g id=\"line2d_8\">\n      <defs>\n       <path d=\"M 0 0 \nL -3.5 0 \n\" id=\"m3967e47adb\" style=\"stroke:#000000;stroke-width:0.8;\"/>\n      </defs>\n      <g>\n       <use style=\"stroke:#000000;stroke-width:0.8;\" x=\"30.103125\" xlink:href=\"#m3967e47adb\" y=\"136.922727\"/>\n      </g>\n     </g>\n     <g id=\"text_4\">\n      <!-- 0.0 -->\n      <defs>\n       <path d=\"M 10.6875 12.40625 \nL 21 12.40625 \nL 21 0 \nL 10.6875 0 \nz\n\" id=\"DejaVuSans-46\"/>\n      </defs>\n      <g transform=\"translate(7.2 140.721946)scale(0.1 -0.1)\">\n       <use xlink:href=\"#DejaVuSans-48\"/>\n       <use x=\"63.623047\" xlink:href=\"#DejaVuSans-46\"/>\n       <use x=\"95.410156\" xlink:href=\"#DejaVuSans-48\"/>\n      </g>\n     </g>\n    </g>\n    <g id=\"ytick_2\">\n     <g id=\"line2d_9\">\n      <path clip-path=\"url(#pe896cbe9b4)\" d=\"M 30.103125 105.954474 \nL 225.403125 105.954474 \n\" style=\"fill:none;stroke:#b0b0b0;stroke-linecap:square;stroke-width:0.8;\"/>\n     </g>\n     <g id=\"line2d_10\">\n      <g>\n       <use style=\"stroke:#000000;stroke-width:0.8;\" x=\"30.103125\" xlink:href=\"#m3967e47adb\" y=\"105.954474\"/>\n      </g>\n     </g>\n     <g id=\"text_5\">\n      <!-- 0.1 -->\n      <defs>\n       <path d=\"M 12.40625 8.296875 \nL 28.515625 8.296875 \nL 28.515625 63.921875 \nL 10.984375 60.40625 \nL 10.984375 69.390625 \nL 28.421875 72.90625 \nL 38.28125 72.90625 \nL 38.28125 8.296875 \nL 54.390625 8.296875 \nL 54.390625 0 \nL 12.40625 0 \nz\n\" id=\"DejaVuSans-49\"/>\n      </defs>\n      <g transform=\"translate(7.2 109.753693)scale(0.1 -0.1)\">\n       <use xlink:href=\"#DejaVuSans-48\"/>\n       <use x=\"63.623047\" xlink:href=\"#DejaVuSans-46\"/>\n       <use x=\"95.410156\" xlink:href=\"#DejaVuSans-49\"/>\n      </g>\n     </g>\n    </g>\n    <g id=\"ytick_3\">\n     <g id=\"line2d_11\">\n      <path clip-path=\"url(#pe896cbe9b4)\" d=\"M 30.103125 74.986221 \nL 225.403125 74.986221 \n\" style=\"fill:none;stroke:#b0b0b0;stroke-linecap:square;stroke-width:0.8;\"/>\n     </g>\n     <g id=\"line2d_12\">\n      <g>\n       <use style=\"stroke:#000000;stroke-width:0.8;\" x=\"30.103125\" xlink:href=\"#m3967e47adb\" y=\"74.986221\"/>\n      </g>\n     </g>\n     <g id=\"text_6\">\n      <!-- 0.2 -->\n      <defs>\n       <path d=\"M 19.1875 8.296875 \nL 53.609375 8.296875 \nL 53.609375 0 \nL 7.328125 0 \nL 7.328125 8.296875 \nQ 12.9375 14.109375 22.625 23.890625 \nQ 32.328125 33.6875 34.8125 36.53125 \nQ 39.546875 41.84375 41.421875 45.53125 \nQ 43.3125 49.21875 43.3125 52.78125 \nQ 43.3125 58.59375 39.234375 62.25 \nQ 35.15625 65.921875 28.609375 65.921875 \nQ 23.96875 65.921875 18.8125 64.3125 \nQ 13.671875 62.703125 7.8125 59.421875 \nL 7.8125 69.390625 \nQ 13.765625 71.78125 18.9375 73 \nQ 24.125 74.21875 28.421875 74.21875 \nQ 39.75 74.21875 46.484375 68.546875 \nQ 53.21875 62.890625 53.21875 53.421875 \nQ 53.21875 48.921875 51.53125 44.890625 \nQ 49.859375 40.875 45.40625 35.40625 \nQ 44.1875 33.984375 37.640625 27.21875 \nQ 31.109375 20.453125 19.1875 8.296875 \nz\n\" id=\"DejaVuSans-50\"/>\n      </defs>\n      <g transform=\"translate(7.2 78.78544)scale(0.1 -0.1)\">\n       <use xlink:href=\"#DejaVuSans-48\"/>\n       <use x=\"63.623047\" xlink:href=\"#DejaVuSans-46\"/>\n       <use x=\"95.410156\" xlink:href=\"#DejaVuSans-50\"/>\n      </g>\n     </g>\n    </g>\n    <g id=\"ytick_4\">\n     <g id=\"line2d_13\">\n      <path clip-path=\"url(#pe896cbe9b4)\" d=\"M 30.103125 44.017968 \nL 225.403125 44.017968 \n\" style=\"fill:none;stroke:#b0b0b0;stroke-linecap:square;stroke-width:0.8;\"/>\n     </g>\n     <g id=\"line2d_14\">\n      <g>\n       <use style=\"stroke:#000000;stroke-width:0.8;\" x=\"30.103125\" xlink:href=\"#m3967e47adb\" y=\"44.017968\"/>\n      </g>\n     </g>\n     <g id=\"text_7\">\n      <!-- 0.3 -->\n      <defs>\n       <path d=\"M 40.578125 39.3125 \nQ 47.65625 37.796875 51.625 33 \nQ 55.609375 28.21875 55.609375 21.1875 \nQ 55.609375 10.40625 48.1875 4.484375 \nQ 40.765625 -1.421875 27.09375 -1.421875 \nQ 22.515625 -1.421875 17.65625 -0.515625 \nQ 12.796875 0.390625 7.625 2.203125 \nL 7.625 11.71875 \nQ 11.71875 9.328125 16.59375 8.109375 \nQ 21.484375 6.890625 26.8125 6.890625 \nQ 36.078125 6.890625 40.9375 10.546875 \nQ 45.796875 14.203125 45.796875 21.1875 \nQ 45.796875 27.640625 41.28125 31.265625 \nQ 36.765625 34.90625 28.71875 34.90625 \nL 20.21875 34.90625 \nL 20.21875 43.015625 \nL 29.109375 43.015625 \nQ 36.375 43.015625 40.234375 45.921875 \nQ 44.09375 48.828125 44.09375 54.296875 \nQ 44.09375 59.90625 40.109375 62.90625 \nQ 36.140625 65.921875 28.71875 65.921875 \nQ 24.65625 65.921875 20.015625 65.03125 \nQ 15.375 64.15625 9.8125 62.3125 \nL 9.8125 71.09375 \nQ 15.4375 72.65625 20.34375 73.4375 \nQ 25.25 74.21875 29.59375 74.21875 \nQ 40.828125 74.21875 47.359375 69.109375 \nQ 53.90625 64.015625 53.90625 55.328125 \nQ 53.90625 49.265625 50.4375 45.09375 \nQ 46.96875 40.921875 40.578125 39.3125 \nz\n\" id=\"DejaVuSans-51\"/>\n      </defs>\n      <g transform=\"translate(7.2 47.817187)scale(0.1 -0.1)\">\n       <use xlink:href=\"#DejaVuSans-48\"/>\n       <use x=\"63.623047\" xlink:href=\"#DejaVuSans-46\"/>\n       <use x=\"95.410156\" xlink:href=\"#DejaVuSans-51\"/>\n      </g>\n     </g>\n    </g>\n    <g id=\"ytick_5\">\n     <g id=\"line2d_15\">\n      <path clip-path=\"url(#pe896cbe9b4)\" d=\"M 30.103125 13.049715 \nL 225.403125 13.049715 \n\" style=\"fill:none;stroke:#b0b0b0;stroke-linecap:square;stroke-width:0.8;\"/>\n     </g>\n     <g id=\"line2d_16\">\n      <g>\n       <use style=\"stroke:#000000;stroke-width:0.8;\" x=\"30.103125\" xlink:href=\"#m3967e47adb\" y=\"13.049715\"/>\n      </g>\n     </g>\n     <g id=\"text_8\">\n      <!-- 0.4 -->\n      <defs>\n       <path d=\"M 37.796875 64.3125 \nL 12.890625 25.390625 \nL 37.796875 25.390625 \nz\nM 35.203125 72.90625 \nL 47.609375 72.90625 \nL 47.609375 25.390625 \nL 58.015625 25.390625 \nL 58.015625 17.1875 \nL 47.609375 17.1875 \nL 47.609375 0 \nL 37.796875 0 \nL 37.796875 17.1875 \nL 4.890625 17.1875 \nL 4.890625 26.703125 \nz\n\" id=\"DejaVuSans-52\"/>\n      </defs>\n      <g transform=\"translate(7.2 16.848934)scale(0.1 -0.1)\">\n       <use xlink:href=\"#DejaVuSans-48\"/>\n       <use x=\"63.623047\" xlink:href=\"#DejaVuSans-46\"/>\n       <use x=\"95.410156\" xlink:href=\"#DejaVuSans-52\"/>\n      </g>\n     </g>\n    </g>\n   </g>\n   <g id=\"line2d_17\">\n    <path clip-path=\"url(#pe896cbe9b4)\" d=\"M 38.980398 136.922727 \nL 80.225768 136.813535 \nL 84.413759 136.566288 \nL 87.205754 136.184417 \nL 89.363204 135.668952 \nL 91.139927 135.025186 \nL 92.789742 134.183135 \nL 94.185739 133.233714 \nL 95.581736 132.015009 \nL 96.850825 130.627391 \nL 98.119913 128.927785 \nL 99.389001 126.87035 \nL 100.65809 124.409214 \nL 102.054087 121.183453 \nL 103.450084 117.364244 \nL 104.846081 112.910597 \nL 106.368987 107.299489 \nL 108.018802 100.331477 \nL 109.795525 91.844059 \nL 111.952976 80.359496 \nL 114.998787 62.737937 \nL 118.806052 40.902474 \nL 120.709685 31.306805 \nL 122.232591 24.775881 \nL 123.501679 20.315747 \nL 124.51695 17.483326 \nL 125.405312 15.587263 \nL 126.166765 14.416833 \nL 126.801309 13.771986 \nL 127.435853 13.432856 \nL 127.943488 13.38345 \nL 128.451124 13.531608 \nL 129.085668 13.993458 \nL 129.720212 14.75937 \nL 130.481665 16.071635 \nL 131.370027 18.12656 \nL 132.385297 21.129145 \nL 133.527477 25.273826 \nL 134.796565 30.719007 \nL 136.44638 38.879435 \nL 138.60383 50.835665 \nL 145.583816 90.554747 \nL 147.614357 100.331477 \nL 149.391081 107.797371 \nL 151.040895 113.768922 \nL 152.563801 118.467288 \nL 153.959799 122.120034 \nL 155.355796 125.192616 \nL 156.751793 127.73922 \nL 158.14779 129.81943 \nL 159.543787 131.494519 \nL 160.939784 132.824481 \nL 162.335781 133.865803 \nL 163.858687 134.73293 \nL 165.508502 135.421686 \nL 167.412135 135.97206 \nL 169.696494 136.389278 \nL 172.615397 136.67952 \nL 176.803388 136.850878 \nL 185.052462 136.917995 \nL 216.525852 136.922727 \nL 216.525852 136.922727 \n\" style=\"fill:none;stroke:#1f77b4;stroke-linecap:square;stroke-width:1.5;\"/>\n   </g>\n   <g id=\"line2d_18\">\n    <path clip-path=\"url(#pe896cbe9b4)\" d=\"M 38.980398 136.7876 \nL 47.229472 136.522951 \nL 52.940369 136.126434 \nL 57.509087 135.590287 \nL 61.316352 134.926494 \nL 64.74289 134.105229 \nL 67.788702 133.153577 \nL 70.707605 132.008119 \nL 73.4996 130.665971 \nL 76.164685 129.13266 \nL 78.702862 127.422179 \nL 81.241038 125.451414 \nL 83.906124 123.090351 \nL 86.571209 120.426207 \nL 89.363204 117.316456 \nL 92.409016 113.576172 \nL 95.835554 108.993828 \nL 100.150454 102.81882 \nL 109.541708 89.254649 \nL 112.58752 85.325808 \nL 115.125696 82.408487 \nL 117.283146 80.246805 \nL 119.313688 78.520767 \nL 121.21732 77.203027 \nL 122.994044 76.254995 \nL 124.643859 75.630719 \nL 126.166765 75.280357 \nL 127.689671 75.150772 \nL 129.212577 75.243361 \nL 130.735483 75.557125 \nL 132.258388 76.08869 \nL 133.908203 76.90368 \nL 135.684927 78.047998 \nL 137.588559 79.562597 \nL 139.619101 81.48006 \nL 141.90346 83.967358 \nL 144.441636 87.076169 \nL 147.487448 91.174664 \nL 151.802348 97.397092 \nL 160.051422 109.344904 \nL 163.60487 114.062195 \nL 166.777591 117.90542 \nL 169.696494 121.087897 \nL 172.488488 123.795848 \nL 175.153573 126.070727 \nL 177.818659 128.049736 \nL 180.483744 129.747392 \nL 183.14883 131.183859 \nL 185.940824 132.434706 \nL 188.859727 133.496535 \nL 192.032448 134.405868 \nL 195.458986 135.150301 \nL 199.266251 135.747632 \nL 203.70806 136.215631 \nL 209.16514 136.559436 \nL 216.525852 136.785216 \nL 216.525852 136.785216 \n\" style=\"fill:none;stroke:#bf00bf;stroke-dasharray:5.55,2.4;stroke-dashoffset:0;stroke-width:1.5;\"/>\n   </g>\n   <g id=\"line2d_19\">\n    <path clip-path=\"url(#pe896cbe9b4)\" d=\"M 38.980398 136.922727 \nL 118.298417 136.813535 \nL 122.486409 136.566288 \nL 125.278403 136.184417 \nL 127.435853 135.668952 \nL 129.212577 135.025186 \nL 130.862391 134.183135 \nL 132.258388 133.233714 \nL 133.654386 132.015009 \nL 134.923474 130.627391 \nL 136.192562 128.927785 \nL 137.461651 126.87035 \nL 138.730739 124.409214 \nL 140.126736 121.183453 \nL 141.522733 117.364244 \nL 142.91873 112.910597 \nL 144.441636 107.299489 \nL 146.091451 100.331477 \nL 147.868175 91.844059 \nL 150.025625 80.359496 \nL 153.071437 62.737937 \nL 156.878702 40.902474 \nL 158.782334 31.306805 \nL 160.30524 24.775881 \nL 161.574328 20.315747 \nL 162.589599 17.483326 \nL 163.477961 15.587263 \nL 164.239414 14.416833 \nL 164.873958 13.771986 \nL 165.508502 13.432856 \nL 166.016138 13.38345 \nL 166.523773 13.531608 \nL 167.158317 13.993458 \nL 167.792861 14.75937 \nL 168.554314 16.071635 \nL 169.442676 18.12656 \nL 170.457947 21.129145 \nL 171.600126 25.273826 \nL 172.869214 30.719007 \nL 174.519029 38.879435 \nL 176.676479 50.835665 \nL 183.656465 90.554747 \nL 185.687006 100.331477 \nL 187.46373 107.797371 \nL 189.113545 113.768922 \nL 190.636451 118.467288 \nL 192.032448 122.120034 \nL 193.428445 125.192616 \nL 194.824442 127.73922 \nL 196.220439 129.81943 \nL 197.616436 131.494519 \nL 199.012434 132.824481 \nL 200.408431 133.865803 \nL 201.931337 134.73293 \nL 203.581152 135.421686 \nL 205.484784 135.97206 \nL 207.769143 136.389278 \nL 210.688046 136.67952 \nL 214.876037 136.850878 \nL 216.525852 136.879593 \nL 216.525852 136.879593 \n\" style=\"fill:none;stroke:#008000;stroke-dasharray:9.6,2.4,1.5,2.4;stroke-dashoffset:0;stroke-width:1.5;\"/>\n   </g>\n   <g id=\"patch_3\">\n    <path d=\"M 30.103125 143.1 \nL 30.103125 7.2 \n\" style=\"fill:none;stroke:#000000;stroke-linecap:square;stroke-linejoin:miter;stroke-width:0.8;\"/>\n   </g>\n   <g id=\"patch_4\">\n    <path d=\"M 225.403125 143.1 \nL 225.403125 7.2 \n\" style=\"fill:none;stroke:#000000;stroke-linecap:square;stroke-linejoin:miter;stroke-width:0.8;\"/>\n   </g>\n   <g id=\"patch_5\">\n    <path d=\"M 30.103125 143.1 \nL 225.403125 143.1 \n\" style=\"fill:none;stroke:#000000;stroke-linecap:square;stroke-linejoin:miter;stroke-width:0.8;\"/>\n   </g>\n   <g id=\"patch_6\">\n    <path d=\"M 30.103125 7.2 \nL 225.403125 7.2 \n\" style=\"fill:none;stroke:#000000;stroke-linecap:square;stroke-linejoin:miter;stroke-width:0.8;\"/>\n   </g>\n  </g>\n </g>\n <defs>\n  <clipPath id=\"pe896cbe9b4\">\n   <rect height=\"135.9\" width=\"195.3\" x=\"30.103125\" y=\"7.2\"/>\n  </clipPath>\n </defs>\n</svg>\n"
          },
          "metadata": {
            "needs_background": "light"
          }
        }
      ]
    },
    {
      "cell_type": "markdown",
      "metadata": {
        "id": "0cFufp3k1XZT"
      },
      "source": [
        "- Use of gauss distribution in linear regression:\n",
        "\n",
        "- observations usually are noisy\n",
        "$$\n",
        "  y = \\mathbf{w}^{\\top} \\mathbf{x} + b + \\epsilon, \\quad \\epsilon \\sim \\mathcal{N}(0, \\sigma^2)\n",
        "$$\n",
        "\n",
        "- then likelihood is:\n",
        "\n",
        "$$\n",
        "  P(y | \\mathbf{x}) = \\frac{1}{\\sqrt{2 \\pi \\sigma^2}} \\exp ( {-\\frac{1}{2 \\sigma^2} (y - \\mathbf{w}^{\\top} \\mathbf{x} - b)^2 )}\n",
        "$$\n",
        "\n",
        "**Equivalent**: Minimizing squared error is equivalent to maximum likelihood estimation\n",
        "\n",
        "\n",
        "- linear regression -> special type of fully-connected neural network with 1 layer"
      ]
    },
    {
      "cell_type": "code",
      "metadata": {
        "id": "k6Jb92gcCPgI"
      },
      "source": [
        "# 3.2 Linear Regression Implementation from Scratch\n",
        "\n",
        "# Example lin. regr.\n",
        "# - 2 features, 1000 examples\n",
        "# X in R^{1000x2}\n",
        "\n",
        "# !pip install d2l\n",
        "%matplotlib inline\n",
        "import random\n",
        "import tensorflow as tf\n",
        "\n",
        "\n",
        "def synthetic_data(w,b,num):\n",
        "  # Generate feature matrix\n",
        "  X = tf.zeros((num, w.shape[0]))\n",
        "  X += tf.random.normal(shape=X.shape)\n",
        "\n",
        "  # Generate labels\n",
        "  y = tf.matmul(X, tf.reshape(w, (-1, 1))) + b\n",
        "  y += tf.random.normal(shape=y.shape, stddev=.01)\n",
        "  y = tf.reshape(y, (-1, 1))\n",
        "\n",
        "  return X, y\n",
        "\n",
        "true_w = tf.constant([2,-3.4])\n",
        "true_b = 4.2\n",
        "features, labels = synthetic_data(true_w, true_b, 1000)"
      ],
      "execution_count": null,
      "outputs": []
    },
    {
      "cell_type": "code",
      "metadata": {
        "colab": {
          "base_uri": "https://localhost:8080/",
          "height": 261
        },
        "id": "ptndbNibFIOe",
        "outputId": "ef2d849b-0e19-439e-ff76-5bb302373012"
      },
      "source": [
        "d2l.set_figsize()\n",
        "d2l.plt.scatter(features[:,1].numpy(), labels.numpy(), 1)"
      ],
      "execution_count": null,
      "outputs": [
        {
          "output_type": "execute_result",
          "data": {
            "text/plain": [
              "<matplotlib.collections.PathCollection at 0x7f22f19bf290>"
            ]
          },
          "metadata": {},
          "execution_count": 71
        },
        {
          "output_type": "display_data",
          "data": {
            "text/plain": [
              "<Figure size 252x180 with 1 Axes>"
            ],
            "image/svg+xml": "<?xml version=\"1.0\" encoding=\"utf-8\" standalone=\"no\"?>\n<!DOCTYPE svg PUBLIC \"-//W3C//DTD SVG 1.1//EN\"\n  \"http://www.w3.org/Graphics/SVG/1.1/DTD/svg11.dtd\">\n<!-- Created with matplotlib (https://matplotlib.org/) -->\n<svg height=\"166.978125pt\" version=\"1.1\" viewBox=\"0 0 231.442187 166.978125\" width=\"231.442187pt\" xmlns=\"http://www.w3.org/2000/svg\" xmlns:xlink=\"http://www.w3.org/1999/xlink\">\n <defs>\n  <style type=\"text/css\">\n*{stroke-linecap:butt;stroke-linejoin:round;}\n  </style>\n </defs>\n <g id=\"figure_1\">\n  <g id=\"patch_1\">\n   <path d=\"M 0 166.978125 \nL 231.442187 166.978125 \nL 231.442187 0 \nL 0 0 \nz\n\" style=\"fill:none;\"/>\n  </g>\n  <g id=\"axes_1\">\n   <g id=\"patch_2\">\n    <path d=\"M 28.942188 143.1 \nL 224.242188 143.1 \nL 224.242188 7.2 \nL 28.942188 7.2 \nz\n\" style=\"fill:#ffffff;\"/>\n   </g>\n   <g id=\"PathCollection_1\">\n    <defs>\n     <path d=\"M 0 0.5 \nC 0.132602 0.5 0.25979 0.447317 0.353553 0.353553 \nC 0.447317 0.25979 0.5 0.132602 0.5 0 \nC 0.5 -0.132602 0.447317 -0.25979 0.353553 -0.353553 \nC 0.25979 -0.447317 0.132602 -0.5 0 -0.5 \nC -0.132602 -0.5 -0.25979 -0.447317 -0.353553 -0.353553 \nC -0.447317 -0.25979 -0.5 -0.132602 -0.5 0 \nC -0.5 0.132602 -0.447317 0.25979 -0.353553 0.353553 \nC -0.25979 0.447317 -0.132602 0.5 0 0.5 \nz\n\" id=\"m2a41409c3b\" style=\"stroke:#1f77b4;\"/>\n    </defs>\n    <g clip-path=\"url(#p0b86f25d37)\">\n     <use style=\"fill:#1f77b4;stroke:#1f77b4;\" x=\"130.531137\" xlink:href=\"#m2a41409c3b\" y=\"90.351474\"/>\n     <use style=\"fill:#1f77b4;stroke:#1f77b4;\" x=\"102.824681\" xlink:href=\"#m2a41409c3b\" y=\"55.658422\"/>\n     <use style=\"fill:#1f77b4;stroke:#1f77b4;\" x=\"139.180167\" xlink:href=\"#m2a41409c3b\" y=\"86.888415\"/>\n     <use style=\"fill:#1f77b4;stroke:#1f77b4;\" x=\"112.892261\" xlink:href=\"#m2a41409c3b\" y=\"70.567357\"/>\n     <use style=\"fill:#1f77b4;stroke:#1f77b4;\" x=\"105.228301\" xlink:href=\"#m2a41409c3b\" y=\"74.024161\"/>\n     <use style=\"fill:#1f77b4;stroke:#1f77b4;\" x=\"141.220949\" xlink:href=\"#m2a41409c3b\" y=\"87.057961\"/>\n     <use style=\"fill:#1f77b4;stroke:#1f77b4;\" x=\"132.899905\" xlink:href=\"#m2a41409c3b\" y=\"85.596074\"/>\n     <use style=\"fill:#1f77b4;stroke:#1f77b4;\" x=\"105.080324\" xlink:href=\"#m2a41409c3b\" y=\"64.78635\"/>\n     <use style=\"fill:#1f77b4;stroke:#1f77b4;\" x=\"114.41742\" xlink:href=\"#m2a41409c3b\" y=\"67.82084\"/>\n     <use style=\"fill:#1f77b4;stroke:#1f77b4;\" x=\"101.031862\" xlink:href=\"#m2a41409c3b\" y=\"57.155085\"/>\n     <use style=\"fill:#1f77b4;stroke:#1f77b4;\" x=\"131.387157\" xlink:href=\"#m2a41409c3b\" y=\"74.400265\"/>\n     <use style=\"fill:#1f77b4;stroke:#1f77b4;\" x=\"81.454303\" xlink:href=\"#m2a41409c3b\" y=\"64.681315\"/>\n     <use style=\"fill:#1f77b4;stroke:#1f77b4;\" x=\"125.194069\" xlink:href=\"#m2a41409c3b\" y=\"91.777315\"/>\n     <use style=\"fill:#1f77b4;stroke:#1f77b4;\" x=\"97.729928\" xlink:href=\"#m2a41409c3b\" y=\"64.782712\"/>\n     <use style=\"fill:#1f77b4;stroke:#1f77b4;\" x=\"145.392854\" xlink:href=\"#m2a41409c3b\" y=\"92.40465\"/>\n     <use style=\"fill:#1f77b4;stroke:#1f77b4;\" x=\"61.087092\" xlink:href=\"#m2a41409c3b\" y=\"46.26145\"/>\n     <use style=\"fill:#1f77b4;stroke:#1f77b4;\" x=\"67.833917\" xlink:href=\"#m2a41409c3b\" y=\"45.73623\"/>\n     <use style=\"fill:#1f77b4;stroke:#1f77b4;\" x=\"98.094005\" xlink:href=\"#m2a41409c3b\" y=\"65.626967\"/>\n     <use style=\"fill:#1f77b4;stroke:#1f77b4;\" x=\"103.775688\" xlink:href=\"#m2a41409c3b\" y=\"54.716701\"/>\n     <use style=\"fill:#1f77b4;stroke:#1f77b4;\" x=\"100.05123\" xlink:href=\"#m2a41409c3b\" y=\"69.543169\"/>\n     <use style=\"fill:#1f77b4;stroke:#1f77b4;\" x=\"103.573581\" xlink:href=\"#m2a41409c3b\" y=\"72.272089\"/>\n     <use style=\"fill:#1f77b4;stroke:#1f77b4;\" x=\"122.744651\" xlink:href=\"#m2a41409c3b\" y=\"82.791264\"/>\n     <use style=\"fill:#1f77b4;stroke:#1f77b4;\" x=\"111.119411\" xlink:href=\"#m2a41409c3b\" y=\"88.674897\"/>\n     <use style=\"fill:#1f77b4;stroke:#1f77b4;\" x=\"114.883109\" xlink:href=\"#m2a41409c3b\" y=\"78.923531\"/>\n     <use style=\"fill:#1f77b4;stroke:#1f77b4;\" x=\"129.847089\" xlink:href=\"#m2a41409c3b\" y=\"94.740054\"/>\n     <use style=\"fill:#1f77b4;stroke:#1f77b4;\" x=\"136.061704\" xlink:href=\"#m2a41409c3b\" y=\"99.438851\"/>\n     <use style=\"fill:#1f77b4;stroke:#1f77b4;\" x=\"110.70456\" xlink:href=\"#m2a41409c3b\" y=\"66.415926\"/>\n     <use style=\"fill:#1f77b4;stroke:#1f77b4;\" x=\"141.438917\" xlink:href=\"#m2a41409c3b\" y=\"88.619529\"/>\n     <use style=\"fill:#1f77b4;stroke:#1f77b4;\" x=\"140.34139\" xlink:href=\"#m2a41409c3b\" y=\"84.146941\"/>\n     <use style=\"fill:#1f77b4;stroke:#1f77b4;\" x=\"143.599756\" xlink:href=\"#m2a41409c3b\" y=\"75.433067\"/>\n     <use style=\"fill:#1f77b4;stroke:#1f77b4;\" x=\"139.26709\" xlink:href=\"#m2a41409c3b\" y=\"71.709075\"/>\n     <use style=\"fill:#1f77b4;stroke:#1f77b4;\" x=\"88.649694\" xlink:href=\"#m2a41409c3b\" y=\"56.866341\"/>\n     <use style=\"fill:#1f77b4;stroke:#1f77b4;\" x=\"115.883865\" xlink:href=\"#m2a41409c3b\" y=\"67.336124\"/>\n     <use style=\"fill:#1f77b4;stroke:#1f77b4;\" x=\"109.797463\" xlink:href=\"#m2a41409c3b\" y=\"73.73395\"/>\n     <use style=\"fill:#1f77b4;stroke:#1f77b4;\" x=\"121.450845\" xlink:href=\"#m2a41409c3b\" y=\"76.226935\"/>\n     <use style=\"fill:#1f77b4;stroke:#1f77b4;\" x=\"120.486872\" xlink:href=\"#m2a41409c3b\" y=\"82.390699\"/>\n     <use style=\"fill:#1f77b4;stroke:#1f77b4;\" x=\"125.47606\" xlink:href=\"#m2a41409c3b\" y=\"77.795508\"/>\n     <use style=\"fill:#1f77b4;stroke:#1f77b4;\" x=\"77.311458\" xlink:href=\"#m2a41409c3b\" y=\"61.014829\"/>\n     <use style=\"fill:#1f77b4;stroke:#1f77b4;\" x=\"89.834822\" xlink:href=\"#m2a41409c3b\" y=\"63.812354\"/>\n     <use style=\"fill:#1f77b4;stroke:#1f77b4;\" x=\"102.357774\" xlink:href=\"#m2a41409c3b\" y=\"64.285245\"/>\n     <use style=\"fill:#1f77b4;stroke:#1f77b4;\" x=\"94.517984\" xlink:href=\"#m2a41409c3b\" y=\"71.0795\"/>\n     <use style=\"fill:#1f77b4;stroke:#1f77b4;\" x=\"165.528428\" xlink:href=\"#m2a41409c3b\" y=\"95.542866\"/>\n     <use style=\"fill:#1f77b4;stroke:#1f77b4;\" x=\"100.763754\" xlink:href=\"#m2a41409c3b\" y=\"49.990198\"/>\n     <use style=\"fill:#1f77b4;stroke:#1f77b4;\" x=\"133.233037\" xlink:href=\"#m2a41409c3b\" y=\"84.82052\"/>\n     <use style=\"fill:#1f77b4;stroke:#1f77b4;\" x=\"126.125274\" xlink:href=\"#m2a41409c3b\" y=\"78.643939\"/>\n     <use style=\"fill:#1f77b4;stroke:#1f77b4;\" x=\"155.441303\" xlink:href=\"#m2a41409c3b\" y=\"112.263525\"/>\n     <use style=\"fill:#1f77b4;stroke:#1f77b4;\" x=\"96.907366\" xlink:href=\"#m2a41409c3b\" y=\"68.415789\"/>\n     <use style=\"fill:#1f77b4;stroke:#1f77b4;\" x=\"124.854485\" xlink:href=\"#m2a41409c3b\" y=\"55.236356\"/>\n     <use style=\"fill:#1f77b4;stroke:#1f77b4;\" x=\"130.311054\" xlink:href=\"#m2a41409c3b\" y=\"95.084696\"/>\n     <use style=\"fill:#1f77b4;stroke:#1f77b4;\" x=\"132.37805\" xlink:href=\"#m2a41409c3b\" y=\"85.560273\"/>\n     <use style=\"fill:#1f77b4;stroke:#1f77b4;\" x=\"118.467508\" xlink:href=\"#m2a41409c3b\" y=\"70.133451\"/>\n     <use style=\"fill:#1f77b4;stroke:#1f77b4;\" x=\"133.938287\" xlink:href=\"#m2a41409c3b\" y=\"92.164407\"/>\n     <use style=\"fill:#1f77b4;stroke:#1f77b4;\" x=\"105.396804\" xlink:href=\"#m2a41409c3b\" y=\"81.274063\"/>\n     <use style=\"fill:#1f77b4;stroke:#1f77b4;\" x=\"120.802697\" xlink:href=\"#m2a41409c3b\" y=\"62.85379\"/>\n     <use style=\"fill:#1f77b4;stroke:#1f77b4;\" x=\"138.873355\" xlink:href=\"#m2a41409c3b\" y=\"90.776198\"/>\n     <use style=\"fill:#1f77b4;stroke:#1f77b4;\" x=\"114.428426\" xlink:href=\"#m2a41409c3b\" y=\"81.296822\"/>\n     <use style=\"fill:#1f77b4;stroke:#1f77b4;\" x=\"123.673936\" xlink:href=\"#m2a41409c3b\" y=\"76.92129\"/>\n     <use style=\"fill:#1f77b4;stroke:#1f77b4;\" x=\"113.721996\" xlink:href=\"#m2a41409c3b\" y=\"63.19866\"/>\n     <use style=\"fill:#1f77b4;stroke:#1f77b4;\" x=\"136.030653\" xlink:href=\"#m2a41409c3b\" y=\"87.783697\"/>\n     <use style=\"fill:#1f77b4;stroke:#1f77b4;\" x=\"113.480855\" xlink:href=\"#m2a41409c3b\" y=\"73.857867\"/>\n     <use style=\"fill:#1f77b4;stroke:#1f77b4;\" x=\"72.885779\" xlink:href=\"#m2a41409c3b\" y=\"43.199157\"/>\n     <use style=\"fill:#1f77b4;stroke:#1f77b4;\" x=\"142.670853\" xlink:href=\"#m2a41409c3b\" y=\"105.536493\"/>\n     <use style=\"fill:#1f77b4;stroke:#1f77b4;\" x=\"185.991682\" xlink:href=\"#m2a41409c3b\" y=\"114.715049\"/>\n     <use style=\"fill:#1f77b4;stroke:#1f77b4;\" x=\"122.111022\" xlink:href=\"#m2a41409c3b\" y=\"77.132892\"/>\n     <use style=\"fill:#1f77b4;stroke:#1f77b4;\" x=\"118.657985\" xlink:href=\"#m2a41409c3b\" y=\"87.905444\"/>\n     <use style=\"fill:#1f77b4;stroke:#1f77b4;\" x=\"193.256432\" xlink:href=\"#m2a41409c3b\" y=\"136.922727\"/>\n     <use style=\"fill:#1f77b4;stroke:#1f77b4;\" x=\"151.195571\" xlink:href=\"#m2a41409c3b\" y=\"93.23049\"/>\n     <use style=\"fill:#1f77b4;stroke:#1f77b4;\" x=\"114.941625\" xlink:href=\"#m2a41409c3b\" y=\"77.050308\"/>\n     <use style=\"fill:#1f77b4;stroke:#1f77b4;\" x=\"108.291146\" xlink:href=\"#m2a41409c3b\" y=\"86.128369\"/>\n     <use style=\"fill:#1f77b4;stroke:#1f77b4;\" x=\"98.47118\" xlink:href=\"#m2a41409c3b\" y=\"68.358389\"/>\n     <use style=\"fill:#1f77b4;stroke:#1f77b4;\" x=\"118.07449\" xlink:href=\"#m2a41409c3b\" y=\"69.663404\"/>\n     <use style=\"fill:#1f77b4;stroke:#1f77b4;\" x=\"123.047882\" xlink:href=\"#m2a41409c3b\" y=\"83.486339\"/>\n     <use style=\"fill:#1f77b4;stroke:#1f77b4;\" x=\"110.475968\" xlink:href=\"#m2a41409c3b\" y=\"78.678685\"/>\n     <use style=\"fill:#1f77b4;stroke:#1f77b4;\" x=\"133.713513\" xlink:href=\"#m2a41409c3b\" y=\"94.09566\"/>\n     <use style=\"fill:#1f77b4;stroke:#1f77b4;\" x=\"126.060765\" xlink:href=\"#m2a41409c3b\" y=\"78.444403\"/>\n     <use style=\"fill:#1f77b4;stroke:#1f77b4;\" x=\"105.476291\" xlink:href=\"#m2a41409c3b\" y=\"59.149591\"/>\n     <use style=\"fill:#1f77b4;stroke:#1f77b4;\" x=\"154.240526\" xlink:href=\"#m2a41409c3b\" y=\"104.017072\"/>\n     <use style=\"fill:#1f77b4;stroke:#1f77b4;\" x=\"106.20614\" xlink:href=\"#m2a41409c3b\" y=\"91.867058\"/>\n     <use style=\"fill:#1f77b4;stroke:#1f77b4;\" x=\"170.783069\" xlink:href=\"#m2a41409c3b\" y=\"122.126187\"/>\n     <use style=\"fill:#1f77b4;stroke:#1f77b4;\" x=\"98.14085\" xlink:href=\"#m2a41409c3b\" y=\"48.367215\"/>\n     <use style=\"fill:#1f77b4;stroke:#1f77b4;\" x=\"159.212351\" xlink:href=\"#m2a41409c3b\" y=\"114.609141\"/>\n     <use style=\"fill:#1f77b4;stroke:#1f77b4;\" x=\"76.807607\" xlink:href=\"#m2a41409c3b\" y=\"58.339611\"/>\n     <use style=\"fill:#1f77b4;stroke:#1f77b4;\" x=\"121.294317\" xlink:href=\"#m2a41409c3b\" y=\"76.963385\"/>\n     <use style=\"fill:#1f77b4;stroke:#1f77b4;\" x=\"118.555978\" xlink:href=\"#m2a41409c3b\" y=\"78.845746\"/>\n     <use style=\"fill:#1f77b4;stroke:#1f77b4;\" x=\"166.233838\" xlink:href=\"#m2a41409c3b\" y=\"93.885058\"/>\n     <use style=\"fill:#1f77b4;stroke:#1f77b4;\" x=\"132.580545\" xlink:href=\"#m2a41409c3b\" y=\"78.285671\"/>\n     <use style=\"fill:#1f77b4;stroke:#1f77b4;\" x=\"161.557227\" xlink:href=\"#m2a41409c3b\" y=\"123.345346\"/>\n     <use style=\"fill:#1f77b4;stroke:#1f77b4;\" x=\"105.083389\" xlink:href=\"#m2a41409c3b\" y=\"62.155603\"/>\n     <use style=\"fill:#1f77b4;stroke:#1f77b4;\" x=\"99.803775\" xlink:href=\"#m2a41409c3b\" y=\"61.318543\"/>\n     <use style=\"fill:#1f77b4;stroke:#1f77b4;\" x=\"163.460145\" xlink:href=\"#m2a41409c3b\" y=\"106.353952\"/>\n     <use style=\"fill:#1f77b4;stroke:#1f77b4;\" x=\"178.510084\" xlink:href=\"#m2a41409c3b\" y=\"123.545598\"/>\n     <use style=\"fill:#1f77b4;stroke:#1f77b4;\" x=\"155.391028\" xlink:href=\"#m2a41409c3b\" y=\"85.486138\"/>\n     <use style=\"fill:#1f77b4;stroke:#1f77b4;\" x=\"91.822829\" xlink:href=\"#m2a41409c3b\" y=\"69.740129\"/>\n     <use style=\"fill:#1f77b4;stroke:#1f77b4;\" x=\"120.869132\" xlink:href=\"#m2a41409c3b\" y=\"67.721459\"/>\n     <use style=\"fill:#1f77b4;stroke:#1f77b4;\" x=\"170.259767\" xlink:href=\"#m2a41409c3b\" y=\"115.270796\"/>\n     <use style=\"fill:#1f77b4;stroke:#1f77b4;\" x=\"135.128335\" xlink:href=\"#m2a41409c3b\" y=\"91.631951\"/>\n     <use style=\"fill:#1f77b4;stroke:#1f77b4;\" x=\"113.487588\" xlink:href=\"#m2a41409c3b\" y=\"57.59968\"/>\n     <use style=\"fill:#1f77b4;stroke:#1f77b4;\" x=\"136.23088\" xlink:href=\"#m2a41409c3b\" y=\"88.916654\"/>\n     <use style=\"fill:#1f77b4;stroke:#1f77b4;\" x=\"148.413793\" xlink:href=\"#m2a41409c3b\" y=\"112.471686\"/>\n     <use style=\"fill:#1f77b4;stroke:#1f77b4;\" x=\"142.275019\" xlink:href=\"#m2a41409c3b\" y=\"99.507104\"/>\n     <use style=\"fill:#1f77b4;stroke:#1f77b4;\" x=\"118.152835\" xlink:href=\"#m2a41409c3b\" y=\"72.529949\"/>\n     <use style=\"fill:#1f77b4;stroke:#1f77b4;\" x=\"111.120063\" xlink:href=\"#m2a41409c3b\" y=\"63.462932\"/>\n     <use style=\"fill:#1f77b4;stroke:#1f77b4;\" x=\"93.82391\" xlink:href=\"#m2a41409c3b\" y=\"72.025051\"/>\n     <use style=\"fill:#1f77b4;stroke:#1f77b4;\" x=\"136.362894\" xlink:href=\"#m2a41409c3b\" y=\"87.635211\"/>\n     <use style=\"fill:#1f77b4;stroke:#1f77b4;\" x=\"115.043285\" xlink:href=\"#m2a41409c3b\" y=\"62.598784\"/>\n     <use style=\"fill:#1f77b4;stroke:#1f77b4;\" x=\"136.822843\" xlink:href=\"#m2a41409c3b\" y=\"113.281219\"/>\n     <use style=\"fill:#1f77b4;stroke:#1f77b4;\" x=\"112.023127\" xlink:href=\"#m2a41409c3b\" y=\"68.690679\"/>\n     <use style=\"fill:#1f77b4;stroke:#1f77b4;\" x=\"114.275493\" xlink:href=\"#m2a41409c3b\" y=\"64.285291\"/>\n     <use style=\"fill:#1f77b4;stroke:#1f77b4;\" x=\"111.247602\" xlink:href=\"#m2a41409c3b\" y=\"59.46326\"/>\n     <use style=\"fill:#1f77b4;stroke:#1f77b4;\" x=\"132.795221\" xlink:href=\"#m2a41409c3b\" y=\"68.868011\"/>\n     <use style=\"fill:#1f77b4;stroke:#1f77b4;\" x=\"90.47788\" xlink:href=\"#m2a41409c3b\" y=\"49.877759\"/>\n     <use style=\"fill:#1f77b4;stroke:#1f77b4;\" x=\"116.861369\" xlink:href=\"#m2a41409c3b\" y=\"76.35063\"/>\n     <use style=\"fill:#1f77b4;stroke:#1f77b4;\" x=\"124.743568\" xlink:href=\"#m2a41409c3b\" y=\"89.250212\"/>\n     <use style=\"fill:#1f77b4;stroke:#1f77b4;\" x=\"110.389627\" xlink:href=\"#m2a41409c3b\" y=\"72.534497\"/>\n     <use style=\"fill:#1f77b4;stroke:#1f77b4;\" x=\"127.256462\" xlink:href=\"#m2a41409c3b\" y=\"56.86639\"/>\n     <use style=\"fill:#1f77b4;stroke:#1f77b4;\" x=\"134.493287\" xlink:href=\"#m2a41409c3b\" y=\"85.551301\"/>\n     <use style=\"fill:#1f77b4;stroke:#1f77b4;\" x=\"127.11817\" xlink:href=\"#m2a41409c3b\" y=\"92.601949\"/>\n     <use style=\"fill:#1f77b4;stroke:#1f77b4;\" x=\"120.007188\" xlink:href=\"#m2a41409c3b\" y=\"89.606728\"/>\n     <use style=\"fill:#1f77b4;stroke:#1f77b4;\" x=\"109.705885\" xlink:href=\"#m2a41409c3b\" y=\"68.749539\"/>\n     <use style=\"fill:#1f77b4;stroke:#1f77b4;\" x=\"112.279058\" xlink:href=\"#m2a41409c3b\" y=\"72.712015\"/>\n     <use style=\"fill:#1f77b4;stroke:#1f77b4;\" x=\"102.149318\" xlink:href=\"#m2a41409c3b\" y=\"77.012827\"/>\n     <use style=\"fill:#1f77b4;stroke:#1f77b4;\" x=\"159.940951\" xlink:href=\"#m2a41409c3b\" y=\"109.807127\"/>\n     <use style=\"fill:#1f77b4;stroke:#1f77b4;\" x=\"152.412208\" xlink:href=\"#m2a41409c3b\" y=\"91.895819\"/>\n     <use style=\"fill:#1f77b4;stroke:#1f77b4;\" x=\"130.442668\" xlink:href=\"#m2a41409c3b\" y=\"89.166909\"/>\n     <use style=\"fill:#1f77b4;stroke:#1f77b4;\" x=\"142.165607\" xlink:href=\"#m2a41409c3b\" y=\"91.810042\"/>\n     <use style=\"fill:#1f77b4;stroke:#1f77b4;\" x=\"91.085858\" xlink:href=\"#m2a41409c3b\" y=\"47.818408\"/>\n     <use style=\"fill:#1f77b4;stroke:#1f77b4;\" x=\"116.991893\" xlink:href=\"#m2a41409c3b\" y=\"74.21111\"/>\n     <use style=\"fill:#1f77b4;stroke:#1f77b4;\" x=\"134.143822\" xlink:href=\"#m2a41409c3b\" y=\"101.431893\"/>\n     <use style=\"fill:#1f77b4;stroke:#1f77b4;\" x=\"108.094436\" xlink:href=\"#m2a41409c3b\" y=\"67.936037\"/>\n     <use style=\"fill:#1f77b4;stroke:#1f77b4;\" x=\"118.871413\" xlink:href=\"#m2a41409c3b\" y=\"77.37921\"/>\n     <use style=\"fill:#1f77b4;stroke:#1f77b4;\" x=\"122.459582\" xlink:href=\"#m2a41409c3b\" y=\"92.932615\"/>\n     <use style=\"fill:#1f77b4;stroke:#1f77b4;\" x=\"138.016378\" xlink:href=\"#m2a41409c3b\" y=\"97.032106\"/>\n     <use style=\"fill:#1f77b4;stroke:#1f77b4;\" x=\"140.128774\" xlink:href=\"#m2a41409c3b\" y=\"86.590304\"/>\n     <use style=\"fill:#1f77b4;stroke:#1f77b4;\" x=\"101.861004\" xlink:href=\"#m2a41409c3b\" y=\"68.735236\"/>\n     <use style=\"fill:#1f77b4;stroke:#1f77b4;\" x=\"105.067518\" xlink:href=\"#m2a41409c3b\" y=\"59.320475\"/>\n     <use style=\"fill:#1f77b4;stroke:#1f77b4;\" x=\"206.742193\" xlink:href=\"#m2a41409c3b\" y=\"126.947369\"/>\n     <use style=\"fill:#1f77b4;stroke:#1f77b4;\" x=\"104.990603\" xlink:href=\"#m2a41409c3b\" y=\"69.037967\"/>\n     <use style=\"fill:#1f77b4;stroke:#1f77b4;\" x=\"142.803987\" xlink:href=\"#m2a41409c3b\" y=\"78.159954\"/>\n     <use style=\"fill:#1f77b4;stroke:#1f77b4;\" x=\"118.825392\" xlink:href=\"#m2a41409c3b\" y=\"78.943272\"/>\n     <use style=\"fill:#1f77b4;stroke:#1f77b4;\" x=\"159.829794\" xlink:href=\"#m2a41409c3b\" y=\"109.395615\"/>\n     <use style=\"fill:#1f77b4;stroke:#1f77b4;\" x=\"118.567169\" xlink:href=\"#m2a41409c3b\" y=\"62.895625\"/>\n     <use style=\"fill:#1f77b4;stroke:#1f77b4;\" x=\"91.795182\" xlink:href=\"#m2a41409c3b\" y=\"66.548397\"/>\n     <use style=\"fill:#1f77b4;stroke:#1f77b4;\" x=\"146.076545\" xlink:href=\"#m2a41409c3b\" y=\"105.808293\"/>\n     <use style=\"fill:#1f77b4;stroke:#1f77b4;\" x=\"113.769349\" xlink:href=\"#m2a41409c3b\" y=\"72.201673\"/>\n     <use style=\"fill:#1f77b4;stroke:#1f77b4;\" x=\"85.67869\" xlink:href=\"#m2a41409c3b\" y=\"37.945759\"/>\n     <use style=\"fill:#1f77b4;stroke:#1f77b4;\" x=\"102.688988\" xlink:href=\"#m2a41409c3b\" y=\"61.133684\"/>\n     <use style=\"fill:#1f77b4;stroke:#1f77b4;\" x=\"106.17571\" xlink:href=\"#m2a41409c3b\" y=\"82.572755\"/>\n     <use style=\"fill:#1f77b4;stroke:#1f77b4;\" x=\"127.658381\" xlink:href=\"#m2a41409c3b\" y=\"79.231791\"/>\n     <use style=\"fill:#1f77b4;stroke:#1f77b4;\" x=\"121.70754\" xlink:href=\"#m2a41409c3b\" y=\"88.320389\"/>\n     <use style=\"fill:#1f77b4;stroke:#1f77b4;\" x=\"136.148951\" xlink:href=\"#m2a41409c3b\" y=\"83.482281\"/>\n     <use style=\"fill:#1f77b4;stroke:#1f77b4;\" x=\"113.159672\" xlink:href=\"#m2a41409c3b\" y=\"70.650182\"/>\n     <use style=\"fill:#1f77b4;stroke:#1f77b4;\" x=\"151.822803\" xlink:href=\"#m2a41409c3b\" y=\"97.203329\"/>\n     <use style=\"fill:#1f77b4;stroke:#1f77b4;\" x=\"149.182304\" xlink:href=\"#m2a41409c3b\" y=\"93.152783\"/>\n     <use style=\"fill:#1f77b4;stroke:#1f77b4;\" x=\"76.553309\" xlink:href=\"#m2a41409c3b\" y=\"39.477637\"/>\n     <use style=\"fill:#1f77b4;stroke:#1f77b4;\" x=\"103.603334\" xlink:href=\"#m2a41409c3b\" y=\"60.719074\"/>\n     <use style=\"fill:#1f77b4;stroke:#1f77b4;\" x=\"47.714063\" xlink:href=\"#m2a41409c3b\" y=\"37.790273\"/>\n     <use style=\"fill:#1f77b4;stroke:#1f77b4;\" x=\"120.859842\" xlink:href=\"#m2a41409c3b\" y=\"70.046343\"/>\n     <use style=\"fill:#1f77b4;stroke:#1f77b4;\" x=\"157.681277\" xlink:href=\"#m2a41409c3b\" y=\"92.014867\"/>\n     <use style=\"fill:#1f77b4;stroke:#1f77b4;\" x=\"95.713259\" xlink:href=\"#m2a41409c3b\" y=\"67.765663\"/>\n     <use style=\"fill:#1f77b4;stroke:#1f77b4;\" x=\"116.413993\" xlink:href=\"#m2a41409c3b\" y=\"75.13835\"/>\n     <use style=\"fill:#1f77b4;stroke:#1f77b4;\" x=\"139.496509\" xlink:href=\"#m2a41409c3b\" y=\"88.179623\"/>\n     <use style=\"fill:#1f77b4;stroke:#1f77b4;\" x=\"92.778159\" xlink:href=\"#m2a41409c3b\" y=\"45.897379\"/>\n     <use style=\"fill:#1f77b4;stroke:#1f77b4;\" x=\"125.980624\" xlink:href=\"#m2a41409c3b\" y=\"83.556286\"/>\n     <use style=\"fill:#1f77b4;stroke:#1f77b4;\" x=\"149.865215\" xlink:href=\"#m2a41409c3b\" y=\"98.537264\"/>\n     <use style=\"fill:#1f77b4;stroke:#1f77b4;\" x=\"111.104151\" xlink:href=\"#m2a41409c3b\" y=\"70.604841\"/>\n     <use style=\"fill:#1f77b4;stroke:#1f77b4;\" x=\"139.687253\" xlink:href=\"#m2a41409c3b\" y=\"99.091347\"/>\n     <use style=\"fill:#1f77b4;stroke:#1f77b4;\" x=\"76.27126\" xlink:href=\"#m2a41409c3b\" y=\"36.878329\"/>\n     <use style=\"fill:#1f77b4;stroke:#1f77b4;\" x=\"114.807473\" xlink:href=\"#m2a41409c3b\" y=\"67.02786\"/>\n     <use style=\"fill:#1f77b4;stroke:#1f77b4;\" x=\"138.032084\" xlink:href=\"#m2a41409c3b\" y=\"88.300151\"/>\n     <use style=\"fill:#1f77b4;stroke:#1f77b4;\" x=\"121.092773\" xlink:href=\"#m2a41409c3b\" y=\"99.998749\"/>\n     <use style=\"fill:#1f77b4;stroke:#1f77b4;\" x=\"105.091822\" xlink:href=\"#m2a41409c3b\" y=\"44.414184\"/>\n     <use style=\"fill:#1f77b4;stroke:#1f77b4;\" x=\"113.551609\" xlink:href=\"#m2a41409c3b\" y=\"71.454776\"/>\n     <use style=\"fill:#1f77b4;stroke:#1f77b4;\" x=\"132.885572\" xlink:href=\"#m2a41409c3b\" y=\"107.000738\"/>\n     <use style=\"fill:#1f77b4;stroke:#1f77b4;\" x=\"118.312225\" xlink:href=\"#m2a41409c3b\" y=\"86.686262\"/>\n     <use style=\"fill:#1f77b4;stroke:#1f77b4;\" x=\"137.516484\" xlink:href=\"#m2a41409c3b\" y=\"89.471364\"/>\n     <use style=\"fill:#1f77b4;stroke:#1f77b4;\" x=\"96.451676\" xlink:href=\"#m2a41409c3b\" y=\"59.649956\"/>\n     <use style=\"fill:#1f77b4;stroke:#1f77b4;\" x=\"144.372769\" xlink:href=\"#m2a41409c3b\" y=\"97.598728\"/>\n     <use style=\"fill:#1f77b4;stroke:#1f77b4;\" x=\"119.142892\" xlink:href=\"#m2a41409c3b\" y=\"82.801139\"/>\n     <use style=\"fill:#1f77b4;stroke:#1f77b4;\" x=\"119.501189\" xlink:href=\"#m2a41409c3b\" y=\"80.013156\"/>\n     <use style=\"fill:#1f77b4;stroke:#1f77b4;\" x=\"98.165606\" xlink:href=\"#m2a41409c3b\" y=\"53.14888\"/>\n     <use style=\"fill:#1f77b4;stroke:#1f77b4;\" x=\"117.885345\" xlink:href=\"#m2a41409c3b\" y=\"76.003243\"/>\n     <use style=\"fill:#1f77b4;stroke:#1f77b4;\" x=\"138.045177\" xlink:href=\"#m2a41409c3b\" y=\"87.334613\"/>\n     <use style=\"fill:#1f77b4;stroke:#1f77b4;\" x=\"122.543584\" xlink:href=\"#m2a41409c3b\" y=\"66.897407\"/>\n     <use style=\"fill:#1f77b4;stroke:#1f77b4;\" x=\"121.107669\" xlink:href=\"#m2a41409c3b\" y=\"83.025174\"/>\n     <use style=\"fill:#1f77b4;stroke:#1f77b4;\" x=\"171.481702\" xlink:href=\"#m2a41409c3b\" y=\"106.594888\"/>\n     <use style=\"fill:#1f77b4;stroke:#1f77b4;\" x=\"174.14775\" xlink:href=\"#m2a41409c3b\" y=\"111.595914\"/>\n     <use style=\"fill:#1f77b4;stroke:#1f77b4;\" x=\"112.933436\" xlink:href=\"#m2a41409c3b\" y=\"78.50097\"/>\n     <use style=\"fill:#1f77b4;stroke:#1f77b4;\" x=\"124.495966\" xlink:href=\"#m2a41409c3b\" y=\"85.97868\"/>\n     <use style=\"fill:#1f77b4;stroke:#1f77b4;\" x=\"131.469015\" xlink:href=\"#m2a41409c3b\" y=\"82.329472\"/>\n     <use style=\"fill:#1f77b4;stroke:#1f77b4;\" x=\"119.385254\" xlink:href=\"#m2a41409c3b\" y=\"86.548015\"/>\n     <use style=\"fill:#1f77b4;stroke:#1f77b4;\" x=\"89.204641\" xlink:href=\"#m2a41409c3b\" y=\"61.455422\"/>\n     <use style=\"fill:#1f77b4;stroke:#1f77b4;\" x=\"72.686832\" xlink:href=\"#m2a41409c3b\" y=\"43.78548\"/>\n     <use style=\"fill:#1f77b4;stroke:#1f77b4;\" x=\"92.714726\" xlink:href=\"#m2a41409c3b\" y=\"55.822097\"/>\n     <use style=\"fill:#1f77b4;stroke:#1f77b4;\" x=\"152.828578\" xlink:href=\"#m2a41409c3b\" y=\"103.979689\"/>\n     <use style=\"fill:#1f77b4;stroke:#1f77b4;\" x=\"155.355339\" xlink:href=\"#m2a41409c3b\" y=\"107.479007\"/>\n     <use style=\"fill:#1f77b4;stroke:#1f77b4;\" x=\"140.617862\" xlink:href=\"#m2a41409c3b\" y=\"90.040453\"/>\n     <use style=\"fill:#1f77b4;stroke:#1f77b4;\" x=\"160.286792\" xlink:href=\"#m2a41409c3b\" y=\"122.767778\"/>\n     <use style=\"fill:#1f77b4;stroke:#1f77b4;\" x=\"151.462581\" xlink:href=\"#m2a41409c3b\" y=\"111.17941\"/>\n     <use style=\"fill:#1f77b4;stroke:#1f77b4;\" x=\"147.504929\" xlink:href=\"#m2a41409c3b\" y=\"98.14394\"/>\n     <use style=\"fill:#1f77b4;stroke:#1f77b4;\" x=\"128.279794\" xlink:href=\"#m2a41409c3b\" y=\"94.332477\"/>\n     <use style=\"fill:#1f77b4;stroke:#1f77b4;\" x=\"120.381042\" xlink:href=\"#m2a41409c3b\" y=\"88.979602\"/>\n     <use style=\"fill:#1f77b4;stroke:#1f77b4;\" x=\"145.533898\" xlink:href=\"#m2a41409c3b\" y=\"105.698493\"/>\n     <use style=\"fill:#1f77b4;stroke:#1f77b4;\" x=\"127.23771\" xlink:href=\"#m2a41409c3b\" y=\"91.538466\"/>\n     <use style=\"fill:#1f77b4;stroke:#1f77b4;\" x=\"146.266634\" xlink:href=\"#m2a41409c3b\" y=\"103.463935\"/>\n     <use style=\"fill:#1f77b4;stroke:#1f77b4;\" x=\"128.752984\" xlink:href=\"#m2a41409c3b\" y=\"97.848791\"/>\n     <use style=\"fill:#1f77b4;stroke:#1f77b4;\" x=\"114.179817\" xlink:href=\"#m2a41409c3b\" y=\"70.065073\"/>\n     <use style=\"fill:#1f77b4;stroke:#1f77b4;\" x=\"116.551632\" xlink:href=\"#m2a41409c3b\" y=\"73.564095\"/>\n     <use style=\"fill:#1f77b4;stroke:#1f77b4;\" x=\"117.313821\" xlink:href=\"#m2a41409c3b\" y=\"72.411809\"/>\n     <use style=\"fill:#1f77b4;stroke:#1f77b4;\" x=\"112.402153\" xlink:href=\"#m2a41409c3b\" y=\"71.56792\"/>\n     <use style=\"fill:#1f77b4;stroke:#1f77b4;\" x=\"124.242268\" xlink:href=\"#m2a41409c3b\" y=\"87.34959\"/>\n     <use style=\"fill:#1f77b4;stroke:#1f77b4;\" x=\"113.215945\" xlink:href=\"#m2a41409c3b\" y=\"68.751059\"/>\n     <use style=\"fill:#1f77b4;stroke:#1f77b4;\" x=\"139.462038\" xlink:href=\"#m2a41409c3b\" y=\"81.131666\"/>\n     <use style=\"fill:#1f77b4;stroke:#1f77b4;\" x=\"126.618102\" xlink:href=\"#m2a41409c3b\" y=\"92.615268\"/>\n     <use style=\"fill:#1f77b4;stroke:#1f77b4;\" x=\"143.856715\" xlink:href=\"#m2a41409c3b\" y=\"87.664765\"/>\n     <use style=\"fill:#1f77b4;stroke:#1f77b4;\" x=\"103.108307\" xlink:href=\"#m2a41409c3b\" y=\"76.854304\"/>\n     <use style=\"fill:#1f77b4;stroke:#1f77b4;\" x=\"159.589517\" xlink:href=\"#m2a41409c3b\" y=\"105.649239\"/>\n     <use style=\"fill:#1f77b4;stroke:#1f77b4;\" x=\"158.645098\" xlink:href=\"#m2a41409c3b\" y=\"106.769534\"/>\n     <use style=\"fill:#1f77b4;stroke:#1f77b4;\" x=\"139.65047\" xlink:href=\"#m2a41409c3b\" y=\"103.307618\"/>\n     <use style=\"fill:#1f77b4;stroke:#1f77b4;\" x=\"81.600202\" xlink:href=\"#m2a41409c3b\" y=\"41.909018\"/>\n     <use style=\"fill:#1f77b4;stroke:#1f77b4;\" x=\"117.196117\" xlink:href=\"#m2a41409c3b\" y=\"58.465703\"/>\n     <use style=\"fill:#1f77b4;stroke:#1f77b4;\" x=\"144.087657\" xlink:href=\"#m2a41409c3b\" y=\"98.560067\"/>\n     <use style=\"fill:#1f77b4;stroke:#1f77b4;\" x=\"143.476968\" xlink:href=\"#m2a41409c3b\" y=\"89.54421\"/>\n     <use style=\"fill:#1f77b4;stroke:#1f77b4;\" x=\"111.718347\" xlink:href=\"#m2a41409c3b\" y=\"67.84573\"/>\n     <use style=\"fill:#1f77b4;stroke:#1f77b4;\" x=\"129.979585\" xlink:href=\"#m2a41409c3b\" y=\"80.675748\"/>\n     <use style=\"fill:#1f77b4;stroke:#1f77b4;\" x=\"118.10624\" xlink:href=\"#m2a41409c3b\" y=\"80.836426\"/>\n     <use style=\"fill:#1f77b4;stroke:#1f77b4;\" x=\"132.686752\" xlink:href=\"#m2a41409c3b\" y=\"65.275749\"/>\n     <use style=\"fill:#1f77b4;stroke:#1f77b4;\" x=\"137.018775\" xlink:href=\"#m2a41409c3b\" y=\"79.0363\"/>\n     <use style=\"fill:#1f77b4;stroke:#1f77b4;\" x=\"124.714275\" xlink:href=\"#m2a41409c3b\" y=\"95.500544\"/>\n     <use style=\"fill:#1f77b4;stroke:#1f77b4;\" x=\"135.019055\" xlink:href=\"#m2a41409c3b\" y=\"76.872518\"/>\n     <use style=\"fill:#1f77b4;stroke:#1f77b4;\" x=\"136.843975\" xlink:href=\"#m2a41409c3b\" y=\"88.360413\"/>\n     <use style=\"fill:#1f77b4;stroke:#1f77b4;\" x=\"125.201029\" xlink:href=\"#m2a41409c3b\" y=\"70.056946\"/>\n     <use style=\"fill:#1f77b4;stroke:#1f77b4;\" x=\"98.480901\" xlink:href=\"#m2a41409c3b\" y=\"56.559296\"/>\n     <use style=\"fill:#1f77b4;stroke:#1f77b4;\" x=\"133.88453\" xlink:href=\"#m2a41409c3b\" y=\"72.644413\"/>\n     <use style=\"fill:#1f77b4;stroke:#1f77b4;\" x=\"143.920845\" xlink:href=\"#m2a41409c3b\" y=\"84.972281\"/>\n     <use style=\"fill:#1f77b4;stroke:#1f77b4;\" x=\"137.621927\" xlink:href=\"#m2a41409c3b\" y=\"73.464683\"/>\n     <use style=\"fill:#1f77b4;stroke:#1f77b4;\" x=\"86.926953\" xlink:href=\"#m2a41409c3b\" y=\"69.071925\"/>\n     <use style=\"fill:#1f77b4;stroke:#1f77b4;\" x=\"139.354669\" xlink:href=\"#m2a41409c3b\" y=\"86.551866\"/>\n     <use style=\"fill:#1f77b4;stroke:#1f77b4;\" x=\"144.928525\" xlink:href=\"#m2a41409c3b\" y=\"82.899526\"/>\n     <use style=\"fill:#1f77b4;stroke:#1f77b4;\" x=\"134.533004\" xlink:href=\"#m2a41409c3b\" y=\"84.043832\"/>\n     <use style=\"fill:#1f77b4;stroke:#1f77b4;\" x=\"68.37071\" xlink:href=\"#m2a41409c3b\" y=\"45.536102\"/>\n     <use style=\"fill:#1f77b4;stroke:#1f77b4;\" x=\"134.122603\" xlink:href=\"#m2a41409c3b\" y=\"88.482556\"/>\n     <use style=\"fill:#1f77b4;stroke:#1f77b4;\" x=\"68.774087\" xlink:href=\"#m2a41409c3b\" y=\"48.10334\"/>\n     <use style=\"fill:#1f77b4;stroke:#1f77b4;\" x=\"127.43456\" xlink:href=\"#m2a41409c3b\" y=\"64.159657\"/>\n     <use style=\"fill:#1f77b4;stroke:#1f77b4;\" x=\"93.771314\" xlink:href=\"#m2a41409c3b\" y=\"51.988142\"/>\n     <use style=\"fill:#1f77b4;stroke:#1f77b4;\" x=\"112.154391\" xlink:href=\"#m2a41409c3b\" y=\"87.437492\"/>\n     <use style=\"fill:#1f77b4;stroke:#1f77b4;\" x=\"74.700324\" xlink:href=\"#m2a41409c3b\" y=\"54.419086\"/>\n     <use style=\"fill:#1f77b4;stroke:#1f77b4;\" x=\"129.678453\" xlink:href=\"#m2a41409c3b\" y=\"82.728828\"/>\n     <use style=\"fill:#1f77b4;stroke:#1f77b4;\" x=\"121.242982\" xlink:href=\"#m2a41409c3b\" y=\"78.226702\"/>\n     <use style=\"fill:#1f77b4;stroke:#1f77b4;\" x=\"106.939515\" xlink:href=\"#m2a41409c3b\" y=\"66.132541\"/>\n     <use style=\"fill:#1f77b4;stroke:#1f77b4;\" x=\"138.871105\" xlink:href=\"#m2a41409c3b\" y=\"79.187719\"/>\n     <use style=\"fill:#1f77b4;stroke:#1f77b4;\" x=\"137.914224\" xlink:href=\"#m2a41409c3b\" y=\"86.729258\"/>\n     <use style=\"fill:#1f77b4;stroke:#1f77b4;\" x=\"70.211255\" xlink:href=\"#m2a41409c3b\" y=\"40.247452\"/>\n     <use style=\"fill:#1f77b4;stroke:#1f77b4;\" x=\"136.516933\" xlink:href=\"#m2a41409c3b\" y=\"93.982125\"/>\n     <use style=\"fill:#1f77b4;stroke:#1f77b4;\" x=\"113.951789\" xlink:href=\"#m2a41409c3b\" y=\"82.047993\"/>\n     <use style=\"fill:#1f77b4;stroke:#1f77b4;\" x=\"141.584078\" xlink:href=\"#m2a41409c3b\" y=\"93.572108\"/>\n     <use style=\"fill:#1f77b4;stroke:#1f77b4;\" x=\"101.165209\" xlink:href=\"#m2a41409c3b\" y=\"46.328255\"/>\n     <use style=\"fill:#1f77b4;stroke:#1f77b4;\" x=\"142.289321\" xlink:href=\"#m2a41409c3b\" y=\"96.614638\"/>\n     <use style=\"fill:#1f77b4;stroke:#1f77b4;\" x=\"95.908063\" xlink:href=\"#m2a41409c3b\" y=\"64.287223\"/>\n     <use style=\"fill:#1f77b4;stroke:#1f77b4;\" x=\"113.029147\" xlink:href=\"#m2a41409c3b\" y=\"67.228995\"/>\n     <use style=\"fill:#1f77b4;stroke:#1f77b4;\" x=\"150.478559\" xlink:href=\"#m2a41409c3b\" y=\"94.133195\"/>\n     <use style=\"fill:#1f77b4;stroke:#1f77b4;\" x=\"69.583253\" xlink:href=\"#m2a41409c3b\" y=\"50.920342\"/>\n     <use style=\"fill:#1f77b4;stroke:#1f77b4;\" x=\"109.146594\" xlink:href=\"#m2a41409c3b\" y=\"82.653311\"/>\n     <use style=\"fill:#1f77b4;stroke:#1f77b4;\" x=\"124.051744\" xlink:href=\"#m2a41409c3b\" y=\"67.551145\"/>\n     <use style=\"fill:#1f77b4;stroke:#1f77b4;\" x=\"132.798779\" xlink:href=\"#m2a41409c3b\" y=\"91.780212\"/>\n     <use style=\"fill:#1f77b4;stroke:#1f77b4;\" x=\"114.886906\" xlink:href=\"#m2a41409c3b\" y=\"72.960968\"/>\n     <use style=\"fill:#1f77b4;stroke:#1f77b4;\" x=\"105.593729\" xlink:href=\"#m2a41409c3b\" y=\"61.634517\"/>\n     <use style=\"fill:#1f77b4;stroke:#1f77b4;\" x=\"86.400581\" xlink:href=\"#m2a41409c3b\" y=\"62.876955\"/>\n     <use style=\"fill:#1f77b4;stroke:#1f77b4;\" x=\"133.684413\" xlink:href=\"#m2a41409c3b\" y=\"97.125219\"/>\n     <use style=\"fill:#1f77b4;stroke:#1f77b4;\" x=\"117.362877\" xlink:href=\"#m2a41409c3b\" y=\"78.506785\"/>\n     <use style=\"fill:#1f77b4;stroke:#1f77b4;\" x=\"115.653254\" xlink:href=\"#m2a41409c3b\" y=\"82.080098\"/>\n     <use style=\"fill:#1f77b4;stroke:#1f77b4;\" x=\"117.415083\" xlink:href=\"#m2a41409c3b\" y=\"65.50614\"/>\n     <use style=\"fill:#1f77b4;stroke:#1f77b4;\" x=\"97.426458\" xlink:href=\"#m2a41409c3b\" y=\"63.438718\"/>\n     <use style=\"fill:#1f77b4;stroke:#1f77b4;\" x=\"139.49368\" xlink:href=\"#m2a41409c3b\" y=\"82.337233\"/>\n     <use style=\"fill:#1f77b4;stroke:#1f77b4;\" x=\"95.889578\" xlink:href=\"#m2a41409c3b\" y=\"43.77641\"/>\n     <use style=\"fill:#1f77b4;stroke:#1f77b4;\" x=\"124.671479\" xlink:href=\"#m2a41409c3b\" y=\"72.412561\"/>\n     <use style=\"fill:#1f77b4;stroke:#1f77b4;\" x=\"124.518228\" xlink:href=\"#m2a41409c3b\" y=\"69.415834\"/>\n     <use style=\"fill:#1f77b4;stroke:#1f77b4;\" x=\"110.805423\" xlink:href=\"#m2a41409c3b\" y=\"68.841589\"/>\n     <use style=\"fill:#1f77b4;stroke:#1f77b4;\" x=\"138.148822\" xlink:href=\"#m2a41409c3b\" y=\"93.108096\"/>\n     <use style=\"fill:#1f77b4;stroke:#1f77b4;\" x=\"137.835333\" xlink:href=\"#m2a41409c3b\" y=\"106.838358\"/>\n     <use style=\"fill:#1f77b4;stroke:#1f77b4;\" x=\"104.690967\" xlink:href=\"#m2a41409c3b\" y=\"67.293508\"/>\n     <use style=\"fill:#1f77b4;stroke:#1f77b4;\" x=\"106.184312\" xlink:href=\"#m2a41409c3b\" y=\"65.40431\"/>\n     <use style=\"fill:#1f77b4;stroke:#1f77b4;\" x=\"131.886034\" xlink:href=\"#m2a41409c3b\" y=\"91.939993\"/>\n     <use style=\"fill:#1f77b4;stroke:#1f77b4;\" x=\"157.589039\" xlink:href=\"#m2a41409c3b\" y=\"101.015138\"/>\n     <use style=\"fill:#1f77b4;stroke:#1f77b4;\" x=\"119.943273\" xlink:href=\"#m2a41409c3b\" y=\"84.175383\"/>\n     <use style=\"fill:#1f77b4;stroke:#1f77b4;\" x=\"122.908418\" xlink:href=\"#m2a41409c3b\" y=\"63.348175\"/>\n     <use style=\"fill:#1f77b4;stroke:#1f77b4;\" x=\"104.788327\" xlink:href=\"#m2a41409c3b\" y=\"47.224766\"/>\n     <use style=\"fill:#1f77b4;stroke:#1f77b4;\" x=\"114.757208\" xlink:href=\"#m2a41409c3b\" y=\"82.980499\"/>\n     <use style=\"fill:#1f77b4;stroke:#1f77b4;\" x=\"120.829154\" xlink:href=\"#m2a41409c3b\" y=\"78.648817\"/>\n     <use style=\"fill:#1f77b4;stroke:#1f77b4;\" x=\"120.956299\" xlink:href=\"#m2a41409c3b\" y=\"98.6504\"/>\n     <use style=\"fill:#1f77b4;stroke:#1f77b4;\" x=\"139.499041\" xlink:href=\"#m2a41409c3b\" y=\"92.403544\"/>\n     <use style=\"fill:#1f77b4;stroke:#1f77b4;\" x=\"129.271274\" xlink:href=\"#m2a41409c3b\" y=\"93.34549\"/>\n     <use style=\"fill:#1f77b4;stroke:#1f77b4;\" x=\"134.511158\" xlink:href=\"#m2a41409c3b\" y=\"101.172593\"/>\n     <use style=\"fill:#1f77b4;stroke:#1f77b4;\" x=\"149.16465\" xlink:href=\"#m2a41409c3b\" y=\"97.367603\"/>\n     <use style=\"fill:#1f77b4;stroke:#1f77b4;\" x=\"110.333272\" xlink:href=\"#m2a41409c3b\" y=\"56.062333\"/>\n     <use style=\"fill:#1f77b4;stroke:#1f77b4;\" x=\"149.578383\" xlink:href=\"#m2a41409c3b\" y=\"98.479372\"/>\n     <use style=\"fill:#1f77b4;stroke:#1f77b4;\" x=\"89.268329\" xlink:href=\"#m2a41409c3b\" y=\"59.431323\"/>\n     <use style=\"fill:#1f77b4;stroke:#1f77b4;\" x=\"150.621961\" xlink:href=\"#m2a41409c3b\" y=\"101.285831\"/>\n     <use style=\"fill:#1f77b4;stroke:#1f77b4;\" x=\"150.195613\" xlink:href=\"#m2a41409c3b\" y=\"87.557525\"/>\n     <use style=\"fill:#1f77b4;stroke:#1f77b4;\" x=\"142.846865\" xlink:href=\"#m2a41409c3b\" y=\"91.774829\"/>\n     <use style=\"fill:#1f77b4;stroke:#1f77b4;\" x=\"96.485594\" xlink:href=\"#m2a41409c3b\" y=\"63.135218\"/>\n     <use style=\"fill:#1f77b4;stroke:#1f77b4;\" x=\"123.543776\" xlink:href=\"#m2a41409c3b\" y=\"79.533144\"/>\n     <use style=\"fill:#1f77b4;stroke:#1f77b4;\" x=\"131.329832\" xlink:href=\"#m2a41409c3b\" y=\"88.883094\"/>\n     <use style=\"fill:#1f77b4;stroke:#1f77b4;\" x=\"131.688087\" xlink:href=\"#m2a41409c3b\" y=\"99.034111\"/>\n     <use style=\"fill:#1f77b4;stroke:#1f77b4;\" x=\"144.736348\" xlink:href=\"#m2a41409c3b\" y=\"100.725111\"/>\n     <use style=\"fill:#1f77b4;stroke:#1f77b4;\" x=\"117.742456\" xlink:href=\"#m2a41409c3b\" y=\"86.89634\"/>\n     <use style=\"fill:#1f77b4;stroke:#1f77b4;\" x=\"101.998279\" xlink:href=\"#m2a41409c3b\" y=\"66.176307\"/>\n     <use style=\"fill:#1f77b4;stroke:#1f77b4;\" x=\"105.568917\" xlink:href=\"#m2a41409c3b\" y=\"68.741249\"/>\n     <use style=\"fill:#1f77b4;stroke:#1f77b4;\" x=\"117.343756\" xlink:href=\"#m2a41409c3b\" y=\"78.784659\"/>\n     <use style=\"fill:#1f77b4;stroke:#1f77b4;\" x=\"104.175679\" xlink:href=\"#m2a41409c3b\" y=\"64.308522\"/>\n     <use style=\"fill:#1f77b4;stroke:#1f77b4;\" x=\"112.080241\" xlink:href=\"#m2a41409c3b\" y=\"74.404866\"/>\n     <use style=\"fill:#1f77b4;stroke:#1f77b4;\" x=\"96.263218\" xlink:href=\"#m2a41409c3b\" y=\"41.73315\"/>\n     <use style=\"fill:#1f77b4;stroke:#1f77b4;\" x=\"143.90915\" xlink:href=\"#m2a41409c3b\" y=\"80.077271\"/>\n     <use style=\"fill:#1f77b4;stroke:#1f77b4;\" x=\"94.582232\" xlink:href=\"#m2a41409c3b\" y=\"56.328839\"/>\n     <use style=\"fill:#1f77b4;stroke:#1f77b4;\" x=\"114.308641\" xlink:href=\"#m2a41409c3b\" y=\"78.700253\"/>\n     <use style=\"fill:#1f77b4;stroke:#1f77b4;\" x=\"118.872188\" xlink:href=\"#m2a41409c3b\" y=\"78.035986\"/>\n     <use style=\"fill:#1f77b4;stroke:#1f77b4;\" x=\"59.2267\" xlink:href=\"#m2a41409c3b\" y=\"30.319522\"/>\n     <use style=\"fill:#1f77b4;stroke:#1f77b4;\" x=\"110.450388\" xlink:href=\"#m2a41409c3b\" y=\"92.847616\"/>\n     <use style=\"fill:#1f77b4;stroke:#1f77b4;\" x=\"147.647057\" xlink:href=\"#m2a41409c3b\" y=\"92.977674\"/>\n     <use style=\"fill:#1f77b4;stroke:#1f77b4;\" x=\"102.032518\" xlink:href=\"#m2a41409c3b\" y=\"65.860339\"/>\n     <use style=\"fill:#1f77b4;stroke:#1f77b4;\" x=\"143.759462\" xlink:href=\"#m2a41409c3b\" y=\"79.564927\"/>\n     <use style=\"fill:#1f77b4;stroke:#1f77b4;\" x=\"110.320761\" xlink:href=\"#m2a41409c3b\" y=\"80.825127\"/>\n     <use style=\"fill:#1f77b4;stroke:#1f77b4;\" x=\"163.772703\" xlink:href=\"#m2a41409c3b\" y=\"114.534538\"/>\n     <use style=\"fill:#1f77b4;stroke:#1f77b4;\" x=\"121.460911\" xlink:href=\"#m2a41409c3b\" y=\"88.318803\"/>\n     <use style=\"fill:#1f77b4;stroke:#1f77b4;\" x=\"110.998214\" xlink:href=\"#m2a41409c3b\" y=\"74.903015\"/>\n     <use style=\"fill:#1f77b4;stroke:#1f77b4;\" x=\"149.53725\" xlink:href=\"#m2a41409c3b\" y=\"97.757008\"/>\n     <use style=\"fill:#1f77b4;stroke:#1f77b4;\" x=\"147.61132\" xlink:href=\"#m2a41409c3b\" y=\"91.649988\"/>\n     <use style=\"fill:#1f77b4;stroke:#1f77b4;\" x=\"113.303424\" xlink:href=\"#m2a41409c3b\" y=\"63.17867\"/>\n     <use style=\"fill:#1f77b4;stroke:#1f77b4;\" x=\"125.555179\" xlink:href=\"#m2a41409c3b\" y=\"74.378887\"/>\n     <use style=\"fill:#1f77b4;stroke:#1f77b4;\" x=\"154.33261\" xlink:href=\"#m2a41409c3b\" y=\"99.330341\"/>\n     <use style=\"fill:#1f77b4;stroke:#1f77b4;\" x=\"123.568047\" xlink:href=\"#m2a41409c3b\" y=\"87.768024\"/>\n     <use style=\"fill:#1f77b4;stroke:#1f77b4;\" x=\"106.995033\" xlink:href=\"#m2a41409c3b\" y=\"71.897219\"/>\n     <use style=\"fill:#1f77b4;stroke:#1f77b4;\" x=\"106.540943\" xlink:href=\"#m2a41409c3b\" y=\"74.089776\"/>\n     <use style=\"fill:#1f77b4;stroke:#1f77b4;\" x=\"146.669561\" xlink:href=\"#m2a41409c3b\" y=\"97.062427\"/>\n     <use style=\"fill:#1f77b4;stroke:#1f77b4;\" x=\"111.098353\" xlink:href=\"#m2a41409c3b\" y=\"64.37519\"/>\n     <use style=\"fill:#1f77b4;stroke:#1f77b4;\" x=\"81.827387\" xlink:href=\"#m2a41409c3b\" y=\"50.80079\"/>\n     <use style=\"fill:#1f77b4;stroke:#1f77b4;\" x=\"109.164605\" xlink:href=\"#m2a41409c3b\" y=\"73.723719\"/>\n     <use style=\"fill:#1f77b4;stroke:#1f77b4;\" x=\"136.097779\" xlink:href=\"#m2a41409c3b\" y=\"89.771772\"/>\n     <use style=\"fill:#1f77b4;stroke:#1f77b4;\" x=\"121.687098\" xlink:href=\"#m2a41409c3b\" y=\"74.005658\"/>\n     <use style=\"fill:#1f77b4;stroke:#1f77b4;\" x=\"125.709294\" xlink:href=\"#m2a41409c3b\" y=\"79.031241\"/>\n     <use style=\"fill:#1f77b4;stroke:#1f77b4;\" x=\"101.997399\" xlink:href=\"#m2a41409c3b\" y=\"65.824606\"/>\n     <use style=\"fill:#1f77b4;stroke:#1f77b4;\" x=\"77.270507\" xlink:href=\"#m2a41409c3b\" y=\"58.756804\"/>\n     <use style=\"fill:#1f77b4;stroke:#1f77b4;\" x=\"169.662702\" xlink:href=\"#m2a41409c3b\" y=\"115.729591\"/>\n     <use style=\"fill:#1f77b4;stroke:#1f77b4;\" x=\"104.137879\" xlink:href=\"#m2a41409c3b\" y=\"58.456347\"/>\n     <use style=\"fill:#1f77b4;stroke:#1f77b4;\" x=\"152.262881\" xlink:href=\"#m2a41409c3b\" y=\"87.77268\"/>\n     <use style=\"fill:#1f77b4;stroke:#1f77b4;\" x=\"112.52396\" xlink:href=\"#m2a41409c3b\" y=\"65.815285\"/>\n     <use style=\"fill:#1f77b4;stroke:#1f77b4;\" x=\"110.444931\" xlink:href=\"#m2a41409c3b\" y=\"70.805192\"/>\n     <use style=\"fill:#1f77b4;stroke:#1f77b4;\" x=\"129.42661\" xlink:href=\"#m2a41409c3b\" y=\"85.301137\"/>\n     <use style=\"fill:#1f77b4;stroke:#1f77b4;\" x=\"122.43694\" xlink:href=\"#m2a41409c3b\" y=\"89.096149\"/>\n     <use style=\"fill:#1f77b4;stroke:#1f77b4;\" x=\"144.520008\" xlink:href=\"#m2a41409c3b\" y=\"99.745844\"/>\n     <use style=\"fill:#1f77b4;stroke:#1f77b4;\" x=\"174.627241\" xlink:href=\"#m2a41409c3b\" y=\"102.883601\"/>\n     <use style=\"fill:#1f77b4;stroke:#1f77b4;\" x=\"142.001111\" xlink:href=\"#m2a41409c3b\" y=\"82.89095\"/>\n     <use style=\"fill:#1f77b4;stroke:#1f77b4;\" x=\"79.794205\" xlink:href=\"#m2a41409c3b\" y=\"45.696827\"/>\n     <use style=\"fill:#1f77b4;stroke:#1f77b4;\" x=\"150.363605\" xlink:href=\"#m2a41409c3b\" y=\"77.337604\"/>\n     <use style=\"fill:#1f77b4;stroke:#1f77b4;\" x=\"122.17978\" xlink:href=\"#m2a41409c3b\" y=\"79.013093\"/>\n     <use style=\"fill:#1f77b4;stroke:#1f77b4;\" x=\"127.459827\" xlink:href=\"#m2a41409c3b\" y=\"91.924313\"/>\n     <use style=\"fill:#1f77b4;stroke:#1f77b4;\" x=\"104.110595\" xlink:href=\"#m2a41409c3b\" y=\"73.588265\"/>\n     <use style=\"fill:#1f77b4;stroke:#1f77b4;\" x=\"164.635597\" xlink:href=\"#m2a41409c3b\" y=\"96.50166\"/>\n     <use style=\"fill:#1f77b4;stroke:#1f77b4;\" x=\"86.64121\" xlink:href=\"#m2a41409c3b\" y=\"67.863169\"/>\n     <use style=\"fill:#1f77b4;stroke:#1f77b4;\" x=\"144.530165\" xlink:href=\"#m2a41409c3b\" y=\"103.490719\"/>\n     <use style=\"fill:#1f77b4;stroke:#1f77b4;\" x=\"141.338523\" xlink:href=\"#m2a41409c3b\" y=\"97.01872\"/>\n     <use style=\"fill:#1f77b4;stroke:#1f77b4;\" x=\"134.192031\" xlink:href=\"#m2a41409c3b\" y=\"86.328649\"/>\n     <use style=\"fill:#1f77b4;stroke:#1f77b4;\" x=\"124.991312\" xlink:href=\"#m2a41409c3b\" y=\"85.975364\"/>\n     <use style=\"fill:#1f77b4;stroke:#1f77b4;\" x=\"91.602048\" xlink:href=\"#m2a41409c3b\" y=\"51.457219\"/>\n     <use style=\"fill:#1f77b4;stroke:#1f77b4;\" x=\"129.139039\" xlink:href=\"#m2a41409c3b\" y=\"81.647509\"/>\n     <use style=\"fill:#1f77b4;stroke:#1f77b4;\" x=\"105.427685\" xlink:href=\"#m2a41409c3b\" y=\"84.113511\"/>\n     <use style=\"fill:#1f77b4;stroke:#1f77b4;\" x=\"110.125659\" xlink:href=\"#m2a41409c3b\" y=\"78.746495\"/>\n     <use style=\"fill:#1f77b4;stroke:#1f77b4;\" x=\"131.528276\" xlink:href=\"#m2a41409c3b\" y=\"90.470492\"/>\n     <use style=\"fill:#1f77b4;stroke:#1f77b4;\" x=\"137.004152\" xlink:href=\"#m2a41409c3b\" y=\"93.37505\"/>\n     <use style=\"fill:#1f77b4;stroke:#1f77b4;\" x=\"132.106086\" xlink:href=\"#m2a41409c3b\" y=\"89.709195\"/>\n     <use style=\"fill:#1f77b4;stroke:#1f77b4;\" x=\"127.244061\" xlink:href=\"#m2a41409c3b\" y=\"88.994953\"/>\n     <use style=\"fill:#1f77b4;stroke:#1f77b4;\" x=\"82.637056\" xlink:href=\"#m2a41409c3b\" y=\"43.215551\"/>\n     <use style=\"fill:#1f77b4;stroke:#1f77b4;\" x=\"114.265389\" xlink:href=\"#m2a41409c3b\" y=\"77.282711\"/>\n     <use style=\"fill:#1f77b4;stroke:#1f77b4;\" x=\"143.494916\" xlink:href=\"#m2a41409c3b\" y=\"92.423358\"/>\n     <use style=\"fill:#1f77b4;stroke:#1f77b4;\" x=\"125.280182\" xlink:href=\"#m2a41409c3b\" y=\"85.530605\"/>\n     <use style=\"fill:#1f77b4;stroke:#1f77b4;\" x=\"147.004764\" xlink:href=\"#m2a41409c3b\" y=\"109.687658\"/>\n     <use style=\"fill:#1f77b4;stroke:#1f77b4;\" x=\"107.007128\" xlink:href=\"#m2a41409c3b\" y=\"74.716695\"/>\n     <use style=\"fill:#1f77b4;stroke:#1f77b4;\" x=\"91.754805\" xlink:href=\"#m2a41409c3b\" y=\"59.032375\"/>\n     <use style=\"fill:#1f77b4;stroke:#1f77b4;\" x=\"91.445492\" xlink:href=\"#m2a41409c3b\" y=\"40.327711\"/>\n     <use style=\"fill:#1f77b4;stroke:#1f77b4;\" x=\"87.261718\" xlink:href=\"#m2a41409c3b\" y=\"54.401811\"/>\n     <use style=\"fill:#1f77b4;stroke:#1f77b4;\" x=\"154.13188\" xlink:href=\"#m2a41409c3b\" y=\"79.848546\"/>\n     <use style=\"fill:#1f77b4;stroke:#1f77b4;\" x=\"119.592563\" xlink:href=\"#m2a41409c3b\" y=\"79.849625\"/>\n     <use style=\"fill:#1f77b4;stroke:#1f77b4;\" x=\"130.577509\" xlink:href=\"#m2a41409c3b\" y=\"98.856448\"/>\n     <use style=\"fill:#1f77b4;stroke:#1f77b4;\" x=\"100.111372\" xlink:href=\"#m2a41409c3b\" y=\"61.945039\"/>\n     <use style=\"fill:#1f77b4;stroke:#1f77b4;\" x=\"137.883843\" xlink:href=\"#m2a41409c3b\" y=\"88.145904\"/>\n     <use style=\"fill:#1f77b4;stroke:#1f77b4;\" x=\"119.590061\" xlink:href=\"#m2a41409c3b\" y=\"82.92893\"/>\n     <use style=\"fill:#1f77b4;stroke:#1f77b4;\" x=\"109.510509\" xlink:href=\"#m2a41409c3b\" y=\"61.773058\"/>\n     <use style=\"fill:#1f77b4;stroke:#1f77b4;\" x=\"148.581311\" xlink:href=\"#m2a41409c3b\" y=\"98.803596\"/>\n     <use style=\"fill:#1f77b4;stroke:#1f77b4;\" x=\"131.456771\" xlink:href=\"#m2a41409c3b\" y=\"92.950179\"/>\n     <use style=\"fill:#1f77b4;stroke:#1f77b4;\" x=\"131.959996\" xlink:href=\"#m2a41409c3b\" y=\"55.775198\"/>\n     <use style=\"fill:#1f77b4;stroke:#1f77b4;\" x=\"124.313512\" xlink:href=\"#m2a41409c3b\" y=\"82.254478\"/>\n     <use style=\"fill:#1f77b4;stroke:#1f77b4;\" x=\"77.210719\" xlink:href=\"#m2a41409c3b\" y=\"45.111056\"/>\n     <use style=\"fill:#1f77b4;stroke:#1f77b4;\" x=\"108.378236\" xlink:href=\"#m2a41409c3b\" y=\"70.866188\"/>\n     <use style=\"fill:#1f77b4;stroke:#1f77b4;\" x=\"134.777915\" xlink:href=\"#m2a41409c3b\" y=\"93.900187\"/>\n     <use style=\"fill:#1f77b4;stroke:#1f77b4;\" x=\"153.461566\" xlink:href=\"#m2a41409c3b\" y=\"112.403361\"/>\n     <use style=\"fill:#1f77b4;stroke:#1f77b4;\" x=\"163.105404\" xlink:href=\"#m2a41409c3b\" y=\"108.878873\"/>\n     <use style=\"fill:#1f77b4;stroke:#1f77b4;\" x=\"94.468719\" xlink:href=\"#m2a41409c3b\" y=\"53.900997\"/>\n     <use style=\"fill:#1f77b4;stroke:#1f77b4;\" x=\"91.186765\" xlink:href=\"#m2a41409c3b\" y=\"63.935242\"/>\n     <use style=\"fill:#1f77b4;stroke:#1f77b4;\" x=\"111.789199\" xlink:href=\"#m2a41409c3b\" y=\"68.296255\"/>\n     <use style=\"fill:#1f77b4;stroke:#1f77b4;\" x=\"112.535579\" xlink:href=\"#m2a41409c3b\" y=\"74.380383\"/>\n     <use style=\"fill:#1f77b4;stroke:#1f77b4;\" x=\"146.437453\" xlink:href=\"#m2a41409c3b\" y=\"109.763966\"/>\n     <use style=\"fill:#1f77b4;stroke:#1f77b4;\" x=\"115.060852\" xlink:href=\"#m2a41409c3b\" y=\"75.138035\"/>\n     <use style=\"fill:#1f77b4;stroke:#1f77b4;\" x=\"88.517424\" xlink:href=\"#m2a41409c3b\" y=\"65.386881\"/>\n     <use style=\"fill:#1f77b4;stroke:#1f77b4;\" x=\"126.2638\" xlink:href=\"#m2a41409c3b\" y=\"97.219189\"/>\n     <use style=\"fill:#1f77b4;stroke:#1f77b4;\" x=\"144.229745\" xlink:href=\"#m2a41409c3b\" y=\"84.248771\"/>\n     <use style=\"fill:#1f77b4;stroke:#1f77b4;\" x=\"134.703125\" xlink:href=\"#m2a41409c3b\" y=\"77.367157\"/>\n     <use style=\"fill:#1f77b4;stroke:#1f77b4;\" x=\"100.078566\" xlink:href=\"#m2a41409c3b\" y=\"63.885805\"/>\n     <use style=\"fill:#1f77b4;stroke:#1f77b4;\" x=\"112.827646\" xlink:href=\"#m2a41409c3b\" y=\"55.664694\"/>\n     <use style=\"fill:#1f77b4;stroke:#1f77b4;\" x=\"82.831\" xlink:href=\"#m2a41409c3b\" y=\"54.093316\"/>\n     <use style=\"fill:#1f77b4;stroke:#1f77b4;\" x=\"112.847176\" xlink:href=\"#m2a41409c3b\" y=\"70.272636\"/>\n     <use style=\"fill:#1f77b4;stroke:#1f77b4;\" x=\"150.086984\" xlink:href=\"#m2a41409c3b\" y=\"80.552946\"/>\n     <use style=\"fill:#1f77b4;stroke:#1f77b4;\" x=\"132.830483\" xlink:href=\"#m2a41409c3b\" y=\"90.492864\"/>\n     <use style=\"fill:#1f77b4;stroke:#1f77b4;\" x=\"147.767001\" xlink:href=\"#m2a41409c3b\" y=\"100.692283\"/>\n     <use style=\"fill:#1f77b4;stroke:#1f77b4;\" x=\"95.590027\" xlink:href=\"#m2a41409c3b\" y=\"63.618909\"/>\n     <use style=\"fill:#1f77b4;stroke:#1f77b4;\" x=\"128.21245\" xlink:href=\"#m2a41409c3b\" y=\"76.381908\"/>\n     <use style=\"fill:#1f77b4;stroke:#1f77b4;\" x=\"92.656943\" xlink:href=\"#m2a41409c3b\" y=\"57.048005\"/>\n     <use style=\"fill:#1f77b4;stroke:#1f77b4;\" x=\"144.026041\" xlink:href=\"#m2a41409c3b\" y=\"87.275528\"/>\n     <use style=\"fill:#1f77b4;stroke:#1f77b4;\" x=\"124.657396\" xlink:href=\"#m2a41409c3b\" y=\"91.273846\"/>\n     <use style=\"fill:#1f77b4;stroke:#1f77b4;\" x=\"139.290539\" xlink:href=\"#m2a41409c3b\" y=\"82.942236\"/>\n     <use style=\"fill:#1f77b4;stroke:#1f77b4;\" x=\"116.048869\" xlink:href=\"#m2a41409c3b\" y=\"74.702016\"/>\n     <use style=\"fill:#1f77b4;stroke:#1f77b4;\" x=\"125.247846\" xlink:href=\"#m2a41409c3b\" y=\"79.09802\"/>\n     <use style=\"fill:#1f77b4;stroke:#1f77b4;\" x=\"144.779727\" xlink:href=\"#m2a41409c3b\" y=\"73.251549\"/>\n     <use style=\"fill:#1f77b4;stroke:#1f77b4;\" x=\"121.720723\" xlink:href=\"#m2a41409c3b\" y=\"88.398776\"/>\n     <use style=\"fill:#1f77b4;stroke:#1f77b4;\" x=\"111.436744\" xlink:href=\"#m2a41409c3b\" y=\"61.823346\"/>\n     <use style=\"fill:#1f77b4;stroke:#1f77b4;\" x=\"142.754579\" xlink:href=\"#m2a41409c3b\" y=\"89.310355\"/>\n     <use style=\"fill:#1f77b4;stroke:#1f77b4;\" x=\"122.405999\" xlink:href=\"#m2a41409c3b\" y=\"65.578369\"/>\n     <use style=\"fill:#1f77b4;stroke:#1f77b4;\" x=\"133.901342\" xlink:href=\"#m2a41409c3b\" y=\"101.235125\"/>\n     <use style=\"fill:#1f77b4;stroke:#1f77b4;\" x=\"136.307194\" xlink:href=\"#m2a41409c3b\" y=\"86.060854\"/>\n     <use style=\"fill:#1f77b4;stroke:#1f77b4;\" x=\"136.220458\" xlink:href=\"#m2a41409c3b\" y=\"94.838486\"/>\n     <use style=\"fill:#1f77b4;stroke:#1f77b4;\" x=\"111.946006\" xlink:href=\"#m2a41409c3b\" y=\"76.093605\"/>\n     <use style=\"fill:#1f77b4;stroke:#1f77b4;\" x=\"132.223461\" xlink:href=\"#m2a41409c3b\" y=\"98.821667\"/>\n     <use style=\"fill:#1f77b4;stroke:#1f77b4;\" x=\"142.500611\" xlink:href=\"#m2a41409c3b\" y=\"89.045598\"/>\n     <use style=\"fill:#1f77b4;stroke:#1f77b4;\" x=\"136.040683\" xlink:href=\"#m2a41409c3b\" y=\"88.935839\"/>\n     <use style=\"fill:#1f77b4;stroke:#1f77b4;\" x=\"117.458563\" xlink:href=\"#m2a41409c3b\" y=\"85.137554\"/>\n     <use style=\"fill:#1f77b4;stroke:#1f77b4;\" x=\"146.227576\" xlink:href=\"#m2a41409c3b\" y=\"80.535773\"/>\n     <use style=\"fill:#1f77b4;stroke:#1f77b4;\" x=\"129.038505\" xlink:href=\"#m2a41409c3b\" y=\"89.751926\"/>\n     <use style=\"fill:#1f77b4;stroke:#1f77b4;\" x=\"136.133797\" xlink:href=\"#m2a41409c3b\" y=\"80.043245\"/>\n     <use style=\"fill:#1f77b4;stroke:#1f77b4;\" x=\"102.772314\" xlink:href=\"#m2a41409c3b\" y=\"69.607032\"/>\n     <use style=\"fill:#1f77b4;stroke:#1f77b4;\" x=\"130.805853\" xlink:href=\"#m2a41409c3b\" y=\"90.447101\"/>\n     <use style=\"fill:#1f77b4;stroke:#1f77b4;\" x=\"149.798338\" xlink:href=\"#m2a41409c3b\" y=\"106.775745\"/>\n     <use style=\"fill:#1f77b4;stroke:#1f77b4;\" x=\"106.028017\" xlink:href=\"#m2a41409c3b\" y=\"66.198762\"/>\n     <use style=\"fill:#1f77b4;stroke:#1f77b4;\" x=\"117.877937\" xlink:href=\"#m2a41409c3b\" y=\"60.300277\"/>\n     <use style=\"fill:#1f77b4;stroke:#1f77b4;\" x=\"93.826176\" xlink:href=\"#m2a41409c3b\" y=\"59.985881\"/>\n     <use style=\"fill:#1f77b4;stroke:#1f77b4;\" x=\"116.316794\" xlink:href=\"#m2a41409c3b\" y=\"74.242809\"/>\n     <use style=\"fill:#1f77b4;stroke:#1f77b4;\" x=\"153.882276\" xlink:href=\"#m2a41409c3b\" y=\"96.515353\"/>\n     <use style=\"fill:#1f77b4;stroke:#1f77b4;\" x=\"120.326736\" xlink:href=\"#m2a41409c3b\" y=\"76.8319\"/>\n     <use style=\"fill:#1f77b4;stroke:#1f77b4;\" x=\"157.201884\" xlink:href=\"#m2a41409c3b\" y=\"111.040139\"/>\n     <use style=\"fill:#1f77b4;stroke:#1f77b4;\" x=\"145.762821\" xlink:href=\"#m2a41409c3b\" y=\"91.43254\"/>\n     <use style=\"fill:#1f77b4;stroke:#1f77b4;\" x=\"145.219539\" xlink:href=\"#m2a41409c3b\" y=\"96.375663\"/>\n     <use style=\"fill:#1f77b4;stroke:#1f77b4;\" x=\"104.930671\" xlink:href=\"#m2a41409c3b\" y=\"70.738281\"/>\n     <use style=\"fill:#1f77b4;stroke:#1f77b4;\" x=\"133.42902\" xlink:href=\"#m2a41409c3b\" y=\"90.218594\"/>\n     <use style=\"fill:#1f77b4;stroke:#1f77b4;\" x=\"105.790534\" xlink:href=\"#m2a41409c3b\" y=\"56.5026\"/>\n     <use style=\"fill:#1f77b4;stroke:#1f77b4;\" x=\"144.762949\" xlink:href=\"#m2a41409c3b\" y=\"94.598066\"/>\n     <use style=\"fill:#1f77b4;stroke:#1f77b4;\" x=\"85.224257\" xlink:href=\"#m2a41409c3b\" y=\"54.706592\"/>\n     <use style=\"fill:#1f77b4;stroke:#1f77b4;\" x=\"157.279379\" xlink:href=\"#m2a41409c3b\" y=\"104.4671\"/>\n     <use style=\"fill:#1f77b4;stroke:#1f77b4;\" x=\"148.027811\" xlink:href=\"#m2a41409c3b\" y=\"92.131083\"/>\n     <use style=\"fill:#1f77b4;stroke:#1f77b4;\" x=\"122.107318\" xlink:href=\"#m2a41409c3b\" y=\"72.0702\"/>\n     <use style=\"fill:#1f77b4;stroke:#1f77b4;\" x=\"163.826063\" xlink:href=\"#m2a41409c3b\" y=\"112.833317\"/>\n     <use style=\"fill:#1f77b4;stroke:#1f77b4;\" x=\"101.850822\" xlink:href=\"#m2a41409c3b\" y=\"65.678319\"/>\n     <use style=\"fill:#1f77b4;stroke:#1f77b4;\" x=\"169.355771\" xlink:href=\"#m2a41409c3b\" y=\"115.065197\"/>\n     <use style=\"fill:#1f77b4;stroke:#1f77b4;\" x=\"129.062701\" xlink:href=\"#m2a41409c3b\" y=\"76.42419\"/>\n     <use style=\"fill:#1f77b4;stroke:#1f77b4;\" x=\"140.938029\" xlink:href=\"#m2a41409c3b\" y=\"94.560058\"/>\n     <use style=\"fill:#1f77b4;stroke:#1f77b4;\" x=\"129.327875\" xlink:href=\"#m2a41409c3b\" y=\"75.67078\"/>\n     <use style=\"fill:#1f77b4;stroke:#1f77b4;\" x=\"131.213058\" xlink:href=\"#m2a41409c3b\" y=\"84.645281\"/>\n     <use style=\"fill:#1f77b4;stroke:#1f77b4;\" x=\"152.381045\" xlink:href=\"#m2a41409c3b\" y=\"91.395834\"/>\n     <use style=\"fill:#1f77b4;stroke:#1f77b4;\" x=\"132.27825\" xlink:href=\"#m2a41409c3b\" y=\"93.336727\"/>\n     <use style=\"fill:#1f77b4;stroke:#1f77b4;\" x=\"134.866129\" xlink:href=\"#m2a41409c3b\" y=\"93.168126\"/>\n     <use style=\"fill:#1f77b4;stroke:#1f77b4;\" x=\"121.867681\" xlink:href=\"#m2a41409c3b\" y=\"79.989427\"/>\n     <use style=\"fill:#1f77b4;stroke:#1f77b4;\" x=\"129.064043\" xlink:href=\"#m2a41409c3b\" y=\"81.247513\"/>\n     <use style=\"fill:#1f77b4;stroke:#1f77b4;\" x=\"144.433153\" xlink:href=\"#m2a41409c3b\" y=\"87.493024\"/>\n     <use style=\"fill:#1f77b4;stroke:#1f77b4;\" x=\"99.452343\" xlink:href=\"#m2a41409c3b\" y=\"63.630394\"/>\n     <use style=\"fill:#1f77b4;stroke:#1f77b4;\" x=\"125.673352\" xlink:href=\"#m2a41409c3b\" y=\"67.117116\"/>\n     <use style=\"fill:#1f77b4;stroke:#1f77b4;\" x=\"117.41616\" xlink:href=\"#m2a41409c3b\" y=\"53.921819\"/>\n     <use style=\"fill:#1f77b4;stroke:#1f77b4;\" x=\"100.777653\" xlink:href=\"#m2a41409c3b\" y=\"60.542937\"/>\n     <use style=\"fill:#1f77b4;stroke:#1f77b4;\" x=\"137.044138\" xlink:href=\"#m2a41409c3b\" y=\"94.477831\"/>\n     <use style=\"fill:#1f77b4;stroke:#1f77b4;\" x=\"153.076594\" xlink:href=\"#m2a41409c3b\" y=\"90.480106\"/>\n     <use style=\"fill:#1f77b4;stroke:#1f77b4;\" x=\"116.894033\" xlink:href=\"#m2a41409c3b\" y=\"92.949744\"/>\n     <use style=\"fill:#1f77b4;stroke:#1f77b4;\" x=\"132.011902\" xlink:href=\"#m2a41409c3b\" y=\"84.185012\"/>\n     <use style=\"fill:#1f77b4;stroke:#1f77b4;\" x=\"122.675871\" xlink:href=\"#m2a41409c3b\" y=\"72.60237\"/>\n     <use style=\"fill:#1f77b4;stroke:#1f77b4;\" x=\"144.937709\" xlink:href=\"#m2a41409c3b\" y=\"95.697996\"/>\n     <use style=\"fill:#1f77b4;stroke:#1f77b4;\" x=\"158.552576\" xlink:href=\"#m2a41409c3b\" y=\"123.003307\"/>\n     <use style=\"fill:#1f77b4;stroke:#1f77b4;\" x=\"127.366625\" xlink:href=\"#m2a41409c3b\" y=\"83.856587\"/>\n     <use style=\"fill:#1f77b4;stroke:#1f77b4;\" x=\"116.482394\" xlink:href=\"#m2a41409c3b\" y=\"70.694363\"/>\n     <use style=\"fill:#1f77b4;stroke:#1f77b4;\" x=\"162.90914\" xlink:href=\"#m2a41409c3b\" y=\"102.970247\"/>\n     <use style=\"fill:#1f77b4;stroke:#1f77b4;\" x=\"97.785029\" xlink:href=\"#m2a41409c3b\" y=\"51.477667\"/>\n     <use style=\"fill:#1f77b4;stroke:#1f77b4;\" x=\"119.699618\" xlink:href=\"#m2a41409c3b\" y=\"96.138971\"/>\n     <use style=\"fill:#1f77b4;stroke:#1f77b4;\" x=\"108.477989\" xlink:href=\"#m2a41409c3b\" y=\"65.676832\"/>\n     <use style=\"fill:#1f77b4;stroke:#1f77b4;\" x=\"103.634263\" xlink:href=\"#m2a41409c3b\" y=\"64.417365\"/>\n     <use style=\"fill:#1f77b4;stroke:#1f77b4;\" x=\"131.271171\" xlink:href=\"#m2a41409c3b\" y=\"81.847332\"/>\n     <use style=\"fill:#1f77b4;stroke:#1f77b4;\" x=\"163.830781\" xlink:href=\"#m2a41409c3b\" y=\"110.282974\"/>\n     <use style=\"fill:#1f77b4;stroke:#1f77b4;\" x=\"122.932656\" xlink:href=\"#m2a41409c3b\" y=\"89.806742\"/>\n     <use style=\"fill:#1f77b4;stroke:#1f77b4;\" x=\"136.011354\" xlink:href=\"#m2a41409c3b\" y=\"93.880003\"/>\n     <use style=\"fill:#1f77b4;stroke:#1f77b4;\" x=\"92.133872\" xlink:href=\"#m2a41409c3b\" y=\"76.218935\"/>\n     <use style=\"fill:#1f77b4;stroke:#1f77b4;\" x=\"149.296486\" xlink:href=\"#m2a41409c3b\" y=\"101.5145\"/>\n     <use style=\"fill:#1f77b4;stroke:#1f77b4;\" x=\"139.978515\" xlink:href=\"#m2a41409c3b\" y=\"106.791607\"/>\n     <use style=\"fill:#1f77b4;stroke:#1f77b4;\" x=\"104.842045\" xlink:href=\"#m2a41409c3b\" y=\"54.814452\"/>\n     <use style=\"fill:#1f77b4;stroke:#1f77b4;\" x=\"142.249489\" xlink:href=\"#m2a41409c3b\" y=\"92.755824\"/>\n     <use style=\"fill:#1f77b4;stroke:#1f77b4;\" x=\"105.914269\" xlink:href=\"#m2a41409c3b\" y=\"67.370573\"/>\n     <use style=\"fill:#1f77b4;stroke:#1f77b4;\" x=\"161.832227\" xlink:href=\"#m2a41409c3b\" y=\"118.827499\"/>\n     <use style=\"fill:#1f77b4;stroke:#1f77b4;\" x=\"109.97033\" xlink:href=\"#m2a41409c3b\" y=\"82.450242\"/>\n     <use style=\"fill:#1f77b4;stroke:#1f77b4;\" x=\"108.32103\" xlink:href=\"#m2a41409c3b\" y=\"74.753255\"/>\n     <use style=\"fill:#1f77b4;stroke:#1f77b4;\" x=\"118.193142\" xlink:href=\"#m2a41409c3b\" y=\"67.860394\"/>\n     <use style=\"fill:#1f77b4;stroke:#1f77b4;\" x=\"117.970531\" xlink:href=\"#m2a41409c3b\" y=\"69.380724\"/>\n     <use style=\"fill:#1f77b4;stroke:#1f77b4;\" x=\"143.569819\" xlink:href=\"#m2a41409c3b\" y=\"114.972565\"/>\n     <use style=\"fill:#1f77b4;stroke:#1f77b4;\" x=\"84.653486\" xlink:href=\"#m2a41409c3b\" y=\"52.686648\"/>\n     <use style=\"fill:#1f77b4;stroke:#1f77b4;\" x=\"142.876586\" xlink:href=\"#m2a41409c3b\" y=\"102.336283\"/>\n     <use style=\"fill:#1f77b4;stroke:#1f77b4;\" x=\"115.885269\" xlink:href=\"#m2a41409c3b\" y=\"73.264878\"/>\n     <use style=\"fill:#1f77b4;stroke:#1f77b4;\" x=\"119.543468\" xlink:href=\"#m2a41409c3b\" y=\"66.12456\"/>\n     <use style=\"fill:#1f77b4;stroke:#1f77b4;\" x=\"126.703896\" xlink:href=\"#m2a41409c3b\" y=\"83.809117\"/>\n     <use style=\"fill:#1f77b4;stroke:#1f77b4;\" x=\"157.531216\" xlink:href=\"#m2a41409c3b\" y=\"103.256814\"/>\n     <use style=\"fill:#1f77b4;stroke:#1f77b4;\" x=\"138.882212\" xlink:href=\"#m2a41409c3b\" y=\"84.554707\"/>\n     <use style=\"fill:#1f77b4;stroke:#1f77b4;\" x=\"137.734301\" xlink:href=\"#m2a41409c3b\" y=\"84.248134\"/>\n     <use style=\"fill:#1f77b4;stroke:#1f77b4;\" x=\"111.999565\" xlink:href=\"#m2a41409c3b\" y=\"74.410366\"/>\n     <use style=\"fill:#1f77b4;stroke:#1f77b4;\" x=\"105.563544\" xlink:href=\"#m2a41409c3b\" y=\"62.28433\"/>\n     <use style=\"fill:#1f77b4;stroke:#1f77b4;\" x=\"109.968491\" xlink:href=\"#m2a41409c3b\" y=\"62.762857\"/>\n     <use style=\"fill:#1f77b4;stroke:#1f77b4;\" x=\"164.35775\" xlink:href=\"#m2a41409c3b\" y=\"106.050983\"/>\n     <use style=\"fill:#1f77b4;stroke:#1f77b4;\" x=\"134.042662\" xlink:href=\"#m2a41409c3b\" y=\"89.880239\"/>\n     <use style=\"fill:#1f77b4;stroke:#1f77b4;\" x=\"126.310406\" xlink:href=\"#m2a41409c3b\" y=\"77.101014\"/>\n     <use style=\"fill:#1f77b4;stroke:#1f77b4;\" x=\"64.220315\" xlink:href=\"#m2a41409c3b\" y=\"35.85857\"/>\n     <use style=\"fill:#1f77b4;stroke:#1f77b4;\" x=\"72.575456\" xlink:href=\"#m2a41409c3b\" y=\"49.677864\"/>\n     <use style=\"fill:#1f77b4;stroke:#1f77b4;\" x=\"156.902354\" xlink:href=\"#m2a41409c3b\" y=\"110.268382\"/>\n     <use style=\"fill:#1f77b4;stroke:#1f77b4;\" x=\"96.872737\" xlink:href=\"#m2a41409c3b\" y=\"63.711061\"/>\n     <use style=\"fill:#1f77b4;stroke:#1f77b4;\" x=\"102.155488\" xlink:href=\"#m2a41409c3b\" y=\"59.127429\"/>\n     <use style=\"fill:#1f77b4;stroke:#1f77b4;\" x=\"100.610938\" xlink:href=\"#m2a41409c3b\" y=\"64.492792\"/>\n     <use style=\"fill:#1f77b4;stroke:#1f77b4;\" x=\"110.028365\" xlink:href=\"#m2a41409c3b\" y=\"77.818845\"/>\n     <use style=\"fill:#1f77b4;stroke:#1f77b4;\" x=\"132.264028\" xlink:href=\"#m2a41409c3b\" y=\"100.304541\"/>\n     <use style=\"fill:#1f77b4;stroke:#1f77b4;\" x=\"107.018553\" xlink:href=\"#m2a41409c3b\" y=\"64.961081\"/>\n     <use style=\"fill:#1f77b4;stroke:#1f77b4;\" x=\"133.421562\" xlink:href=\"#m2a41409c3b\" y=\"80.735634\"/>\n     <use style=\"fill:#1f77b4;stroke:#1f77b4;\" x=\"103.951186\" xlink:href=\"#m2a41409c3b\" y=\"63.248472\"/>\n     <use style=\"fill:#1f77b4;stroke:#1f77b4;\" x=\"83.247958\" xlink:href=\"#m2a41409c3b\" y=\"41.178002\"/>\n     <use style=\"fill:#1f77b4;stroke:#1f77b4;\" x=\"138.734628\" xlink:href=\"#m2a41409c3b\" y=\"88.909208\"/>\n     <use style=\"fill:#1f77b4;stroke:#1f77b4;\" x=\"116.136523\" xlink:href=\"#m2a41409c3b\" y=\"73.808319\"/>\n     <use style=\"fill:#1f77b4;stroke:#1f77b4;\" x=\"126.323204\" xlink:href=\"#m2a41409c3b\" y=\"91.754719\"/>\n     <use style=\"fill:#1f77b4;stroke:#1f77b4;\" x=\"153.109688\" xlink:href=\"#m2a41409c3b\" y=\"93.352059\"/>\n     <use style=\"fill:#1f77b4;stroke:#1f77b4;\" x=\"111.738487\" xlink:href=\"#m2a41409c3b\" y=\"74.201499\"/>\n     <use style=\"fill:#1f77b4;stroke:#1f77b4;\" x=\"111.649078\" xlink:href=\"#m2a41409c3b\" y=\"71.985686\"/>\n     <use style=\"fill:#1f77b4;stroke:#1f77b4;\" x=\"97.27606\" xlink:href=\"#m2a41409c3b\" y=\"74.762982\"/>\n     <use style=\"fill:#1f77b4;stroke:#1f77b4;\" x=\"66.862231\" xlink:href=\"#m2a41409c3b\" y=\"41.059226\"/>\n     <use style=\"fill:#1f77b4;stroke:#1f77b4;\" x=\"140.711928\" xlink:href=\"#m2a41409c3b\" y=\"95.109653\"/>\n     <use style=\"fill:#1f77b4;stroke:#1f77b4;\" x=\"126.745379\" xlink:href=\"#m2a41409c3b\" y=\"95.197818\"/>\n     <use style=\"fill:#1f77b4;stroke:#1f77b4;\" x=\"117.964499\" xlink:href=\"#m2a41409c3b\" y=\"86.3904\"/>\n     <use style=\"fill:#1f77b4;stroke:#1f77b4;\" x=\"109.651424\" xlink:href=\"#m2a41409c3b\" y=\"73.288526\"/>\n     <use style=\"fill:#1f77b4;stroke:#1f77b4;\" x=\"114.969981\" xlink:href=\"#m2a41409c3b\" y=\"78.475743\"/>\n     <use style=\"fill:#1f77b4;stroke:#1f77b4;\" x=\"116.440913\" xlink:href=\"#m2a41409c3b\" y=\"75.154046\"/>\n     <use style=\"fill:#1f77b4;stroke:#1f77b4;\" x=\"142.177482\" xlink:href=\"#m2a41409c3b\" y=\"92.546603\"/>\n     <use style=\"fill:#1f77b4;stroke:#1f77b4;\" x=\"110.380222\" xlink:href=\"#m2a41409c3b\" y=\"62.476088\"/>\n     <use style=\"fill:#1f77b4;stroke:#1f77b4;\" x=\"158.620142\" xlink:href=\"#m2a41409c3b\" y=\"99.850177\"/>\n     <use style=\"fill:#1f77b4;stroke:#1f77b4;\" x=\"96.155095\" xlink:href=\"#m2a41409c3b\" y=\"50.941826\"/>\n     <use style=\"fill:#1f77b4;stroke:#1f77b4;\" x=\"94.043763\" xlink:href=\"#m2a41409c3b\" y=\"57.677493\"/>\n     <use style=\"fill:#1f77b4;stroke:#1f77b4;\" x=\"101.13505\" xlink:href=\"#m2a41409c3b\" y=\"72.219512\"/>\n     <use style=\"fill:#1f77b4;stroke:#1f77b4;\" x=\"114.269539\" xlink:href=\"#m2a41409c3b\" y=\"73.381292\"/>\n     <use style=\"fill:#1f77b4;stroke:#1f77b4;\" x=\"128.212626\" xlink:href=\"#m2a41409c3b\" y=\"93.771421\"/>\n     <use style=\"fill:#1f77b4;stroke:#1f77b4;\" x=\"131.536929\" xlink:href=\"#m2a41409c3b\" y=\"80.256404\"/>\n     <use style=\"fill:#1f77b4;stroke:#1f77b4;\" x=\"166.365238\" xlink:href=\"#m2a41409c3b\" y=\"110.708877\"/>\n     <use style=\"fill:#1f77b4;stroke:#1f77b4;\" x=\"101.054653\" xlink:href=\"#m2a41409c3b\" y=\"47.646436\"/>\n     <use style=\"fill:#1f77b4;stroke:#1f77b4;\" x=\"122.728258\" xlink:href=\"#m2a41409c3b\" y=\"74.266737\"/>\n     <use style=\"fill:#1f77b4;stroke:#1f77b4;\" x=\"87.570337\" xlink:href=\"#m2a41409c3b\" y=\"66.697195\"/>\n     <use style=\"fill:#1f77b4;stroke:#1f77b4;\" x=\"105.826366\" xlink:href=\"#m2a41409c3b\" y=\"64.036089\"/>\n     <use style=\"fill:#1f77b4;stroke:#1f77b4;\" x=\"130.248933\" xlink:href=\"#m2a41409c3b\" y=\"81.884109\"/>\n     <use style=\"fill:#1f77b4;stroke:#1f77b4;\" x=\"144.299783\" xlink:href=\"#m2a41409c3b\" y=\"84.612749\"/>\n     <use style=\"fill:#1f77b4;stroke:#1f77b4;\" x=\"174.473314\" xlink:href=\"#m2a41409c3b\" y=\"108.706457\"/>\n     <use style=\"fill:#1f77b4;stroke:#1f77b4;\" x=\"50.096384\" xlink:href=\"#m2a41409c3b\" y=\"13.377273\"/>\n     <use style=\"fill:#1f77b4;stroke:#1f77b4;\" x=\"83.600441\" xlink:href=\"#m2a41409c3b\" y=\"56.986854\"/>\n     <use style=\"fill:#1f77b4;stroke:#1f77b4;\" x=\"87.721432\" xlink:href=\"#m2a41409c3b\" y=\"46.790007\"/>\n     <use style=\"fill:#1f77b4;stroke:#1f77b4;\" x=\"110.94442\" xlink:href=\"#m2a41409c3b\" y=\"74.014161\"/>\n     <use style=\"fill:#1f77b4;stroke:#1f77b4;\" x=\"85.818808\" xlink:href=\"#m2a41409c3b\" y=\"38.841256\"/>\n     <use style=\"fill:#1f77b4;stroke:#1f77b4;\" x=\"65.207737\" xlink:href=\"#m2a41409c3b\" y=\"36.955658\"/>\n     <use style=\"fill:#1f77b4;stroke:#1f77b4;\" x=\"112.751303\" xlink:href=\"#m2a41409c3b\" y=\"73.138262\"/>\n     <use style=\"fill:#1f77b4;stroke:#1f77b4;\" x=\"133.532953\" xlink:href=\"#m2a41409c3b\" y=\"85.494474\"/>\n     <use style=\"fill:#1f77b4;stroke:#1f77b4;\" x=\"115.254424\" xlink:href=\"#m2a41409c3b\" y=\"89.951521\"/>\n     <use style=\"fill:#1f77b4;stroke:#1f77b4;\" x=\"121.543968\" xlink:href=\"#m2a41409c3b\" y=\"78.902353\"/>\n     <use style=\"fill:#1f77b4;stroke:#1f77b4;\" x=\"129.326721\" xlink:href=\"#m2a41409c3b\" y=\"74.002234\"/>\n     <use style=\"fill:#1f77b4;stroke:#1f77b4;\" x=\"143.342724\" xlink:href=\"#m2a41409c3b\" y=\"91.784097\"/>\n     <use style=\"fill:#1f77b4;stroke:#1f77b4;\" x=\"149.851001\" xlink:href=\"#m2a41409c3b\" y=\"105.312434\"/>\n     <use style=\"fill:#1f77b4;stroke:#1f77b4;\" x=\"114.91645\" xlink:href=\"#m2a41409c3b\" y=\"73.959145\"/>\n     <use style=\"fill:#1f77b4;stroke:#1f77b4;\" x=\"159.863608\" xlink:href=\"#m2a41409c3b\" y=\"121.104689\"/>\n     <use style=\"fill:#1f77b4;stroke:#1f77b4;\" x=\"83.47942\" xlink:href=\"#m2a41409c3b\" y=\"49.614563\"/>\n     <use style=\"fill:#1f77b4;stroke:#1f77b4;\" x=\"90.439913\" xlink:href=\"#m2a41409c3b\" y=\"65.196479\"/>\n     <use style=\"fill:#1f77b4;stroke:#1f77b4;\" x=\"101.680527\" xlink:href=\"#m2a41409c3b\" y=\"69.083945\"/>\n     <use style=\"fill:#1f77b4;stroke:#1f77b4;\" x=\"90.115653\" xlink:href=\"#m2a41409c3b\" y=\"63.819976\"/>\n     <use style=\"fill:#1f77b4;stroke:#1f77b4;\" x=\"148.44651\" xlink:href=\"#m2a41409c3b\" y=\"84.758487\"/>\n     <use style=\"fill:#1f77b4;stroke:#1f77b4;\" x=\"124.109469\" xlink:href=\"#m2a41409c3b\" y=\"72.615413\"/>\n     <use style=\"fill:#1f77b4;stroke:#1f77b4;\" x=\"127.146783\" xlink:href=\"#m2a41409c3b\" y=\"73.794455\"/>\n     <use style=\"fill:#1f77b4;stroke:#1f77b4;\" x=\"99.253517\" xlink:href=\"#m2a41409c3b\" y=\"51.956452\"/>\n     <use style=\"fill:#1f77b4;stroke:#1f77b4;\" x=\"128.59029\" xlink:href=\"#m2a41409c3b\" y=\"98.2367\"/>\n     <use style=\"fill:#1f77b4;stroke:#1f77b4;\" x=\"78.034566\" xlink:href=\"#m2a41409c3b\" y=\"35.897232\"/>\n     <use style=\"fill:#1f77b4;stroke:#1f77b4;\" x=\"182.952857\" xlink:href=\"#m2a41409c3b\" y=\"110.690888\"/>\n     <use style=\"fill:#1f77b4;stroke:#1f77b4;\" x=\"175.198487\" xlink:href=\"#m2a41409c3b\" y=\"115.81778\"/>\n     <use style=\"fill:#1f77b4;stroke:#1f77b4;\" x=\"145.532108\" xlink:href=\"#m2a41409c3b\" y=\"88.97994\"/>\n     <use style=\"fill:#1f77b4;stroke:#1f77b4;\" x=\"119.482241\" xlink:href=\"#m2a41409c3b\" y=\"70.1538\"/>\n     <use style=\"fill:#1f77b4;stroke:#1f77b4;\" x=\"153.621477\" xlink:href=\"#m2a41409c3b\" y=\"97.157114\"/>\n     <use style=\"fill:#1f77b4;stroke:#1f77b4;\" x=\"122.314183\" xlink:href=\"#m2a41409c3b\" y=\"70.632089\"/>\n     <use style=\"fill:#1f77b4;stroke:#1f77b4;\" x=\"150.336287\" xlink:href=\"#m2a41409c3b\" y=\"104.502241\"/>\n     <use style=\"fill:#1f77b4;stroke:#1f77b4;\" x=\"157.424662\" xlink:href=\"#m2a41409c3b\" y=\"98.530725\"/>\n     <use style=\"fill:#1f77b4;stroke:#1f77b4;\" x=\"120.960622\" xlink:href=\"#m2a41409c3b\" y=\"85.372515\"/>\n     <use style=\"fill:#1f77b4;stroke:#1f77b4;\" x=\"157.136228\" xlink:href=\"#m2a41409c3b\" y=\"88.95155\"/>\n     <use style=\"fill:#1f77b4;stroke:#1f77b4;\" x=\"120.326056\" xlink:href=\"#m2a41409c3b\" y=\"84.201813\"/>\n     <use style=\"fill:#1f77b4;stroke:#1f77b4;\" x=\"129.097081\" xlink:href=\"#m2a41409c3b\" y=\"89.094076\"/>\n     <use style=\"fill:#1f77b4;stroke:#1f77b4;\" x=\"141.397629\" xlink:href=\"#m2a41409c3b\" y=\"105.87229\"/>\n     <use style=\"fill:#1f77b4;stroke:#1f77b4;\" x=\"109.650261\" xlink:href=\"#m2a41409c3b\" y=\"72.0514\"/>\n     <use style=\"fill:#1f77b4;stroke:#1f77b4;\" x=\"175.610153\" xlink:href=\"#m2a41409c3b\" y=\"133.595444\"/>\n     <use style=\"fill:#1f77b4;stroke:#1f77b4;\" x=\"102.815913\" xlink:href=\"#m2a41409c3b\" y=\"64.561162\"/>\n     <use style=\"fill:#1f77b4;stroke:#1f77b4;\" x=\"103.564857\" xlink:href=\"#m2a41409c3b\" y=\"70.239667\"/>\n     <use style=\"fill:#1f77b4;stroke:#1f77b4;\" x=\"134.184358\" xlink:href=\"#m2a41409c3b\" y=\"89.694416\"/>\n     <use style=\"fill:#1f77b4;stroke:#1f77b4;\" x=\"142.017838\" xlink:href=\"#m2a41409c3b\" y=\"100.725795\"/>\n     <use style=\"fill:#1f77b4;stroke:#1f77b4;\" x=\"110.967\" xlink:href=\"#m2a41409c3b\" y=\"73.095413\"/>\n     <use style=\"fill:#1f77b4;stroke:#1f77b4;\" x=\"113.307138\" xlink:href=\"#m2a41409c3b\" y=\"94.681329\"/>\n     <use style=\"fill:#1f77b4;stroke:#1f77b4;\" x=\"137.347439\" xlink:href=\"#m2a41409c3b\" y=\"92.375189\"/>\n     <use style=\"fill:#1f77b4;stroke:#1f77b4;\" x=\"72.865713\" xlink:href=\"#m2a41409c3b\" y=\"37.009454\"/>\n     <use style=\"fill:#1f77b4;stroke:#1f77b4;\" x=\"128.463141\" xlink:href=\"#m2a41409c3b\" y=\"80.185497\"/>\n     <use style=\"fill:#1f77b4;stroke:#1f77b4;\" x=\"129.318935\" xlink:href=\"#m2a41409c3b\" y=\"81.322455\"/>\n     <use style=\"fill:#1f77b4;stroke:#1f77b4;\" x=\"74.994074\" xlink:href=\"#m2a41409c3b\" y=\"39.118427\"/>\n     <use style=\"fill:#1f77b4;stroke:#1f77b4;\" x=\"115.667955\" xlink:href=\"#m2a41409c3b\" y=\"76.477497\"/>\n     <use style=\"fill:#1f77b4;stroke:#1f77b4;\" x=\"111.184045\" xlink:href=\"#m2a41409c3b\" y=\"79.930081\"/>\n     <use style=\"fill:#1f77b4;stroke:#1f77b4;\" x=\"126.234314\" xlink:href=\"#m2a41409c3b\" y=\"91.49605\"/>\n     <use style=\"fill:#1f77b4;stroke:#1f77b4;\" x=\"65.98411\" xlink:href=\"#m2a41409c3b\" y=\"34.284852\"/>\n     <use style=\"fill:#1f77b4;stroke:#1f77b4;\" x=\"81.450656\" xlink:href=\"#m2a41409c3b\" y=\"58.624966\"/>\n     <use style=\"fill:#1f77b4;stroke:#1f77b4;\" x=\"128.491005\" xlink:href=\"#m2a41409c3b\" y=\"79.006075\"/>\n     <use style=\"fill:#1f77b4;stroke:#1f77b4;\" x=\"156.103544\" xlink:href=\"#m2a41409c3b\" y=\"105.406337\"/>\n     <use style=\"fill:#1f77b4;stroke:#1f77b4;\" x=\"130.213746\" xlink:href=\"#m2a41409c3b\" y=\"92.760824\"/>\n     <use style=\"fill:#1f77b4;stroke:#1f77b4;\" x=\"130.670367\" xlink:href=\"#m2a41409c3b\" y=\"66.834912\"/>\n     <use style=\"fill:#1f77b4;stroke:#1f77b4;\" x=\"151.43271\" xlink:href=\"#m2a41409c3b\" y=\"116.460294\"/>\n     <use style=\"fill:#1f77b4;stroke:#1f77b4;\" x=\"113.826259\" xlink:href=\"#m2a41409c3b\" y=\"81.116116\"/>\n     <use style=\"fill:#1f77b4;stroke:#1f77b4;\" x=\"139.539171\" xlink:href=\"#m2a41409c3b\" y=\"73.688512\"/>\n     <use style=\"fill:#1f77b4;stroke:#1f77b4;\" x=\"106.142862\" xlink:href=\"#m2a41409c3b\" y=\"74.575016\"/>\n     <use style=\"fill:#1f77b4;stroke:#1f77b4;\" x=\"135.664898\" xlink:href=\"#m2a41409c3b\" y=\"104.252773\"/>\n     <use style=\"fill:#1f77b4;stroke:#1f77b4;\" x=\"115.789973\" xlink:href=\"#m2a41409c3b\" y=\"64.984782\"/>\n     <use style=\"fill:#1f77b4;stroke:#1f77b4;\" x=\"139.56786\" xlink:href=\"#m2a41409c3b\" y=\"111.911877\"/>\n     <use style=\"fill:#1f77b4;stroke:#1f77b4;\" x=\"116.591841\" xlink:href=\"#m2a41409c3b\" y=\"95.845368\"/>\n     <use style=\"fill:#1f77b4;stroke:#1f77b4;\" x=\"100.540769\" xlink:href=\"#m2a41409c3b\" y=\"56.626912\"/>\n     <use style=\"fill:#1f77b4;stroke:#1f77b4;\" x=\"81.327379\" xlink:href=\"#m2a41409c3b\" y=\"49.32901\"/>\n     <use style=\"fill:#1f77b4;stroke:#1f77b4;\" x=\"117.391917\" xlink:href=\"#m2a41409c3b\" y=\"74.02288\"/>\n     <use style=\"fill:#1f77b4;stroke:#1f77b4;\" x=\"144.576905\" xlink:href=\"#m2a41409c3b\" y=\"90.294549\"/>\n     <use style=\"fill:#1f77b4;stroke:#1f77b4;\" x=\"135.721574\" xlink:href=\"#m2a41409c3b\" y=\"87.838838\"/>\n     <use style=\"fill:#1f77b4;stroke:#1f77b4;\" x=\"125.606493\" xlink:href=\"#m2a41409c3b\" y=\"78.272992\"/>\n     <use style=\"fill:#1f77b4;stroke:#1f77b4;\" x=\"138.858956\" xlink:href=\"#m2a41409c3b\" y=\"82.504705\"/>\n     <use style=\"fill:#1f77b4;stroke:#1f77b4;\" x=\"98.258421\" xlink:href=\"#m2a41409c3b\" y=\"70.746401\"/>\n     <use style=\"fill:#1f77b4;stroke:#1f77b4;\" x=\"107.149167\" xlink:href=\"#m2a41409c3b\" y=\"83.759813\"/>\n     <use style=\"fill:#1f77b4;stroke:#1f77b4;\" x=\"139.602762\" xlink:href=\"#m2a41409c3b\" y=\"92.928193\"/>\n     <use style=\"fill:#1f77b4;stroke:#1f77b4;\" x=\"126.615074\" xlink:href=\"#m2a41409c3b\" y=\"73.313099\"/>\n     <use style=\"fill:#1f77b4;stroke:#1f77b4;\" x=\"92.270292\" xlink:href=\"#m2a41409c3b\" y=\"71.487203\"/>\n     <use style=\"fill:#1f77b4;stroke:#1f77b4;\" x=\"75.502213\" xlink:href=\"#m2a41409c3b\" y=\"54.452192\"/>\n     <use style=\"fill:#1f77b4;stroke:#1f77b4;\" x=\"143.577862\" xlink:href=\"#m2a41409c3b\" y=\"93.706502\"/>\n     <use style=\"fill:#1f77b4;stroke:#1f77b4;\" x=\"56.997182\" xlink:href=\"#m2a41409c3b\" y=\"34.021065\"/>\n     <use style=\"fill:#1f77b4;stroke:#1f77b4;\" x=\"156.467826\" xlink:href=\"#m2a41409c3b\" y=\"101.995289\"/>\n     <use style=\"fill:#1f77b4;stroke:#1f77b4;\" x=\"114.127123\" xlink:href=\"#m2a41409c3b\" y=\"76.671522\"/>\n     <use style=\"fill:#1f77b4;stroke:#1f77b4;\" x=\"150.619722\" xlink:href=\"#m2a41409c3b\" y=\"110.573779\"/>\n     <use style=\"fill:#1f77b4;stroke:#1f77b4;\" x=\"140.776259\" xlink:href=\"#m2a41409c3b\" y=\"82.985986\"/>\n     <use style=\"fill:#1f77b4;stroke:#1f77b4;\" x=\"124.483422\" xlink:href=\"#m2a41409c3b\" y=\"81.277281\"/>\n     <use style=\"fill:#1f77b4;stroke:#1f77b4;\" x=\"154.037575\" xlink:href=\"#m2a41409c3b\" y=\"98.073024\"/>\n     <use style=\"fill:#1f77b4;stroke:#1f77b4;\" x=\"110.224411\" xlink:href=\"#m2a41409c3b\" y=\"86.288469\"/>\n     <use style=\"fill:#1f77b4;stroke:#1f77b4;\" x=\"144.695809\" xlink:href=\"#m2a41409c3b\" y=\"85.599067\"/>\n     <use style=\"fill:#1f77b4;stroke:#1f77b4;\" x=\"78.691281\" xlink:href=\"#m2a41409c3b\" y=\"42.145023\"/>\n     <use style=\"fill:#1f77b4;stroke:#1f77b4;\" x=\"134.310019\" xlink:href=\"#m2a41409c3b\" y=\"73.388044\"/>\n     <use style=\"fill:#1f77b4;stroke:#1f77b4;\" x=\"109.944491\" xlink:href=\"#m2a41409c3b\" y=\"60.726733\"/>\n     <use style=\"fill:#1f77b4;stroke:#1f77b4;\" x=\"91.925115\" xlink:href=\"#m2a41409c3b\" y=\"52.149009\"/>\n     <use style=\"fill:#1f77b4;stroke:#1f77b4;\" x=\"134.473007\" xlink:href=\"#m2a41409c3b\" y=\"86.204588\"/>\n     <use style=\"fill:#1f77b4;stroke:#1f77b4;\" x=\"117.900948\" xlink:href=\"#m2a41409c3b\" y=\"77.796303\"/>\n     <use style=\"fill:#1f77b4;stroke:#1f77b4;\" x=\"145.495984\" xlink:href=\"#m2a41409c3b\" y=\"92.488593\"/>\n     <use style=\"fill:#1f77b4;stroke:#1f77b4;\" x=\"115.693106\" xlink:href=\"#m2a41409c3b\" y=\"94.540832\"/>\n     <use style=\"fill:#1f77b4;stroke:#1f77b4;\" x=\"125.662528\" xlink:href=\"#m2a41409c3b\" y=\"73.061537\"/>\n     <use style=\"fill:#1f77b4;stroke:#1f77b4;\" x=\"131.961802\" xlink:href=\"#m2a41409c3b\" y=\"74.953241\"/>\n     <use style=\"fill:#1f77b4;stroke:#1f77b4;\" x=\"124.615657\" xlink:href=\"#m2a41409c3b\" y=\"84.284686\"/>\n     <use style=\"fill:#1f77b4;stroke:#1f77b4;\" x=\"98.084368\" xlink:href=\"#m2a41409c3b\" y=\"63.947657\"/>\n     <use style=\"fill:#1f77b4;stroke:#1f77b4;\" x=\"137.104331\" xlink:href=\"#m2a41409c3b\" y=\"104.141437\"/>\n     <use style=\"fill:#1f77b4;stroke:#1f77b4;\" x=\"37.81946\" xlink:href=\"#m2a41409c3b\" y=\"18.960165\"/>\n     <use style=\"fill:#1f77b4;stroke:#1f77b4;\" x=\"115.473445\" xlink:href=\"#m2a41409c3b\" y=\"48.026791\"/>\n     <use style=\"fill:#1f77b4;stroke:#1f77b4;\" x=\"138.08225\" xlink:href=\"#m2a41409c3b\" y=\"77.604874\"/>\n     <use style=\"fill:#1f77b4;stroke:#1f77b4;\" x=\"127.962053\" xlink:href=\"#m2a41409c3b\" y=\"84.486587\"/>\n     <use style=\"fill:#1f77b4;stroke:#1f77b4;\" x=\"119.333725\" xlink:href=\"#m2a41409c3b\" y=\"87.224898\"/>\n     <use style=\"fill:#1f77b4;stroke:#1f77b4;\" x=\"135.011111\" xlink:href=\"#m2a41409c3b\" y=\"85.895205\"/>\n     <use style=\"fill:#1f77b4;stroke:#1f77b4;\" x=\"123.610089\" xlink:href=\"#m2a41409c3b\" y=\"76.926766\"/>\n     <use style=\"fill:#1f77b4;stroke:#1f77b4;\" x=\"119.202259\" xlink:href=\"#m2a41409c3b\" y=\"87.411114\"/>\n     <use style=\"fill:#1f77b4;stroke:#1f77b4;\" x=\"152.640826\" xlink:href=\"#m2a41409c3b\" y=\"97.499249\"/>\n     <use style=\"fill:#1f77b4;stroke:#1f77b4;\" x=\"103.098939\" xlink:href=\"#m2a41409c3b\" y=\"36.436806\"/>\n     <use style=\"fill:#1f77b4;stroke:#1f77b4;\" x=\"103.06875\" xlink:href=\"#m2a41409c3b\" y=\"61.998511\"/>\n     <use style=\"fill:#1f77b4;stroke:#1f77b4;\" x=\"133.97908\" xlink:href=\"#m2a41409c3b\" y=\"74.828356\"/>\n     <use style=\"fill:#1f77b4;stroke:#1f77b4;\" x=\"166.368686\" xlink:href=\"#m2a41409c3b\" y=\"107.291766\"/>\n     <use style=\"fill:#1f77b4;stroke:#1f77b4;\" x=\"68.657548\" xlink:href=\"#m2a41409c3b\" y=\"47.665584\"/>\n     <use style=\"fill:#1f77b4;stroke:#1f77b4;\" x=\"144.972214\" xlink:href=\"#m2a41409c3b\" y=\"89.183904\"/>\n     <use style=\"fill:#1f77b4;stroke:#1f77b4;\" x=\"109.159039\" xlink:href=\"#m2a41409c3b\" y=\"72.344277\"/>\n     <use style=\"fill:#1f77b4;stroke:#1f77b4;\" x=\"122.821583\" xlink:href=\"#m2a41409c3b\" y=\"82.287068\"/>\n     <use style=\"fill:#1f77b4;stroke:#1f77b4;\" x=\"108.119283\" xlink:href=\"#m2a41409c3b\" y=\"76.483237\"/>\n     <use style=\"fill:#1f77b4;stroke:#1f77b4;\" x=\"101.202589\" xlink:href=\"#m2a41409c3b\" y=\"60.868179\"/>\n     <use style=\"fill:#1f77b4;stroke:#1f77b4;\" x=\"77.523412\" xlink:href=\"#m2a41409c3b\" y=\"36.39431\"/>\n     <use style=\"fill:#1f77b4;stroke:#1f77b4;\" x=\"114.873393\" xlink:href=\"#m2a41409c3b\" y=\"64.041657\"/>\n     <use style=\"fill:#1f77b4;stroke:#1f77b4;\" x=\"153.303033\" xlink:href=\"#m2a41409c3b\" y=\"96.901501\"/>\n     <use style=\"fill:#1f77b4;stroke:#1f77b4;\" x=\"139.316082\" xlink:href=\"#m2a41409c3b\" y=\"102.779137\"/>\n     <use style=\"fill:#1f77b4;stroke:#1f77b4;\" x=\"92.08608\" xlink:href=\"#m2a41409c3b\" y=\"54.592165\"/>\n     <use style=\"fill:#1f77b4;stroke:#1f77b4;\" x=\"156.652974\" xlink:href=\"#m2a41409c3b\" y=\"113.103926\"/>\n     <use style=\"fill:#1f77b4;stroke:#1f77b4;\" x=\"134.124021\" xlink:href=\"#m2a41409c3b\" y=\"96.136627\"/>\n     <use style=\"fill:#1f77b4;stroke:#1f77b4;\" x=\"111.213173\" xlink:href=\"#m2a41409c3b\" y=\"77.205816\"/>\n     <use style=\"fill:#1f77b4;stroke:#1f77b4;\" x=\"110.563322\" xlink:href=\"#m2a41409c3b\" y=\"88.240307\"/>\n     <use style=\"fill:#1f77b4;stroke:#1f77b4;\" x=\"119.775235\" xlink:href=\"#m2a41409c3b\" y=\"88.191505\"/>\n     <use style=\"fill:#1f77b4;stroke:#1f77b4;\" x=\"143.775295\" xlink:href=\"#m2a41409c3b\" y=\"101.740084\"/>\n     <use style=\"fill:#1f77b4;stroke:#1f77b4;\" x=\"154.245602\" xlink:href=\"#m2a41409c3b\" y=\"94.712094\"/>\n     <use style=\"fill:#1f77b4;stroke:#1f77b4;\" x=\"129.762829\" xlink:href=\"#m2a41409c3b\" y=\"83.688386\"/>\n     <use style=\"fill:#1f77b4;stroke:#1f77b4;\" x=\"124.541655\" xlink:href=\"#m2a41409c3b\" y=\"63.492145\"/>\n     <use style=\"fill:#1f77b4;stroke:#1f77b4;\" x=\"119.84853\" xlink:href=\"#m2a41409c3b\" y=\"70.903052\"/>\n     <use style=\"fill:#1f77b4;stroke:#1f77b4;\" x=\"135.518395\" xlink:href=\"#m2a41409c3b\" y=\"91.122528\"/>\n     <use style=\"fill:#1f77b4;stroke:#1f77b4;\" x=\"68.944683\" xlink:href=\"#m2a41409c3b\" y=\"34.519416\"/>\n     <use style=\"fill:#1f77b4;stroke:#1f77b4;\" x=\"92.465125\" xlink:href=\"#m2a41409c3b\" y=\"64.654789\"/>\n     <use style=\"fill:#1f77b4;stroke:#1f77b4;\" x=\"157.975943\" xlink:href=\"#m2a41409c3b\" y=\"93.474108\"/>\n     <use style=\"fill:#1f77b4;stroke:#1f77b4;\" x=\"111.743144\" xlink:href=\"#m2a41409c3b\" y=\"72.856841\"/>\n     <use style=\"fill:#1f77b4;stroke:#1f77b4;\" x=\"114.127319\" xlink:href=\"#m2a41409c3b\" y=\"80.416014\"/>\n     <use style=\"fill:#1f77b4;stroke:#1f77b4;\" x=\"98.454364\" xlink:href=\"#m2a41409c3b\" y=\"71.001444\"/>\n     <use style=\"fill:#1f77b4;stroke:#1f77b4;\" x=\"88.792778\" xlink:href=\"#m2a41409c3b\" y=\"66.510799\"/>\n     <use style=\"fill:#1f77b4;stroke:#1f77b4;\" x=\"140.50213\" xlink:href=\"#m2a41409c3b\" y=\"98.681281\"/>\n     <use style=\"fill:#1f77b4;stroke:#1f77b4;\" x=\"138.719892\" xlink:href=\"#m2a41409c3b\" y=\"78.907421\"/>\n     <use style=\"fill:#1f77b4;stroke:#1f77b4;\" x=\"94.750756\" xlink:href=\"#m2a41409c3b\" y=\"63.72944\"/>\n     <use style=\"fill:#1f77b4;stroke:#1f77b4;\" x=\"111.112053\" xlink:href=\"#m2a41409c3b\" y=\"74.183955\"/>\n     <use style=\"fill:#1f77b4;stroke:#1f77b4;\" x=\"146.128862\" xlink:href=\"#m2a41409c3b\" y=\"88.050866\"/>\n     <use style=\"fill:#1f77b4;stroke:#1f77b4;\" x=\"99.362569\" xlink:href=\"#m2a41409c3b\" y=\"83.347257\"/>\n     <use style=\"fill:#1f77b4;stroke:#1f77b4;\" x=\"116.897939\" xlink:href=\"#m2a41409c3b\" y=\"79.702023\"/>\n     <use style=\"fill:#1f77b4;stroke:#1f77b4;\" x=\"93.278363\" xlink:href=\"#m2a41409c3b\" y=\"51.426423\"/>\n     <use style=\"fill:#1f77b4;stroke:#1f77b4;\" x=\"124.086557\" xlink:href=\"#m2a41409c3b\" y=\"73.849194\"/>\n     <use style=\"fill:#1f77b4;stroke:#1f77b4;\" x=\"133.43795\" xlink:href=\"#m2a41409c3b\" y=\"89.724574\"/>\n     <use style=\"fill:#1f77b4;stroke:#1f77b4;\" x=\"123.663885\" xlink:href=\"#m2a41409c3b\" y=\"84.135224\"/>\n     <use style=\"fill:#1f77b4;stroke:#1f77b4;\" x=\"135.925352\" xlink:href=\"#m2a41409c3b\" y=\"92.001899\"/>\n     <use style=\"fill:#1f77b4;stroke:#1f77b4;\" x=\"82.013471\" xlink:href=\"#m2a41409c3b\" y=\"64.755953\"/>\n     <use style=\"fill:#1f77b4;stroke:#1f77b4;\" x=\"138.859777\" xlink:href=\"#m2a41409c3b\" y=\"91.527003\"/>\n     <use style=\"fill:#1f77b4;stroke:#1f77b4;\" x=\"80.401438\" xlink:href=\"#m2a41409c3b\" y=\"60.104436\"/>\n     <use style=\"fill:#1f77b4;stroke:#1f77b4;\" x=\"144.941148\" xlink:href=\"#m2a41409c3b\" y=\"84.770966\"/>\n     <use style=\"fill:#1f77b4;stroke:#1f77b4;\" x=\"108.342981\" xlink:href=\"#m2a41409c3b\" y=\"70.226383\"/>\n     <use style=\"fill:#1f77b4;stroke:#1f77b4;\" x=\"98.447157\" xlink:href=\"#m2a41409c3b\" y=\"61.560643\"/>\n     <use style=\"fill:#1f77b4;stroke:#1f77b4;\" x=\"133.97733\" xlink:href=\"#m2a41409c3b\" y=\"100.896596\"/>\n     <use style=\"fill:#1f77b4;stroke:#1f77b4;\" x=\"129.31974\" xlink:href=\"#m2a41409c3b\" y=\"84.940255\"/>\n     <use style=\"fill:#1f77b4;stroke:#1f77b4;\" x=\"114.763214\" xlink:href=\"#m2a41409c3b\" y=\"80.219866\"/>\n     <use style=\"fill:#1f77b4;stroke:#1f77b4;\" x=\"158.359383\" xlink:href=\"#m2a41409c3b\" y=\"106.485029\"/>\n     <use style=\"fill:#1f77b4;stroke:#1f77b4;\" x=\"74.866247\" xlink:href=\"#m2a41409c3b\" y=\"39.682283\"/>\n     <use style=\"fill:#1f77b4;stroke:#1f77b4;\" x=\"59.657325\" xlink:href=\"#m2a41409c3b\" y=\"49.334051\"/>\n     <use style=\"fill:#1f77b4;stroke:#1f77b4;\" x=\"106.923074\" xlink:href=\"#m2a41409c3b\" y=\"73.607431\"/>\n     <use style=\"fill:#1f77b4;stroke:#1f77b4;\" x=\"120.577509\" xlink:href=\"#m2a41409c3b\" y=\"68.015356\"/>\n     <use style=\"fill:#1f77b4;stroke:#1f77b4;\" x=\"118.071068\" xlink:href=\"#m2a41409c3b\" y=\"94.02589\"/>\n     <use style=\"fill:#1f77b4;stroke:#1f77b4;\" x=\"144.757793\" xlink:href=\"#m2a41409c3b\" y=\"89.966179\"/>\n     <use style=\"fill:#1f77b4;stroke:#1f77b4;\" x=\"148.93575\" xlink:href=\"#m2a41409c3b\" y=\"98.34338\"/>\n     <use style=\"fill:#1f77b4;stroke:#1f77b4;\" x=\"153.083632\" xlink:href=\"#m2a41409c3b\" y=\"94.423761\"/>\n     <use style=\"fill:#1f77b4;stroke:#1f77b4;\" x=\"131.554467\" xlink:href=\"#m2a41409c3b\" y=\"88.317703\"/>\n     <use style=\"fill:#1f77b4;stroke:#1f77b4;\" x=\"141.487481\" xlink:href=\"#m2a41409c3b\" y=\"88.058726\"/>\n     <use style=\"fill:#1f77b4;stroke:#1f77b4;\" x=\"113.683359\" xlink:href=\"#m2a41409c3b\" y=\"55.662693\"/>\n     <use style=\"fill:#1f77b4;stroke:#1f77b4;\" x=\"119.177373\" xlink:href=\"#m2a41409c3b\" y=\"57.993683\"/>\n     <use style=\"fill:#1f77b4;stroke:#1f77b4;\" x=\"85.242231\" xlink:href=\"#m2a41409c3b\" y=\"65.802425\"/>\n     <use style=\"fill:#1f77b4;stroke:#1f77b4;\" x=\"113.659017\" xlink:href=\"#m2a41409c3b\" y=\"73.927142\"/>\n     <use style=\"fill:#1f77b4;stroke:#1f77b4;\" x=\"135.462974\" xlink:href=\"#m2a41409c3b\" y=\"81.617736\"/>\n     <use style=\"fill:#1f77b4;stroke:#1f77b4;\" x=\"131.575213\" xlink:href=\"#m2a41409c3b\" y=\"85.246291\"/>\n     <use style=\"fill:#1f77b4;stroke:#1f77b4;\" x=\"150.73526\" xlink:href=\"#m2a41409c3b\" y=\"74.622737\"/>\n     <use style=\"fill:#1f77b4;stroke:#1f77b4;\" x=\"93.491285\" xlink:href=\"#m2a41409c3b\" y=\"73.162714\"/>\n     <use style=\"fill:#1f77b4;stroke:#1f77b4;\" x=\"139.811684\" xlink:href=\"#m2a41409c3b\" y=\"102.145676\"/>\n     <use style=\"fill:#1f77b4;stroke:#1f77b4;\" x=\"115.676052\" xlink:href=\"#m2a41409c3b\" y=\"88.610467\"/>\n     <use style=\"fill:#1f77b4;stroke:#1f77b4;\" x=\"114.311858\" xlink:href=\"#m2a41409c3b\" y=\"68.768627\"/>\n     <use style=\"fill:#1f77b4;stroke:#1f77b4;\" x=\"147.356072\" xlink:href=\"#m2a41409c3b\" y=\"92.591358\"/>\n     <use style=\"fill:#1f77b4;stroke:#1f77b4;\" x=\"146.690212\" xlink:href=\"#m2a41409c3b\" y=\"87.363745\"/>\n     <use style=\"fill:#1f77b4;stroke:#1f77b4;\" x=\"104.02996\" xlink:href=\"#m2a41409c3b\" y=\"66.089814\"/>\n     <use style=\"fill:#1f77b4;stroke:#1f77b4;\" x=\"121.324562\" xlink:href=\"#m2a41409c3b\" y=\"88.581619\"/>\n     <use style=\"fill:#1f77b4;stroke:#1f77b4;\" x=\"148.78443\" xlink:href=\"#m2a41409c3b\" y=\"95.566153\"/>\n     <use style=\"fill:#1f77b4;stroke:#1f77b4;\" x=\"140.737156\" xlink:href=\"#m2a41409c3b\" y=\"85.074838\"/>\n     <use style=\"fill:#1f77b4;stroke:#1f77b4;\" x=\"136.168905\" xlink:href=\"#m2a41409c3b\" y=\"78.906289\"/>\n     <use style=\"fill:#1f77b4;stroke:#1f77b4;\" x=\"109.285967\" xlink:href=\"#m2a41409c3b\" y=\"58.942773\"/>\n     <use style=\"fill:#1f77b4;stroke:#1f77b4;\" x=\"96.021166\" xlink:href=\"#m2a41409c3b\" y=\"71.61128\"/>\n     <use style=\"fill:#1f77b4;stroke:#1f77b4;\" x=\"88.566957\" xlink:href=\"#m2a41409c3b\" y=\"47.934624\"/>\n     <use style=\"fill:#1f77b4;stroke:#1f77b4;\" x=\"176.079909\" xlink:href=\"#m2a41409c3b\" y=\"123.778183\"/>\n     <use style=\"fill:#1f77b4;stroke:#1f77b4;\" x=\"114.520579\" xlink:href=\"#m2a41409c3b\" y=\"75.299041\"/>\n     <use style=\"fill:#1f77b4;stroke:#1f77b4;\" x=\"114.318878\" xlink:href=\"#m2a41409c3b\" y=\"75.169543\"/>\n     <use style=\"fill:#1f77b4;stroke:#1f77b4;\" x=\"134.096541\" xlink:href=\"#m2a41409c3b\" y=\"93.92396\"/>\n     <use style=\"fill:#1f77b4;stroke:#1f77b4;\" x=\"126.669907\" xlink:href=\"#m2a41409c3b\" y=\"73.645912\"/>\n     <use style=\"fill:#1f77b4;stroke:#1f77b4;\" x=\"118.751095\" xlink:href=\"#m2a41409c3b\" y=\"81.476441\"/>\n     <use style=\"fill:#1f77b4;stroke:#1f77b4;\" x=\"106.084486\" xlink:href=\"#m2a41409c3b\" y=\"72.554648\"/>\n     <use style=\"fill:#1f77b4;stroke:#1f77b4;\" x=\"157.451289\" xlink:href=\"#m2a41409c3b\" y=\"95.464498\"/>\n     <use style=\"fill:#1f77b4;stroke:#1f77b4;\" x=\"139.366626\" xlink:href=\"#m2a41409c3b\" y=\"97.640345\"/>\n     <use style=\"fill:#1f77b4;stroke:#1f77b4;\" x=\"123.837512\" xlink:href=\"#m2a41409c3b\" y=\"86.515832\"/>\n     <use style=\"fill:#1f77b4;stroke:#1f77b4;\" x=\"116.731917\" xlink:href=\"#m2a41409c3b\" y=\"77.376268\"/>\n     <use style=\"fill:#1f77b4;stroke:#1f77b4;\" x=\"94.597108\" xlink:href=\"#m2a41409c3b\" y=\"62.940741\"/>\n     <use style=\"fill:#1f77b4;stroke:#1f77b4;\" x=\"114.477742\" xlink:href=\"#m2a41409c3b\" y=\"80.419297\"/>\n     <use style=\"fill:#1f77b4;stroke:#1f77b4;\" x=\"161.711739\" xlink:href=\"#m2a41409c3b\" y=\"113.413983\"/>\n     <use style=\"fill:#1f77b4;stroke:#1f77b4;\" x=\"99.724746\" xlink:href=\"#m2a41409c3b\" y=\"70.129595\"/>\n     <use style=\"fill:#1f77b4;stroke:#1f77b4;\" x=\"160.47439\" xlink:href=\"#m2a41409c3b\" y=\"102.461714\"/>\n     <use style=\"fill:#1f77b4;stroke:#1f77b4;\" x=\"149.384701\" xlink:href=\"#m2a41409c3b\" y=\"107.343791\"/>\n     <use style=\"fill:#1f77b4;stroke:#1f77b4;\" x=\"88.629068\" xlink:href=\"#m2a41409c3b\" y=\"60.980613\"/>\n     <use style=\"fill:#1f77b4;stroke:#1f77b4;\" x=\"215.364915\" xlink:href=\"#m2a41409c3b\" y=\"135.828777\"/>\n     <use style=\"fill:#1f77b4;stroke:#1f77b4;\" x=\"111.605615\" xlink:href=\"#m2a41409c3b\" y=\"76.20738\"/>\n     <use style=\"fill:#1f77b4;stroke:#1f77b4;\" x=\"131.157974\" xlink:href=\"#m2a41409c3b\" y=\"89.303899\"/>\n     <use style=\"fill:#1f77b4;stroke:#1f77b4;\" x=\"146.402402\" xlink:href=\"#m2a41409c3b\" y=\"80.158535\"/>\n     <use style=\"fill:#1f77b4;stroke:#1f77b4;\" x=\"154.589733\" xlink:href=\"#m2a41409c3b\" y=\"73.781056\"/>\n     <use style=\"fill:#1f77b4;stroke:#1f77b4;\" x=\"117.14837\" xlink:href=\"#m2a41409c3b\" y=\"63.609932\"/>\n     <use style=\"fill:#1f77b4;stroke:#1f77b4;\" x=\"165.997737\" xlink:href=\"#m2a41409c3b\" y=\"113.804411\"/>\n     <use style=\"fill:#1f77b4;stroke:#1f77b4;\" x=\"119.697518\" xlink:href=\"#m2a41409c3b\" y=\"79.418872\"/>\n     <use style=\"fill:#1f77b4;stroke:#1f77b4;\" x=\"109.589274\" xlink:href=\"#m2a41409c3b\" y=\"76.638772\"/>\n     <use style=\"fill:#1f77b4;stroke:#1f77b4;\" x=\"135.868426\" xlink:href=\"#m2a41409c3b\" y=\"88.628584\"/>\n     <use style=\"fill:#1f77b4;stroke:#1f77b4;\" x=\"96.112955\" xlink:href=\"#m2a41409c3b\" y=\"87.056711\"/>\n     <use style=\"fill:#1f77b4;stroke:#1f77b4;\" x=\"112.744818\" xlink:href=\"#m2a41409c3b\" y=\"74.772133\"/>\n     <use style=\"fill:#1f77b4;stroke:#1f77b4;\" x=\"147.561444\" xlink:href=\"#m2a41409c3b\" y=\"98.778404\"/>\n     <use style=\"fill:#1f77b4;stroke:#1f77b4;\" x=\"92.923276\" xlink:href=\"#m2a41409c3b\" y=\"69.724876\"/>\n     <use style=\"fill:#1f77b4;stroke:#1f77b4;\" x=\"80.463178\" xlink:href=\"#m2a41409c3b\" y=\"65.649852\"/>\n     <use style=\"fill:#1f77b4;stroke:#1f77b4;\" x=\"112.871726\" xlink:href=\"#m2a41409c3b\" y=\"87.188861\"/>\n     <use style=\"fill:#1f77b4;stroke:#1f77b4;\" x=\"126.0645\" xlink:href=\"#m2a41409c3b\" y=\"82.607987\"/>\n     <use style=\"fill:#1f77b4;stroke:#1f77b4;\" x=\"117.347814\" xlink:href=\"#m2a41409c3b\" y=\"65.320973\"/>\n     <use style=\"fill:#1f77b4;stroke:#1f77b4;\" x=\"114.02252\" xlink:href=\"#m2a41409c3b\" y=\"68.638137\"/>\n     <use style=\"fill:#1f77b4;stroke:#1f77b4;\" x=\"118.010246\" xlink:href=\"#m2a41409c3b\" y=\"78.870086\"/>\n     <use style=\"fill:#1f77b4;stroke:#1f77b4;\" x=\"111.29021\" xlink:href=\"#m2a41409c3b\" y=\"68.342984\"/>\n     <use style=\"fill:#1f77b4;stroke:#1f77b4;\" x=\"121.379098\" xlink:href=\"#m2a41409c3b\" y=\"67.472298\"/>\n     <use style=\"fill:#1f77b4;stroke:#1f77b4;\" x=\"89.381893\" xlink:href=\"#m2a41409c3b\" y=\"65.987881\"/>\n     <use style=\"fill:#1f77b4;stroke:#1f77b4;\" x=\"99.092982\" xlink:href=\"#m2a41409c3b\" y=\"72.207986\"/>\n     <use style=\"fill:#1f77b4;stroke:#1f77b4;\" x=\"113.086994\" xlink:href=\"#m2a41409c3b\" y=\"67.643242\"/>\n     <use style=\"fill:#1f77b4;stroke:#1f77b4;\" x=\"117.193703\" xlink:href=\"#m2a41409c3b\" y=\"75.613525\"/>\n     <use style=\"fill:#1f77b4;stroke:#1f77b4;\" x=\"130.329106\" xlink:href=\"#m2a41409c3b\" y=\"83.576317\"/>\n     <use style=\"fill:#1f77b4;stroke:#1f77b4;\" x=\"74.245995\" xlink:href=\"#m2a41409c3b\" y=\"43.708623\"/>\n     <use style=\"fill:#1f77b4;stroke:#1f77b4;\" x=\"107.576045\" xlink:href=\"#m2a41409c3b\" y=\"75.215357\"/>\n     <use style=\"fill:#1f77b4;stroke:#1f77b4;\" x=\"160.535609\" xlink:href=\"#m2a41409c3b\" y=\"97.789277\"/>\n     <use style=\"fill:#1f77b4;stroke:#1f77b4;\" x=\"174.403791\" xlink:href=\"#m2a41409c3b\" y=\"133.623345\"/>\n     <use style=\"fill:#1f77b4;stroke:#1f77b4;\" x=\"101.151866\" xlink:href=\"#m2a41409c3b\" y=\"56.477767\"/>\n     <use style=\"fill:#1f77b4;stroke:#1f77b4;\" x=\"134.534615\" xlink:href=\"#m2a41409c3b\" y=\"90.425935\"/>\n     <use style=\"fill:#1f77b4;stroke:#1f77b4;\" x=\"109.52928\" xlink:href=\"#m2a41409c3b\" y=\"69.313443\"/>\n     <use style=\"fill:#1f77b4;stroke:#1f77b4;\" x=\"126.099002\" xlink:href=\"#m2a41409c3b\" y=\"77.694573\"/>\n     <use style=\"fill:#1f77b4;stroke:#1f77b4;\" x=\"135.755647\" xlink:href=\"#m2a41409c3b\" y=\"79.806109\"/>\n     <use style=\"fill:#1f77b4;stroke:#1f77b4;\" x=\"74.811301\" xlink:href=\"#m2a41409c3b\" y=\"54.821089\"/>\n     <use style=\"fill:#1f77b4;stroke:#1f77b4;\" x=\"92.111855\" xlink:href=\"#m2a41409c3b\" y=\"60.368972\"/>\n     <use style=\"fill:#1f77b4;stroke:#1f77b4;\" x=\"125.008241\" xlink:href=\"#m2a41409c3b\" y=\"67.972022\"/>\n     <use style=\"fill:#1f77b4;stroke:#1f77b4;\" x=\"130.866327\" xlink:href=\"#m2a41409c3b\" y=\"98.436357\"/>\n     <use style=\"fill:#1f77b4;stroke:#1f77b4;\" x=\"159.606695\" xlink:href=\"#m2a41409c3b\" y=\"112.504879\"/>\n     <use style=\"fill:#1f77b4;stroke:#1f77b4;\" x=\"121.649569\" xlink:href=\"#m2a41409c3b\" y=\"82.008788\"/>\n     <use style=\"fill:#1f77b4;stroke:#1f77b4;\" x=\"138.512977\" xlink:href=\"#m2a41409c3b\" y=\"79.185641\"/>\n     <use style=\"fill:#1f77b4;stroke:#1f77b4;\" x=\"110.135355\" xlink:href=\"#m2a41409c3b\" y=\"69.585667\"/>\n     <use style=\"fill:#1f77b4;stroke:#1f77b4;\" x=\"106.35544\" xlink:href=\"#m2a41409c3b\" y=\"70.031465\"/>\n     <use style=\"fill:#1f77b4;stroke:#1f77b4;\" x=\"141.05992\" xlink:href=\"#m2a41409c3b\" y=\"92.640167\"/>\n     <use style=\"fill:#1f77b4;stroke:#1f77b4;\" x=\"97.566165\" xlink:href=\"#m2a41409c3b\" y=\"60.218352\"/>\n     <use style=\"fill:#1f77b4;stroke:#1f77b4;\" x=\"85.890246\" xlink:href=\"#m2a41409c3b\" y=\"60.723807\"/>\n     <use style=\"fill:#1f77b4;stroke:#1f77b4;\" x=\"143.31564\" xlink:href=\"#m2a41409c3b\" y=\"92.550243\"/>\n     <use style=\"fill:#1f77b4;stroke:#1f77b4;\" x=\"105.150438\" xlink:href=\"#m2a41409c3b\" y=\"71.300945\"/>\n     <use style=\"fill:#1f77b4;stroke:#1f77b4;\" x=\"153.093547\" xlink:href=\"#m2a41409c3b\" y=\"92.858779\"/>\n     <use style=\"fill:#1f77b4;stroke:#1f77b4;\" x=\"131.981746\" xlink:href=\"#m2a41409c3b\" y=\"84.337969\"/>\n     <use style=\"fill:#1f77b4;stroke:#1f77b4;\" x=\"116.47004\" xlink:href=\"#m2a41409c3b\" y=\"78.296257\"/>\n     <use style=\"fill:#1f77b4;stroke:#1f77b4;\" x=\"109.916026\" xlink:href=\"#m2a41409c3b\" y=\"73.668795\"/>\n     <use style=\"fill:#1f77b4;stroke:#1f77b4;\" x=\"99.431022\" xlink:href=\"#m2a41409c3b\" y=\"73.466666\"/>\n     <use style=\"fill:#1f77b4;stroke:#1f77b4;\" x=\"130.101407\" xlink:href=\"#m2a41409c3b\" y=\"85.129573\"/>\n     <use style=\"fill:#1f77b4;stroke:#1f77b4;\" x=\"167.269094\" xlink:href=\"#m2a41409c3b\" y=\"107.579765\"/>\n     <use style=\"fill:#1f77b4;stroke:#1f77b4;\" x=\"132.061899\" xlink:href=\"#m2a41409c3b\" y=\"85.92329\"/>\n     <use style=\"fill:#1f77b4;stroke:#1f77b4;\" x=\"118.065195\" xlink:href=\"#m2a41409c3b\" y=\"75.385529\"/>\n     <use style=\"fill:#1f77b4;stroke:#1f77b4;\" x=\"138.983792\" xlink:href=\"#m2a41409c3b\" y=\"104.002331\"/>\n     <use style=\"fill:#1f77b4;stroke:#1f77b4;\" x=\"173.516413\" xlink:href=\"#m2a41409c3b\" y=\"105.149373\"/>\n     <use style=\"fill:#1f77b4;stroke:#1f77b4;\" x=\"128.166368\" xlink:href=\"#m2a41409c3b\" y=\"91.968957\"/>\n     <use style=\"fill:#1f77b4;stroke:#1f77b4;\" x=\"125.643506\" xlink:href=\"#m2a41409c3b\" y=\"82.269024\"/>\n     <use style=\"fill:#1f77b4;stroke:#1f77b4;\" x=\"115.359939\" xlink:href=\"#m2a41409c3b\" y=\"66.916344\"/>\n     <use style=\"fill:#1f77b4;stroke:#1f77b4;\" x=\"148.122946\" xlink:href=\"#m2a41409c3b\" y=\"88.755932\"/>\n     <use style=\"fill:#1f77b4;stroke:#1f77b4;\" x=\"76.328017\" xlink:href=\"#m2a41409c3b\" y=\"50.778557\"/>\n     <use style=\"fill:#1f77b4;stroke:#1f77b4;\" x=\"87.869094\" xlink:href=\"#m2a41409c3b\" y=\"50.490982\"/>\n     <use style=\"fill:#1f77b4;stroke:#1f77b4;\" x=\"98.548776\" xlink:href=\"#m2a41409c3b\" y=\"83.33947\"/>\n     <use style=\"fill:#1f77b4;stroke:#1f77b4;\" x=\"101.091448\" xlink:href=\"#m2a41409c3b\" y=\"45.74912\"/>\n     <use style=\"fill:#1f77b4;stroke:#1f77b4;\" x=\"97.598829\" xlink:href=\"#m2a41409c3b\" y=\"58.124909\"/>\n     <use style=\"fill:#1f77b4;stroke:#1f77b4;\" x=\"142.635849\" xlink:href=\"#m2a41409c3b\" y=\"104.249719\"/>\n     <use style=\"fill:#1f77b4;stroke:#1f77b4;\" x=\"98.623392\" xlink:href=\"#m2a41409c3b\" y=\"64.550177\"/>\n     <use style=\"fill:#1f77b4;stroke:#1f77b4;\" x=\"163.597737\" xlink:href=\"#m2a41409c3b\" y=\"99.298928\"/>\n     <use style=\"fill:#1f77b4;stroke:#1f77b4;\" x=\"94.532947\" xlink:href=\"#m2a41409c3b\" y=\"71.248302\"/>\n     <use style=\"fill:#1f77b4;stroke:#1f77b4;\" x=\"111.971581\" xlink:href=\"#m2a41409c3b\" y=\"71.086758\"/>\n     <use style=\"fill:#1f77b4;stroke:#1f77b4;\" x=\"131.755076\" xlink:href=\"#m2a41409c3b\" y=\"89.358832\"/>\n     <use style=\"fill:#1f77b4;stroke:#1f77b4;\" x=\"125.284623\" xlink:href=\"#m2a41409c3b\" y=\"74.285202\"/>\n     <use style=\"fill:#1f77b4;stroke:#1f77b4;\" x=\"124.90585\" xlink:href=\"#m2a41409c3b\" y=\"80.958362\"/>\n     <use style=\"fill:#1f77b4;stroke:#1f77b4;\" x=\"117.348258\" xlink:href=\"#m2a41409c3b\" y=\"69.888751\"/>\n     <use style=\"fill:#1f77b4;stroke:#1f77b4;\" x=\"131.384951\" xlink:href=\"#m2a41409c3b\" y=\"105.777856\"/>\n     <use style=\"fill:#1f77b4;stroke:#1f77b4;\" x=\"113.782047\" xlink:href=\"#m2a41409c3b\" y=\"67.238056\"/>\n     <use style=\"fill:#1f77b4;stroke:#1f77b4;\" x=\"91.489971\" xlink:href=\"#m2a41409c3b\" y=\"45.232551\"/>\n     <use style=\"fill:#1f77b4;stroke:#1f77b4;\" x=\"157.95241\" xlink:href=\"#m2a41409c3b\" y=\"108.182329\"/>\n     <use style=\"fill:#1f77b4;stroke:#1f77b4;\" x=\"119.12059\" xlink:href=\"#m2a41409c3b\" y=\"61.452188\"/>\n     <use style=\"fill:#1f77b4;stroke:#1f77b4;\" x=\"119.866252\" xlink:href=\"#m2a41409c3b\" y=\"89.945334\"/>\n     <use style=\"fill:#1f77b4;stroke:#1f77b4;\" x=\"99.382254\" xlink:href=\"#m2a41409c3b\" y=\"52.31274\"/>\n     <use style=\"fill:#1f77b4;stroke:#1f77b4;\" x=\"85.156989\" xlink:href=\"#m2a41409c3b\" y=\"48.531502\"/>\n     <use style=\"fill:#1f77b4;stroke:#1f77b4;\" x=\"109.064661\" xlink:href=\"#m2a41409c3b\" y=\"63.551022\"/>\n     <use style=\"fill:#1f77b4;stroke:#1f77b4;\" x=\"144.547796\" xlink:href=\"#m2a41409c3b\" y=\"107.676285\"/>\n     <use style=\"fill:#1f77b4;stroke:#1f77b4;\" x=\"125.596179\" xlink:href=\"#m2a41409c3b\" y=\"92.136651\"/>\n     <use style=\"fill:#1f77b4;stroke:#1f77b4;\" x=\"152.962889\" xlink:href=\"#m2a41409c3b\" y=\"88.648152\"/>\n     <use style=\"fill:#1f77b4;stroke:#1f77b4;\" x=\"93.09205\" xlink:href=\"#m2a41409c3b\" y=\"44.16494\"/>\n     <use style=\"fill:#1f77b4;stroke:#1f77b4;\" x=\"96.684709\" xlink:href=\"#m2a41409c3b\" y=\"65.680622\"/>\n     <use style=\"fill:#1f77b4;stroke:#1f77b4;\" x=\"127.325543\" xlink:href=\"#m2a41409c3b\" y=\"72.607238\"/>\n     <use style=\"fill:#1f77b4;stroke:#1f77b4;\" x=\"134.427516\" xlink:href=\"#m2a41409c3b\" y=\"97.60873\"/>\n     <use style=\"fill:#1f77b4;stroke:#1f77b4;\" x=\"118.11464\" xlink:href=\"#m2a41409c3b\" y=\"92.120775\"/>\n     <use style=\"fill:#1f77b4;stroke:#1f77b4;\" x=\"126.023562\" xlink:href=\"#m2a41409c3b\" y=\"85.128916\"/>\n     <use style=\"fill:#1f77b4;stroke:#1f77b4;\" x=\"91.040377\" xlink:href=\"#m2a41409c3b\" y=\"58.886712\"/>\n     <use style=\"fill:#1f77b4;stroke:#1f77b4;\" x=\"117.211003\" xlink:href=\"#m2a41409c3b\" y=\"97.31172\"/>\n     <use style=\"fill:#1f77b4;stroke:#1f77b4;\" x=\"115.998317\" xlink:href=\"#m2a41409c3b\" y=\"70.397487\"/>\n     <use style=\"fill:#1f77b4;stroke:#1f77b4;\" x=\"127.288063\" xlink:href=\"#m2a41409c3b\" y=\"105.544473\"/>\n     <use style=\"fill:#1f77b4;stroke:#1f77b4;\" x=\"106.612676\" xlink:href=\"#m2a41409c3b\" y=\"61.133385\"/>\n     <use style=\"fill:#1f77b4;stroke:#1f77b4;\" x=\"121.505046\" xlink:href=\"#m2a41409c3b\" y=\"83.850687\"/>\n     <use style=\"fill:#1f77b4;stroke:#1f77b4;\" x=\"156.612637\" xlink:href=\"#m2a41409c3b\" y=\"92.584557\"/>\n     <use style=\"fill:#1f77b4;stroke:#1f77b4;\" x=\"122.586886\" xlink:href=\"#m2a41409c3b\" y=\"82.761612\"/>\n     <use style=\"fill:#1f77b4;stroke:#1f77b4;\" x=\"138.16927\" xlink:href=\"#m2a41409c3b\" y=\"111.443882\"/>\n     <use style=\"fill:#1f77b4;stroke:#1f77b4;\" x=\"146.741626\" xlink:href=\"#m2a41409c3b\" y=\"101.510459\"/>\n     <use style=\"fill:#1f77b4;stroke:#1f77b4;\" x=\"137.616795\" xlink:href=\"#m2a41409c3b\" y=\"97.180119\"/>\n     <use style=\"fill:#1f77b4;stroke:#1f77b4;\" x=\"69.284217\" xlink:href=\"#m2a41409c3b\" y=\"36.744618\"/>\n     <use style=\"fill:#1f77b4;stroke:#1f77b4;\" x=\"158.159314\" xlink:href=\"#m2a41409c3b\" y=\"104.379169\"/>\n     <use style=\"fill:#1f77b4;stroke:#1f77b4;\" x=\"156.413634\" xlink:href=\"#m2a41409c3b\" y=\"93.521505\"/>\n     <use style=\"fill:#1f77b4;stroke:#1f77b4;\" x=\"104.605997\" xlink:href=\"#m2a41409c3b\" y=\"70.248314\"/>\n     <use style=\"fill:#1f77b4;stroke:#1f77b4;\" x=\"104.719193\" xlink:href=\"#m2a41409c3b\" y=\"56.380603\"/>\n     <use style=\"fill:#1f77b4;stroke:#1f77b4;\" x=\"120.642318\" xlink:href=\"#m2a41409c3b\" y=\"90.477398\"/>\n     <use style=\"fill:#1f77b4;stroke:#1f77b4;\" x=\"102.344921\" xlink:href=\"#m2a41409c3b\" y=\"46.700568\"/>\n     <use style=\"fill:#1f77b4;stroke:#1f77b4;\" x=\"102.489296\" xlink:href=\"#m2a41409c3b\" y=\"64.316646\"/>\n     <use style=\"fill:#1f77b4;stroke:#1f77b4;\" x=\"128.260076\" xlink:href=\"#m2a41409c3b\" y=\"75.279619\"/>\n     <use style=\"fill:#1f77b4;stroke:#1f77b4;\" x=\"147.69959\" xlink:href=\"#m2a41409c3b\" y=\"106.575879\"/>\n     <use style=\"fill:#1f77b4;stroke:#1f77b4;\" x=\"133.827317\" xlink:href=\"#m2a41409c3b\" y=\"86.578218\"/>\n     <use style=\"fill:#1f77b4;stroke:#1f77b4;\" x=\"132.808345\" xlink:href=\"#m2a41409c3b\" y=\"97.175642\"/>\n     <use style=\"fill:#1f77b4;stroke:#1f77b4;\" x=\"124.202935\" xlink:href=\"#m2a41409c3b\" y=\"77.379104\"/>\n     <use style=\"fill:#1f77b4;stroke:#1f77b4;\" x=\"123.825128\" xlink:href=\"#m2a41409c3b\" y=\"103.811671\"/>\n     <use style=\"fill:#1f77b4;stroke:#1f77b4;\" x=\"162.159022\" xlink:href=\"#m2a41409c3b\" y=\"91.957047\"/>\n     <use style=\"fill:#1f77b4;stroke:#1f77b4;\" x=\"137.362011\" xlink:href=\"#m2a41409c3b\" y=\"95.128017\"/>\n     <use style=\"fill:#1f77b4;stroke:#1f77b4;\" x=\"107.075239\" xlink:href=\"#m2a41409c3b\" y=\"71.900823\"/>\n     <use style=\"fill:#1f77b4;stroke:#1f77b4;\" x=\"135.515797\" xlink:href=\"#m2a41409c3b\" y=\"106.008171\"/>\n     <use style=\"fill:#1f77b4;stroke:#1f77b4;\" x=\"84.804416\" xlink:href=\"#m2a41409c3b\" y=\"52.301366\"/>\n     <use style=\"fill:#1f77b4;stroke:#1f77b4;\" x=\"117.592294\" xlink:href=\"#m2a41409c3b\" y=\"74.554883\"/>\n     <use style=\"fill:#1f77b4;stroke:#1f77b4;\" x=\"90.999373\" xlink:href=\"#m2a41409c3b\" y=\"59.969165\"/>\n     <use style=\"fill:#1f77b4;stroke:#1f77b4;\" x=\"121.557167\" xlink:href=\"#m2a41409c3b\" y=\"61.736718\"/>\n     <use style=\"fill:#1f77b4;stroke:#1f77b4;\" x=\"76.843299\" xlink:href=\"#m2a41409c3b\" y=\"49.692857\"/>\n     <use style=\"fill:#1f77b4;stroke:#1f77b4;\" x=\"107.723174\" xlink:href=\"#m2a41409c3b\" y=\"73.040578\"/>\n     <use style=\"fill:#1f77b4;stroke:#1f77b4;\" x=\"151.207395\" xlink:href=\"#m2a41409c3b\" y=\"100.478994\"/>\n     <use style=\"fill:#1f77b4;stroke:#1f77b4;\" x=\"109.711281\" xlink:href=\"#m2a41409c3b\" y=\"54.566309\"/>\n     <use style=\"fill:#1f77b4;stroke:#1f77b4;\" x=\"104.483203\" xlink:href=\"#m2a41409c3b\" y=\"74.219629\"/>\n     <use style=\"fill:#1f77b4;stroke:#1f77b4;\" x=\"76.58029\" xlink:href=\"#m2a41409c3b\" y=\"48.84005\"/>\n     <use style=\"fill:#1f77b4;stroke:#1f77b4;\" x=\"147.692383\" xlink:href=\"#m2a41409c3b\" y=\"92.892\"/>\n     <use style=\"fill:#1f77b4;stroke:#1f77b4;\" x=\"140.078978\" xlink:href=\"#m2a41409c3b\" y=\"101.41047\"/>\n     <use style=\"fill:#1f77b4;stroke:#1f77b4;\" x=\"134.596352\" xlink:href=\"#m2a41409c3b\" y=\"69.353921\"/>\n     <use style=\"fill:#1f77b4;stroke:#1f77b4;\" x=\"99.28859\" xlink:href=\"#m2a41409c3b\" y=\"71.569665\"/>\n     <use style=\"fill:#1f77b4;stroke:#1f77b4;\" x=\"118.684634\" xlink:href=\"#m2a41409c3b\" y=\"64.09906\"/>\n     <use style=\"fill:#1f77b4;stroke:#1f77b4;\" x=\"118.152057\" xlink:href=\"#m2a41409c3b\" y=\"68.175729\"/>\n     <use style=\"fill:#1f77b4;stroke:#1f77b4;\" x=\"119.870727\" xlink:href=\"#m2a41409c3b\" y=\"85.870314\"/>\n     <use style=\"fill:#1f77b4;stroke:#1f77b4;\" x=\"129.441933\" xlink:href=\"#m2a41409c3b\" y=\"89.307557\"/>\n     <use style=\"fill:#1f77b4;stroke:#1f77b4;\" x=\"88.609935\" xlink:href=\"#m2a41409c3b\" y=\"46.824817\"/>\n     <use style=\"fill:#1f77b4;stroke:#1f77b4;\" x=\"137.977587\" xlink:href=\"#m2a41409c3b\" y=\"96.37534\"/>\n     <use style=\"fill:#1f77b4;stroke:#1f77b4;\" x=\"97.26008\" xlink:href=\"#m2a41409c3b\" y=\"84.163012\"/>\n     <use style=\"fill:#1f77b4;stroke:#1f77b4;\" x=\"59.247317\" xlink:href=\"#m2a41409c3b\" y=\"29.017277\"/>\n     <use style=\"fill:#1f77b4;stroke:#1f77b4;\" x=\"154.133761\" xlink:href=\"#m2a41409c3b\" y=\"98.226277\"/>\n     <use style=\"fill:#1f77b4;stroke:#1f77b4;\" x=\"119.572995\" xlink:href=\"#m2a41409c3b\" y=\"77.051414\"/>\n     <use style=\"fill:#1f77b4;stroke:#1f77b4;\" x=\"115.109163\" xlink:href=\"#m2a41409c3b\" y=\"58.471234\"/>\n     <use style=\"fill:#1f77b4;stroke:#1f77b4;\" x=\"95.183898\" xlink:href=\"#m2a41409c3b\" y=\"64.162185\"/>\n     <use style=\"fill:#1f77b4;stroke:#1f77b4;\" x=\"130.824352\" xlink:href=\"#m2a41409c3b\" y=\"75.306226\"/>\n     <use style=\"fill:#1f77b4;stroke:#1f77b4;\" x=\"127.761249\" xlink:href=\"#m2a41409c3b\" y=\"93.743065\"/>\n     <use style=\"fill:#1f77b4;stroke:#1f77b4;\" x=\"159.389311\" xlink:href=\"#m2a41409c3b\" y=\"108.790342\"/>\n     <use style=\"fill:#1f77b4;stroke:#1f77b4;\" x=\"143.213441\" xlink:href=\"#m2a41409c3b\" y=\"84.581798\"/>\n     <use style=\"fill:#1f77b4;stroke:#1f77b4;\" x=\"109.068454\" xlink:href=\"#m2a41409c3b\" y=\"47.327051\"/>\n     <use style=\"fill:#1f77b4;stroke:#1f77b4;\" x=\"136.805898\" xlink:href=\"#m2a41409c3b\" y=\"81.503793\"/>\n     <use style=\"fill:#1f77b4;stroke:#1f77b4;\" x=\"126.717253\" xlink:href=\"#m2a41409c3b\" y=\"77.499566\"/>\n     <use style=\"fill:#1f77b4;stroke:#1f77b4;\" x=\"138.09444\" xlink:href=\"#m2a41409c3b\" y=\"90.078549\"/>\n     <use style=\"fill:#1f77b4;stroke:#1f77b4;\" x=\"129.290868\" xlink:href=\"#m2a41409c3b\" y=\"84.450391\"/>\n     <use style=\"fill:#1f77b4;stroke:#1f77b4;\" x=\"112.706227\" xlink:href=\"#m2a41409c3b\" y=\"78.537074\"/>\n     <use style=\"fill:#1f77b4;stroke:#1f77b4;\" x=\"106.027137\" xlink:href=\"#m2a41409c3b\" y=\"66.95396\"/>\n     <use style=\"fill:#1f77b4;stroke:#1f77b4;\" x=\"115.260953\" xlink:href=\"#m2a41409c3b\" y=\"80.773747\"/>\n     <use style=\"fill:#1f77b4;stroke:#1f77b4;\" x=\"109.460661\" xlink:href=\"#m2a41409c3b\" y=\"67.857444\"/>\n     <use style=\"fill:#1f77b4;stroke:#1f77b4;\" x=\"187.410004\" xlink:href=\"#m2a41409c3b\" y=\"128.525256\"/>\n     <use style=\"fill:#1f77b4;stroke:#1f77b4;\" x=\"119.568186\" xlink:href=\"#m2a41409c3b\" y=\"72.601509\"/>\n     <use style=\"fill:#1f77b4;stroke:#1f77b4;\" x=\"103.219636\" xlink:href=\"#m2a41409c3b\" y=\"59.709415\"/>\n     <use style=\"fill:#1f77b4;stroke:#1f77b4;\" x=\"140.982215\" xlink:href=\"#m2a41409c3b\" y=\"101.252652\"/>\n     <use style=\"fill:#1f77b4;stroke:#1f77b4;\" x=\"101.105429\" xlink:href=\"#m2a41409c3b\" y=\"71.800748\"/>\n     <use style=\"fill:#1f77b4;stroke:#1f77b4;\" x=\"136.60654\" xlink:href=\"#m2a41409c3b\" y=\"83.174545\"/>\n     <use style=\"fill:#1f77b4;stroke:#1f77b4;\" x=\"110.989286\" xlink:href=\"#m2a41409c3b\" y=\"52.441419\"/>\n     <use style=\"fill:#1f77b4;stroke:#1f77b4;\" x=\"126.271127\" xlink:href=\"#m2a41409c3b\" y=\"79.252124\"/>\n     <use style=\"fill:#1f77b4;stroke:#1f77b4;\" x=\"140.732768\" xlink:href=\"#m2a41409c3b\" y=\"79.798293\"/>\n     <use style=\"fill:#1f77b4;stroke:#1f77b4;\" x=\"126.254399\" xlink:href=\"#m2a41409c3b\" y=\"63.972666\"/>\n     <use style=\"fill:#1f77b4;stroke:#1f77b4;\" x=\"84.742041\" xlink:href=\"#m2a41409c3b\" y=\"45.895449\"/>\n     <use style=\"fill:#1f77b4;stroke:#1f77b4;\" x=\"93.233321\" xlink:href=\"#m2a41409c3b\" y=\"56.914685\"/>\n     <use style=\"fill:#1f77b4;stroke:#1f77b4;\" x=\"109.926294\" xlink:href=\"#m2a41409c3b\" y=\"60.781789\"/>\n     <use style=\"fill:#1f77b4;stroke:#1f77b4;\" x=\"108.077027\" xlink:href=\"#m2a41409c3b\" y=\"62.610363\"/>\n     <use style=\"fill:#1f77b4;stroke:#1f77b4;\" x=\"114.641405\" xlink:href=\"#m2a41409c3b\" y=\"73.481194\"/>\n     <use style=\"fill:#1f77b4;stroke:#1f77b4;\" x=\"147.658313\" xlink:href=\"#m2a41409c3b\" y=\"92.07117\"/>\n     <use style=\"fill:#1f77b4;stroke:#1f77b4;\" x=\"130.2449\" xlink:href=\"#m2a41409c3b\" y=\"93.579366\"/>\n     <use style=\"fill:#1f77b4;stroke:#1f77b4;\" x=\"77.41653\" xlink:href=\"#m2a41409c3b\" y=\"51.341572\"/>\n     <use style=\"fill:#1f77b4;stroke:#1f77b4;\" x=\"128.599253\" xlink:href=\"#m2a41409c3b\" y=\"80.710042\"/>\n     <use style=\"fill:#1f77b4;stroke:#1f77b4;\" x=\"133.552692\" xlink:href=\"#m2a41409c3b\" y=\"81.559264\"/>\n     <use style=\"fill:#1f77b4;stroke:#1f77b4;\" x=\"109.671775\" xlink:href=\"#m2a41409c3b\" y=\"72.644023\"/>\n     <use style=\"fill:#1f77b4;stroke:#1f77b4;\" x=\"109.718217\" xlink:href=\"#m2a41409c3b\" y=\"58.679497\"/>\n     <use style=\"fill:#1f77b4;stroke:#1f77b4;\" x=\"63.571701\" xlink:href=\"#m2a41409c3b\" y=\"40.911483\"/>\n     <use style=\"fill:#1f77b4;stroke:#1f77b4;\" x=\"95.410649\" xlink:href=\"#m2a41409c3b\" y=\"69.39218\"/>\n     <use style=\"fill:#1f77b4;stroke:#1f77b4;\" x=\"111.051113\" xlink:href=\"#m2a41409c3b\" y=\"85.228466\"/>\n     <use style=\"fill:#1f77b4;stroke:#1f77b4;\" x=\"127.472293\" xlink:href=\"#m2a41409c3b\" y=\"76.464842\"/>\n     <use style=\"fill:#1f77b4;stroke:#1f77b4;\" x=\"111.258623\" xlink:href=\"#m2a41409c3b\" y=\"61.203816\"/>\n     <use style=\"fill:#1f77b4;stroke:#1f77b4;\" x=\"171.24778\" xlink:href=\"#m2a41409c3b\" y=\"106.257204\"/>\n     <use style=\"fill:#1f77b4;stroke:#1f77b4;\" x=\"91.697407\" xlink:href=\"#m2a41409c3b\" y=\"70.14717\"/>\n     <use style=\"fill:#1f77b4;stroke:#1f77b4;\" x=\"85.961335\" xlink:href=\"#m2a41409c3b\" y=\"51.938506\"/>\n     <use style=\"fill:#1f77b4;stroke:#1f77b4;\" x=\"139.447018\" xlink:href=\"#m2a41409c3b\" y=\"86.936826\"/>\n     <use style=\"fill:#1f77b4;stroke:#1f77b4;\" x=\"102.703394\" xlink:href=\"#m2a41409c3b\" y=\"52.766546\"/>\n     <use style=\"fill:#1f77b4;stroke:#1f77b4;\" x=\"138.210916\" xlink:href=\"#m2a41409c3b\" y=\"89.13227\"/>\n     <use style=\"fill:#1f77b4;stroke:#1f77b4;\" x=\"169.815474\" xlink:href=\"#m2a41409c3b\" y=\"89.886984\"/>\n     <use style=\"fill:#1f77b4;stroke:#1f77b4;\" x=\"108.896671\" xlink:href=\"#m2a41409c3b\" y=\"63.781285\"/>\n     <use style=\"fill:#1f77b4;stroke:#1f77b4;\" x=\"118.804202\" xlink:href=\"#m2a41409c3b\" y=\"78.25772\"/>\n     <use style=\"fill:#1f77b4;stroke:#1f77b4;\" x=\"141.464364\" xlink:href=\"#m2a41409c3b\" y=\"111.069408\"/>\n     <use style=\"fill:#1f77b4;stroke:#1f77b4;\" x=\"74.610476\" xlink:href=\"#m2a41409c3b\" y=\"57.203662\"/>\n     <use style=\"fill:#1f77b4;stroke:#1f77b4;\" x=\"127.558367\" xlink:href=\"#m2a41409c3b\" y=\"71.541705\"/>\n     <use style=\"fill:#1f77b4;stroke:#1f77b4;\" x=\"97.132489\" xlink:href=\"#m2a41409c3b\" y=\"53.270855\"/>\n     <use style=\"fill:#1f77b4;stroke:#1f77b4;\" x=\"121.332873\" xlink:href=\"#m2a41409c3b\" y=\"74.77464\"/>\n     <use style=\"fill:#1f77b4;stroke:#1f77b4;\" x=\"163.067782\" xlink:href=\"#m2a41409c3b\" y=\"90.912192\"/>\n     <use style=\"fill:#1f77b4;stroke:#1f77b4;\" x=\"138.531979\" xlink:href=\"#m2a41409c3b\" y=\"104.357074\"/>\n     <use style=\"fill:#1f77b4;stroke:#1f77b4;\" x=\"144.22663\" xlink:href=\"#m2a41409c3b\" y=\"85.961317\"/>\n     <use style=\"fill:#1f77b4;stroke:#1f77b4;\" x=\"129.049175\" xlink:href=\"#m2a41409c3b\" y=\"91.926596\"/>\n     <use style=\"fill:#1f77b4;stroke:#1f77b4;\" x=\"105.699135\" xlink:href=\"#m2a41409c3b\" y=\"56.163406\"/>\n     <use style=\"fill:#1f77b4;stroke:#1f77b4;\" x=\"107.687864\" xlink:href=\"#m2a41409c3b\" y=\"73.152329\"/>\n     <use style=\"fill:#1f77b4;stroke:#1f77b4;\" x=\"129.757685\" xlink:href=\"#m2a41409c3b\" y=\"98.652095\"/>\n     <use style=\"fill:#1f77b4;stroke:#1f77b4;\" x=\"91.918886\" xlink:href=\"#m2a41409c3b\" y=\"52.061716\"/>\n     <use style=\"fill:#1f77b4;stroke:#1f77b4;\" x=\"139.573124\" xlink:href=\"#m2a41409c3b\" y=\"78.627803\"/>\n     <use style=\"fill:#1f77b4;stroke:#1f77b4;\" x=\"146.390305\" xlink:href=\"#m2a41409c3b\" y=\"98.840503\"/>\n     <use style=\"fill:#1f77b4;stroke:#1f77b4;\" x=\"164.146956\" xlink:href=\"#m2a41409c3b\" y=\"92.630195\"/>\n     <use style=\"fill:#1f77b4;stroke:#1f77b4;\" x=\"167.423176\" xlink:href=\"#m2a41409c3b\" y=\"107.163253\"/>\n     <use style=\"fill:#1f77b4;stroke:#1f77b4;\" x=\"106.01202\" xlink:href=\"#m2a41409c3b\" y=\"66.890387\"/>\n     <use style=\"fill:#1f77b4;stroke:#1f77b4;\" x=\"137.914586\" xlink:href=\"#m2a41409c3b\" y=\"75.559174\"/>\n     <use style=\"fill:#1f77b4;stroke:#1f77b4;\" x=\"113.423656\" xlink:href=\"#m2a41409c3b\" y=\"64.949304\"/>\n     <use style=\"fill:#1f77b4;stroke:#1f77b4;\" x=\"157.712903\" xlink:href=\"#m2a41409c3b\" y=\"105.614595\"/>\n     <use style=\"fill:#1f77b4;stroke:#1f77b4;\" x=\"136.299574\" xlink:href=\"#m2a41409c3b\" y=\"92.670727\"/>\n    </g>\n   </g>\n   <g id=\"matplotlib.axis_1\">\n    <g id=\"xtick_1\">\n     <g id=\"line2d_1\">\n      <defs>\n       <path d=\"M 0 0 \nL 0 3.5 \n\" id=\"me02e3644a5\" style=\"stroke:#000000;stroke-width:0.8;\"/>\n      </defs>\n      <g>\n       <use style=\"stroke:#000000;stroke-width:0.8;\" x=\"75.695693\" xlink:href=\"#me02e3644a5\" y=\"143.1\"/>\n      </g>\n     </g>\n     <g id=\"text_1\">\n      <!-- −2 -->\n      <defs>\n       <path d=\"M 10.59375 35.5 \nL 73.1875 35.5 \nL 73.1875 27.203125 \nL 10.59375 27.203125 \nz\n\" id=\"DejaVuSans-8722\"/>\n       <path d=\"M 19.1875 8.296875 \nL 53.609375 8.296875 \nL 53.609375 0 \nL 7.328125 0 \nL 7.328125 8.296875 \nQ 12.9375 14.109375 22.625 23.890625 \nQ 32.328125 33.6875 34.8125 36.53125 \nQ 39.546875 41.84375 41.421875 45.53125 \nQ 43.3125 49.21875 43.3125 52.78125 \nQ 43.3125 58.59375 39.234375 62.25 \nQ 35.15625 65.921875 28.609375 65.921875 \nQ 23.96875 65.921875 18.8125 64.3125 \nQ 13.671875 62.703125 7.8125 59.421875 \nL 7.8125 69.390625 \nQ 13.765625 71.78125 18.9375 73 \nQ 24.125 74.21875 28.421875 74.21875 \nQ 39.75 74.21875 46.484375 68.546875 \nQ 53.21875 62.890625 53.21875 53.421875 \nQ 53.21875 48.921875 51.53125 44.890625 \nQ 49.859375 40.875 45.40625 35.40625 \nQ 44.1875 33.984375 37.640625 27.21875 \nQ 31.109375 20.453125 19.1875 8.296875 \nz\n\" id=\"DejaVuSans-50\"/>\n      </defs>\n      <g transform=\"translate(68.324599 157.698438)scale(0.1 -0.1)\">\n       <use xlink:href=\"#DejaVuSans-8722\"/>\n       <use x=\"83.789062\" xlink:href=\"#DejaVuSans-50\"/>\n      </g>\n     </g>\n    </g>\n    <g id=\"xtick_2\">\n     <g id=\"line2d_2\">\n      <g>\n       <use style=\"stroke:#000000;stroke-width:0.8;\" x=\"122.872669\" xlink:href=\"#me02e3644a5\" y=\"143.1\"/>\n      </g>\n     </g>\n     <g id=\"text_2\">\n      <!-- 0 -->\n      <defs>\n       <path d=\"M 31.78125 66.40625 \nQ 24.171875 66.40625 20.328125 58.90625 \nQ 16.5 51.421875 16.5 36.375 \nQ 16.5 21.390625 20.328125 13.890625 \nQ 24.171875 6.390625 31.78125 6.390625 \nQ 39.453125 6.390625 43.28125 13.890625 \nQ 47.125 21.390625 47.125 36.375 \nQ 47.125 51.421875 43.28125 58.90625 \nQ 39.453125 66.40625 31.78125 66.40625 \nz\nM 31.78125 74.21875 \nQ 44.046875 74.21875 50.515625 64.515625 \nQ 56.984375 54.828125 56.984375 36.375 \nQ 56.984375 17.96875 50.515625 8.265625 \nQ 44.046875 -1.421875 31.78125 -1.421875 \nQ 19.53125 -1.421875 13.0625 8.265625 \nQ 6.59375 17.96875 6.59375 36.375 \nQ 6.59375 54.828125 13.0625 64.515625 \nQ 19.53125 74.21875 31.78125 74.21875 \nz\n\" id=\"DejaVuSans-48\"/>\n      </defs>\n      <g transform=\"translate(119.691419 157.698438)scale(0.1 -0.1)\">\n       <use xlink:href=\"#DejaVuSans-48\"/>\n      </g>\n     </g>\n    </g>\n    <g id=\"xtick_3\">\n     <g id=\"line2d_3\">\n      <g>\n       <use style=\"stroke:#000000;stroke-width:0.8;\" x=\"170.049646\" xlink:href=\"#me02e3644a5\" y=\"143.1\"/>\n      </g>\n     </g>\n     <g id=\"text_3\">\n      <!-- 2 -->\n      <g transform=\"translate(166.868396 157.698438)scale(0.1 -0.1)\">\n       <use xlink:href=\"#DejaVuSans-50\"/>\n      </g>\n     </g>\n    </g>\n    <g id=\"xtick_4\">\n     <g id=\"line2d_4\">\n      <g>\n       <use style=\"stroke:#000000;stroke-width:0.8;\" x=\"217.226622\" xlink:href=\"#me02e3644a5\" y=\"143.1\"/>\n      </g>\n     </g>\n     <g id=\"text_4\">\n      <!-- 4 -->\n      <defs>\n       <path d=\"M 37.796875 64.3125 \nL 12.890625 25.390625 \nL 37.796875 25.390625 \nz\nM 35.203125 72.90625 \nL 47.609375 72.90625 \nL 47.609375 25.390625 \nL 58.015625 25.390625 \nL 58.015625 17.1875 \nL 47.609375 17.1875 \nL 47.609375 0 \nL 37.796875 0 \nL 37.796875 17.1875 \nL 4.890625 17.1875 \nL 4.890625 26.703125 \nz\n\" id=\"DejaVuSans-52\"/>\n      </defs>\n      <g transform=\"translate(214.045372 157.698438)scale(0.1 -0.1)\">\n       <use xlink:href=\"#DejaVuSans-52\"/>\n      </g>\n     </g>\n    </g>\n   </g>\n   <g id=\"matplotlib.axis_2\">\n    <g id=\"ytick_1\">\n     <g id=\"line2d_5\">\n      <defs>\n       <path d=\"M 0 0 \nL -3.5 0 \n\" id=\"m1fb21acd2a\" style=\"stroke:#000000;stroke-width:0.8;\"/>\n      </defs>\n      <g>\n       <use style=\"stroke:#000000;stroke-width:0.8;\" x=\"28.942188\" xlink:href=\"#m1fb21acd2a\" y=\"121.910476\"/>\n      </g>\n     </g>\n     <g id=\"text_5\">\n      <!-- −5 -->\n      <defs>\n       <path d=\"M 10.796875 72.90625 \nL 49.515625 72.90625 \nL 49.515625 64.59375 \nL 19.828125 64.59375 \nL 19.828125 46.734375 \nQ 21.96875 47.46875 24.109375 47.828125 \nQ 26.265625 48.1875 28.421875 48.1875 \nQ 40.625 48.1875 47.75 41.5 \nQ 54.890625 34.8125 54.890625 23.390625 \nQ 54.890625 11.625 47.5625 5.09375 \nQ 40.234375 -1.421875 26.90625 -1.421875 \nQ 22.3125 -1.421875 17.546875 -0.640625 \nQ 12.796875 0.140625 7.71875 1.703125 \nL 7.71875 11.625 \nQ 12.109375 9.234375 16.796875 8.0625 \nQ 21.484375 6.890625 26.703125 6.890625 \nQ 35.15625 6.890625 40.078125 11.328125 \nQ 45.015625 15.765625 45.015625 23.390625 \nQ 45.015625 31 40.078125 35.4375 \nQ 35.15625 39.890625 26.703125 39.890625 \nQ 22.75 39.890625 18.8125 39.015625 \nQ 14.890625 38.140625 10.796875 36.28125 \nz\n\" id=\"DejaVuSans-53\"/>\n      </defs>\n      <g transform=\"translate(7.2 125.709695)scale(0.1 -0.1)\">\n       <use xlink:href=\"#DejaVuSans-8722\"/>\n       <use x=\"83.789062\" xlink:href=\"#DejaVuSans-53\"/>\n      </g>\n     </g>\n    </g>\n    <g id=\"ytick_2\">\n     <g id=\"line2d_6\">\n      <g>\n       <use style=\"stroke:#000000;stroke-width:0.8;\" x=\"28.942188\" xlink:href=\"#m1fb21acd2a\" y=\"98.805362\"/>\n      </g>\n     </g>\n     <g id=\"text_6\">\n      <!-- 0 -->\n      <g transform=\"translate(15.579688 102.60458)scale(0.1 -0.1)\">\n       <use xlink:href=\"#DejaVuSans-48\"/>\n      </g>\n     </g>\n    </g>\n    <g id=\"ytick_3\">\n     <g id=\"line2d_7\">\n      <g>\n       <use style=\"stroke:#000000;stroke-width:0.8;\" x=\"28.942188\" xlink:href=\"#m1fb21acd2a\" y=\"75.700247\"/>\n      </g>\n     </g>\n     <g id=\"text_7\">\n      <!-- 5 -->\n      <g transform=\"translate(15.579688 79.499466)scale(0.1 -0.1)\">\n       <use xlink:href=\"#DejaVuSans-53\"/>\n      </g>\n     </g>\n    </g>\n    <g id=\"ytick_4\">\n     <g id=\"line2d_8\">\n      <g>\n       <use style=\"stroke:#000000;stroke-width:0.8;\" x=\"28.942188\" xlink:href=\"#m1fb21acd2a\" y=\"52.595133\"/>\n      </g>\n     </g>\n     <g id=\"text_8\">\n      <!-- 10 -->\n      <defs>\n       <path d=\"M 12.40625 8.296875 \nL 28.515625 8.296875 \nL 28.515625 63.921875 \nL 10.984375 60.40625 \nL 10.984375 69.390625 \nL 28.421875 72.90625 \nL 38.28125 72.90625 \nL 38.28125 8.296875 \nL 54.390625 8.296875 \nL 54.390625 0 \nL 12.40625 0 \nz\n\" id=\"DejaVuSans-49\"/>\n      </defs>\n      <g transform=\"translate(9.217188 56.394352)scale(0.1 -0.1)\">\n       <use xlink:href=\"#DejaVuSans-49\"/>\n       <use x=\"63.623047\" xlink:href=\"#DejaVuSans-48\"/>\n      </g>\n     </g>\n    </g>\n    <g id=\"ytick_5\">\n     <g id=\"line2d_9\">\n      <g>\n       <use style=\"stroke:#000000;stroke-width:0.8;\" x=\"28.942188\" xlink:href=\"#m1fb21acd2a\" y=\"29.490019\"/>\n      </g>\n     </g>\n     <g id=\"text_9\">\n      <!-- 15 -->\n      <g transform=\"translate(9.217188 33.289238)scale(0.1 -0.1)\">\n       <use xlink:href=\"#DejaVuSans-49\"/>\n       <use x=\"63.623047\" xlink:href=\"#DejaVuSans-53\"/>\n      </g>\n     </g>\n    </g>\n   </g>\n   <g id=\"patch_3\">\n    <path d=\"M 28.942188 143.1 \nL 28.942188 7.2 \n\" style=\"fill:none;stroke:#000000;stroke-linecap:square;stroke-linejoin:miter;stroke-width:0.8;\"/>\n   </g>\n   <g id=\"patch_4\">\n    <path d=\"M 224.242188 143.1 \nL 224.242188 7.2 \n\" style=\"fill:none;stroke:#000000;stroke-linecap:square;stroke-linejoin:miter;stroke-width:0.8;\"/>\n   </g>\n   <g id=\"patch_5\">\n    <path d=\"M 28.942188 143.1 \nL 224.242188 143.1 \n\" style=\"fill:none;stroke:#000000;stroke-linecap:square;stroke-linejoin:miter;stroke-width:0.8;\"/>\n   </g>\n   <g id=\"patch_6\">\n    <path d=\"M 28.942188 7.2 \nL 224.242188 7.2 \n\" style=\"fill:none;stroke:#000000;stroke-linecap:square;stroke-linejoin:miter;stroke-width:0.8;\"/>\n   </g>\n  </g>\n </g>\n <defs>\n  <clipPath id=\"p0b86f25d37\">\n   <rect height=\"135.9\" width=\"195.3\" x=\"28.942188\" y=\"7.2\"/>\n  </clipPath>\n </defs>\n</svg>\n"
          },
          "metadata": {
            "needs_background": "light"
          }
        }
      ]
    },
    {
      "cell_type": "code",
      "metadata": {
        "colab": {
          "base_uri": "https://localhost:8080/"
        },
        "id": "HccgUNDKFePc",
        "outputId": "f4443703-435b-4f58-852d-bda06a6008af"
      },
      "source": [
        "def data_iter(batch_size, features, labels):\n",
        "  '''\n",
        "    Yields minibatches of the size batch_size. Each minibatch\n",
        "    is a tuple of features and labels\n",
        "  '''\n",
        "  num_examples = len(features)\n",
        "  indices = list(range(num_examples))\n",
        "\n",
        "  random.shuffle(indices)\n",
        "  for i in range(0, num_examples, batch_size):\n",
        "    j = tf.constant(indices[i:min(i+batch_size, num_examples)])\n",
        "    yield tf.gather(features, j), tf.gather(labels, j)\n",
        "\n",
        "\n",
        "batch_size = 13\n",
        "\n",
        "for X,y in data_iter(batch_size, features, labels):\n",
        "  print(X, '\\n', y)\n",
        "  break"
      ],
      "execution_count": null,
      "outputs": [
        {
          "output_type": "stream",
          "name": "stdout",
          "text": [
            "tf.Tensor(\n",
            "[[-1.515911   -0.30509022]\n",
            " [ 0.13607341  0.8677985 ]\n",
            " [-0.20826751  0.16241933]\n",
            " [ 1.1370695  -0.49236077]\n",
            " [ 2.183293   -0.7666597 ]\n",
            " [ 2.9004107   1.3445992 ]\n",
            " [ 1.0641233   0.5997038 ]\n",
            " [-0.32943532  1.4770015 ]\n",
            " [ 0.09525593 -0.44388247]\n",
            " [-1.7740146  -0.739555  ]\n",
            " [-0.46486732  0.823141  ]\n",
            " [-0.02959703 -0.89119095]\n",
            " [ 1.9331142   0.49700865]], shape=(13, 2), dtype=float32) \n",
            " tf.Tensor(\n",
            "[[ 2.2061987 ]\n",
            " [ 1.5194178 ]\n",
            " [ 3.2452219 ]\n",
            " [ 8.137061  ]\n",
            " [11.16216   ]\n",
            " [ 5.4153175 ]\n",
            " [ 4.2780704 ]\n",
            " [-1.4735339 ]\n",
            " [ 5.894245  ]\n",
            " [ 3.1793504 ]\n",
            " [ 0.47407767]\n",
            " [ 7.1687684 ]\n",
            " [ 6.3733597 ]], shape=(13, 1), dtype=float32)\n"
          ]
        }
      ]
    },
    {
      "cell_type": "code",
      "metadata": {
        "id": "VbA4gr3yZ4SO"
      },
      "source": [
        "### Initialize Model Parameters\n",
        "w = tf.Variable(tf.random.normal(shape=(2,1), mean=0, stddev=.01), trainable=True)\n",
        "b = tf.Variable(tf.zeros(1), trainable=True)\n",
        "\n",
        "\n",
        "### Defining the Model\n",
        "def linreg(X, w, b):\n",
        "  return tf.matmul(X,w) + b\n",
        "\n",
        "\n",
        "### Defining the Loss Function\n",
        "def squared_loss(y_hat, y):\n",
        "  if (y.shape != y_hat.shape):\n",
        "    print(y.shape)\n",
        "    print(y_hat.shap)\n",
        "  return .5 * (y_hat - tf.reshape(y,y_hat.shape))**2\n",
        "\n",
        "\n",
        "### Defining Optimization Algorithm\n",
        "def sgd(params, grads, lr, batch_size):\n",
        "  for param, grad in zip(params, grads):\n",
        "    param.assign_sub(lr * grad / batch_size)\n"
      ],
      "execution_count": null,
      "outputs": []
    },
    {
      "cell_type": "markdown",
      "metadata": {
        "id": "h1-N4C4GfYeb"
      },
      "source": [
        "### Training\n",
        "\n",
        "- each iteration:\n",
        "  - grab minibatch of training examples\n",
        "  - pass through model to obtain a set of predictions\n",
        "  - calculate loss\n",
        "  - backwards pass through network:\n",
        "    - storing gradients with respect to each parameter\n",
        "    - use **stochastic gradient descent** to update model parameters\n",
        "\n",
        "- gradient computation:\n",
        "\n",
        "$$\n",
        "\\mathbf{g} \\gets \\partial{}_{\\mathbf{w}, b} \\frac{1}{|\\mathcal{B}|} \\sum_{i \\in \\mathcal{B}} loss \n",
        "$$\n",
        "\n",
        "Each **epoch**: iterate through entire dataset"
      ]
    },
    {
      "cell_type": "code",
      "metadata": {
        "colab": {
          "base_uri": "https://localhost:8080/"
        },
        "id": "gvvTIjmxgabw",
        "outputId": "683649b9-8a11-43f3-c771-ec3622095507"
      },
      "source": [
        "# Learning rate\n",
        "lr = .03\n",
        "num_epochs = 3\n",
        "net = linreg\n",
        "loss = squared_loss\n",
        "\n",
        "# Iterate 'num_epochs' times through dataset\n",
        "for epoch in range(num_epochs):\n",
        "  for X, y in data_iter(batch_size, features, labels):\n",
        "    with tf.GradientTape() as g:\n",
        "      # Compute loss\n",
        "      l = loss(net(X,w,b), y)\n",
        "\n",
        "    # Compute gradient with respect to weights and bias\n",
        "    dw, db = g.gradient(l, [w,b])\n",
        "\n",
        "    # Make gradient descent step\n",
        "    sgd([w,b], [dw, db], lr, batch_size)\n",
        "\n",
        "  train_l = loss(net(features, w, b), labels)\n",
        "  print(f'Epoch {epoch + 1}, loss {float(tf.reduce_mean(train_l)):f}')"
      ],
      "execution_count": null,
      "outputs": [
        {
          "output_type": "stream",
          "name": "stdout",
          "text": [
            "Epoch 1, loss 0.135094\n",
            "Epoch 2, loss 0.001147\n",
            "Epoch 3, loss 0.000059\n"
          ]
        }
      ]
    },
    {
      "cell_type": "code",
      "metadata": {
        "colab": {
          "base_uri": "https://localhost:8080/"
        },
        "id": "pRECdiCOij7z",
        "outputId": "602890a8-8ceb-4103-f8b5-4ad037f1108f"
      },
      "source": [
        "# Use trained model to compare learned weights with original weights\n",
        "print(f'Error in estimating w: {true_w - tf.reshape(w, true_w.shape)}')\n",
        "print(f'Error in estimating b: {true_b - b}')"
      ],
      "execution_count": null,
      "outputs": [
        {
          "output_type": "stream",
          "name": "stdout",
          "text": [
            "Error in estimating w: [ 0.00208986 -0.0012095 ]\n",
            "Error in estimating b: [0.0032196]\n"
          ]
        }
      ]
    },
    {
      "cell_type": "code",
      "metadata": {
        "colab": {
          "base_uri": "https://localhost:8080/"
        },
        "id": "_lVuei2JzkQl",
        "outputId": "e9767438-2764-4205-f469-35072620bdfc"
      },
      "source": [
        "!pip list"
      ],
      "execution_count": null,
      "outputs": [
        {
          "output_type": "stream",
          "name": "stdout",
          "text": [
            "Package                       Version\n",
            "----------------------------- --------------\n",
            "absl-py                       0.12.0\n",
            "alabaster                     0.7.12\n",
            "albumentations                0.1.12\n",
            "altair                        4.1.0\n",
            "appdirs                       1.4.4\n",
            "argcomplete                   1.12.3\n",
            "argon2-cffi                   21.1.0\n",
            "arviz                         0.11.4\n",
            "astor                         0.8.1\n",
            "astropy                       4.3.1\n",
            "astunparse                    1.6.3\n",
            "atari-py                      0.2.9\n",
            "atomicwrites                  1.4.0\n",
            "attrs                         21.2.0\n",
            "audioread                     2.1.9\n",
            "autograd                      1.3\n",
            "Babel                         2.9.1\n",
            "backcall                      0.2.0\n",
            "beautifulsoup4                4.6.3\n",
            "bleach                        4.1.0\n",
            "blis                          0.4.1\n",
            "bokeh                         2.3.3\n",
            "Bottleneck                    1.3.2\n",
            "branca                        0.4.2\n",
            "bs4                           0.0.1\n",
            "CacheControl                  0.12.6\n",
            "cached-property               1.5.2\n",
            "cachetools                    4.2.4\n",
            "catalogue                     1.0.0\n",
            "certifi                       2021.5.30\n",
            "cffi                          1.14.6\n",
            "cftime                        1.5.1\n",
            "chardet                       3.0.4\n",
            "charset-normalizer            2.0.6\n",
            "clang                         5.0\n",
            "click                         7.1.2\n",
            "cloudpickle                   1.3.0\n",
            "cmake                         3.12.0\n",
            "cmdstanpy                     0.9.5\n",
            "colorcet                      2.0.6\n",
            "colorlover                    0.3.0\n",
            "community                     1.0.0b1\n",
            "contextlib2                   0.5.5\n",
            "convertdate                   2.3.2\n",
            "coverage                      3.7.1\n",
            "coveralls                     0.5\n",
            "crcmod                        1.7\n",
            "cufflinks                     0.17.3\n",
            "cvxopt                        1.2.7\n",
            "cvxpy                         1.0.31\n",
            "cycler                        0.10.0\n",
            "cymem                         2.0.5\n",
            "Cython                        0.29.24\n",
            "daft                          0.0.4\n",
            "dask                          2.12.0\n",
            "datascience                   0.10.6\n",
            "debugpy                       1.0.0\n",
            "decorator                     4.4.2\n",
            "defusedxml                    0.7.1\n",
            "descartes                     1.1.0\n",
            "dill                          0.3.4\n",
            "distributed                   1.25.3\n",
            "dlib                          19.18.0\n",
            "dm-tree                       0.1.6\n",
            "docopt                        0.6.2\n",
            "docutils                      0.17.1\n",
            "dopamine-rl                   1.0.5\n",
            "earthengine-api               0.1.284\n",
            "easydict                      1.9\n",
            "ecos                          2.0.7.post1\n",
            "editdistance                  0.5.3\n",
            "en-core-web-sm                2.2.5\n",
            "entrypoints                   0.3\n",
            "ephem                         4.1\n",
            "et-xmlfile                    1.1.0\n",
            "fa2                           0.3.5\n",
            "fastai                        1.0.61\n",
            "fastdtw                       0.3.4\n",
            "fastprogress                  1.0.0\n",
            "fastrlock                     0.6\n",
            "fbprophet                     0.7.1\n",
            "feather-format                0.4.1\n",
            "filelock                      3.3.0\n",
            "firebase-admin                4.4.0\n",
            "fix-yahoo-finance             0.0.22\n",
            "Flask                         1.1.4\n",
            "flatbuffers                   1.12\n",
            "folium                        0.8.3\n",
            "future                        0.16.0\n",
            "gast                          0.4.0\n",
            "GDAL                          2.2.2\n",
            "gdown                         3.6.4\n",
            "gensim                        3.6.0\n",
            "geographiclib                 1.52\n",
            "geopy                         1.17.0\n",
            "gin-config                    0.4.0\n",
            "glob2                         0.7\n",
            "google                        2.0.3\n",
            "google-api-core               1.26.3\n",
            "google-api-python-client      1.12.8\n",
            "google-auth                   1.35.0\n",
            "google-auth-httplib2          0.0.4\n",
            "google-auth-oauthlib          0.4.6\n",
            "google-cloud-bigquery         1.21.0\n",
            "google-cloud-bigquery-storage 1.1.0\n",
            "google-cloud-core             1.0.3\n",
            "google-cloud-datastore        1.8.0\n",
            "google-cloud-firestore        1.7.0\n",
            "google-cloud-language         1.2.0\n",
            "google-cloud-storage          1.18.1\n",
            "google-cloud-translate        1.5.0\n",
            "google-colab                  1.0.0\n",
            "google-pasta                  0.2.0\n",
            "google-resumable-media        0.4.1\n",
            "googleapis-common-protos      1.53.0\n",
            "googledrivedownloader         0.4\n",
            "graphviz                      0.10.1\n",
            "greenlet                      1.1.2\n",
            "grpcio                        1.41.0\n",
            "gspread                       3.0.1\n",
            "gspread-dataframe             3.0.8\n",
            "gym                           0.17.3\n",
            "h5py                          3.1.0\n",
            "HeapDict                      1.0.1\n",
            "hijri-converter               2.2.2\n",
            "holidays                      0.10.5.2\n",
            "holoviews                     1.14.6\n",
            "html5lib                      1.0.1\n",
            "httpimport                    0.5.18\n",
            "httplib2                      0.17.4\n",
            "httplib2shim                  0.0.3\n",
            "humanize                      0.5.1\n",
            "hyperopt                      0.1.2\n",
            "ideep4py                      2.0.0.post3\n",
            "idna                          2.10\n",
            "imageio                       2.4.1\n",
            "imagesize                     1.2.0\n",
            "imbalanced-learn              0.4.3\n",
            "imblearn                      0.0\n",
            "imgaug                        0.2.9\n",
            "importlib-metadata            4.8.1\n",
            "importlib-resources           5.2.2\n",
            "imutils                       0.5.4\n",
            "inflect                       2.1.0\n",
            "iniconfig                     1.1.1\n",
            "intel-openmp                  2021.4.0\n",
            "intervaltree                  2.1.0\n",
            "ipykernel                     4.10.1\n",
            "ipython                       5.5.0\n",
            "ipython-genutils              0.2.0\n",
            "ipython-sql                   0.3.9\n",
            "ipywidgets                    7.6.5\n",
            "itsdangerous                  1.1.0\n",
            "jax                           0.2.21\n",
            "jaxlib                        0.1.71+cuda111\n",
            "jdcal                         1.4.1\n",
            "jedi                          0.18.0\n",
            "jieba                         0.42.1\n",
            "Jinja2                        2.11.3\n",
            "joblib                        1.0.1\n",
            "jpeg4py                       0.1.4\n",
            "jsonschema                    2.6.0\n",
            "jupyter                       1.0.0\n",
            "jupyter-client                5.3.5\n",
            "jupyter-console               5.2.0\n",
            "jupyter-core                  4.8.1\n",
            "jupyterlab-pygments           0.1.2\n",
            "jupyterlab-widgets            1.0.2\n",
            "kaggle                        1.5.12\n",
            "kapre                         0.3.5\n",
            "keras                         2.6.0\n",
            "Keras-Preprocessing           1.1.2\n",
            "keras-vis                     0.4.1\n",
            "kiwisolver                    1.3.2\n",
            "korean-lunar-calendar         0.2.1\n",
            "librosa                       0.8.1\n",
            "lightgbm                      2.2.3\n",
            "llvmlite                      0.34.0\n",
            "lmdb                          0.99\n",
            "LunarCalendar                 0.0.9\n",
            "lxml                          4.2.6\n",
            "Markdown                      3.3.4\n",
            "MarkupSafe                    2.0.1\n",
            "matplotlib                    3.2.2\n",
            "matplotlib-inline             0.1.3\n",
            "matplotlib-venn               0.11.6\n",
            "missingno                     0.5.0\n",
            "mistune                       0.8.4\n",
            "mizani                        0.6.0\n",
            "mkl                           2019.0\n",
            "mlxtend                       0.14.0\n",
            "more-itertools                8.10.0\n",
            "moviepy                       0.2.3.5\n",
            "mpmath                        1.2.1\n",
            "msgpack                       1.0.2\n",
            "multiprocess                  0.70.12.2\n",
            "multitasking                  0.0.9\n",
            "murmurhash                    1.0.5\n",
            "music21                       5.5.0\n",
            "natsort                       5.5.0\n",
            "nbclient                      0.5.4\n",
            "nbconvert                     5.6.1\n",
            "nbformat                      5.1.3\n",
            "nest-asyncio                  1.5.1\n",
            "netCDF4                       1.5.7\n",
            "networkx                      2.6.3\n",
            "nibabel                       3.0.2\n",
            "nltk                          3.2.5\n",
            "notebook                      5.3.1\n",
            "numba                         0.51.2\n",
            "numexpr                       2.7.3\n",
            "numpy                         1.19.5\n",
            "nvidia-ml-py3                 7.352.0\n",
            "oauth2client                  4.1.3\n",
            "oauthlib                      3.1.1\n",
            "okgrade                       0.4.3\n",
            "opencv-contrib-python         4.1.2.30\n",
            "opencv-python                 4.1.2.30\n",
            "openpyxl                      2.5.9\n",
            "opt-einsum                    3.3.0\n",
            "osqp                          0.6.2.post0\n",
            "packaging                     21.0\n",
            "palettable                    3.3.0\n",
            "pandas                        1.1.5\n",
            "pandas-datareader             0.9.0\n",
            "pandas-gbq                    0.13.3\n",
            "pandas-profiling              1.4.1\n",
            "pandocfilters                 1.5.0\n",
            "panel                         0.12.1\n",
            "param                         1.11.1\n",
            "parso                         0.8.2\n",
            "pathlib                       1.0.1\n",
            "patsy                         0.5.2\n",
            "pep517                        0.11.0\n",
            "pexpect                       4.8.0\n",
            "pickleshare                   0.7.5\n",
            "Pillow                        7.1.2\n",
            "pip                           21.1.3\n",
            "pip-tools                     6.2.0\n",
            "plac                          1.1.3\n",
            "plotly                        4.4.1\n",
            "plotnine                      0.6.0\n",
            "pluggy                        0.7.1\n",
            "pooch                         1.5.1\n",
            "portpicker                    1.3.9\n",
            "prefetch-generator            1.0.1\n",
            "preshed                       3.0.5\n",
            "prettytable                   2.2.1\n",
            "progressbar2                  3.38.0\n",
            "prometheus-client             0.11.0\n",
            "promise                       2.3\n",
            "prompt-toolkit                1.0.18\n",
            "protobuf                      3.17.3\n",
            "psutil                        5.4.8\n",
            "psycopg2                      2.7.6.1\n",
            "ptyprocess                    0.7.0\n",
            "py                            1.10.0\n",
            "pyarrow                       3.0.0\n",
            "pyasn1                        0.4.8\n",
            "pyasn1-modules                0.2.8\n",
            "pycocotools                   2.0.2\n",
            "pycparser                     2.20\n",
            "pyct                          0.4.8\n",
            "pydata-google-auth            1.2.0\n",
            "pydot                         1.3.0\n",
            "pydot-ng                      2.0.0\n",
            "pydotplus                     2.0.2\n",
            "PyDrive                       1.3.1\n",
            "pyemd                         0.5.1\n",
            "pyerfa                        2.0.0\n",
            "pyglet                        1.5.0\n",
            "Pygments                      2.6.1\n",
            "pygobject                     3.26.1\n",
            "pymc3                         3.11.4\n",
            "PyMeeus                       0.5.11\n",
            "pymongo                       3.12.0\n",
            "pymystem3                     0.2.0\n",
            "PyOpenGL                      3.1.5\n",
            "pyparsing                     2.4.7\n",
            "pyrsistent                    0.18.0\n",
            "pysndfile                     1.3.8\n",
            "PySocks                       1.7.1\n",
            "pystan                        2.19.1.1\n",
            "pytest                        3.6.4\n",
            "python-apt                    0.0.0\n",
            "python-chess                  0.23.11\n",
            "python-dateutil               2.8.2\n",
            "python-louvain                0.15\n",
            "python-slugify                5.0.2\n",
            "python-utils                  2.5.6\n",
            "pytz                          2018.9\n",
            "pyviz-comms                   2.1.0\n",
            "PyWavelets                    1.1.1\n",
            "PyYAML                        3.13\n",
            "pyzmq                         22.3.0\n",
            "qdldl                         0.1.5.post0\n",
            "qtconsole                     5.1.1\n",
            "QtPy                          1.11.2\n",
            "regex                         2019.12.20\n",
            "requests                      2.23.0\n",
            "requests-oauthlib             1.3.0\n",
            "resampy                       0.2.2\n",
            "retrying                      1.3.3\n",
            "rpy2                          3.4.5\n",
            "rsa                           4.7.2\n",
            "scikit-image                  0.16.2\n",
            "scikit-learn                  0.22.2.post1\n",
            "scipy                         1.4.1\n",
            "screen-resolution-extra       0.0.0\n",
            "scs                           2.1.4\n",
            "seaborn                       0.11.2\n",
            "semver                        2.13.0\n",
            "Send2Trash                    1.8.0\n",
            "setuptools                    57.4.0\n",
            "setuptools-git                1.2\n",
            "Shapely                       1.7.1\n",
            "simplegeneric                 0.8.1\n",
            "six                           1.15.0\n",
            "sklearn                       0.0\n",
            "sklearn-pandas                1.8.0\n",
            "smart-open                    5.2.1\n",
            "snowballstemmer               2.1.0\n",
            "sortedcontainers              2.4.0\n",
            "SoundFile                     0.10.3.post1\n",
            "spacy                         2.2.4\n",
            "Sphinx                        1.8.5\n",
            "sphinxcontrib-serializinghtml 1.1.5\n",
            "sphinxcontrib-websupport      1.2.4\n",
            "SQLAlchemy                    1.4.25\n",
            "sqlparse                      0.4.2\n",
            "srsly                         1.0.5\n",
            "statsmodels                   0.10.2\n",
            "sympy                         1.7.1\n",
            "tables                        3.4.4\n",
            "tabulate                      0.8.9\n",
            "tblib                         1.7.0\n",
            "tensorboard                   2.6.0\n",
            "tensorboard-data-server       0.6.1\n",
            "tensorboard-plugin-wit        1.8.0\n",
            "tensorflow                    2.6.0\n",
            "tensorflow-datasets           4.0.1\n",
            "tensorflow-estimator          2.6.0\n",
            "tensorflow-gcs-config         2.6.0\n",
            "tensorflow-hub                0.12.0\n",
            "tensorflow-metadata           1.2.0\n",
            "tensorflow-probability        0.14.1\n",
            "termcolor                     1.1.0\n",
            "terminado                     0.12.1\n",
            "testpath                      0.5.0\n",
            "text-unidecode                1.3\n",
            "textblob                      0.15.3\n",
            "Theano-PyMC                   1.1.2\n",
            "thinc                         7.4.0\n",
            "tifffile                      2021.8.30\n",
            "toml                          0.10.2\n",
            "tomli                         1.2.1\n",
            "toolz                         0.11.1\n",
            "torch                         1.9.0+cu111\n",
            "torchsummary                  1.5.1\n",
            "torchtext                     0.10.0\n",
            "torchvision                   0.10.0+cu111\n",
            "tornado                       5.1.1\n",
            "tqdm                          4.62.3\n",
            "traitlets                     5.1.0\n",
            "tweepy                        3.10.0\n",
            "typeguard                     2.7.1\n",
            "typing-extensions             3.7.4.3\n",
            "tzlocal                       1.5.1\n",
            "uritemplate                   3.0.1\n",
            "urllib3                       1.24.3\n",
            "vega-datasets                 0.9.0\n",
            "wasabi                        0.8.2\n",
            "wcwidth                       0.2.5\n",
            "webencodings                  0.5.1\n",
            "Werkzeug                      1.0.1\n",
            "wheel                         0.37.0\n",
            "widgetsnbextension            3.5.1\n",
            "wordcloud                     1.5.0\n",
            "wrapt                         1.12.1\n",
            "xarray                        0.18.2\n",
            "xgboost                       0.90\n",
            "xkit                          0.0.0\n",
            "xlrd                          1.1.0\n",
            "xlwt                          1.3.0\n",
            "yellowbrick                   0.9.1\n",
            "zict                          2.0.0\n",
            "zipp                          3.6.0\n"
          ]
        }
      ]
    },
    {
      "cell_type": "code",
      "metadata": {
        "colab": {
          "base_uri": "https://localhost:8080/"
        },
        "id": "JQ7YOKwy2xEz",
        "outputId": "ee33684e-bcb9-4b84-bf7d-e82764b30ccd"
      },
      "source": [
        "## 3.3 Concise Implementation of Linear Regression\n",
        "\n",
        "!pip install d2l\n",
        "\n",
        "import numpy as np\n",
        "import tensorflow as tf\n",
        "from d2l import tensorflow as d2l\n",
        "\n",
        "true_w = tf.constant([2, -3.4])\n",
        "true_b = 4.2\n",
        "features, labels = d2l.synthetic_data(true_w, true_b, 1000)\n",
        "\n",
        "# Loading data with batch size\n",
        "def load_array(data_arrays, batch_size, is_train=True):\n",
        "  dataset = tf.data.Dataset.from_tensor_slices(data_arrays)\n",
        "  if is_train:\n",
        "    dataset = dataset.shuffle(buffer_size=1000)\n",
        "  dataset = dataset.batch(batch_size)\n",
        "  return dataset\n",
        "\n",
        "\n",
        "batch_size = 10\n",
        "data_iter = load_array((features, labels), batch_size)\n",
        "\n"
      ],
      "execution_count": null,
      "outputs": [
        {
          "output_type": "stream",
          "name": "stdout",
          "text": [
            "Requirement already satisfied: d2l in /usr/local/lib/python3.7/dist-packages (0.17.0)\n",
            "Requirement already satisfied: numpy in /usr/local/lib/python3.7/dist-packages (from d2l) (1.19.5)\n",
            "Requirement already satisfied: pandas in /usr/local/lib/python3.7/dist-packages (from d2l) (1.1.5)\n",
            "Requirement already satisfied: requests in /usr/local/lib/python3.7/dist-packages (from d2l) (2.23.0)\n",
            "Requirement already satisfied: matplotlib in /usr/local/lib/python3.7/dist-packages (from d2l) (3.2.2)\n",
            "Requirement already satisfied: jupyter in /usr/local/lib/python3.7/dist-packages (from d2l) (1.0.0)\n",
            "Requirement already satisfied: qtconsole in /usr/local/lib/python3.7/dist-packages (from jupyter->d2l) (5.1.1)\n",
            "Requirement already satisfied: nbconvert in /usr/local/lib/python3.7/dist-packages (from jupyter->d2l) (5.6.1)\n",
            "Requirement already satisfied: notebook in /usr/local/lib/python3.7/dist-packages (from jupyter->d2l) (5.3.1)\n",
            "Requirement already satisfied: ipykernel in /usr/local/lib/python3.7/dist-packages (from jupyter->d2l) (4.10.1)\n",
            "Requirement already satisfied: jupyter-console in /usr/local/lib/python3.7/dist-packages (from jupyter->d2l) (5.2.0)\n",
            "Requirement already satisfied: ipywidgets in /usr/local/lib/python3.7/dist-packages (from jupyter->d2l) (7.6.5)\n",
            "Requirement already satisfied: tornado>=4.0 in /usr/local/lib/python3.7/dist-packages (from ipykernel->jupyter->d2l) (5.1.1)\n",
            "Requirement already satisfied: traitlets>=4.1.0 in /usr/local/lib/python3.7/dist-packages (from ipykernel->jupyter->d2l) (5.1.0)\n",
            "Requirement already satisfied: jupyter-client in /usr/local/lib/python3.7/dist-packages (from ipykernel->jupyter->d2l) (5.3.5)\n",
            "Requirement already satisfied: ipython>=4.0.0 in /usr/local/lib/python3.7/dist-packages (from ipykernel->jupyter->d2l) (5.5.0)\n",
            "Requirement already satisfied: setuptools>=18.5 in /usr/local/lib/python3.7/dist-packages (from ipython>=4.0.0->ipykernel->jupyter->d2l) (57.4.0)\n",
            "Requirement already satisfied: decorator in /usr/local/lib/python3.7/dist-packages (from ipython>=4.0.0->ipykernel->jupyter->d2l) (4.4.2)\n",
            "Requirement already satisfied: simplegeneric>0.8 in /usr/local/lib/python3.7/dist-packages (from ipython>=4.0.0->ipykernel->jupyter->d2l) (0.8.1)\n",
            "Requirement already satisfied: prompt-toolkit<2.0.0,>=1.0.4 in /usr/local/lib/python3.7/dist-packages (from ipython>=4.0.0->ipykernel->jupyter->d2l) (1.0.18)\n",
            "Requirement already satisfied: pickleshare in /usr/local/lib/python3.7/dist-packages (from ipython>=4.0.0->ipykernel->jupyter->d2l) (0.7.5)\n",
            "Requirement already satisfied: pexpect in /usr/local/lib/python3.7/dist-packages (from ipython>=4.0.0->ipykernel->jupyter->d2l) (4.8.0)\n",
            "Requirement already satisfied: pygments in /usr/local/lib/python3.7/dist-packages (from ipython>=4.0.0->ipykernel->jupyter->d2l) (2.6.1)\n",
            "Requirement already satisfied: six>=1.9.0 in /usr/local/lib/python3.7/dist-packages (from prompt-toolkit<2.0.0,>=1.0.4->ipython>=4.0.0->ipykernel->jupyter->d2l) (1.15.0)\n",
            "Requirement already satisfied: wcwidth in /usr/local/lib/python3.7/dist-packages (from prompt-toolkit<2.0.0,>=1.0.4->ipython>=4.0.0->ipykernel->jupyter->d2l) (0.2.5)\n",
            "Requirement already satisfied: widgetsnbextension~=3.5.0 in /usr/local/lib/python3.7/dist-packages (from ipywidgets->jupyter->d2l) (3.5.1)\n",
            "Requirement already satisfied: jupyterlab-widgets>=1.0.0 in /usr/local/lib/python3.7/dist-packages (from ipywidgets->jupyter->d2l) (1.0.2)\n",
            "Requirement already satisfied: nbformat>=4.2.0 in /usr/local/lib/python3.7/dist-packages (from ipywidgets->jupyter->d2l) (5.1.3)\n",
            "Requirement already satisfied: ipython-genutils~=0.2.0 in /usr/local/lib/python3.7/dist-packages (from ipywidgets->jupyter->d2l) (0.2.0)\n",
            "Requirement already satisfied: jupyter-core in /usr/local/lib/python3.7/dist-packages (from nbformat>=4.2.0->ipywidgets->jupyter->d2l) (4.8.1)\n",
            "Requirement already satisfied: jsonschema!=2.5.0,>=2.4 in /usr/local/lib/python3.7/dist-packages (from nbformat>=4.2.0->ipywidgets->jupyter->d2l) (2.6.0)\n",
            "Requirement already satisfied: Send2Trash in /usr/local/lib/python3.7/dist-packages (from notebook->jupyter->d2l) (1.8.0)\n",
            "Requirement already satisfied: jinja2 in /usr/local/lib/python3.7/dist-packages (from notebook->jupyter->d2l) (2.11.3)\n",
            "Requirement already satisfied: terminado>=0.8.1 in /usr/local/lib/python3.7/dist-packages (from notebook->jupyter->d2l) (0.12.1)\n",
            "Requirement already satisfied: python-dateutil>=2.1 in /usr/local/lib/python3.7/dist-packages (from jupyter-client->ipykernel->jupyter->d2l) (2.8.2)\n",
            "Requirement already satisfied: pyzmq>=13 in /usr/local/lib/python3.7/dist-packages (from jupyter-client->ipykernel->jupyter->d2l) (22.3.0)\n",
            "Requirement already satisfied: ptyprocess in /usr/local/lib/python3.7/dist-packages (from terminado>=0.8.1->notebook->jupyter->d2l) (0.7.0)\n",
            "Requirement already satisfied: MarkupSafe>=0.23 in /usr/local/lib/python3.7/dist-packages (from jinja2->notebook->jupyter->d2l) (2.0.1)\n",
            "Requirement already satisfied: kiwisolver>=1.0.1 in /usr/local/lib/python3.7/dist-packages (from matplotlib->d2l) (1.3.2)\n",
            "Requirement already satisfied: cycler>=0.10 in /usr/local/lib/python3.7/dist-packages (from matplotlib->d2l) (0.10.0)\n",
            "Requirement already satisfied: pyparsing!=2.0.4,!=2.1.2,!=2.1.6,>=2.0.1 in /usr/local/lib/python3.7/dist-packages (from matplotlib->d2l) (2.4.7)\n",
            "Requirement already satisfied: mistune<2,>=0.8.1 in /usr/local/lib/python3.7/dist-packages (from nbconvert->jupyter->d2l) (0.8.4)\n",
            "Requirement already satisfied: testpath in /usr/local/lib/python3.7/dist-packages (from nbconvert->jupyter->d2l) (0.5.0)\n",
            "Requirement already satisfied: pandocfilters>=1.4.1 in /usr/local/lib/python3.7/dist-packages (from nbconvert->jupyter->d2l) (1.5.0)\n",
            "Requirement already satisfied: defusedxml in /usr/local/lib/python3.7/dist-packages (from nbconvert->jupyter->d2l) (0.7.1)\n",
            "Requirement already satisfied: entrypoints>=0.2.2 in /usr/local/lib/python3.7/dist-packages (from nbconvert->jupyter->d2l) (0.3)\n",
            "Requirement already satisfied: bleach in /usr/local/lib/python3.7/dist-packages (from nbconvert->jupyter->d2l) (4.1.0)\n",
            "Requirement already satisfied: packaging in /usr/local/lib/python3.7/dist-packages (from bleach->nbconvert->jupyter->d2l) (21.0)\n",
            "Requirement already satisfied: webencodings in /usr/local/lib/python3.7/dist-packages (from bleach->nbconvert->jupyter->d2l) (0.5.1)\n",
            "Requirement already satisfied: pytz>=2017.2 in /usr/local/lib/python3.7/dist-packages (from pandas->d2l) (2018.9)\n",
            "Requirement already satisfied: qtpy in /usr/local/lib/python3.7/dist-packages (from qtconsole->jupyter->d2l) (1.11.2)\n",
            "Requirement already satisfied: urllib3!=1.25.0,!=1.25.1,<1.26,>=1.21.1 in /usr/local/lib/python3.7/dist-packages (from requests->d2l) (1.24.3)\n",
            "Requirement already satisfied: certifi>=2017.4.17 in /usr/local/lib/python3.7/dist-packages (from requests->d2l) (2021.5.30)\n",
            "Requirement already satisfied: chardet<4,>=3.0.2 in /usr/local/lib/python3.7/dist-packages (from requests->d2l) (3.0.4)\n",
            "Requirement already satisfied: idna<3,>=2.5 in /usr/local/lib/python3.7/dist-packages (from requests->d2l) (2.10)\n",
            "<BatchDataset shapes: ((None, 2), (None, 1)), types: (tf.float32, tf.float32)>\n"
          ]
        }
      ]
    },
    {
      "cell_type": "code",
      "metadata": {
        "colab": {
          "base_uri": "https://localhost:8080/"
        },
        "id": "LQ_neY8N48SO",
        "outputId": "e6c8a177-21d7-43b5-c602-8c9314dbb08f"
      },
      "source": [
        "next(iter(data_iter))"
      ],
      "execution_count": null,
      "outputs": [
        {
          "output_type": "execute_result",
          "data": {
            "text/plain": [
              "(<tf.Tensor: shape=(10, 2), dtype=float32, numpy=\n",
              " array([[-0.16457567,  0.31776628],\n",
              "        [-0.5222442 ,  1.7461387 ],\n",
              "        [-0.538058  ,  0.95172197],\n",
              "        [ 0.16523379, -0.4295269 ],\n",
              "        [-1.8007338 , -0.42857102],\n",
              "        [ 1.1146723 ,  0.69201326],\n",
              "        [-0.31180868,  0.93335783],\n",
              "        [-0.49712104,  0.53845054],\n",
              "        [-0.28231272,  0.3480117 ],\n",
              "        [-1.2509508 ,  1.7886525 ]], dtype=float32)>,\n",
              " <tf.Tensor: shape=(10, 1), dtype=float32, numpy=\n",
              " array([[ 2.8176742 ],\n",
              "        [-2.7861326 ],\n",
              "        [-0.1186237 ],\n",
              "        [ 5.9924364 ],\n",
              "        [ 2.0377796 ],\n",
              "        [ 4.0665436 ],\n",
              "        [ 0.41025537],\n",
              "        [ 1.3717076 ],\n",
              "        [ 2.451804  ],\n",
              "        [-4.3917985 ]], dtype=float32)>)"
            ]
          },
          "metadata": {},
          "execution_count": 4
        }
      ]
    },
    {
      "cell_type": "code",
      "metadata": {
        "id": "nxJlM0K65CFJ"
      },
      "source": [
        "### Defining the Model\n",
        "\n",
        "net = tf.keras.Sequential()\n",
        "net.add(tf.keras.layers.Dense(1))"
      ],
      "execution_count": null,
      "outputs": []
    },
    {
      "cell_type": "code",
      "metadata": {
        "colab": {
          "base_uri": "https://localhost:8080/"
        },
        "id": "Hc-7jh6AAUbv",
        "outputId": "dbfe9eaf-148b-4ab3-d2b6-a80936ba31e0"
      },
      "source": [
        "### Init model parameters\n",
        "\n",
        "initializer = tf.initializers.RandomNormal(stddev=.01)\n",
        "net = tf.keras.Sequential()\n",
        "net.add(tf.keras.layers.Dense(1, kernel_initializer=initializer))\n",
        "\n",
        "\n",
        "### Defining loss\n",
        "loss = tf.keras.losses.MeanSquaredError()\n",
        "\n",
        "### Defining the Optimization Algorithm\n",
        "trainer = tf.keras.optimizers.SGD(learning_rate=.03)\n",
        "\n",
        "### Training\n",
        "num_epochs = 8\n",
        "for epoch in range(num_epochs):\n",
        "  for X,y in data_iter:\n",
        "    with tf.GradientTape() as tape:\n",
        "      # Run prediction\n",
        "      l = loss(net(X, training=True), y)\n",
        "\n",
        "    # Compute gradient\n",
        "    grads = tape.gradient(l, net.trainable_variables)\n",
        "    trainer.apply_gradients(zip(grads, net.trainable_variables))\n",
        "  l = loss(net(features), labels)\n",
        "  print(f'Epoch {epoch + 1}, loss {l:f}')\n",
        "\n",
        "\n",
        "# Compare weights with true values\n",
        "w = net.get_weights()[0]\n",
        "b = net.get_weights()[1]\n",
        "print(true_w - tf.reshape(w, true_w.shape))\n",
        "print(true_b - b)"
      ],
      "execution_count": null,
      "outputs": [
        {
          "output_type": "stream",
          "name": "stdout",
          "text": [
            "Epoch 1, loss 2.263308\n",
            "Epoch 2, loss 0.299820\n",
            "Epoch 3, loss 0.000577\n",
            "Epoch 4, loss 0.000049\n",
            "Epoch 5, loss 0.000049\n",
            "Epoch 6, loss 0.000049\n",
            "Epoch 7, loss 0.000049\n",
            "Epoch 8, loss 0.000049\n",
            "tf.Tensor([-0.00040293 -0.00010443], shape=(2,), dtype=float32)\n",
            "[-3.33786e-06]\n"
          ]
        }
      ]
    },
    {
      "cell_type": "markdown",
      "metadata": {
        "id": "yfcIO7C42bI0"
      },
      "source": [
        "## 3.4 Softmax Regression\n",
        "\n",
        "- interpret outputs as probabilities\n",
        "\n",
        "$\\hat{y}_j$ := likelihood of output belonging to class $j$\n",
        "\n",
        "- **softmax function**\n",
        "\n",
        "$$\n",
        "\\mathbf{\\hat{y}} = softmax(\\mathbf{o}) \\quad \\text{where} \\quad\n",
        "\\hat{y}_j = \\frac{\\exp{o_j}}{\\sum_{k} \\exp{o_k}}\n",
        "$$\n",
        "\n",
        "- although softmax is nonlinear, outputs of softmax regression are *determined* by an affine transformation of input features\n",
        "\n",
        "\n",
        "#### Minibatch\n",
        "\n",
        "- Assume minibatch $\\mathbf{X} \\in \\mathbb{R}^{n \\times d}$ (number of inputs/features is d and batch size is n)\n",
        "\n",
        "- Assume $q$ categories [outputs]. Then weight matrix is \n",
        "\n",
        "$$\n",
        "  \\mathbf{W} \\in \\mathbb{R}^{d \\times q}, \\\\\n",
        "$$\n",
        "\n",
        "and **bias** vector\n",
        "\n",
        "$$\n",
        "  \\mathbf{b} \\in \\mathbb{R}^{1 \\times q}\n",
        "$$\n",
        "\n",
        "#### Loss function\n",
        "\n",
        "- Softmax gives vector $\\hat{y}$ that can be interpreted as estimated conditional probabilities of each class given input $\\mathbf{x}$, e.g $\\hat{y}_1 = P(y=y_1 | \\mathbf{x})$\n",
        "\n",
        "\n",
        "- **cross-entropy loss**:\n",
        "\n",
        "$$\n",
        "  l(\\mathbf{y}, \\hat{\\mathbf{y}}) = - \\sum_{j=1}^{q} y_j \\log{\\hat{y}_j}\n",
        "$$\n",
        "\n",
        "\n",
        "- cross-entropy from distribution $P$ to $Q$: $H(P,Q)$ is the expected surprisal of an observer with subjective probabilities $Q$ upon seeing data that were actually generated according to probabilities $P$."
      ]
    },
    {
      "cell_type": "code",
      "metadata": {
        "id": "LyR2WCXJ4kGp",
        "colab": {
          "base_uri": "https://localhost:8080/"
        },
        "outputId": "8865f0be-b43f-4e9e-db4d-c39d165ebeac"
      },
      "source": [
        "%matplotlib inline\n",
        "!pip install d2l\n",
        "import tensorflow as tf\n",
        "from d2l import tensorflow as d2l\n",
        "\n",
        "d2l.use_svg_display()"
      ],
      "execution_count": 1,
      "outputs": [
        {
          "output_type": "stream",
          "name": "stdout",
          "text": [
            "Collecting d2l\n",
            "  Downloading d2l-0.17.0-py3-none-any.whl (83 kB)\n",
            "\u001b[?25l\r\u001b[K     |████                            | 10 kB 20.3 MB/s eta 0:00:01\r\u001b[K     |███████▉                        | 20 kB 25.4 MB/s eta 0:00:01\r\u001b[K     |███████████▉                    | 30 kB 28.8 MB/s eta 0:00:01\r\u001b[K     |███████████████▊                | 40 kB 13.9 MB/s eta 0:00:01\r\u001b[K     |███████████████████▊            | 51 kB 6.1 MB/s eta 0:00:01\r\u001b[K     |███████████████████████▋        | 61 kB 5.4 MB/s eta 0:00:01\r\u001b[K     |███████████████████████████▋    | 71 kB 5.8 MB/s eta 0:00:01\r\u001b[K     |███████████████████████████████▌| 81 kB 6.5 MB/s eta 0:00:01\r\u001b[K     |████████████████████████████████| 83 kB 849 kB/s \n",
            "\u001b[?25hRequirement already satisfied: pandas in /usr/local/lib/python3.7/dist-packages (from d2l) (1.1.5)\n",
            "Requirement already satisfied: numpy in /usr/local/lib/python3.7/dist-packages (from d2l) (1.19.5)\n",
            "Requirement already satisfied: requests in /usr/local/lib/python3.7/dist-packages (from d2l) (2.23.0)\n",
            "Requirement already satisfied: jupyter in /usr/local/lib/python3.7/dist-packages (from d2l) (1.0.0)\n",
            "Requirement already satisfied: matplotlib in /usr/local/lib/python3.7/dist-packages (from d2l) (3.2.2)\n",
            "Requirement already satisfied: jupyter-console in /usr/local/lib/python3.7/dist-packages (from jupyter->d2l) (5.2.0)\n",
            "Requirement already satisfied: notebook in /usr/local/lib/python3.7/dist-packages (from jupyter->d2l) (5.3.1)\n",
            "Requirement already satisfied: ipykernel in /usr/local/lib/python3.7/dist-packages (from jupyter->d2l) (4.10.1)\n",
            "Requirement already satisfied: ipywidgets in /usr/local/lib/python3.7/dist-packages (from jupyter->d2l) (7.6.5)\n",
            "Requirement already satisfied: nbconvert in /usr/local/lib/python3.7/dist-packages (from jupyter->d2l) (5.6.1)\n",
            "Requirement already satisfied: qtconsole in /usr/local/lib/python3.7/dist-packages (from jupyter->d2l) (5.1.1)\n",
            "Requirement already satisfied: traitlets>=4.1.0 in /usr/local/lib/python3.7/dist-packages (from ipykernel->jupyter->d2l) (5.1.0)\n",
            "Requirement already satisfied: ipython>=4.0.0 in /usr/local/lib/python3.7/dist-packages (from ipykernel->jupyter->d2l) (5.5.0)\n",
            "Requirement already satisfied: tornado>=4.0 in /usr/local/lib/python3.7/dist-packages (from ipykernel->jupyter->d2l) (5.1.1)\n",
            "Requirement already satisfied: jupyter-client in /usr/local/lib/python3.7/dist-packages (from ipykernel->jupyter->d2l) (5.3.5)\n",
            "Requirement already satisfied: prompt-toolkit<2.0.0,>=1.0.4 in /usr/local/lib/python3.7/dist-packages (from ipython>=4.0.0->ipykernel->jupyter->d2l) (1.0.18)\n",
            "Requirement already satisfied: pickleshare in /usr/local/lib/python3.7/dist-packages (from ipython>=4.0.0->ipykernel->jupyter->d2l) (0.7.5)\n",
            "Requirement already satisfied: simplegeneric>0.8 in /usr/local/lib/python3.7/dist-packages (from ipython>=4.0.0->ipykernel->jupyter->d2l) (0.8.1)\n",
            "Requirement already satisfied: decorator in /usr/local/lib/python3.7/dist-packages (from ipython>=4.0.0->ipykernel->jupyter->d2l) (4.4.2)\n",
            "Requirement already satisfied: setuptools>=18.5 in /usr/local/lib/python3.7/dist-packages (from ipython>=4.0.0->ipykernel->jupyter->d2l) (57.4.0)\n",
            "Requirement already satisfied: pexpect in /usr/local/lib/python3.7/dist-packages (from ipython>=4.0.0->ipykernel->jupyter->d2l) (4.8.0)\n",
            "Requirement already satisfied: pygments in /usr/local/lib/python3.7/dist-packages (from ipython>=4.0.0->ipykernel->jupyter->d2l) (2.6.1)\n",
            "Requirement already satisfied: six>=1.9.0 in /usr/local/lib/python3.7/dist-packages (from prompt-toolkit<2.0.0,>=1.0.4->ipython>=4.0.0->ipykernel->jupyter->d2l) (1.15.0)\n",
            "Requirement already satisfied: wcwidth in /usr/local/lib/python3.7/dist-packages (from prompt-toolkit<2.0.0,>=1.0.4->ipython>=4.0.0->ipykernel->jupyter->d2l) (0.2.5)\n",
            "Requirement already satisfied: nbformat>=4.2.0 in /usr/local/lib/python3.7/dist-packages (from ipywidgets->jupyter->d2l) (5.1.3)\n",
            "Requirement already satisfied: ipython-genutils~=0.2.0 in /usr/local/lib/python3.7/dist-packages (from ipywidgets->jupyter->d2l) (0.2.0)\n",
            "Requirement already satisfied: jupyterlab-widgets>=1.0.0 in /usr/local/lib/python3.7/dist-packages (from ipywidgets->jupyter->d2l) (1.0.2)\n",
            "Requirement already satisfied: widgetsnbextension~=3.5.0 in /usr/local/lib/python3.7/dist-packages (from ipywidgets->jupyter->d2l) (3.5.1)\n",
            "Requirement already satisfied: jupyter-core in /usr/local/lib/python3.7/dist-packages (from nbformat>=4.2.0->ipywidgets->jupyter->d2l) (4.8.1)\n",
            "Requirement already satisfied: jsonschema!=2.5.0,>=2.4 in /usr/local/lib/python3.7/dist-packages (from nbformat>=4.2.0->ipywidgets->jupyter->d2l) (2.6.0)\n",
            "Requirement already satisfied: terminado>=0.8.1 in /usr/local/lib/python3.7/dist-packages (from notebook->jupyter->d2l) (0.12.1)\n",
            "Requirement already satisfied: jinja2 in /usr/local/lib/python3.7/dist-packages (from notebook->jupyter->d2l) (2.11.3)\n",
            "Requirement already satisfied: Send2Trash in /usr/local/lib/python3.7/dist-packages (from notebook->jupyter->d2l) (1.8.0)\n",
            "Requirement already satisfied: pyzmq>=13 in /usr/local/lib/python3.7/dist-packages (from jupyter-client->ipykernel->jupyter->d2l) (22.3.0)\n",
            "Requirement already satisfied: python-dateutil>=2.1 in /usr/local/lib/python3.7/dist-packages (from jupyter-client->ipykernel->jupyter->d2l) (2.8.2)\n",
            "Requirement already satisfied: ptyprocess in /usr/local/lib/python3.7/dist-packages (from terminado>=0.8.1->notebook->jupyter->d2l) (0.7.0)\n",
            "Requirement already satisfied: MarkupSafe>=0.23 in /usr/local/lib/python3.7/dist-packages (from jinja2->notebook->jupyter->d2l) (2.0.1)\n",
            "Requirement already satisfied: cycler>=0.10 in /usr/local/lib/python3.7/dist-packages (from matplotlib->d2l) (0.10.0)\n",
            "Requirement already satisfied: kiwisolver>=1.0.1 in /usr/local/lib/python3.7/dist-packages (from matplotlib->d2l) (1.3.2)\n",
            "Requirement already satisfied: pyparsing!=2.0.4,!=2.1.2,!=2.1.6,>=2.0.1 in /usr/local/lib/python3.7/dist-packages (from matplotlib->d2l) (2.4.7)\n",
            "Requirement already satisfied: mistune<2,>=0.8.1 in /usr/local/lib/python3.7/dist-packages (from nbconvert->jupyter->d2l) (0.8.4)\n",
            "Requirement already satisfied: defusedxml in /usr/local/lib/python3.7/dist-packages (from nbconvert->jupyter->d2l) (0.7.1)\n",
            "Requirement already satisfied: testpath in /usr/local/lib/python3.7/dist-packages (from nbconvert->jupyter->d2l) (0.5.0)\n",
            "Requirement already satisfied: entrypoints>=0.2.2 in /usr/local/lib/python3.7/dist-packages (from nbconvert->jupyter->d2l) (0.3)\n",
            "Requirement already satisfied: bleach in /usr/local/lib/python3.7/dist-packages (from nbconvert->jupyter->d2l) (4.1.0)\n",
            "Requirement already satisfied: pandocfilters>=1.4.1 in /usr/local/lib/python3.7/dist-packages (from nbconvert->jupyter->d2l) (1.5.0)\n",
            "Requirement already satisfied: packaging in /usr/local/lib/python3.7/dist-packages (from bleach->nbconvert->jupyter->d2l) (21.0)\n",
            "Requirement already satisfied: webencodings in /usr/local/lib/python3.7/dist-packages (from bleach->nbconvert->jupyter->d2l) (0.5.1)\n",
            "Requirement already satisfied: pytz>=2017.2 in /usr/local/lib/python3.7/dist-packages (from pandas->d2l) (2018.9)\n",
            "Requirement already satisfied: qtpy in /usr/local/lib/python3.7/dist-packages (from qtconsole->jupyter->d2l) (1.11.2)\n",
            "Requirement already satisfied: idna<3,>=2.5 in /usr/local/lib/python3.7/dist-packages (from requests->d2l) (2.10)\n",
            "Requirement already satisfied: certifi>=2017.4.17 in /usr/local/lib/python3.7/dist-packages (from requests->d2l) (2021.5.30)\n",
            "Requirement already satisfied: urllib3!=1.25.0,!=1.25.1,<1.26,>=1.21.1 in /usr/local/lib/python3.7/dist-packages (from requests->d2l) (1.24.3)\n",
            "Requirement already satisfied: chardet<4,>=3.0.2 in /usr/local/lib/python3.7/dist-packages (from requests->d2l) (3.0.4)\n",
            "Installing collected packages: d2l\n",
            "Successfully installed d2l-0.17.0\n"
          ]
        }
      ]
    },
    {
      "cell_type": "code",
      "metadata": {
        "colab": {
          "base_uri": "https://localhost:8080/"
        },
        "id": "144I9AjHSYiN",
        "outputId": "37f89582-80d7-463a-a545-e463d8c07470"
      },
      "source": [
        "mnist_train, mnist_test = tf.keras.datasets.fashion_mnist.load_data()\n",
        "\n",
        "mnist_train[0][0].shape"
      ],
      "execution_count": 2,
      "outputs": [
        {
          "output_type": "stream",
          "name": "stdout",
          "text": [
            "Downloading data from https://storage.googleapis.com/tensorflow/tf-keras-datasets/train-labels-idx1-ubyte.gz\n",
            "32768/29515 [=================================] - 0s 0us/step\n",
            "40960/29515 [=========================================] - 0s 0us/step\n",
            "Downloading data from https://storage.googleapis.com/tensorflow/tf-keras-datasets/train-images-idx3-ubyte.gz\n",
            "26427392/26421880 [==============================] - 0s 0us/step\n",
            "26435584/26421880 [==============================] - 0s 0us/step\n",
            "Downloading data from https://storage.googleapis.com/tensorflow/tf-keras-datasets/t10k-labels-idx1-ubyte.gz\n",
            "16384/5148 [===============================================================================================] - 0s 0us/step\n",
            "Downloading data from https://storage.googleapis.com/tensorflow/tf-keras-datasets/t10k-images-idx3-ubyte.gz\n",
            "4423680/4422102 [==============================] - 0s 0us/step\n",
            "4431872/4422102 [==============================] - 0s 0us/step\n"
          ]
        },
        {
          "output_type": "execute_result",
          "data": {
            "text/plain": [
              "(28, 28)"
            ]
          },
          "metadata": {},
          "execution_count": 2
        }
      ]
    },
    {
      "cell_type": "code",
      "metadata": {
        "id": "cw_9GVS8Uwm2",
        "colab": {
          "base_uri": "https://localhost:8080/",
          "height": 621
        },
        "outputId": "3081a8e3-3cd8-4b41-d407-063f0d69df1d"
      },
      "source": [
        "def get_fashion_mnist_labels(labels):\n",
        "  text_labels = [\n",
        "                 't-shirt', 'trouser', 'pullover', 'dress', 'coat', 'sandal',\n",
        "                 'shirt', 'sneaker', 'bag', 'ankle boot'\n",
        "  ]\n",
        "\n",
        "  return [text_labels[int(i)] for i in labels]\n",
        "\n",
        "def show_images(imgs, num_rows, num_cols, titles=None, scale=1.5):\n",
        "  figsize = (num_cols * scale, num_rows * scale)\n",
        "  _, axes = d2l.plt.subplots(num_rows, num_cols, figsize=figsize)\n",
        "  axes = axes.flatten()\n",
        "\n",
        "  for i, (ax, img) in enumerate(zip(axes, imgs)):\n",
        "    ax.imshow(img.numpy())\n",
        "    ax.axes.get_xaxis().set_visible(False)\n",
        "    ax.axes.get_yaxis().set_visible(False)\n",
        "\n",
        "    if titles:\n",
        "        ax.set_title(titles[i])\n",
        "  return axes\n",
        "\n",
        "\n",
        "# First 18 training images\n",
        "X = tf.constant(mnist_train[0][:18])\n",
        "\n",
        "# First 18 training labels\n",
        "y = tf.constant(mnist_train[1][:18])\n",
        "\n",
        "show_images(X, 2, 9, titles=get_fashion_mnist_labels(y))"
      ],
      "execution_count": 3,
      "outputs": [
        {
          "output_type": "execute_result",
          "data": {
            "text/plain": [
              "array([<matplotlib.axes._subplots.AxesSubplot object at 0x7fd9620e9490>,\n",
              "       <matplotlib.axes._subplots.AxesSubplot object at 0x7fd965b127d0>,\n",
              "       <matplotlib.axes._subplots.AxesSubplot object at 0x7fd95e8f2610>,\n",
              "       <matplotlib.axes._subplots.AxesSubplot object at 0x7fd95e8a5c50>,\n",
              "       <matplotlib.axes._subplots.AxesSubplot object at 0x7fd95e8672d0>,\n",
              "       <matplotlib.axes._subplots.AxesSubplot object at 0x7fd95e81d910>,\n",
              "       <matplotlib.axes._subplots.AxesSubplot object at 0x7fd95e7d4f90>,\n",
              "       <matplotlib.axes._subplots.AxesSubplot object at 0x7fd95e794690>,\n",
              "       <matplotlib.axes._subplots.AxesSubplot object at 0x7fd95e749c50>,\n",
              "       <matplotlib.axes._subplots.AxesSubplot object at 0x7fd95e70c310>,\n",
              "       <matplotlib.axes._subplots.AxesSubplot object at 0x7fd95e6c19d0>,\n",
              "       <matplotlib.axes._subplots.AxesSubplot object at 0x7fd95e6f7f10>,\n",
              "       <matplotlib.axes._subplots.AxesSubplot object at 0x7fd95e6b9690>,\n",
              "       <matplotlib.axes._subplots.AxesSubplot object at 0x7fd95e66ecd0>,\n",
              "       <matplotlib.axes._subplots.AxesSubplot object at 0x7fd95e630350>,\n",
              "       <matplotlib.axes._subplots.AxesSubplot object at 0x7fd95e5e4990>,\n",
              "       <matplotlib.axes._subplots.AxesSubplot object at 0x7fd95e59cfd0>,\n",
              "       <matplotlib.axes._subplots.AxesSubplot object at 0x7fd95e562910>],\n",
              "      dtype=object)"
            ]
          },
          "metadata": {},
          "execution_count": 3
        },
        {
          "output_type": "display_data",
          "data": {
            "text/plain": [
              "<Figure size 972x216 with 18 Axes>"
            ],
            "image/svg+xml": "<?xml version=\"1.0\" encoding=\"utf-8\" standalone=\"no\"?>\n<!DOCTYPE svg PUBLIC \"-//W3C//DTD SVG 1.1//EN\"\n  \"http://www.w3.org/Graphics/SVG/1.1/DTD/svg11.dtd\">\n<!-- Created with matplotlib (https://matplotlib.org/) -->\n<svg height=\"193.03689pt\" version=\"1.1\" viewBox=\"0 0 771.2 193.03689\" width=\"771.2pt\" xmlns=\"http://www.w3.org/2000/svg\" xmlns:xlink=\"http://www.w3.org/1999/xlink\">\n <defs>\n  <style type=\"text/css\">\n*{stroke-linecap:butt;stroke-linejoin:round;}\n  </style>\n </defs>\n <g id=\"figure_1\">\n  <g id=\"patch_1\">\n   <path d=\"M 0 193.03689 \nL 771.2 193.03689 \nL 771.2 -0 \nL 0 -0 \nz\n\" style=\"fill:none;\"/>\n  </g>\n  <g id=\"axes_1\">\n   <g id=\"patch_2\">\n    <path d=\"M 10.7 93.384163 \nL 81.766038 93.384163 \nL 81.766038 22.318125 \nL 10.7 22.318125 \nz\n\" style=\"fill:#ffffff;\"/>\n   </g>\n   <g clip-path=\"url(#p6442f4e0b9)\">\n    <image height=\"72\" id=\"imaged80c86df7d\" transform=\"scale(1 -1)translate(0 -72)\" width=\"72\" x=\"10.7\" xlink:href=\"data:image/png;base64,\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\" y=\"-21.384163\"/>\n   </g>\n   <g id=\"patch_3\">\n    <path d=\"M 10.7 93.384163 \nL 10.7 22.318125 \n\" style=\"fill:none;stroke:#000000;stroke-linecap:square;stroke-linejoin:miter;stroke-width:0.8;\"/>\n   </g>\n   <g id=\"patch_4\">\n    <path d=\"M 81.766038 93.384163 \nL 81.766038 22.318125 \n\" style=\"fill:none;stroke:#000000;stroke-linecap:square;stroke-linejoin:miter;stroke-width:0.8;\"/>\n   </g>\n   <g id=\"patch_5\">\n    <path d=\"M 10.7 93.384163 \nL 81.766038 93.384163 \n\" style=\"fill:none;stroke:#000000;stroke-linecap:square;stroke-linejoin:miter;stroke-width:0.8;\"/>\n   </g>\n   <g id=\"patch_6\">\n    <path d=\"M 10.7 22.318125 \nL 81.766038 22.318125 \n\" style=\"fill:none;stroke:#000000;stroke-linecap:square;stroke-linejoin:miter;stroke-width:0.8;\"/>\n   </g>\n   <g id=\"text_1\">\n    <!-- ankle boot -->\n    <defs>\n     <path d=\"M 34.28125 27.484375 \nQ 23.390625 27.484375 19.1875 25 \nQ 14.984375 22.515625 14.984375 16.5 \nQ 14.984375 11.71875 18.140625 8.90625 \nQ 21.296875 6.109375 26.703125 6.109375 \nQ 34.1875 6.109375 38.703125 11.40625 \nQ 43.21875 16.703125 43.21875 25.484375 \nL 43.21875 27.484375 \nz\nM 52.203125 31.203125 \nL 52.203125 0 \nL 43.21875 0 \nL 43.21875 8.296875 \nQ 40.140625 3.328125 35.546875 0.953125 \nQ 30.953125 -1.421875 24.3125 -1.421875 \nQ 15.921875 -1.421875 10.953125 3.296875 \nQ 6 8.015625 6 15.921875 \nQ 6 25.140625 12.171875 29.828125 \nQ 18.359375 34.515625 30.609375 34.515625 \nL 43.21875 34.515625 \nL 43.21875 35.40625 \nQ 43.21875 41.609375 39.140625 45 \nQ 35.0625 48.390625 27.6875 48.390625 \nQ 23 48.390625 18.546875 47.265625 \nQ 14.109375 46.140625 10.015625 43.890625 \nL 10.015625 52.203125 \nQ 14.9375 54.109375 19.578125 55.046875 \nQ 24.21875 56 28.609375 56 \nQ 40.484375 56 46.34375 49.84375 \nQ 52.203125 43.703125 52.203125 31.203125 \nz\n\" id=\"DejaVuSans-97\"/>\n     <path d=\"M 54.890625 33.015625 \nL 54.890625 0 \nL 45.90625 0 \nL 45.90625 32.71875 \nQ 45.90625 40.484375 42.875 44.328125 \nQ 39.84375 48.1875 33.796875 48.1875 \nQ 26.515625 48.1875 22.3125 43.546875 \nQ 18.109375 38.921875 18.109375 30.90625 \nL 18.109375 0 \nL 9.078125 0 \nL 9.078125 54.6875 \nL 18.109375 54.6875 \nL 18.109375 46.1875 \nQ 21.34375 51.125 25.703125 53.5625 \nQ 30.078125 56 35.796875 56 \nQ 45.21875 56 50.046875 50.171875 \nQ 54.890625 44.34375 54.890625 33.015625 \nz\n\" id=\"DejaVuSans-110\"/>\n     <path d=\"M 9.078125 75.984375 \nL 18.109375 75.984375 \nL 18.109375 31.109375 \nL 44.921875 54.6875 \nL 56.390625 54.6875 \nL 27.390625 29.109375 \nL 57.625 0 \nL 45.90625 0 \nL 18.109375 26.703125 \nL 18.109375 0 \nL 9.078125 0 \nz\n\" id=\"DejaVuSans-107\"/>\n     <path d=\"M 9.421875 75.984375 \nL 18.40625 75.984375 \nL 18.40625 0 \nL 9.421875 0 \nz\n\" id=\"DejaVuSans-108\"/>\n     <path d=\"M 56.203125 29.59375 \nL 56.203125 25.203125 \nL 14.890625 25.203125 \nQ 15.484375 15.921875 20.484375 11.0625 \nQ 25.484375 6.203125 34.421875 6.203125 \nQ 39.59375 6.203125 44.453125 7.46875 \nQ 49.3125 8.734375 54.109375 11.28125 \nL 54.109375 2.78125 \nQ 49.265625 0.734375 44.1875 -0.34375 \nQ 39.109375 -1.421875 33.890625 -1.421875 \nQ 20.796875 -1.421875 13.15625 6.1875 \nQ 5.515625 13.8125 5.515625 26.8125 \nQ 5.515625 40.234375 12.765625 48.109375 \nQ 20.015625 56 32.328125 56 \nQ 43.359375 56 49.78125 48.890625 \nQ 56.203125 41.796875 56.203125 29.59375 \nz\nM 47.21875 32.234375 \nQ 47.125 39.59375 43.09375 43.984375 \nQ 39.0625 48.390625 32.421875 48.390625 \nQ 24.90625 48.390625 20.390625 44.140625 \nQ 15.875 39.890625 15.1875 32.171875 \nz\n\" id=\"DejaVuSans-101\"/>\n     <path id=\"DejaVuSans-32\"/>\n     <path d=\"M 48.6875 27.296875 \nQ 48.6875 37.203125 44.609375 42.84375 \nQ 40.53125 48.484375 33.40625 48.484375 \nQ 26.265625 48.484375 22.1875 42.84375 \nQ 18.109375 37.203125 18.109375 27.296875 \nQ 18.109375 17.390625 22.1875 11.75 \nQ 26.265625 6.109375 33.40625 6.109375 \nQ 40.53125 6.109375 44.609375 11.75 \nQ 48.6875 17.390625 48.6875 27.296875 \nz\nM 18.109375 46.390625 \nQ 20.953125 51.265625 25.265625 53.625 \nQ 29.59375 56 35.59375 56 \nQ 45.5625 56 51.78125 48.09375 \nQ 58.015625 40.1875 58.015625 27.296875 \nQ 58.015625 14.40625 51.78125 6.484375 \nQ 45.5625 -1.421875 35.59375 -1.421875 \nQ 29.59375 -1.421875 25.265625 0.953125 \nQ 20.953125 3.328125 18.109375 8.203125 \nL 18.109375 0 \nL 9.078125 0 \nL 9.078125 75.984375 \nL 18.109375 75.984375 \nz\n\" id=\"DejaVuSans-98\"/>\n     <path d=\"M 30.609375 48.390625 \nQ 23.390625 48.390625 19.1875 42.75 \nQ 14.984375 37.109375 14.984375 27.296875 \nQ 14.984375 17.484375 19.15625 11.84375 \nQ 23.34375 6.203125 30.609375 6.203125 \nQ 37.796875 6.203125 41.984375 11.859375 \nQ 46.1875 17.53125 46.1875 27.296875 \nQ 46.1875 37.015625 41.984375 42.703125 \nQ 37.796875 48.390625 30.609375 48.390625 \nz\nM 30.609375 56 \nQ 42.328125 56 49.015625 48.375 \nQ 55.71875 40.765625 55.71875 27.296875 \nQ 55.71875 13.875 49.015625 6.21875 \nQ 42.328125 -1.421875 30.609375 -1.421875 \nQ 18.84375 -1.421875 12.171875 6.21875 \nQ 5.515625 13.875 5.515625 27.296875 \nQ 5.515625 40.765625 12.171875 48.375 \nQ 18.84375 56 30.609375 56 \nz\n\" id=\"DejaVuSans-111\"/>\n     <path d=\"M 18.3125 70.21875 \nL 18.3125 54.6875 \nL 36.8125 54.6875 \nL 36.8125 47.703125 \nL 18.3125 47.703125 \nL 18.3125 18.015625 \nQ 18.3125 11.328125 20.140625 9.421875 \nQ 21.96875 7.515625 27.59375 7.515625 \nL 36.8125 7.515625 \nL 36.8125 0 \nL 27.59375 0 \nQ 17.1875 0 13.234375 3.875 \nQ 9.28125 7.765625 9.28125 18.015625 \nL 9.28125 47.703125 \nL 2.6875 47.703125 \nL 2.6875 54.6875 \nL 9.28125 54.6875 \nL 9.28125 70.21875 \nz\n\" id=\"DejaVuSans-116\"/>\n    </defs>\n    <g transform=\"translate(14.509894 16.318125)scale(0.12 -0.12)\">\n     <use xlink:href=\"#DejaVuSans-97\"/>\n     <use x=\"61.279297\" xlink:href=\"#DejaVuSans-110\"/>\n     <use x=\"124.658203\" xlink:href=\"#DejaVuSans-107\"/>\n     <use x=\"182.568359\" xlink:href=\"#DejaVuSans-108\"/>\n     <use x=\"210.351562\" xlink:href=\"#DejaVuSans-101\"/>\n     <use x=\"271.875\" xlink:href=\"#DejaVuSans-32\"/>\n     <use x=\"303.662109\" xlink:href=\"#DejaVuSans-98\"/>\n     <use x=\"367.138672\" xlink:href=\"#DejaVuSans-111\"/>\n     <use x=\"428.320312\" xlink:href=\"#DejaVuSans-111\"/>\n     <use x=\"489.501953\" xlink:href=\"#DejaVuSans-116\"/>\n    </g>\n   </g>\n  </g>\n  <g id=\"axes_2\">\n   <g id=\"patch_7\">\n    <path d=\"M 95.979245 93.384163 \nL 167.045283 93.384163 \nL 167.045283 22.318125 \nL 95.979245 22.318125 \nz\n\" style=\"fill:#ffffff;\"/>\n   </g>\n   <g clip-path=\"url(#p7d1d9d61cb)\">\n    <image height=\"72\" id=\"image4c582723a7\" transform=\"scale(1 -1)translate(0 -72)\" width=\"72\" x=\"95.979245\" xlink:href=\"data:image/png;base64,\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\" y=\"-21.384163\"/>\n   </g>\n   <g id=\"patch_8\">\n    <path d=\"M 95.979245 93.384163 \nL 95.979245 22.318125 \n\" style=\"fill:none;stroke:#000000;stroke-linecap:square;stroke-linejoin:miter;stroke-width:0.8;\"/>\n   </g>\n   <g id=\"patch_9\">\n    <path d=\"M 167.045283 93.384163 \nL 167.045283 22.318125 \n\" style=\"fill:none;stroke:#000000;stroke-linecap:square;stroke-linejoin:miter;stroke-width:0.8;\"/>\n   </g>\n   <g id=\"patch_10\">\n    <path d=\"M 95.979245 93.384163 \nL 167.045283 93.384163 \n\" style=\"fill:none;stroke:#000000;stroke-linecap:square;stroke-linejoin:miter;stroke-width:0.8;\"/>\n   </g>\n   <g id=\"patch_11\">\n    <path d=\"M 95.979245 22.318125 \nL 167.045283 22.318125 \n\" style=\"fill:none;stroke:#000000;stroke-linecap:square;stroke-linejoin:miter;stroke-width:0.8;\"/>\n   </g>\n   <g id=\"text_2\">\n    <!-- t-shirt -->\n    <defs>\n     <path d=\"M 4.890625 31.390625 \nL 31.203125 31.390625 \nL 31.203125 23.390625 \nL 4.890625 23.390625 \nz\n\" id=\"DejaVuSans-45\"/>\n     <path d=\"M 44.28125 53.078125 \nL 44.28125 44.578125 \nQ 40.484375 46.53125 36.375 47.5 \nQ 32.28125 48.484375 27.875 48.484375 \nQ 21.1875 48.484375 17.84375 46.4375 \nQ 14.5 44.390625 14.5 40.28125 \nQ 14.5 37.15625 16.890625 35.375 \nQ 19.28125 33.59375 26.515625 31.984375 \nL 29.59375 31.296875 \nQ 39.15625 29.25 43.1875 25.515625 \nQ 47.21875 21.78125 47.21875 15.09375 \nQ 47.21875 7.46875 41.1875 3.015625 \nQ 35.15625 -1.421875 24.609375 -1.421875 \nQ 20.21875 -1.421875 15.453125 -0.5625 \nQ 10.6875 0.296875 5.421875 2 \nL 5.421875 11.28125 \nQ 10.40625 8.6875 15.234375 7.390625 \nQ 20.0625 6.109375 24.8125 6.109375 \nQ 31.15625 6.109375 34.5625 8.28125 \nQ 37.984375 10.453125 37.984375 14.40625 \nQ 37.984375 18.0625 35.515625 20.015625 \nQ 33.0625 21.96875 24.703125 23.78125 \nL 21.578125 24.515625 \nQ 13.234375 26.265625 9.515625 29.90625 \nQ 5.8125 33.546875 5.8125 39.890625 \nQ 5.8125 47.609375 11.28125 51.796875 \nQ 16.75 56 26.8125 56 \nQ 31.78125 56 36.171875 55.265625 \nQ 40.578125 54.546875 44.28125 53.078125 \nz\n\" id=\"DejaVuSans-115\"/>\n     <path d=\"M 54.890625 33.015625 \nL 54.890625 0 \nL 45.90625 0 \nL 45.90625 32.71875 \nQ 45.90625 40.484375 42.875 44.328125 \nQ 39.84375 48.1875 33.796875 48.1875 \nQ 26.515625 48.1875 22.3125 43.546875 \nQ 18.109375 38.921875 18.109375 30.90625 \nL 18.109375 0 \nL 9.078125 0 \nL 9.078125 75.984375 \nL 18.109375 75.984375 \nL 18.109375 46.1875 \nQ 21.34375 51.125 25.703125 53.5625 \nQ 30.078125 56 35.796875 56 \nQ 45.21875 56 50.046875 50.171875 \nQ 54.890625 44.34375 54.890625 33.015625 \nz\n\" id=\"DejaVuSans-104\"/>\n     <path d=\"M 9.421875 54.6875 \nL 18.40625 54.6875 \nL 18.40625 0 \nL 9.421875 0 \nz\nM 9.421875 75.984375 \nL 18.40625 75.984375 \nL 18.40625 64.59375 \nL 9.421875 64.59375 \nz\n\" id=\"DejaVuSans-105\"/>\n     <path d=\"M 41.109375 46.296875 \nQ 39.59375 47.171875 37.8125 47.578125 \nQ 36.03125 48 33.890625 48 \nQ 26.265625 48 22.1875 43.046875 \nQ 18.109375 38.09375 18.109375 28.8125 \nL 18.109375 0 \nL 9.078125 0 \nL 9.078125 54.6875 \nL 18.109375 54.6875 \nL 18.109375 46.1875 \nQ 20.953125 51.171875 25.484375 53.578125 \nQ 30.03125 56 36.53125 56 \nQ 37.453125 56 38.578125 55.875 \nQ 39.703125 55.765625 41.0625 55.515625 \nz\n\" id=\"DejaVuSans-114\"/>\n    </defs>\n    <g transform=\"translate(113.581639 16.318125)scale(0.12 -0.12)\">\n     <use xlink:href=\"#DejaVuSans-116\"/>\n     <use x=\"39.208984\" xlink:href=\"#DejaVuSans-45\"/>\n     <use x=\"75.292969\" xlink:href=\"#DejaVuSans-115\"/>\n     <use x=\"127.392578\" xlink:href=\"#DejaVuSans-104\"/>\n     <use x=\"190.771484\" xlink:href=\"#DejaVuSans-105\"/>\n     <use x=\"218.554688\" xlink:href=\"#DejaVuSans-114\"/>\n     <use x=\"259.667969\" xlink:href=\"#DejaVuSans-116\"/>\n    </g>\n   </g>\n  </g>\n  <g id=\"axes_3\">\n   <g id=\"patch_12\">\n    <path d=\"M 181.258491 93.384163 \nL 252.324528 93.384163 \nL 252.324528 22.318125 \nL 181.258491 22.318125 \nz\n\" style=\"fill:#ffffff;\"/>\n   </g>\n   <g clip-path=\"url(#pbfd9f47c4c)\">\n    <image height=\"72\" id=\"imageeb917b3db7\" transform=\"scale(1 -1)translate(0 -72)\" width=\"72\" x=\"181.258491\" xlink:href=\"data:image/png;base64,\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\" y=\"-21.384163\"/>\n   </g>\n   <g id=\"patch_13\">\n    <path d=\"M 181.258491 93.384163 \nL 181.258491 22.318125 \n\" style=\"fill:none;stroke:#000000;stroke-linecap:square;stroke-linejoin:miter;stroke-width:0.8;\"/>\n   </g>\n   <g id=\"patch_14\">\n    <path d=\"M 252.324528 93.384163 \nL 252.324528 22.318125 \n\" style=\"fill:none;stroke:#000000;stroke-linecap:square;stroke-linejoin:miter;stroke-width:0.8;\"/>\n   </g>\n   <g id=\"patch_15\">\n    <path d=\"M 181.258491 93.384163 \nL 252.324528 93.384163 \n\" style=\"fill:none;stroke:#000000;stroke-linecap:square;stroke-linejoin:miter;stroke-width:0.8;\"/>\n   </g>\n   <g id=\"patch_16\">\n    <path d=\"M 181.258491 22.318125 \nL 252.324528 22.318125 \n\" style=\"fill:none;stroke:#000000;stroke-linecap:square;stroke-linejoin:miter;stroke-width:0.8;\"/>\n   </g>\n   <g id=\"text_3\">\n    <!-- t-shirt -->\n    <g transform=\"translate(198.860884 16.318125)scale(0.12 -0.12)\">\n     <use xlink:href=\"#DejaVuSans-116\"/>\n     <use x=\"39.208984\" xlink:href=\"#DejaVuSans-45\"/>\n     <use x=\"75.292969\" xlink:href=\"#DejaVuSans-115\"/>\n     <use x=\"127.392578\" xlink:href=\"#DejaVuSans-104\"/>\n     <use x=\"190.771484\" xlink:href=\"#DejaVuSans-105\"/>\n     <use x=\"218.554688\" xlink:href=\"#DejaVuSans-114\"/>\n     <use x=\"259.667969\" xlink:href=\"#DejaVuSans-116\"/>\n    </g>\n   </g>\n  </g>\n  <g id=\"axes_4\">\n   <g id=\"patch_17\">\n    <path d=\"M 266.537736 93.384163 \nL 337.603774 93.384163 \nL 337.603774 22.318125 \nL 266.537736 22.318125 \nz\n\" style=\"fill:#ffffff;\"/>\n   </g>\n   <g clip-path=\"url(#p266e299f0b)\">\n    <image height=\"72\" id=\"image8ea6b0a0cf\" transform=\"scale(1 -1)translate(0 -72)\" width=\"72\" x=\"266.537736\" xlink:href=\"data:image/png;base64,\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\" y=\"-21.384163\"/>\n   </g>\n   <g id=\"patch_18\">\n    <path d=\"M 266.537736 93.384163 \nL 266.537736 22.318125 \n\" style=\"fill:none;stroke:#000000;stroke-linecap:square;stroke-linejoin:miter;stroke-width:0.8;\"/>\n   </g>\n   <g id=\"patch_19\">\n    <path d=\"M 337.603774 93.384163 \nL 337.603774 22.318125 \n\" style=\"fill:none;stroke:#000000;stroke-linecap:square;stroke-linejoin:miter;stroke-width:0.8;\"/>\n   </g>\n   <g id=\"patch_20\">\n    <path d=\"M 266.537736 93.384163 \nL 337.603774 93.384163 \n\" style=\"fill:none;stroke:#000000;stroke-linecap:square;stroke-linejoin:miter;stroke-width:0.8;\"/>\n   </g>\n   <g id=\"patch_21\">\n    <path d=\"M 266.537736 22.318125 \nL 337.603774 22.318125 \n\" style=\"fill:none;stroke:#000000;stroke-linecap:square;stroke-linejoin:miter;stroke-width:0.8;\"/>\n   </g>\n   <g id=\"text_4\">\n    <!-- dress -->\n    <defs>\n     <path d=\"M 45.40625 46.390625 \nL 45.40625 75.984375 \nL 54.390625 75.984375 \nL 54.390625 0 \nL 45.40625 0 \nL 45.40625 8.203125 \nQ 42.578125 3.328125 38.25 0.953125 \nQ 33.9375 -1.421875 27.875 -1.421875 \nQ 17.96875 -1.421875 11.734375 6.484375 \nQ 5.515625 14.40625 5.515625 27.296875 \nQ 5.515625 40.1875 11.734375 48.09375 \nQ 17.96875 56 27.875 56 \nQ 33.9375 56 38.25 53.625 \nQ 42.578125 51.265625 45.40625 46.390625 \nz\nM 14.796875 27.296875 \nQ 14.796875 17.390625 18.875 11.75 \nQ 22.953125 6.109375 30.078125 6.109375 \nQ 37.203125 6.109375 41.296875 11.75 \nQ 45.40625 17.390625 45.40625 27.296875 \nQ 45.40625 37.203125 41.296875 42.84375 \nQ 37.203125 48.484375 30.078125 48.484375 \nQ 22.953125 48.484375 18.875 42.84375 \nQ 14.796875 37.203125 14.796875 27.296875 \nz\n\" id=\"DejaVuSans-100\"/>\n    </defs>\n    <g transform=\"translate(285.987005 16.318125)scale(0.12 -0.12)\">\n     <use xlink:href=\"#DejaVuSans-100\"/>\n     <use x=\"63.476562\" xlink:href=\"#DejaVuSans-114\"/>\n     <use x=\"102.339844\" xlink:href=\"#DejaVuSans-101\"/>\n     <use x=\"163.863281\" xlink:href=\"#DejaVuSans-115\"/>\n     <use x=\"215.962891\" xlink:href=\"#DejaVuSans-115\"/>\n    </g>\n   </g>\n  </g>\n  <g id=\"axes_5\">\n   <g id=\"patch_22\">\n    <path d=\"M 351.816981 93.384163 \nL 422.883019 93.384163 \nL 422.883019 22.318125 \nL 351.816981 22.318125 \nz\n\" style=\"fill:#ffffff;\"/>\n   </g>\n   <g clip-path=\"url(#pdfb3a33b2f)\">\n    <image height=\"72\" id=\"image39b131edc6\" transform=\"scale(1 -1)translate(0 -72)\" width=\"72\" x=\"351.816981\" xlink:href=\"data:image/png;base64,\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\" y=\"-21.384163\"/>\n   </g>\n   <g id=\"patch_23\">\n    <path d=\"M 351.816981 93.384163 \nL 351.816981 22.318125 \n\" style=\"fill:none;stroke:#000000;stroke-linecap:square;stroke-linejoin:miter;stroke-width:0.8;\"/>\n   </g>\n   <g id=\"patch_24\">\n    <path d=\"M 422.883019 93.384163 \nL 422.883019 22.318125 \n\" style=\"fill:none;stroke:#000000;stroke-linecap:square;stroke-linejoin:miter;stroke-width:0.8;\"/>\n   </g>\n   <g id=\"patch_25\">\n    <path d=\"M 351.816981 93.384163 \nL 422.883019 93.384163 \n\" style=\"fill:none;stroke:#000000;stroke-linecap:square;stroke-linejoin:miter;stroke-width:0.8;\"/>\n   </g>\n   <g id=\"patch_26\">\n    <path d=\"M 351.816981 22.318125 \nL 422.883019 22.318125 \n\" style=\"fill:none;stroke:#000000;stroke-linecap:square;stroke-linejoin:miter;stroke-width:0.8;\"/>\n   </g>\n   <g id=\"text_5\">\n    <!-- t-shirt -->\n    <g transform=\"translate(369.419375 16.318125)scale(0.12 -0.12)\">\n     <use xlink:href=\"#DejaVuSans-116\"/>\n     <use x=\"39.208984\" xlink:href=\"#DejaVuSans-45\"/>\n     <use x=\"75.292969\" xlink:href=\"#DejaVuSans-115\"/>\n     <use x=\"127.392578\" xlink:href=\"#DejaVuSans-104\"/>\n     <use x=\"190.771484\" xlink:href=\"#DejaVuSans-105\"/>\n     <use x=\"218.554688\" xlink:href=\"#DejaVuSans-114\"/>\n     <use x=\"259.667969\" xlink:href=\"#DejaVuSans-116\"/>\n    </g>\n   </g>\n  </g>\n  <g id=\"axes_6\">\n   <g id=\"patch_27\">\n    <path d=\"M 437.096226 93.384163 \nL 508.162264 93.384163 \nL 508.162264 22.318125 \nL 437.096226 22.318125 \nz\n\" style=\"fill:#ffffff;\"/>\n   </g>\n   <g clip-path=\"url(#p2ab95ff7c7)\">\n    <image height=\"72\" id=\"imagec1c9e70597\" transform=\"scale(1 -1)translate(0 -72)\" width=\"72\" x=\"437.096226\" xlink:href=\"data:image/png;base64,\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\" y=\"-21.384163\"/>\n   </g>\n   <g id=\"patch_28\">\n    <path d=\"M 437.096226 93.384163 \nL 437.096226 22.318125 \n\" style=\"fill:none;stroke:#000000;stroke-linecap:square;stroke-linejoin:miter;stroke-width:0.8;\"/>\n   </g>\n   <g id=\"patch_29\">\n    <path d=\"M 508.162264 93.384163 \nL 508.162264 22.318125 \n\" style=\"fill:none;stroke:#000000;stroke-linecap:square;stroke-linejoin:miter;stroke-width:0.8;\"/>\n   </g>\n   <g id=\"patch_30\">\n    <path d=\"M 437.096226 93.384163 \nL 508.162264 93.384163 \n\" style=\"fill:none;stroke:#000000;stroke-linecap:square;stroke-linejoin:miter;stroke-width:0.8;\"/>\n   </g>\n   <g id=\"patch_31\">\n    <path d=\"M 437.096226 22.318125 \nL 508.162264 22.318125 \n\" style=\"fill:none;stroke:#000000;stroke-linecap:square;stroke-linejoin:miter;stroke-width:0.8;\"/>\n   </g>\n   <g id=\"text_6\">\n    <!-- pullover -->\n    <defs>\n     <path d=\"M 18.109375 8.203125 \nL 18.109375 -20.796875 \nL 9.078125 -20.796875 \nL 9.078125 54.6875 \nL 18.109375 54.6875 \nL 18.109375 46.390625 \nQ 20.953125 51.265625 25.265625 53.625 \nQ 29.59375 56 35.59375 56 \nQ 45.5625 56 51.78125 48.09375 \nQ 58.015625 40.1875 58.015625 27.296875 \nQ 58.015625 14.40625 51.78125 6.484375 \nQ 45.5625 -1.421875 35.59375 -1.421875 \nQ 29.59375 -1.421875 25.265625 0.953125 \nQ 20.953125 3.328125 18.109375 8.203125 \nz\nM 48.6875 27.296875 \nQ 48.6875 37.203125 44.609375 42.84375 \nQ 40.53125 48.484375 33.40625 48.484375 \nQ 26.265625 48.484375 22.1875 42.84375 \nQ 18.109375 37.203125 18.109375 27.296875 \nQ 18.109375 17.390625 22.1875 11.75 \nQ 26.265625 6.109375 33.40625 6.109375 \nQ 40.53125 6.109375 44.609375 11.75 \nQ 48.6875 17.390625 48.6875 27.296875 \nz\n\" id=\"DejaVuSans-112\"/>\n     <path d=\"M 8.5 21.578125 \nL 8.5 54.6875 \nL 17.484375 54.6875 \nL 17.484375 21.921875 \nQ 17.484375 14.15625 20.5 10.265625 \nQ 23.53125 6.390625 29.59375 6.390625 \nQ 36.859375 6.390625 41.078125 11.03125 \nQ 45.3125 15.671875 45.3125 23.6875 \nL 45.3125 54.6875 \nL 54.296875 54.6875 \nL 54.296875 0 \nL 45.3125 0 \nL 45.3125 8.40625 \nQ 42.046875 3.421875 37.71875 1 \nQ 33.40625 -1.421875 27.6875 -1.421875 \nQ 18.265625 -1.421875 13.375 4.4375 \nQ 8.5 10.296875 8.5 21.578125 \nz\nM 31.109375 56 \nz\n\" id=\"DejaVuSans-117\"/>\n     <path d=\"M 2.984375 54.6875 \nL 12.5 54.6875 \nL 29.59375 8.796875 \nL 46.6875 54.6875 \nL 56.203125 54.6875 \nL 35.6875 0 \nL 23.484375 0 \nz\n\" id=\"DejaVuSans-118\"/>\n    </defs>\n    <g transform=\"translate(448.302995 16.318125)scale(0.12 -0.12)\">\n     <use xlink:href=\"#DejaVuSans-112\"/>\n     <use x=\"63.476562\" xlink:href=\"#DejaVuSans-117\"/>\n     <use x=\"126.855469\" xlink:href=\"#DejaVuSans-108\"/>\n     <use x=\"154.638672\" xlink:href=\"#DejaVuSans-108\"/>\n     <use x=\"182.421875\" xlink:href=\"#DejaVuSans-111\"/>\n     <use x=\"243.603516\" xlink:href=\"#DejaVuSans-118\"/>\n     <use x=\"302.783203\" xlink:href=\"#DejaVuSans-101\"/>\n     <use x=\"364.306641\" xlink:href=\"#DejaVuSans-114\"/>\n    </g>\n   </g>\n  </g>\n  <g id=\"axes_7\">\n   <g id=\"patch_32\">\n    <path d=\"M 522.375472 93.384163 \nL 593.441509 93.384163 \nL 593.441509 22.318125 \nL 522.375472 22.318125 \nz\n\" style=\"fill:#ffffff;\"/>\n   </g>\n   <g clip-path=\"url(#p6dc733dbdf)\">\n    <image height=\"72\" id=\"image2a200284e8\" transform=\"scale(1 -1)translate(0 -72)\" width=\"72\" x=\"522.375472\" xlink:href=\"data:image/png;base64,\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\" y=\"-21.384163\"/>\n   </g>\n   <g id=\"patch_33\">\n    <path d=\"M 522.375472 93.384163 \nL 522.375472 22.318125 \n\" style=\"fill:none;stroke:#000000;stroke-linecap:square;stroke-linejoin:miter;stroke-width:0.8;\"/>\n   </g>\n   <g id=\"patch_34\">\n    <path d=\"M 593.441509 93.384163 \nL 593.441509 22.318125 \n\" style=\"fill:none;stroke:#000000;stroke-linecap:square;stroke-linejoin:miter;stroke-width:0.8;\"/>\n   </g>\n   <g id=\"patch_35\">\n    <path d=\"M 522.375472 93.384163 \nL 593.441509 93.384163 \n\" style=\"fill:none;stroke:#000000;stroke-linecap:square;stroke-linejoin:miter;stroke-width:0.8;\"/>\n   </g>\n   <g id=\"patch_36\">\n    <path d=\"M 522.375472 22.318125 \nL 593.441509 22.318125 \n\" style=\"fill:none;stroke:#000000;stroke-linecap:square;stroke-linejoin:miter;stroke-width:0.8;\"/>\n   </g>\n   <g id=\"text_7\">\n    <!-- sneaker -->\n    <g transform=\"translate(534.196303 16.318125)scale(0.12 -0.12)\">\n     <use xlink:href=\"#DejaVuSans-115\"/>\n     <use x=\"52.099609\" xlink:href=\"#DejaVuSans-110\"/>\n     <use x=\"115.478516\" xlink:href=\"#DejaVuSans-101\"/>\n     <use x=\"177.001953\" xlink:href=\"#DejaVuSans-97\"/>\n     <use x=\"238.28125\" xlink:href=\"#DejaVuSans-107\"/>\n     <use x=\"292.566406\" xlink:href=\"#DejaVuSans-101\"/>\n     <use x=\"354.089844\" xlink:href=\"#DejaVuSans-114\"/>\n    </g>\n   </g>\n  </g>\n  <g id=\"axes_8\">\n   <g id=\"patch_37\">\n    <path d=\"M 607.654717 93.384163 \nL 678.720755 93.384163 \nL 678.720755 22.318125 \nL 607.654717 22.318125 \nz\n\" style=\"fill:#ffffff;\"/>\n   </g>\n   <g clip-path=\"url(#pf0a61781d5)\">\n    <image height=\"72\" id=\"image22075c732a\" transform=\"scale(1 -1)translate(0 -72)\" width=\"72\" x=\"607.654717\" xlink:href=\"data:image/png;base64,\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\" y=\"-21.384163\"/>\n   </g>\n   <g id=\"patch_38\">\n    <path d=\"M 607.654717 93.384163 \nL 607.654717 22.318125 \n\" style=\"fill:none;stroke:#000000;stroke-linecap:square;stroke-linejoin:miter;stroke-width:0.8;\"/>\n   </g>\n   <g id=\"patch_39\">\n    <path d=\"M 678.720755 93.384163 \nL 678.720755 22.318125 \n\" style=\"fill:none;stroke:#000000;stroke-linecap:square;stroke-linejoin:miter;stroke-width:0.8;\"/>\n   </g>\n   <g id=\"patch_40\">\n    <path d=\"M 607.654717 93.384163 \nL 678.720755 93.384163 \n\" style=\"fill:none;stroke:#000000;stroke-linecap:square;stroke-linejoin:miter;stroke-width:0.8;\"/>\n   </g>\n   <g id=\"patch_41\">\n    <path d=\"M 607.654717 22.318125 \nL 678.720755 22.318125 \n\" style=\"fill:none;stroke:#000000;stroke-linecap:square;stroke-linejoin:miter;stroke-width:0.8;\"/>\n   </g>\n   <g id=\"text_8\">\n    <!-- pullover -->\n    <g transform=\"translate(618.861486 16.318125)scale(0.12 -0.12)\">\n     <use xlink:href=\"#DejaVuSans-112\"/>\n     <use x=\"63.476562\" xlink:href=\"#DejaVuSans-117\"/>\n     <use x=\"126.855469\" xlink:href=\"#DejaVuSans-108\"/>\n     <use x=\"154.638672\" xlink:href=\"#DejaVuSans-108\"/>\n     <use x=\"182.421875\" xlink:href=\"#DejaVuSans-111\"/>\n     <use x=\"243.603516\" xlink:href=\"#DejaVuSans-118\"/>\n     <use x=\"302.783203\" xlink:href=\"#DejaVuSans-101\"/>\n     <use x=\"364.306641\" xlink:href=\"#DejaVuSans-114\"/>\n    </g>\n   </g>\n  </g>\n  <g id=\"axes_9\">\n   <g id=\"patch_42\">\n    <path d=\"M 692.933962 93.384163 \nL 764 93.384163 \nL 764 22.318125 \nL 692.933962 22.318125 \nz\n\" style=\"fill:#ffffff;\"/>\n   </g>\n   <g clip-path=\"url(#p5622837949)\">\n    <image height=\"72\" id=\"image1cbe63acc0\" transform=\"scale(1 -1)translate(0 -72)\" width=\"72\" x=\"692.933962\" xlink:href=\"data:image/png;base64,\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\" y=\"-21.384163\"/>\n   </g>\n   <g id=\"patch_43\">\n    <path d=\"M 692.933962 93.384163 \nL 692.933962 22.318125 \n\" style=\"fill:none;stroke:#000000;stroke-linecap:square;stroke-linejoin:miter;stroke-width:0.8;\"/>\n   </g>\n   <g id=\"patch_44\">\n    <path d=\"M 764 93.384163 \nL 764 22.318125 \n\" style=\"fill:none;stroke:#000000;stroke-linecap:square;stroke-linejoin:miter;stroke-width:0.8;\"/>\n   </g>\n   <g id=\"patch_45\">\n    <path d=\"M 692.933962 93.384163 \nL 764 93.384163 \n\" style=\"fill:none;stroke:#000000;stroke-linecap:square;stroke-linejoin:miter;stroke-width:0.8;\"/>\n   </g>\n   <g id=\"patch_46\">\n    <path d=\"M 692.933962 22.318125 \nL 764 22.318125 \n\" style=\"fill:none;stroke:#000000;stroke-linecap:square;stroke-linejoin:miter;stroke-width:0.8;\"/>\n   </g>\n   <g id=\"text_9\">\n    <!-- sandal -->\n    <g transform=\"translate(708.709169 16.318125)scale(0.12 -0.12)\">\n     <use xlink:href=\"#DejaVuSans-115\"/>\n     <use x=\"52.099609\" xlink:href=\"#DejaVuSans-97\"/>\n     <use x=\"113.378906\" xlink:href=\"#DejaVuSans-110\"/>\n     <use x=\"176.757812\" xlink:href=\"#DejaVuSans-100\"/>\n     <use x=\"240.234375\" xlink:href=\"#DejaVuSans-97\"/>\n     <use x=\"301.513672\" xlink:href=\"#DejaVuSans-108\"/>\n    </g>\n   </g>\n  </g>\n  <g id=\"axes_10\">\n   <g id=\"patch_47\">\n    <path d=\"M 10.7 182.33689 \nL 81.766038 182.33689 \nL 81.766038 111.270852 \nL 10.7 111.270852 \nz\n\" style=\"fill:#ffffff;\"/>\n   </g>\n   <g clip-path=\"url(#p2b446050f3)\">\n    <image height=\"72\" id=\"imagebf6b12d4f2\" transform=\"scale(1 -1)translate(0 -72)\" width=\"72\" x=\"10.7\" xlink:href=\"data:image/png;base64,\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\" y=\"-110.33689\"/>\n   </g>\n   <g id=\"patch_48\">\n    <path d=\"M 10.7 182.33689 \nL 10.7 111.270852 \n\" style=\"fill:none;stroke:#000000;stroke-linecap:square;stroke-linejoin:miter;stroke-width:0.8;\"/>\n   </g>\n   <g id=\"patch_49\">\n    <path d=\"M 81.766038 182.33689 \nL 81.766038 111.270852 \n\" style=\"fill:none;stroke:#000000;stroke-linecap:square;stroke-linejoin:miter;stroke-width:0.8;\"/>\n   </g>\n   <g id=\"patch_50\">\n    <path d=\"M 10.7 182.33689 \nL 81.766038 182.33689 \n\" style=\"fill:none;stroke:#000000;stroke-linecap:square;stroke-linejoin:miter;stroke-width:0.8;\"/>\n   </g>\n   <g id=\"patch_51\">\n    <path d=\"M 10.7 111.270852 \nL 81.766038 111.270852 \n\" style=\"fill:none;stroke:#000000;stroke-linecap:square;stroke-linejoin:miter;stroke-width:0.8;\"/>\n   </g>\n   <g id=\"text_10\">\n    <!-- sandal -->\n    <g transform=\"translate(26.475206 105.270852)scale(0.12 -0.12)\">\n     <use xlink:href=\"#DejaVuSans-115\"/>\n     <use x=\"52.099609\" xlink:href=\"#DejaVuSans-97\"/>\n     <use x=\"113.378906\" xlink:href=\"#DejaVuSans-110\"/>\n     <use x=\"176.757812\" xlink:href=\"#DejaVuSans-100\"/>\n     <use x=\"240.234375\" xlink:href=\"#DejaVuSans-97\"/>\n     <use x=\"301.513672\" xlink:href=\"#DejaVuSans-108\"/>\n    </g>\n   </g>\n  </g>\n  <g id=\"axes_11\">\n   <g id=\"patch_52\">\n    <path d=\"M 95.979245 182.33689 \nL 167.045283 182.33689 \nL 167.045283 111.270852 \nL 95.979245 111.270852 \nz\n\" style=\"fill:#ffffff;\"/>\n   </g>\n   <g clip-path=\"url(#p4e87f2cf1d)\">\n    <image height=\"72\" id=\"image0558571303\" transform=\"scale(1 -1)translate(0 -72)\" width=\"72\" x=\"95.979245\" xlink:href=\"data:image/png;base64,\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\" y=\"-110.33689\"/>\n   </g>\n   <g id=\"patch_53\">\n    <path d=\"M 95.979245 182.33689 \nL 95.979245 111.270852 \n\" style=\"fill:none;stroke:#000000;stroke-linecap:square;stroke-linejoin:miter;stroke-width:0.8;\"/>\n   </g>\n   <g id=\"patch_54\">\n    <path d=\"M 167.045283 182.33689 \nL 167.045283 111.270852 \n\" style=\"fill:none;stroke:#000000;stroke-linecap:square;stroke-linejoin:miter;stroke-width:0.8;\"/>\n   </g>\n   <g id=\"patch_55\">\n    <path d=\"M 95.979245 182.33689 \nL 167.045283 182.33689 \n\" style=\"fill:none;stroke:#000000;stroke-linecap:square;stroke-linejoin:miter;stroke-width:0.8;\"/>\n   </g>\n   <g id=\"patch_56\">\n    <path d=\"M 95.979245 111.270852 \nL 167.045283 111.270852 \n\" style=\"fill:none;stroke:#000000;stroke-linecap:square;stroke-linejoin:miter;stroke-width:0.8;\"/>\n   </g>\n   <g id=\"text_11\">\n    <!-- t-shirt -->\n    <g transform=\"translate(113.581639 105.270852)scale(0.12 -0.12)\">\n     <use xlink:href=\"#DejaVuSans-116\"/>\n     <use x=\"39.208984\" xlink:href=\"#DejaVuSans-45\"/>\n     <use x=\"75.292969\" xlink:href=\"#DejaVuSans-115\"/>\n     <use x=\"127.392578\" xlink:href=\"#DejaVuSans-104\"/>\n     <use x=\"190.771484\" xlink:href=\"#DejaVuSans-105\"/>\n     <use x=\"218.554688\" xlink:href=\"#DejaVuSans-114\"/>\n     <use x=\"259.667969\" xlink:href=\"#DejaVuSans-116\"/>\n    </g>\n   </g>\n  </g>\n  <g id=\"axes_12\">\n   <g id=\"patch_57\">\n    <path d=\"M 181.258491 182.33689 \nL 252.324528 182.33689 \nL 252.324528 111.270852 \nL 181.258491 111.270852 \nz\n\" style=\"fill:#ffffff;\"/>\n   </g>\n   <g clip-path=\"url(#p492d9002e0)\">\n    <image height=\"72\" id=\"image6acf9cbf53\" transform=\"scale(1 -1)translate(0 -72)\" width=\"72\" x=\"181.258491\" xlink:href=\"data:image/png;base64,\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\" y=\"-110.33689\"/>\n   </g>\n   <g id=\"patch_58\">\n    <path d=\"M 181.258491 182.33689 \nL 181.258491 111.270852 \n\" style=\"fill:none;stroke:#000000;stroke-linecap:square;stroke-linejoin:miter;stroke-width:0.8;\"/>\n   </g>\n   <g id=\"patch_59\">\n    <path d=\"M 252.324528 182.33689 \nL 252.324528 111.270852 \n\" style=\"fill:none;stroke:#000000;stroke-linecap:square;stroke-linejoin:miter;stroke-width:0.8;\"/>\n   </g>\n   <g id=\"patch_60\">\n    <path d=\"M 181.258491 182.33689 \nL 252.324528 182.33689 \n\" style=\"fill:none;stroke:#000000;stroke-linecap:square;stroke-linejoin:miter;stroke-width:0.8;\"/>\n   </g>\n   <g id=\"patch_61\">\n    <path d=\"M 181.258491 111.270852 \nL 252.324528 111.270852 \n\" style=\"fill:none;stroke:#000000;stroke-linecap:square;stroke-linejoin:miter;stroke-width:0.8;\"/>\n   </g>\n   <g id=\"text_12\">\n    <!-- ankle boot -->\n    <g transform=\"translate(185.068384 105.270852)scale(0.12 -0.12)\">\n     <use xlink:href=\"#DejaVuSans-97\"/>\n     <use x=\"61.279297\" xlink:href=\"#DejaVuSans-110\"/>\n     <use x=\"124.658203\" xlink:href=\"#DejaVuSans-107\"/>\n     <use x=\"182.568359\" xlink:href=\"#DejaVuSans-108\"/>\n     <use x=\"210.351562\" xlink:href=\"#DejaVuSans-101\"/>\n     <use x=\"271.875\" xlink:href=\"#DejaVuSans-32\"/>\n     <use x=\"303.662109\" xlink:href=\"#DejaVuSans-98\"/>\n     <use x=\"367.138672\" xlink:href=\"#DejaVuSans-111\"/>\n     <use x=\"428.320312\" xlink:href=\"#DejaVuSans-111\"/>\n     <use x=\"489.501953\" xlink:href=\"#DejaVuSans-116\"/>\n    </g>\n   </g>\n  </g>\n  <g id=\"axes_13\">\n   <g id=\"patch_62\">\n    <path d=\"M 266.537736 182.33689 \nL 337.603774 182.33689 \nL 337.603774 111.270852 \nL 266.537736 111.270852 \nz\n\" style=\"fill:#ffffff;\"/>\n   </g>\n   <g clip-path=\"url(#p0526c02311)\">\n    <image height=\"72\" id=\"image29422df8ad\" transform=\"scale(1 -1)translate(0 -72)\" width=\"72\" x=\"266.537736\" xlink:href=\"data:image/png;base64,\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\" y=\"-110.33689\"/>\n   </g>\n   <g id=\"patch_63\">\n    <path d=\"M 266.537736 182.33689 \nL 266.537736 111.270852 \n\" style=\"fill:none;stroke:#000000;stroke-linecap:square;stroke-linejoin:miter;stroke-width:0.8;\"/>\n   </g>\n   <g id=\"patch_64\">\n    <path d=\"M 337.603774 182.33689 \nL 337.603774 111.270852 \n\" style=\"fill:none;stroke:#000000;stroke-linecap:square;stroke-linejoin:miter;stroke-width:0.8;\"/>\n   </g>\n   <g id=\"patch_65\">\n    <path d=\"M 266.537736 182.33689 \nL 337.603774 182.33689 \n\" style=\"fill:none;stroke:#000000;stroke-linecap:square;stroke-linejoin:miter;stroke-width:0.8;\"/>\n   </g>\n   <g id=\"patch_66\">\n    <path d=\"M 266.537736 111.270852 \nL 337.603774 111.270852 \n\" style=\"fill:none;stroke:#000000;stroke-linecap:square;stroke-linejoin:miter;stroke-width:0.8;\"/>\n   </g>\n   <g id=\"text_13\">\n    <!-- sandal -->\n    <g transform=\"translate(282.312942 105.270852)scale(0.12 -0.12)\">\n     <use xlink:href=\"#DejaVuSans-115\"/>\n     <use x=\"52.099609\" xlink:href=\"#DejaVuSans-97\"/>\n     <use x=\"113.378906\" xlink:href=\"#DejaVuSans-110\"/>\n     <use x=\"176.757812\" xlink:href=\"#DejaVuSans-100\"/>\n     <use x=\"240.234375\" xlink:href=\"#DejaVuSans-97\"/>\n     <use x=\"301.513672\" xlink:href=\"#DejaVuSans-108\"/>\n    </g>\n   </g>\n  </g>\n  <g id=\"axes_14\">\n   <g id=\"patch_67\">\n    <path d=\"M 351.816981 182.33689 \nL 422.883019 182.33689 \nL 422.883019 111.270852 \nL 351.816981 111.270852 \nz\n\" style=\"fill:#ffffff;\"/>\n   </g>\n   <g clip-path=\"url(#p9f488a6564)\">\n    <image height=\"72\" id=\"imagec9b1a1a4d2\" transform=\"scale(1 -1)translate(0 -72)\" width=\"72\" x=\"351.816981\" xlink:href=\"data:image/png;base64,\niVBORw0KGgoAAAANSUhEUgAAAEgAAABICAYAAABV7bNHAAAABHNCSVQICAgIfAhkiAAAD5ZJREFUeJztm0uTZMdVx3/nZOa9tx5dPd0z8jwkWUaEZWMQDh4BZuUgIIIFW74PX4ANnwM2rFiwJjARRBgwJmzJWJKlmdFopqdf9biPzDws8vZjZiTVSCDbi/pHdFT3rbr5+OXJk+ecWy1/Ln9l7PSZ0l/1AH7dtQO0RTtAW7QDtEU7QFu0A7RFO0BbtAO0RTtAW7QDtEU7QFu0A7RFO0BbtAO0RTtAW7QDtEU7QFu0A7RF/lc9gK9cIi9es5evMn8xQCIgijgHKuXVOcQpeA8yGqQKIlKuOYVskPP4noKOg85WfncO8+6ZyUg/QNuBGZYyWC7tj/eK9+Xz3mFh/P06DLPy413p8/r1lCElJBukVP6OkbxaQ0pY32MxfkFAF3CCR6qqQKlrJIQyyEkNqpgIKJgqaRowp0g2ZEhlfF4xfXZV09ST6jIJG+cSzhPhrINkaB8LYFXMFRC58uSgWFCGqR/7FMwBBhoNDHIlpKo0Krlcc73huowkQ/uMpIxbD+hRwPoezpfXAKkrC9vUSF2XFVJ3tVLjqtholqIKVQARrK7IwYNX0iSUwTspA1UhThzmrw0YyP7i/RGGCCmU68gVoDhR4tQh2cq9o7WZCiZl4uaEVAn9bARzwd1AY3nNAXKQy+tihkZwXWnbt4brDN0LhGlA+4T7OGBDBMt4t5iDKPb6bdav75FqZZiWjk3AHIiBawv5i0GYlEllXz6TGiE7yBWkClDIwTDHNRhgWtrIjSGLHnFG2njotLTtrXSYpfwgpTMbAVxAEAM13Gzg9uEZjY+00dNHT0zKug/kLIgYqmVxLl7NIGclRWU4qXFLhznFagdRuPMvcw7+WSBnPHWNiNAfTlne86Ra6PYh1+PkHJAhLAXXXa1E2S6QRwBpUj6faiNPc5mAL5NQn3EhjW7CEIG9actbB4+ZuIH3l4d8cj7HaWZSDTgxnGa85hd2ul50Tmnr1ekp37/xExau5SjOeZpmdDnwSb9Hlz15NEmVTK0Rlav7Nynwn0f3eHo2o6kH7i7O6JLn6BevcmPajIBuHZBFaG8GNreKqeYwrngGTcVczEFsxgX146J6K4Ac5CZjzqDKaFNgqBZQzhnejz7IBDM4WzX84PQbWBby2iOjBR270UrVwF07ba4fPHa1UO80t/m3xet4l+ijZxhc6SMLZoJoRrUsinN5XCBDgGzC6nSCrR19XdH1npyUvWU5VCRl/Oa1PRBhec+xuZdAwK0UjaBR0K6MJTWQKyN7yNMRhjPwGXGGryLOGVWITKrhci7ZBB0tIpvQDZ6YlfXRlMV/B8LquSN3NJrrvkNsBGTF0YqBJJAMJh6kBqDJ0Nho0fXVYudqdAlatv5119HE0lauYJgHJEN9YkhMxYLEwCiOUMct5FpB++LoXFusJlejL/GG+QzOEG+IK4BCSDiX8S7hxq2RsmIm4wxBxfBuJJCE6tSoz/Kls4arkyZVUnzZNV3ujgtQ+dn3JJfr2QmpHy3bl7YuD4DRpV2GyLncl6timZLBtwliAjP85KePQITm0ZyDdyZlIuPRJ9mQmEmN55M/nNLvG+ZHy3HFmZoJiuFcJriyjdrBE5Njta7Jg+JCppn0BJdYNB3zWcfx/X323+uo7p9cxS8XryrkWU2aBbJTciinV66FYaKj0y8HRPaQJuVA8a2VxU1GWGc0GRKvoGsyJF040LGrocwzV0qcODCYfnBKPjktFhQ/+PByFT4tKDIgHBwQvv3t4rRHQOKe3RpeM5VP9NExJMcweNIyIJ0SJ4lOM1YJjV9yuznnxwbV/RPSuz+/ZgZj8CmK3thHDxbgHXlakYMj7gVSpWS4gtMI/R6X0MgGvVBvEq7LuE3ErQeIGen6y63D+GoxQU7gPXVVlVDi+JR8fv6ZTF5USviNEc5KjJSde+bINWccT6viWEcHKknwS0UHyGslLT2rKvOhwZAdbq1Ieu6UMsOyIZph6JF1C07RmFDv0D6ifY05KUGig37PlaC0gfYV4/zNYkWTRwHXglg1bknw7VUAKeNB6/qMDnYZZEqE2bs1LFclDnoZPpYS08eRYRbQCH5T9v/FngawMc3IQcopeC1Y1gg6CDk4Tt9a8N6dhuljhX54sbOcsAzpbImsNmMDJXUR56icu7yGKNO7r6DfOaA9UPL3zvjb7/497/e3+LsHf8CT5Yxb8xWvzk7IpjzezNnEULoxIZlwumnoO0/OSo6CtY5X/+km8/c/LIbxMoAwQ4eM68ANZX9LuoJTPlNeUiPERkrKMcoNhm8zqVLcRhlahw58ftKYE5bT882/ID+b4tf7uKkyrQf+uD7mjjvjv/Zf46Nwg2/Mj3h7+hEJ5eHsBstUX947mOPBZp+zvqFLns0QON/U9LMF4hwG+EvH+HmDFSFOHf1iDPXvFmvxa8NviiXlANkJ3SF0tzKuhf13YHKUiBNl9TVHqoU4KcGjKRA84j2W0lX/zyecW5RPz5j+rKF+MuV/fnLIX9/5PtmUB5sF0ZQn3Zwf8RqOTELJJtQambqeZMp+aAFYx4o+OVSN1IAeHjxnQZ8HSpU4UYZ5iZj7GxkU6ieO6rgEjsOsxEn9qz1vvv6Yj0/3yO8tqM4iw7SivSnkutzPeMyadyUrh8vk8LIiUKa/FVI+P4flEp3P2X/3d/jHe79N3Qzcmq9o/MBJP+FsaPCSOKg21C5SE5lqAbTwm8u2zqRBxUoMtZhBet4HfdZgUqI6iUweK8OszC77EiNphOQhTY3UGKLG8XpCu66YtaBtImwyYaVEA6sy9X5Lv+exWYPMZ7BcXQECRAXL9vJ1GzMYBqozI3/SsJoGgkvkpiz6RaAazdG4gc77y5RjkyuiKTEX6zIAB7kOSM74lzLjtqP59/eZvDslHS5Y/cacWAumxfu3QYh3O/b2N5yfTTh574DqRJk/7AmPTtFhjsQp7YGjfXvgL3/zx/zD8F3Wr+8xBeTjI2jbSzhfRhYj+z85xw1z1rc8x7+3x+YgXKYdiOF9STumdc/XZku8ZHSMNtexKpCyQg3DYVOy/ZfqPSfSkyN4coRbv8JkGogzX0oSjSJZ8HXkcLbm/HRCdSpUZ+DWEfoBXfdUp4FcCeoSb04eM521xGlNmlaEEL4UlGf8lSh6vmb6MGDacLpxxLknJ8FS+Vx0JQ/LWahcIrhE7SKVSyTTMfIHFFKtJTT4omOytiU8PMHXAas8Vnnq04ZUz3mwmLH/SJjfT2QPT353SvzeG0yeGIsPOvwq4X8052+Wf0F9vyIsB+Q5C7aUih+yFzN51KFVQKoKbt8i70/JtadfFPjrW47uUIgzyPMeL4YtA9VTh6SSPkmGNGl4OJ9jlVHfXvPKYkkywWnGuUy8xv2LVRSBvFqX0iRcll4ne3NefXSHPA34T86w+x/Dm1/nwZ8t+JO33+UHP3yL+QMlnA3c+Vcj/YdDh56wjCXyvQ7JDCx92ghKNXM2RaZTVt+8yfKeZ9gT1reN3Bh20DFbtDgTmqSkJPgzx94H4FqjOUm4TSLOHP1cGWbK8dtTTkPEaaYOkeAS8do58cWL9nZ1sthYJ7auR5cbZEjIck3abHBdj7bK026KqbG56alqLWXOISMGqXaoF+zGHj7feRaSe7ZGDUAVyPOG1AS6G45hLsRJOT0tjIW4PC5klsto1caoX/uM36SS9AqAor2QsqJi4w+lzBNL3vbygMxeTCrHI9naDj5+jDglj4V2zpbc/OFtfnH0Bn5ufPynEZKweCcwe1Ay+FJ+hfSthlzdLG1eL3dU40RGA8v+qqqQayOP+aAkQdaCdRXt06pUHGYR9Rlqo72phCXM7xvutMUthXCiVHs1J2819L1Darss1LkeqqPNFwT0vEY4ooKlhI3J3aU2LXsf9bg+8PQ7whvfeAzAw6O7NEclE4+NYB66Q0psRanNwFjRbJ7bas5wVS4l076UR2VQ3LI4VOkESUKujaHSYjnOSBNDh1K2la4vmUG2Yil9M55epW4lUmrWuu4/JQ7apuvR7uhEP8NdYH1P9WiFdg2pmvDR5A7moe6E9rBYQpxA9mUC5ksSSZayBZIg3Zh3Zcp7CmkzWk2WMsFB0KFYkalhzq4KjqPRl6wflq9VxNktwnmk+mQJTnADpLWnM2FVD8SkuI0h52uI8Uta0KfFTs9F4rnrkJ/+HO+UVx7cYfGLQ4a55/gtZX23BJW2FxGXsaiQpECJ48R7QTq5Kvvmi8ri6Fd8qYHLAH5TrCM1xXrMX9R8xkdQHoa5cfJN0OiZfeS4tRowJyXYPfOkqCyrmpSEw6WRHj/Bhi8L6CUh2tBjA8jZOeGoQfsGv3LoWO1LmZLUDop0iqRSzbxMhC989MWJP1b8GB94mALjQ4PLbNZGn9QpFg3dFAiXZjWWW1PtxkdUV/elWAJFjZTHPvlls/mXBPKCxoeNtt4gDx4TQuD26pC4X9MdBM6+XpEqqI+N5jSj0QjnCUnG+nbF6q6SaugOyjaUZGgUzBnpIFLNeobOE08DMgh+JYQzwfUQzhXXQ32WaY46TIRh7smVkL1w/kZDqoX2FSPvFT8xrAL0iuuu5vLVPpsfH1PntoN1iZ14+DEK7L32KjrcIzbK9EFLeHgMbUc6PsGGyOL3f4s42WOYC+0tsGnCkmCDYN6YH6y5tzjjuJ1wJHNy52AdCCsIS2PxQU8463GfnBA/fIAET333NjabsP76gtU3A8MMhv2Emw2kziErj1srrouXPvar//KC5U+Niq1tqY86fOOxSulfv4lrI66poeuJXqmWpSoXloJ5VxxyDwisuwXv1HN0o9RPS+WyOSrBoF9nwtMWXXfYui39p4RtWgSojyrmM6WfKXGu9JPy4NKfK34tuO5qvF8tIMvllPuU7ZdPTtEftbhJw/qP3uT4WwG3MfbuT/CrhKbM9GFHNXGkusJvFO0grA0dYHKUCcuIWw34J+cwRBiGUhVIGes6LOfytxkWI/noacnZHh+x+HmDLPZIzV1OG49fCc1jIayMcNJeurSvGNBnVwosRixGZCxzxAYwIdWCREWXGV0PeDPCOpCD4FojrA3XG82jDe5pKcumx0+eKZd8Xp8ANvSwWuFiJCzv4DaC2whhaYSNIV36JQF6CdkQmf7sKXc3+8iQCccb6AdkiND1OO85WC9Ik4DGjHQDkgw5XWKrNbnvS4L7JZQ3LQc/PmNyNMN1CX/eI31EHj+9XFz5tfif1W1fcvo/fglqa9/PVw/sl3WKvay2Tfb/C8Zntf1Z6QC77yhu1Q7QFu0AbdEO0BbtAG3RDtAW7QBt0Q7QFu0AbdEO0BbtAG3RDtAW7QBt0Q7QFu0AbdEO0BbtAG3RDtAW/S+wfnakK49JHgAAAABJRU5ErkJggg==\" y=\"-110.33689\"/>\n   </g>\n   <g id=\"patch_68\">\n    <path d=\"M 351.816981 182.33689 \nL 351.816981 111.270852 \n\" style=\"fill:none;stroke:#000000;stroke-linecap:square;stroke-linejoin:miter;stroke-width:0.8;\"/>\n   </g>\n   <g id=\"patch_69\">\n    <path d=\"M 422.883019 182.33689 \nL 422.883019 111.270852 \n\" style=\"fill:none;stroke:#000000;stroke-linecap:square;stroke-linejoin:miter;stroke-width:0.8;\"/>\n   </g>\n   <g id=\"patch_70\">\n    <path d=\"M 351.816981 182.33689 \nL 422.883019 182.33689 \n\" style=\"fill:none;stroke:#000000;stroke-linecap:square;stroke-linejoin:miter;stroke-width:0.8;\"/>\n   </g>\n   <g id=\"patch_71\">\n    <path d=\"M 351.816981 111.270852 \nL 422.883019 111.270852 \n\" style=\"fill:none;stroke:#000000;stroke-linecap:square;stroke-linejoin:miter;stroke-width:0.8;\"/>\n   </g>\n   <g id=\"text_14\">\n    <!-- sandal -->\n    <g transform=\"translate(367.592188 105.270852)scale(0.12 -0.12)\">\n     <use xlink:href=\"#DejaVuSans-115\"/>\n     <use x=\"52.099609\" xlink:href=\"#DejaVuSans-97\"/>\n     <use x=\"113.378906\" xlink:href=\"#DejaVuSans-110\"/>\n     <use x=\"176.757812\" xlink:href=\"#DejaVuSans-100\"/>\n     <use x=\"240.234375\" xlink:href=\"#DejaVuSans-97\"/>\n     <use x=\"301.513672\" xlink:href=\"#DejaVuSans-108\"/>\n    </g>\n   </g>\n  </g>\n  <g id=\"axes_15\">\n   <g id=\"patch_72\">\n    <path d=\"M 437.096226 182.33689 \nL 508.162264 182.33689 \nL 508.162264 111.270852 \nL 437.096226 111.270852 \nz\n\" style=\"fill:#ffffff;\"/>\n   </g>\n   <g clip-path=\"url(#pc9c25a98f0)\">\n    <image height=\"72\" id=\"image8a5f3e56df\" transform=\"scale(1 -1)translate(0 -72)\" width=\"72\" x=\"437.096226\" xlink:href=\"data:image/png;base64,\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\" y=\"-110.33689\"/>\n   </g>\n   <g id=\"patch_73\">\n    <path d=\"M 437.096226 182.33689 \nL 437.096226 111.270852 \n\" style=\"fill:none;stroke:#000000;stroke-linecap:square;stroke-linejoin:miter;stroke-width:0.8;\"/>\n   </g>\n   <g id=\"patch_74\">\n    <path d=\"M 508.162264 182.33689 \nL 508.162264 111.270852 \n\" style=\"fill:none;stroke:#000000;stroke-linecap:square;stroke-linejoin:miter;stroke-width:0.8;\"/>\n   </g>\n   <g id=\"patch_75\">\n    <path d=\"M 437.096226 182.33689 \nL 508.162264 182.33689 \n\" style=\"fill:none;stroke:#000000;stroke-linecap:square;stroke-linejoin:miter;stroke-width:0.8;\"/>\n   </g>\n   <g id=\"patch_76\">\n    <path d=\"M 437.096226 111.270852 \nL 508.162264 111.270852 \n\" style=\"fill:none;stroke:#000000;stroke-linecap:square;stroke-linejoin:miter;stroke-width:0.8;\"/>\n   </g>\n   <g id=\"text_15\">\n    <!-- sneaker -->\n    <g transform=\"translate(448.917058 105.270852)scale(0.12 -0.12)\">\n     <use xlink:href=\"#DejaVuSans-115\"/>\n     <use x=\"52.099609\" xlink:href=\"#DejaVuSans-110\"/>\n     <use x=\"115.478516\" xlink:href=\"#DejaVuSans-101\"/>\n     <use x=\"177.001953\" xlink:href=\"#DejaVuSans-97\"/>\n     <use x=\"238.28125\" xlink:href=\"#DejaVuSans-107\"/>\n     <use x=\"292.566406\" xlink:href=\"#DejaVuSans-101\"/>\n     <use x=\"354.089844\" xlink:href=\"#DejaVuSans-114\"/>\n    </g>\n   </g>\n  </g>\n  <g id=\"axes_16\">\n   <g id=\"patch_77\">\n    <path d=\"M 522.375472 182.33689 \nL 593.441509 182.33689 \nL 593.441509 111.270852 \nL 522.375472 111.270852 \nz\n\" style=\"fill:#ffffff;\"/>\n   </g>\n   <g clip-path=\"url(#p4be0b3dee8)\">\n    <image height=\"72\" id=\"imagec9be0d6789\" transform=\"scale(1 -1)translate(0 -72)\" width=\"72\" x=\"522.375472\" xlink:href=\"data:image/png;base64,\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\" y=\"-110.33689\"/>\n   </g>\n   <g id=\"patch_78\">\n    <path d=\"M 522.375472 182.33689 \nL 522.375472 111.270852 \n\" style=\"fill:none;stroke:#000000;stroke-linecap:square;stroke-linejoin:miter;stroke-width:0.8;\"/>\n   </g>\n   <g id=\"patch_79\">\n    <path d=\"M 593.441509 182.33689 \nL 593.441509 111.270852 \n\" style=\"fill:none;stroke:#000000;stroke-linecap:square;stroke-linejoin:miter;stroke-width:0.8;\"/>\n   </g>\n   <g id=\"patch_80\">\n    <path d=\"M 522.375472 182.33689 \nL 593.441509 182.33689 \n\" style=\"fill:none;stroke:#000000;stroke-linecap:square;stroke-linejoin:miter;stroke-width:0.8;\"/>\n   </g>\n   <g id=\"patch_81\">\n    <path d=\"M 522.375472 111.270852 \nL 593.441509 111.270852 \n\" style=\"fill:none;stroke:#000000;stroke-linecap:square;stroke-linejoin:miter;stroke-width:0.8;\"/>\n   </g>\n   <g id=\"text_16\">\n    <!-- ankle boot -->\n    <g transform=\"translate(526.185366 105.270852)scale(0.12 -0.12)\">\n     <use xlink:href=\"#DejaVuSans-97\"/>\n     <use x=\"61.279297\" xlink:href=\"#DejaVuSans-110\"/>\n     <use x=\"124.658203\" xlink:href=\"#DejaVuSans-107\"/>\n     <use x=\"182.568359\" xlink:href=\"#DejaVuSans-108\"/>\n     <use x=\"210.351562\" xlink:href=\"#DejaVuSans-101\"/>\n     <use x=\"271.875\" xlink:href=\"#DejaVuSans-32\"/>\n     <use x=\"303.662109\" xlink:href=\"#DejaVuSans-98\"/>\n     <use x=\"367.138672\" xlink:href=\"#DejaVuSans-111\"/>\n     <use x=\"428.320312\" xlink:href=\"#DejaVuSans-111\"/>\n     <use x=\"489.501953\" xlink:href=\"#DejaVuSans-116\"/>\n    </g>\n   </g>\n  </g>\n  <g id=\"axes_17\">\n   <g id=\"patch_82\">\n    <path d=\"M 607.654717 182.33689 \nL 678.720755 182.33689 \nL 678.720755 111.270852 \nL 607.654717 111.270852 \nz\n\" style=\"fill:#ffffff;\"/>\n   </g>\n   <g clip-path=\"url(#pb9484915b4)\">\n    <image height=\"72\" id=\"image5ea7593bde\" transform=\"scale(1 -1)translate(0 -72)\" width=\"72\" x=\"607.654717\" xlink:href=\"data:image/png;base64,\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\" y=\"-110.33689\"/>\n   </g>\n   <g id=\"patch_83\">\n    <path d=\"M 607.654717 182.33689 \nL 607.654717 111.270852 \n\" style=\"fill:none;stroke:#000000;stroke-linecap:square;stroke-linejoin:miter;stroke-width:0.8;\"/>\n   </g>\n   <g id=\"patch_84\">\n    <path d=\"M 678.720755 182.33689 \nL 678.720755 111.270852 \n\" style=\"fill:none;stroke:#000000;stroke-linecap:square;stroke-linejoin:miter;stroke-width:0.8;\"/>\n   </g>\n   <g id=\"patch_85\">\n    <path d=\"M 607.654717 182.33689 \nL 678.720755 182.33689 \n\" style=\"fill:none;stroke:#000000;stroke-linecap:square;stroke-linejoin:miter;stroke-width:0.8;\"/>\n   </g>\n   <g id=\"patch_86\">\n    <path d=\"M 607.654717 111.270852 \nL 678.720755 111.270852 \n\" style=\"fill:none;stroke:#000000;stroke-linecap:square;stroke-linejoin:miter;stroke-width:0.8;\"/>\n   </g>\n   <g id=\"text_17\">\n    <!-- trouser -->\n    <g transform=\"translate(621.746173 105.270852)scale(0.12 -0.12)\">\n     <use xlink:href=\"#DejaVuSans-116\"/>\n     <use x=\"39.208984\" xlink:href=\"#DejaVuSans-114\"/>\n     <use x=\"78.072266\" xlink:href=\"#DejaVuSans-111\"/>\n     <use x=\"139.253906\" xlink:href=\"#DejaVuSans-117\"/>\n     <use x=\"202.632812\" xlink:href=\"#DejaVuSans-115\"/>\n     <use x=\"254.732422\" xlink:href=\"#DejaVuSans-101\"/>\n     <use x=\"316.255859\" xlink:href=\"#DejaVuSans-114\"/>\n    </g>\n   </g>\n  </g>\n  <g id=\"axes_18\">\n   <g id=\"patch_87\">\n    <path d=\"M 692.933962 182.33689 \nL 764 182.33689 \nL 764 111.270852 \nL 692.933962 111.270852 \nz\n\" style=\"fill:#ffffff;\"/>\n   </g>\n   <g clip-path=\"url(#p42ef10c261)\">\n    <image height=\"72\" id=\"image6936ce212b\" transform=\"scale(1 -1)translate(0 -72)\" width=\"72\" x=\"692.933962\" xlink:href=\"data:image/png;base64,\niVBORw0KGgoAAAANSUhEUgAAAEgAAABICAYAAABV7bNHAAAABHNCSVQICAgIfAhkiAAAE79JREFUeJzNnN+PJNd13z/33PrVPT0/dna5y6UoSiJDSZCjBPKDgcRC8mIDfnCAPPgPsP89I68BAiQPeRAcIEASKY5sGJTMFSlyOZzd+dUz3V1V957jh1vVXd0zs5yd7Y15gN6ara6uqvut8/N7zy33J+4vjC1K9u4T9MkhOspZPKoIYyFUjnYM5h2agXmwDGIBJqClpf0CiGFu46QC5kBakMYhAfKpI5uDi4Y0IAFGJ5HitCG7bOC3n6PT6fUbdA7s7kPO7o3ETRdyDrzHMsHEJSCk+3jXbQf7ZDV4E8BZt+3OZ+lvE+u2rtsOfm8ugSqgmUvX9g5xmyjfT+4HkPjuDwUzZDxG3n2MTipO/uUBJz9xaAFxpFiuuCpS7jSIKGYOM4eIUmUR54wii2SiiDNyHxFnqDnUHOKMzCnOGYuQc9UURHUsmpxZEGLr0ascFxyudbhQMv6q4v15izwLWBuwtkm3ew/QXh8g53A+AWQx/ePGI+b/4hGLw4yvfq785R//gv1sBoDHeJKf8cP8a8QZJ3HMhVZ4p+TEdIxTPIY4pSAiTmnNExEAKtfiMa6s4CyOUQRBAfgqHPD/rr7DPBYcFlccZlf89bOfMf/1PqPjU5jNVgANxnBXM7u/ia1dsDMpATLjSX7OgZ/RmEcRdqQmd2lA4nQJSA9OL2oCLqIm3ffpO48tjx9KOo+Su0iQiEeR/nxmYHqDG5C0/45yf4DE0SkAaMTXEd8IREdEWFjOSZgw04Kjdp9P5F3UhJOwwzzmZKKMpVkDSDC8S4PMXSR3cQmAd8pZHPOi3aU1j3ae/CJUPJ/v00RPtHdQc5w83+fR6QKdXkKMN9z83eWePui6LbtgSDCcOtSEaMI0VlzGEjXXDUo4a0csYkYhkZ2sWT1xwDtDOlMrJTD2zQo0jPM44kU9oTUhqEdxzELBRV3RqjBvcuo2w194ZNaidX1vYHrZjomp4aIirXUa5Jb+o5fkeCGXSDAhk0guERmYjrjkqHutKV0AWGmVRjKJoKBOkhPHcM7wzijzQOaVeWXg/zmj2KbEiDQRqRUXPLXm5C6irN+kOCVzSiGBUiKFBHJ33QTEGWPfMPbrGpC7yMi3NM5ol3E+HY8o47yh8JHj8T6WybXz3ke2cxYAM5yCe0VwEGedk+62XHeWMjjBbc5ZbtjX/7aQ8OqbeE25nwaprfkhM8PVyVG7UBBNUkRiMOCNyKEmtOaTj0GXxwVNv4vSbXHUmhNNqDUjqKftzq/mUFK+ZF3epOa4norfX+5vYjp4Sqq4GHFtxBkoyQ/10g9eN248gahr7mLTdwG05gefzkEPADFzBJUOpO0ZBWzLxMwgRFyruAix155bTCH2T3p4Ixtm0YM8HLB2ACgrzRmeR3EEEwYp1BvLVpy0xYjMa0QEaVchHcCjRJI5pG33cYbiEBI4vVPvU4LYmSB0GqQpsw4mxE5jgvk1kLTbj34bTGwoahBCSspueXI9SJuaAwmglDDK0sT0FeZy+36XtHeL/MT9ADJNKfvg/9a2uLrlhqg98BeyNAMZOO0+7+lNUy0B1WtQvAEQHfid3jyjClFTNu/MtoLT/TXIdBmZTA1rWsga3CtsX3FL/zOMctJl0N5pZ2JCUFlGshvP1UUxAOcMAVoV2uhx4fU4n1fJdkwMQBViF8VsPYL1zlqwtYH1+/twnf5+FSjuVgev3fchdj7oNoBeo1CFbQFkmjRIJEUxhIhLGtE53lLC0mSCeoKs32g0odVVGMevKv1aM1rzBPPpt52pQtKe3EXMHFdaULcZ0nKzLzT7/8gobl7YNGnRpgaxMqH+u80SJCJdWO980A21XC83hfdeg8wcMQpOkw/ahmzNxEwtJYvdfalJAqXTotb8srQIKsuMuZfYZ8ZdGF/7rk8TBvszpyDpXHXMOge9vfC+vM7WzqQRs+xmDerKCXVJe6LKht9xtPj1aDdMAG09t+prugwICHXIlrnRtmV7AEGiPazzQX2i2GmQOPvG/KQ3tbV9A7CG5cWm2HDfq67zmqb3+gCZYXr7RVyEaVsxloaJr1d0xuDhBktZ8DLkc33AwTyzWAAsHXQf/m+KdM5ZqsXUfUsSRbj+NCw56XZQJohTcpIm9FHpNi3YlFX2LR2Yskw214k2W/kncwnub5uTBsAJmsOTcsrj4gLf5T0AlbSg6wVsP+DoDCEO9rs1nzL0VaEzuUx0LY/qtUfNIf/sGvQKiSX8ePSch9klX7X7TLUid5HKtcmxSlxxPyaICRlx6aNiZ3JBPdEPK/lUqNYx67QvUEgCNVrn+FWw6FI2vyUN2r7bd5C7QN7xycPIs8kOxhsi1lB6U9wM+0MZOueUjrmtUR3wFjQIg5mWFDEy05KZFuQuUrgAAqVEso6cT+D0c1+9f9pMAWTJIkJH4HffhQH4zhkxeGzh8bWDuB2U7qdBZreqsFNYWM7CcmZasNCc1vxyjkuc4of+44YIdo15ZKVpPRj9cUpyyuIMVYdrBAl8S510Jz3h1ecw0YSF5kQE76ybh9ekAbpeoA7NKpi/du5rzGN3bNTt8kC9bB0gp9BqxkLyJY9cW8ZMyyVPXUjyT030BCfUPluG9NBFtqCJRQSWPqinRmA9aQzR0wSf/M92Ofu3o0FDk+g1KDUjrAa64oSu+4oh53yT9L8HOqL+rSgP8JacdJ8klhKWVflMi2X5UUik6aaOdYNX7uW2DBtSgdqq77ZCiB5VwYmhWd9j9G2aWR2Is5Q1Rxy5i4ylQXFLZw1p+nmtvrqFLIt2ff/SrDr2sI0dwJ15kSmWsTWAtp8HGcxjTq053imVtAiW6ildTQcNzeQmlnBThlomXd0Vuwy6F+fSiLY5NbZdgEyRFo7qPV60E0ppeZRNqaRlHnPmWiAYO1lN3mXBffHZTwqmm1ovR0L3UXPLHKpVoW6z5JzNJV7aR3wZ0dzAb2doW9cgF2EWcmrN8FjSIKepGte+gLUNEO6uPcN9UdenJkUMEd3qqLbugyQa07ZiGirEadddFtfMaJU1d0UmrpsEXB9Z6ABdN69VJq295gz4beeg9Xx7fZALcL6oOG8qAHZlnmZNTVYm5FY+qA/nq+mgdee94qDTb/sqvm8GNXP4rj8o80qeBywz7FsbxRRCFBpdP/UmhQo9j9PvW2cT78oZLa/bgWTWRbMtPfq3YGJw1eRcNiW15te+b02QLvfpp5zVHLX69ULVhNBZTj8HLzhko8bqTUwceEl13nluN5vYcN8da7Xtm5gaIaQELt5YiMot2iLLMgNW2fhmg8KNg3CdBomSi2L+FoBgNWV+RxPcfh7UXbu/fDTBo5Q+LFuB226ScCjXZku7Zs7NaLfeNNXv70uOjoW8TTn6+bv+7zvI1gEy10WWvqhEEGfs+JqdLPUcNpotuRxY+Z/1yUAlk8RApmNWWfXwuES1pjmxqIm7dq+cer6dqrlJ3sgHyc4OblSB97gsgyKn2XXkeST3MXXPc70X8VUM4atEzaW5tY3fu44jsq6yN2eEvYr8yeNOvVJDuc0XaWlCjKB365++N0CuLJn/+59w/K9zwo7RPA7IOHB48IIfPXjBYTHjUXZB4SKR1F84j8XSzwwj2XLw30CtKinzjn3JIolbKro1H9N5RVNnMIo8+/MKX3+EtA5pIbuCh39XUxxd4c+mhC+/uhNI9wcoyzj9OGfn58d8sHfKXz39BR9mJ/xD+5hfzT6gkpY9v1g2itedWd2mPTcBtNnb2NdfQ6pVJJkikILDLMePAt/52XP2ygUXdcX5vOL8fEy2KNlzUALu6BjbGkDOIeMxrirh4QNmHx3S7HmmH0V+MLng/fEZBzJjV5R3/AU/KL8GoDHPcdjjMlZrBNhQezYZwhVgQlBbpgPaTwxy/bdrU85duTEpah6WV1S+ZZynlUYXPygJo5LqSc7uwU/w8xb57Gvi8fGbAeS8xz19TDyccPyHE0b/8YifHj7nT8sLHmWXPMnP+DCb8ciP2JWaD7NnnKnwN/MP+X1zyGkYM4/5mmOGxCz2AGxKMEm9Pv2Niqamh7gqTjOvqMG8yZdli+RKWQY+2Dnl/fKUvGtWPz8c87cH7/FiPuGrs12+PhqTn4/44L/kyJsChPfYuKQ9KKkPHX/25Df8u91/YGE5jXke+ksqJ+TOM6Ygl0hLQ2uey1guwbkJjNs0CL5Z05wzMIexmv5xYt0as0glLWOpu09DPcl4XF2S+8inwdNKSaz8K0P5nQCSsuT8R/uc/tAz/35LKSGt+cIoXIpWC1MudcHMIldqHGvJSZhwESrmMV/6mH6B3G1sYT/tfxMo0hH+ao5xtzVztF23yMLnNMGT+chXiz1qzdjLFjzIZrTmOQtjLkPB0XQCX4wYnTryy/krx343DSpyLr7nif/qku8eTMldZBpH7Po5O92M6cIADUzNcRJHvNQdzuOIq1AutWdt4N1yywTKev5zG+PVlybesVyhOCTvU8Ga4UV5udjhoqk4LGe0VepMu2grFjHj6rJifOQoTw0/rXmVq74bQCFQvTTmn4/5MnhO3xlzmF3SWkZjHtGcE1eQO2WmOVdWsNBiY+A3mFbXld8PdLXVa9THGri3yHDOrA4ZrfPXks1MFAtCMTXKqUHTvnLodwJIL694/N8+59H/mvD1v3nAJ+8/5lF+2fUBORThWfvOqgBFmWlJrVlaZumUzN084GVZ4FYDSOe5/lyD+sH3HenmVhroRcl9pI2e83mFquOyLjgtRhQ+8mQ8ZTersbln/7cN5Ys5nJ6/OUAWAuHz38PnMPneHzFty8HaidRgeRImtOY7x9iwsGxNC/JBo8Fw/5CbHmoS3FCfOUXNX2Mkh7KsAaMQQrcgRoVR0S7vwwVHcd4gZ5do3dx4ntcC6DZZNXxnS8DQVKDWlk7tNwbT5zRDadWvaVI693qmLc4IKojZtbUara6WaGaiRHN43835+1Wmfdmm1Y9+JsjFHJteYs1bBAhYTgi25qk1oyZbYwuzwWLeoaz5GGHFV3dIhUHw7Yn61LSZllA1HSjRhHmbeKes44Nyc+Q+gZL7SNYtNb9sSuYhJ7tycHZBPDn9xsL1tat5F4wXlzv8dvYOJ2FnOdhNxjARXB1l0S2i6z83AXb9xuyWUN8Dvmov7iPatXslcUX9AzufV3w9nZAtSOtK7lDVv7YGVcdz6l894L8/3+XDj7/iPzz9v2salLu4vPlM4tqaDOjag7uVPpCi1ZDQH5rUUpsGD6DwEYjddJFDRfCd447LHsaOr+6u6Z0xqwsu/vGA4lQ4/DRi3+B77g2QXNWMnxvSZBw/3VkxgJ3zHbbTeTYWvaQj06abfU0a4Vc11sYi3+H5+ySzO7C75qqNpg7rwNgA9KBCeSKMnxvVy3Dn5eKvDZC7uGL/032qs4zn35/w4nsTcolMspoJdbecYMUW9lzQZuf8sMGh0YwmphCe+7QSutaMRZeBz0JBVCH3kcqv8pa1PIuOciUmbrrTxDILjLKW09mI7CXsf9pQHl2ibXg7AIXnR1Rn54z3djn94Yd89geHHBZXfL96ycQvOA07nISdV4br3qx6or6JnlkoqHxgP18w8g11kzELBW30XDQlTfBUeWC3kJX/2YiQvS/KnDIeNWnpedcX+cXFHpPPAsX/+Ht0+D6PbQOERvTqCoD8Ej6bPmAxzni3uGDS8T+9aS2ZRLdq6W3xgOJx5E5RZxRegLSku+yq75FvWfiMzCmNptwnl5WDzjrnf5NzFmdLNuAiZixixsV0zIOrgM5mrzXce4d5a1oe/58FL+unHL33LuHnnj968AyAia/xTtn3s2Ujeb9A7jTsLBvEJU+11YPsikOfSpeTuEOrGR+OjnnoLwG40pSYHrX7PJs/pFXPTlYz8i2eFWFWSUvuIr+bP+Rvfv995pclxe9K9n8DTy8i5SdfcDfD2gZAoaX8+y94erTP+R884LOfHvDx7piJr9nPEjDvZFN2pE5vYrCUUPavrcg7OqKUlh+XX/Jxfs6ZZvxy8T5THfHj8kt+WlwsPZcC/7tO3FKjGQfZLHXydxqXu8iO1FSu5UU7YXYyJj/OeOeXys5//iVW168NzhsBBGB1g7uaMzqecPzrQ/7Tyz/EeUMyJcsi7x5MOSjnPChnfKc6Wz7hXb+glJYDP6NyLQcyp3JppeGn9WOOmj3UhMp9uvZmhoXlfFCesNB8uYLo06tH/N3pE+ZNThs9MQrz84qd3+SUp0b1df1GLzh5gyWZRjy/wF1eUZye8/Fnh1iZd5Nijrhbcvqjp5weOn791Kg+Pmd/tOCPn/wjPxv/jgM/47vZGZWL7ItjVwo+Mc8vXnzEF6f7PHt4yNGDvdShT4pS7xWn/NvxJ0Qcf7v4Lp/VD/mfzz9A/usDxsfK4XFD/nKGa89xl3NoW/Rqhob76M6bAgRpCZRGYtvAxcXaV/5gn73RR8znBZoJlw/HtLue5/t7fFBOiAi7MqdygcYCU6151n6Po+mE+XnFF9k+e8Vi6Yx9l1y+l50C8CLsclTvcTmteO95ZPzlnOzzF4QvvnyjIW2K2/ZL3pYnLkv8e++iOyPCwxGzJyWhcsweO9pd0vvKHKvy24GfOSZfGPnMaMeOduLWjoklhFH6O5uDr2F0rDz41Qnu4go9v9jKi92G8la6XIHkFD/9XZoRASZOcN7z8GAfN66gabGrWZrEixHrO+NN0+rFG95RBKwy88GK63jTm6Zgff79niC9NYCW0t+URcw0vYAgRKxtsabBQjfTuXHzr7k4+a3JPwHVq940kOJ+VgAAAABJRU5ErkJggg==\" y=\"-110.33689\"/>\n   </g>\n   <g id=\"patch_88\">\n    <path d=\"M 692.933962 182.33689 \nL 692.933962 111.270852 \n\" style=\"fill:none;stroke:#000000;stroke-linecap:square;stroke-linejoin:miter;stroke-width:0.8;\"/>\n   </g>\n   <g id=\"patch_89\">\n    <path d=\"M 764 182.33689 \nL 764 111.270852 \n\" style=\"fill:none;stroke:#000000;stroke-linecap:square;stroke-linejoin:miter;stroke-width:0.8;\"/>\n   </g>\n   <g id=\"patch_90\">\n    <path d=\"M 692.933962 182.33689 \nL 764 182.33689 \n\" style=\"fill:none;stroke:#000000;stroke-linecap:square;stroke-linejoin:miter;stroke-width:0.8;\"/>\n   </g>\n   <g id=\"patch_91\">\n    <path d=\"M 692.933962 111.270852 \nL 764 111.270852 \n\" style=\"fill:none;stroke:#000000;stroke-linecap:square;stroke-linejoin:miter;stroke-width:0.8;\"/>\n   </g>\n   <g id=\"text_18\">\n    <!-- t-shirt -->\n    <g transform=\"translate(710.536356 105.270852)scale(0.12 -0.12)\">\n     <use xlink:href=\"#DejaVuSans-116\"/>\n     <use x=\"39.208984\" xlink:href=\"#DejaVuSans-45\"/>\n     <use x=\"75.292969\" xlink:href=\"#DejaVuSans-115\"/>\n     <use x=\"127.392578\" xlink:href=\"#DejaVuSans-104\"/>\n     <use x=\"190.771484\" xlink:href=\"#DejaVuSans-105\"/>\n     <use x=\"218.554688\" xlink:href=\"#DejaVuSans-114\"/>\n     <use x=\"259.667969\" xlink:href=\"#DejaVuSans-116\"/>\n    </g>\n   </g>\n  </g>\n </g>\n <defs>\n  <clipPath id=\"p6442f4e0b9\">\n   <rect height=\"71.066038\" width=\"71.066038\" x=\"10.7\" y=\"22.318125\"/>\n  </clipPath>\n  <clipPath id=\"p7d1d9d61cb\">\n   <rect height=\"71.066038\" width=\"71.066038\" x=\"95.979245\" y=\"22.318125\"/>\n  </clipPath>\n  <clipPath id=\"pbfd9f47c4c\">\n   <rect height=\"71.066038\" width=\"71.066038\" x=\"181.258491\" y=\"22.318125\"/>\n  </clipPath>\n  <clipPath id=\"p266e299f0b\">\n   <rect height=\"71.066038\" width=\"71.066038\" x=\"266.537736\" y=\"22.318125\"/>\n  </clipPath>\n  <clipPath id=\"pdfb3a33b2f\">\n   <rect height=\"71.066038\" width=\"71.066038\" x=\"351.816981\" y=\"22.318125\"/>\n  </clipPath>\n  <clipPath id=\"p2ab95ff7c7\">\n   <rect height=\"71.066038\" width=\"71.066038\" x=\"437.096226\" y=\"22.318125\"/>\n  </clipPath>\n  <clipPath id=\"p6dc733dbdf\">\n   <rect height=\"71.066038\" width=\"71.066038\" x=\"522.375472\" y=\"22.318125\"/>\n  </clipPath>\n  <clipPath id=\"pf0a61781d5\">\n   <rect height=\"71.066038\" width=\"71.066038\" x=\"607.654717\" y=\"22.318125\"/>\n  </clipPath>\n  <clipPath id=\"p5622837949\">\n   <rect height=\"71.066038\" width=\"71.066038\" x=\"692.933962\" y=\"22.318125\"/>\n  </clipPath>\n  <clipPath id=\"p2b446050f3\">\n   <rect height=\"71.066038\" width=\"71.066038\" x=\"10.7\" y=\"111.270852\"/>\n  </clipPath>\n  <clipPath id=\"p4e87f2cf1d\">\n   <rect height=\"71.066038\" width=\"71.066038\" x=\"95.979245\" y=\"111.270852\"/>\n  </clipPath>\n  <clipPath id=\"p492d9002e0\">\n   <rect height=\"71.066038\" width=\"71.066038\" x=\"181.258491\" y=\"111.270852\"/>\n  </clipPath>\n  <clipPath id=\"p0526c02311\">\n   <rect height=\"71.066038\" width=\"71.066038\" x=\"266.537736\" y=\"111.270852\"/>\n  </clipPath>\n  <clipPath id=\"p9f488a6564\">\n   <rect height=\"71.066038\" width=\"71.066038\" x=\"351.816981\" y=\"111.270852\"/>\n  </clipPath>\n  <clipPath id=\"pc9c25a98f0\">\n   <rect height=\"71.066038\" width=\"71.066038\" x=\"437.096226\" y=\"111.270852\"/>\n  </clipPath>\n  <clipPath id=\"p4be0b3dee8\">\n   <rect height=\"71.066038\" width=\"71.066038\" x=\"522.375472\" y=\"111.270852\"/>\n  </clipPath>\n  <clipPath id=\"pb9484915b4\">\n   <rect height=\"71.066038\" width=\"71.066038\" x=\"607.654717\" y=\"111.270852\"/>\n  </clipPath>\n  <clipPath id=\"p42ef10c261\">\n   <rect height=\"71.066038\" width=\"71.066038\" x=\"692.933962\" y=\"111.270852\"/>\n  </clipPath>\n </defs>\n</svg>\n"
          },
          "metadata": {
            "needs_background": "light"
          }
        }
      ]
    },
    {
      "cell_type": "code",
      "metadata": {
        "id": "hnSAmanORHse"
      },
      "source": [
        ""
      ],
      "execution_count": null,
      "outputs": []
    }
  ]
}