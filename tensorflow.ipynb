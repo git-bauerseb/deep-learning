{
  "nbformat": 4,
  "nbformat_minor": 0,
  "metadata": {
    "colab": {
      "name": "tensorflow.ipynb",
      "provenance": [],
      "collapsed_sections": [],
      "authorship_tag": "ABX9TyNJNZYS3RfFZ+7IoemskgdS",
      "include_colab_link": true
    },
    "kernelspec": {
      "name": "python3",
      "display_name": "Python 3"
    },
    "language_info": {
      "name": "python"
    },
    "accelerator": "GPU"
  },
  "cells": [
    {
      "cell_type": "markdown",
      "metadata": {
        "id": "view-in-github",
        "colab_type": "text"
      },
      "source": [
        "<a href=\"https://colab.research.google.com/github/git-bauerseb/deep-learning/blob/main/tensorflow.ipynb\" target=\"_parent\"><img src=\"https://colab.research.google.com/assets/colab-badge.svg\" alt=\"Open In Colab\"/></a>"
      ]
    },
    {
      "cell_type": "code",
      "metadata": {
        "id": "AONYQHv8OQfP",
        "colab": {
          "base_uri": "https://localhost:8080/"
        },
        "outputId": "e3005c93-50d6-42d8-8601-14c7486c86e4"
      },
      "source": [
        "import os\n",
        "import tensorflow as tf\n",
        "\n",
        "import cProfile\n",
        "\n",
        "tf.executing_eagerly()"
      ],
      "execution_count": 1,
      "outputs": [
        {
          "output_type": "execute_result",
          "data": {
            "text/plain": [
              "True"
            ]
          },
          "metadata": {},
          "execution_count": 1
        }
      ]
    },
    {
      "cell_type": "code",
      "metadata": {
        "colab": {
          "base_uri": "https://localhost:8080/"
        },
        "id": "93JfOJAWOaHd",
        "outputId": "b0f6c3b3-d7f5-4333-b3ea-858ce2a16fb1"
      },
      "source": [
        "(mnist_images, mnist_labels), _ = tf.keras.datasets.mnist.load_data()\n",
        "\n",
        "dataset = tf.data.Dataset.from_tensor_slices(\n",
        "    (tf.cast(mnist_images[..., tf.newaxis]/255, tf.float32),\n",
        "     tf.cast(mnist_labels, tf.int64)\n",
        "     ))\n",
        "\n",
        "dataset = dataset.shuffle(1000).batch(32)"
      ],
      "execution_count": null,
      "outputs": [
        {
          "output_type": "stream",
          "name": "stdout",
          "text": [
            "Downloading data from https://storage.googleapis.com/tensorflow/tf-keras-datasets/mnist.npz\n",
            "11493376/11490434 [==============================] - 0s 0us/step\n",
            "11501568/11490434 [==============================] - 0s 0us/step\n"
          ]
        }
      ]
    },
    {
      "cell_type": "code",
      "metadata": {
        "id": "ngYQbQ6COwiy"
      },
      "source": [
        "mnist_model = tf.keras.Sequential([\n",
        "                                   tf.keras.layers.Conv2D(16, [3,3], activation='relu',\n",
        "                                                          input_shape=(None, None, 1)),\n",
        "                                   tf.keras.layers.Conv2D(16, [3,3], activation='relu'),\n",
        "                                   tf.keras.layers.GlobalAveragePooling2D(),\n",
        "                                   tf.keras.layers.Dense(10)\n",
        "])"
      ],
      "execution_count": null,
      "outputs": []
    },
    {
      "cell_type": "code",
      "metadata": {
        "colab": {
          "base_uri": "https://localhost:8080/"
        },
        "id": "gWRQiLxBPDxM",
        "outputId": "c6622039-7e6a-4c23-89a5-21330d3db126"
      },
      "source": [
        "mnist_model.summary()\n",
        "\n",
        "# Logit: Values used as input to softmax\n",
        "\n",
        "\n",
        "for images, labels in dataset.take(1):\n",
        "  print(\"Logits: \", mnist_model(images[0:1]).numpy())"
      ],
      "execution_count": null,
      "outputs": [
        {
          "output_type": "stream",
          "name": "stdout",
          "text": [
            "Model: \"sequential\"\n",
            "_________________________________________________________________\n",
            "Layer (type)                 Output Shape              Param #   \n",
            "=================================================================\n",
            "conv2d (Conv2D)              (None, None, None, 16)    160       \n",
            "_________________________________________________________________\n",
            "conv2d_1 (Conv2D)            (None, None, None, 16)    2320      \n",
            "_________________________________________________________________\n",
            "global_average_pooling2d (Gl (None, 16)                0         \n",
            "_________________________________________________________________\n",
            "dense (Dense)                (None, 10)                170       \n",
            "=================================================================\n",
            "Total params: 2,650\n",
            "Trainable params: 2,650\n",
            "Non-trainable params: 0\n",
            "_________________________________________________________________\n",
            "Logits:  [[ 0.00121988 -0.04408433  0.02608965 -0.02081358 -0.03080192  0.02321623\n",
            "   0.05760741  0.00467529  0.0275059  -0.04941407]]\n"
          ]
        }
      ]
    },
    {
      "cell_type": "code",
      "metadata": {
        "colab": {
          "base_uri": "https://localhost:8080/"
        },
        "id": "3yYoUz-LPj06",
        "outputId": "ab6dc4b1-bcce-48ab-a457-c060fbdb2f02"
      },
      "source": [
        "# Keras models have builtin training loop ('fit' method)\n",
        "# More customization\n",
        "\n",
        "optimizer = tf.keras.optimizers.Adam()\n",
        "loss_object = tf.keras.losses.SparseCategoricalCrossentropy(from_logits=True)\n",
        "\n",
        "loss_history = []\n",
        "\n",
        "def train_step(images, labels):\n",
        "  # Use to inspect computes gradients\n",
        "  with tf.GradientTape() as tape:\n",
        "      logits = mnist_model(images, training=True)\n",
        "\n",
        "      tf.debugging.assert_equal(logits.shape, (32,10))\n",
        "\n",
        "      loss_value = loss_object(labels, logits)\n",
        "\n",
        "  loss_history.append(loss_value.numpy().mean())\n",
        "  grads = tape.gradient(loss_value, mnist_model.trainable_variables)\n",
        "  optimizer.apply_gradients(zip(grads, mnist_model.trainable_variables))\n",
        "\n",
        "\n",
        "def train(epochs):\n",
        "  for epoch in range(epochs):\n",
        "    for (batch, (images, labels)) in enumerate(dataset):\n",
        "      train_step(images, labels)\n",
        "\n",
        "    print('Epoch {} finished'.format(epoch))\n",
        "\n",
        "train(epochs=3)"
      ],
      "execution_count": null,
      "outputs": [
        {
          "output_type": "stream",
          "name": "stdout",
          "text": [
            "Epoch 0 finished\n",
            "Epoch 1 finished\n",
            "Epoch 2 finished\n"
          ]
        }
      ]
    },
    {
      "cell_type": "code",
      "metadata": {
        "colab": {
          "base_uri": "https://localhost:8080/",
          "height": 300
        },
        "id": "MRdm7Ay7RyGT",
        "outputId": "f786345d-9162-4f7b-afa0-ac028991222a"
      },
      "source": [
        "import matplotlib.pyplot as plt\n",
        "\n",
        "\n",
        "plt.plot(loss_history)\n",
        "plt.xlabel(\"Batch #\")\n",
        "plt.ylabel(\"Loss [Entropy]\")"
      ],
      "execution_count": null,
      "outputs": [
        {
          "output_type": "execute_result",
          "data": {
            "text/plain": [
              "Text(0, 0.5, 'Loss [Entropy]')"
            ]
          },
          "metadata": {},
          "execution_count": 8
        },
        {
          "output_type": "display_data",
          "data": {
            "image/png": "[encoded data removed]",
            "text/plain": [
              "<Figure size 432x288 with 1 Axes>"
            ]
          },
          "metadata": {
            "needs_background": "light"
          }
        }
      ]
    },
    {
      "cell_type": "code",
      "metadata": {
        "colab": {
          "base_uri": "https://localhost:8080/"
        },
        "id": "pFlBbbqHTXzE",
        "outputId": "b42fb876-e95f-4697-a5c3-435e00e20cf9"
      },
      "source": [
        "# Short\n",
        "\n",
        "x = tf.ones((2,2))\n",
        "\n",
        "with tf.GradientTape(persistent=True) as t:\n",
        "  t.watch(x)\n",
        "\n",
        "  y = tf.reduce_sum(x)\n",
        "  z = tf.multiply(y,y)\n",
        "\n",
        "\n",
        "dz_dx = t.gradient(z,x)\n",
        "dz_dy = t.gradient(z,y)\n",
        "print(dz_dy)\n",
        "print(dz_dx)\n",
        "\n",
        "\n",
        "del t"
      ],
      "execution_count": null,
      "outputs": [
        {
          "output_type": "stream",
          "name": "stdout",
          "text": [
            "tf.Tensor(8.0, shape=(), dtype=float32)\n",
            "tf.Tensor(\n",
            "[[8. 8.]\n",
            " [8. 8.]], shape=(2, 2), dtype=float32)\n"
          ]
        }
      ]
    },
    {
      "cell_type": "code",
      "metadata": {
        "id": "AJW_Pyk_7HP1"
      },
      "source": [
        "####################\n",
        "# START HERE       #"
      ],
      "execution_count": null,
      "outputs": []
    }
  ]
}