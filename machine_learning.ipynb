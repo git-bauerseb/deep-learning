{
  "nbformat": 4,
  "nbformat_minor": 0,
  "metadata": {
    "colab": {
      "name": "machine_learning.ipynb",
      "provenance": [],
      "authorship_tag": "ABX9TyPbUb4q5I+S9ZtRK2BP8nzF"
    },
    "kernelspec": {
      "name": "python3",
      "display_name": "Python 3"
    }
  },
  "cells": [
    {
      "cell_type": "code",
      "metadata": {
        "id": "6Fpgdaz89BHG"
      },
      "source": [
        ""
      ],
      "execution_count": null,
      "outputs": []
    },
    {
      "cell_type": "markdown",
      "metadata": {
        "id": "vD6yRdIK9C0y"
      },
      "source": [
        "A random variable $X$ is a mapping from the sample space $\\Omega$ to some set (usually $\\mathbb{R}$) such that for every set $I \\subseteq \\mathbb{R}$, $X^{-1}(I)$ is measurable.\n",
        "\n",
        "Let $X,Y$ be real valued random variables. Then the two fundamental rules $\\textbf{sum rule, product rule}$ can be expressed as\n",
        "\n",
        "$$\n",
        "\\begin{align}\n",
        "P[X] &= \\sum_{Y} P[X,Y] \\\\\n",
        "P[X,Y] &= P[Y | X] P[X]\n",
        "\\end{align}\n",
        "$$\n",
        "\n",
        "Because the joint probability is symmetric $P[Y,X] = P[X,Y]$, one can obtain $\\textbf{Bayes Theorem}$ which is given by\n",
        "\n",
        "$$\n",
        "\\begin{align}\n",
        "P[X,Y] &= P[Y|X]P[X] &\\iff \\\\\n",
        "P[Y|X] &= \\frac{P[X,Y]}{P[X]} &\\iff \\\\\n",
        "P[Y|X] &= \\frac{P[Y,X]}{P[X]} &\\iff \\\\\n",
        "P[Y|X] &= \\frac{P[X,Y]P[Y]}{P[X]} &\\iff\n",
        "\\end{align}\n",
        "$$"
      ]
    },
    {
      "cell_type": "code",
      "metadata": {
        "colab": {
          "base_uri": "https://localhost:8080/",
          "height": 320
        },
        "id": "0BSQd1K9_RX2",
        "outputId": "c58ce3e7-42f4-430c-8298-ae3a2cc9b9e8"
      },
      "source": [
        "import matplotlib.pyplot as plt\n",
        "import numpy as np\n",
        "\n",
        "data = np.random.randn(2,100)\n",
        "\n",
        "fig,axs = plt.subplots(1,2, figsize=(5,5))\n",
        "axs[0].hist(data[0])\n",
        "axs[1].scatter(data[0], data[1])\n",
        "\n",
        "plt.show()"
      ],
      "execution_count": 4,
      "outputs": [
        {
          "output_type": "display_data",
          "data": {
            "image/png": "[encoded data removed]",
            "text/plain": [
              "<Figure size 360x360 with 2 Axes>"
            ]
          },
          "metadata": {
            "tags": [],
            "needs_background": "light"
          }
        }
      ]
    }
  ]
}